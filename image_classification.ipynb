{
  "nbformat": 4,
  "nbformat_minor": 0,
  "metadata": {
    "colab": {
      "provenance": []
    },
    "kernelspec": {
      "name": "python3",
      "display_name": "Python 3"
    },
    "language_info": {
      "name": "python"
    }
  },
  "cells": [
    {
      "cell_type": "code",
      "execution_count": 3,
      "metadata": {
        "id": "THoNX9-m-i8i"
      },
      "outputs": [],
      "source": [
        "import tensorflow as tf\n",
        "from tensorflow.keras import layers, models, datasets\n",
        "import matplotlib.pyplot as plt"
      ]
    },
    {
      "cell_type": "markdown",
      "source": [
        "#Load CIFAR-10 dataset"
      ],
      "metadata": {
        "id": "09JxEEE4IRgL"
      }
    },
    {
      "cell_type": "code",
      "source": [
        "(train_images, train_labels), (test_images, test_labels) = datasets.cifar10.load_data()"
      ],
      "metadata": {
        "id": "X3kJRG1g-kAm"
      },
      "execution_count": 4,
      "outputs": []
    },
    {
      "cell_type": "markdown",
      "source": [
        "# Normalize pixel values between 0 and 1"
      ],
      "metadata": {
        "id": "LjYAGcGWIqE6"
      }
    },
    {
      "cell_type": "code",
      "source": [
        "train_images, test_images = train_images / 255.0, test_images / 255.0"
      ],
      "metadata": {
        "id": "Z7ImX549ImQ4"
      },
      "execution_count": 5,
      "outputs": []
    },
    {
      "cell_type": "markdown",
      "source": [
        "# Define the model architecture"
      ],
      "metadata": {
        "id": "jOGE1aa6I1nl"
      }
    },
    {
      "cell_type": "code",
      "source": [
        "model = models.Sequential([\n",
        "    layers.Conv2D(32, (3, 3), activation='relu', input_shape=(32, 32, 3)),\n",
        "    layers.MaxPooling2D((2, 2)),\n",
        "    layers.Conv2D(64, (3, 3), activation='relu'),\n",
        "    layers.MaxPooling2D((2, 2)),\n",
        "    layers.Conv2D(64, (3, 3), activation='relu'),\n",
        "    layers.Flatten(),\n",
        "    layers.Dense(64, activation='relu'),\n",
        "    layers.Dense(10)\n",
        "])"
      ],
      "metadata": {
        "id": "TMT8c9kUIs3w"
      },
      "execution_count": 6,
      "outputs": []
    },
    {
      "cell_type": "markdown",
      "source": [
        "# Compile the model"
      ],
      "metadata": {
        "id": "duhPyKmMI6Lp"
      }
    },
    {
      "cell_type": "code",
      "source": [
        "model.compile(optimizer='adam',\n",
        "              loss=tf.keras.losses.SparseCategoricalCrossentropy(from_logits=True),\n",
        "              metrics=['accuracy'])"
      ],
      "metadata": {
        "id": "1hynuD-EI4Ab"
      },
      "execution_count": 7,
      "outputs": []
    },
    {
      "cell_type": "markdown",
      "source": [
        "# Train the model"
      ],
      "metadata": {
        "id": "Y_GfbqPfJBLa"
      }
    },
    {
      "cell_type": "code",
      "source": [
        "history = model.fit(train_images, train_labels, epochs=10, validation_data=(test_images, test_labels))"
      ],
      "metadata": {
        "colab": {
          "base_uri": "https://localhost:8080/"
        },
        "id": "ct294pauI-br",
        "outputId": "ae721c5c-ca39-48f5-cdaf-fdb26cca208b"
      },
      "execution_count": 8,
      "outputs": [
        {
          "output_type": "stream",
          "name": "stdout",
          "text": [
            "Epoch 1/10\n",
            "1563/1563 [==============================] - 81s 51ms/step - loss: 1.5305 - accuracy: 0.4391 - val_loss: 1.3297 - val_accuracy: 0.5274\n",
            "Epoch 2/10\n",
            "1563/1563 [==============================] - 74s 48ms/step - loss: 1.1660 - accuracy: 0.5874 - val_loss: 1.0931 - val_accuracy: 0.6152\n",
            "Epoch 3/10\n",
            "1563/1563 [==============================] - 74s 47ms/step - loss: 1.0149 - accuracy: 0.6449 - val_loss: 0.9999 - val_accuracy: 0.6488\n",
            "Epoch 4/10\n",
            "1563/1563 [==============================] - 72s 46ms/step - loss: 0.9123 - accuracy: 0.6802 - val_loss: 0.9796 - val_accuracy: 0.6569\n",
            "Epoch 5/10\n",
            "1563/1563 [==============================] - 74s 47ms/step - loss: 0.8397 - accuracy: 0.7056 - val_loss: 0.9076 - val_accuracy: 0.6844\n",
            "Epoch 6/10\n",
            "1563/1563 [==============================] - 73s 47ms/step - loss: 0.7887 - accuracy: 0.7214 - val_loss: 0.8743 - val_accuracy: 0.6987\n",
            "Epoch 7/10\n",
            "1563/1563 [==============================] - 74s 47ms/step - loss: 0.7498 - accuracy: 0.7380 - val_loss: 0.9407 - val_accuracy: 0.6732\n",
            "Epoch 8/10\n",
            "1563/1563 [==============================] - 72s 46ms/step - loss: 0.7096 - accuracy: 0.7498 - val_loss: 0.8626 - val_accuracy: 0.7084\n",
            "Epoch 9/10\n",
            "1563/1563 [==============================] - 76s 49ms/step - loss: 0.6714 - accuracy: 0.7630 - val_loss: 0.8621 - val_accuracy: 0.7125\n",
            "Epoch 10/10\n",
            "1563/1563 [==============================] - 73s 47ms/step - loss: 0.6365 - accuracy: 0.7764 - val_loss: 0.8515 - val_accuracy: 0.7151\n"
          ]
        }
      ]
    },
    {
      "cell_type": "markdown",
      "source": [
        "# Evaluate the model"
      ],
      "metadata": {
        "id": "mamOD7fHMA_n"
      }
    },
    {
      "cell_type": "code",
      "source": [
        "test_loss, test_acc = model.evaluate(test_images, test_labels, verbose=2)\n",
        "print(f\"Test accuracy: {test_acc}\")"
      ],
      "metadata": {
        "colab": {
          "base_uri": "https://localhost:8080/"
        },
        "id": "V8HaUOIEJEJp",
        "outputId": "7bdb6632-7b25-4483-a2a4-593e14dfdf32"
      },
      "execution_count": 9,
      "outputs": [
        {
          "output_type": "stream",
          "name": "stdout",
          "text": [
            "313/313 - 4s - loss: 0.8515 - accuracy: 0.7151 - 4s/epoch - 11ms/step\n",
            "Test accuracy: 0.7150999903678894\n"
          ]
        }
      ]
    },
    {
      "cell_type": "markdown",
      "source": [
        "# Plot training history"
      ],
      "metadata": {
        "id": "T1tXhRfoML-n"
      }
    },
    {
      "cell_type": "code",
      "source": [
        "plt.plot(history.history['accuracy'], label='accuracy')\n",
        "plt.plot(history.history['val_accuracy'], label='val_accuracy')\n",
        "plt.xlabel('Epoch')\n",
        "plt.ylabel('Accuracy')\n",
        "plt.legend()\n",
        "plt.show()"
      ],
      "metadata": {
        "colab": {
          "base_uri": "https://localhost:8080/",
          "height": 449
        },
        "id": "biYEncFRMGne",
        "outputId": "4aa4f00f-051b-4a37-bb3b-6d30ae0f8d71"
      },
      "execution_count": 10,
      "outputs": [
        {
          "output_type": "display_data",
          "data": {
            "text/plain": [
              "<Figure size 640x480 with 1 Axes>"
            ],
            "image/png": "[encoded data removed]"
          },
          "metadata": {}
        }
      ]
    }
  ]
}