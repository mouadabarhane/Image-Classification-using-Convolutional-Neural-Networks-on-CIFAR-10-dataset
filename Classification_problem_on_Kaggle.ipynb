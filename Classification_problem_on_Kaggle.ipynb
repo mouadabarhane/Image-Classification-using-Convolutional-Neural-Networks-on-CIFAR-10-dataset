{
  "nbformat": 4,
  "nbformat_minor": 0,
  "metadata": {
    "colab": {
      "provenance": [],
      "collapsed_sections": [
        "X20JkOI1cbn1",
        "UjvLVhe8coHL",
        "budnGcyCgNKQ"
      ],
      "toc_visible": true
    },
    "kernelspec": {
      "name": "python3",
      "display_name": "Python 3"
    }
  },
  "cells": [
    {
      "cell_type": "markdown",
      "metadata": {
        "id": "8SweDkKacdj0"
      },
      "source": [
        "# Al Fihriya Academy: Let's solve a classification problem on Kaggle.\n",
        "Problem: [Stumbleupon: Content quality classification](https://www.kaggle.com/c/stumbleupon/overview)."
      ]
    },
    {
      "cell_type": "markdown",
      "metadata": {
        "id": "X20JkOI1cbn1"
      },
      "source": [
        "## Reading training data from Kaggle."
      ]
    },
    {
      "cell_type": "code",
      "metadata": {
        "id": "K7x98Gf5SugC"
      },
      "source": [
        "import matplotlib.pyplot as plt\n",
        "from IPython.display import set_matplotlib_formats\n",
        "set_matplotlib_formats('svg')"
      ],
      "execution_count": null,
      "outputs": []
    },
    {
      "cell_type": "code",
      "metadata": {
        "id": "X5Pe2XqxXqz7"
      },
      "source": [
        "!pip install -q kaggle"
      ],
      "execution_count": null,
      "outputs": []
    },
    {
      "cell_type": "code",
      "metadata": {
        "id": "jfA8SSZVbYtL",
        "colab": {
          "resources": {
            "http://localhost:8080/nbextensions/google.colab/files.js": {
              "data": "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",
              "ok": true,
              "headers": [
                [
                  "content-type",
                  "application/javascript"
                ]
              ],
              "status": 200,
              "status_text": ""
            }
          },
          "base_uri": "https://localhost:8080/",
          "height": 72
        },
        "outputId": "dd7fa6fb-aacb-49f5-db1e-9b7817ed9dc9"
      },
      "source": [
        "from google.colab import files\n",
        "_ = files.upload()"
      ],
      "execution_count": null,
      "outputs": [
        {
          "output_type": "display_data",
          "data": {
            "text/html": [
              "\n",
              "     <input type=\"file\" id=\"files-4d0934c0-608c-4fa0-9e08-21ae886611bb\" name=\"files[]\" multiple disabled\n",
              "        style=\"border:none\" />\n",
              "     <output id=\"result-4d0934c0-608c-4fa0-9e08-21ae886611bb\">\n",
              "      Upload widget is only available when the cell has been executed in the\n",
              "      current browser session. Please rerun this cell to enable.\n",
              "      </output>\n",
              "      <script src=\"/nbextensions/google.colab/files.js\"></script> "
            ],
            "text/plain": [
              "<IPython.core.display.HTML object>"
            ]
          },
          "metadata": {
            "tags": []
          }
        },
        {
          "output_type": "stream",
          "text": [
            "Saving kaggle.json to kaggle (1).json\n"
          ],
          "name": "stdout"
        }
      ]
    },
    {
      "cell_type": "code",
      "metadata": {
        "id": "iVLzs2sSbZfe",
        "colab": {
          "base_uri": "https://localhost:8080/",
          "height": 34
        },
        "outputId": "d6fc6916-2042-4df8-a606-1a7b760dcd33"
      },
      "source": [
        "! mkdir ~/.kaggle\n",
        "! cp kaggle.json ~/.kaggle/\n",
        "! chmod 600 ~/.kaggle/kaggle.json"
      ],
      "execution_count": null,
      "outputs": [
        {
          "output_type": "stream",
          "text": [
            "mkdir: cannot create directory ‘/root/.kaggle’: File exists\n"
          ],
          "name": "stdout"
        }
      ]
    },
    {
      "cell_type": "code",
      "metadata": {
        "id": "2wunugBbbbc8",
        "colab": {
          "base_uri": "https://localhost:8080/",
          "height": 122
        },
        "outputId": "f276ae41-70dd-47bb-a367-8b913d529049"
      },
      "source": [
        "! kaggle competitions download -c stumbleupon"
      ],
      "execution_count": null,
      "outputs": [
        {
          "output_type": "stream",
          "text": [
            "Warning: Looks like you're using an outdated API Version, please consider updating (server 1.5.6 / client 1.5.4)\n",
            "test.tsv.zip: Skipping, found more recently modified local copy (use --force to force download)\n",
            "raw_content.zip: Skipping, found more recently modified local copy (use --force to force download)\n",
            "train.tsv.zip: Skipping, found more recently modified local copy (use --force to force download)\n",
            "sampleSubmission.csv: Skipping, found more recently modified local copy (use --force to force download)\n"
          ],
          "name": "stdout"
        }
      ]
    },
    {
      "cell_type": "code",
      "metadata": {
        "id": "tClFvEIEcK7J",
        "colab": {
          "base_uri": "https://localhost:8080/",
          "height": 68
        },
        "outputId": "1aaaf78f-5142-436c-d135-946d791fe649"
      },
      "source": [
        "!ls"
      ],
      "execution_count": null,
      "outputs": [
        {
          "output_type": "stream",
          "text": [
            "'kaggle (1).json'   sample_data\t\t   test.tsv\t  train.tsv.zip\n",
            " kaggle.json\t    sampleSubmission.csv   test.tsv.zip\n",
            " raw_content.zip    submission.csv\t   train.tsv\n"
          ],
          "name": "stdout"
        }
      ]
    },
    {
      "cell_type": "code",
      "metadata": {
        "id": "973feZu_2E5K",
        "colab": {
          "base_uri": "https://localhost:8080/",
          "height": 51
        },
        "outputId": "5e7a62e5-5fc2-4572-91a7-d1475834979d"
      },
      "source": [
        "!unzip train.tsv.zip"
      ],
      "execution_count": null,
      "outputs": [
        {
          "output_type": "stream",
          "text": [
            "Archive:  train.tsv.zip\n",
            "replace train.tsv? [y]es, [n]o, [A]ll, [N]one, [r]ename: n\n"
          ],
          "name": "stdout"
        }
      ]
    },
    {
      "cell_type": "code",
      "metadata": {
        "id": "Ze5cM3Al2LPV",
        "colab": {
          "base_uri": "https://localhost:8080/",
          "height": 51
        },
        "outputId": "09127840-6f02-4453-a8b3-31c5d99d3d3d"
      },
      "source": [
        "!unzip  test.tsv.zip"
      ],
      "execution_count": null,
      "outputs": [
        {
          "output_type": "stream",
          "text": [
            "Archive:  test.tsv.zip\n",
            "replace test.tsv? [y]es, [n]o, [A]ll, [N]one, [r]ename: n\n"
          ],
          "name": "stdout"
        }
      ]
    },
    {
      "cell_type": "markdown",
      "metadata": {
        "id": "0nUNTdMHNIrj"
      },
      "source": [
        "## Data analysis."
      ]
    },
    {
      "cell_type": "code",
      "metadata": {
        "id": "S3VHG4ZZNM27"
      },
      "source": [
        "import pandas as pd\n",
        "import numpy as np"
      ],
      "execution_count": null,
      "outputs": []
    },
    {
      "cell_type": "code",
      "metadata": {
        "id": "sIyhp3dmNbKk",
        "colab": {
          "base_uri": "https://localhost:8080/",
          "height": 68
        },
        "outputId": "c4ada672-d683-4164-9f20-5fbb3c4429e7"
      },
      "source": [
        "!ls"
      ],
      "execution_count": null,
      "outputs": [
        {
          "output_type": "stream",
          "text": [
            "'kaggle (1).json'   sample_data\t\t   test.tsv\t  train.tsv.zip\n",
            " kaggle.json\t    sampleSubmission.csv   test.tsv.zip\n",
            " raw_content.zip    submission.csv\t   train.tsv\n"
          ],
          "name": "stdout"
        }
      ]
    },
    {
      "cell_type": "code",
      "metadata": {
        "id": "l92pGCJsNjuI"
      },
      "source": [
        "raw_df = pd.read_csv('train.tsv', sep='\\t')\n",
        "df = raw_df.copy()\n",
        "del df['framebased']\n",
        "del df['urlid']\n",
        "del df['alchemy_category_score']\n",
        "df['is_news'] = df['is_news'].str.replace('?', '0').astype(int)"
      ],
      "execution_count": null,
      "outputs": []
    },
    {
      "cell_type": "code",
      "metadata": {
        "id": "JOMXIEi6OLiF",
        "colab": {
          "base_uri": "https://localhost:8080/",
          "height": 827
        },
        "outputId": "a62ca27a-5933-4d9d-fcc8-ea52f4a8f53a"
      },
      "source": [
        "df.sample(2).T"
      ],
      "execution_count": null,
      "outputs": [
        {
          "output_type": "execute_result",
          "data": {
            "text/html": [
              "<div>\n",
              "<style scoped>\n",
              "    .dataframe tbody tr th:only-of-type {\n",
              "        vertical-align: middle;\n",
              "    }\n",
              "\n",
              "    .dataframe tbody tr th {\n",
              "        vertical-align: top;\n",
              "    }\n",
              "\n",
              "    .dataframe thead th {\n",
              "        text-align: right;\n",
              "    }\n",
              "</style>\n",
              "<table border=\"1\" class=\"dataframe\">\n",
              "  <thead>\n",
              "    <tr style=\"text-align: right;\">\n",
              "      <th></th>\n",
              "      <th>3975</th>\n",
              "      <th>3873</th>\n",
              "    </tr>\n",
              "  </thead>\n",
              "  <tbody>\n",
              "    <tr>\n",
              "      <th>url</th>\n",
              "      <td>http://allrecipes.com/Recipe/paska-bread/Detai...</td>\n",
              "      <td>http://blogs.babble.com/family-kitchen/2011/06...</td>\n",
              "    </tr>\n",
              "    <tr>\n",
              "      <th>boilerplate</th>\n",
              "      <td>{\"title\":\"Paska Bread Recipe Allrecipes com pa...</td>\n",
              "      <td>{\"title\":\"Classic Cobb Salad with Red Wine Lem...</td>\n",
              "    </tr>\n",
              "    <tr>\n",
              "      <th>alchemy_category</th>\n",
              "      <td>recreation</td>\n",
              "      <td>recreation</td>\n",
              "    </tr>\n",
              "    <tr>\n",
              "      <th>avglinksize</th>\n",
              "      <td>2.15929</td>\n",
              "      <td>2.17007</td>\n",
              "    </tr>\n",
              "    <tr>\n",
              "      <th>commonlinkratio_1</th>\n",
              "      <td>0.440678</td>\n",
              "      <td>0.5</td>\n",
              "    </tr>\n",
              "    <tr>\n",
              "      <th>commonlinkratio_2</th>\n",
              "      <td>0.19209</td>\n",
              "      <td>0.353333</td>\n",
              "    </tr>\n",
              "    <tr>\n",
              "      <th>commonlinkratio_3</th>\n",
              "      <td>0.0621469</td>\n",
              "      <td>0.2</td>\n",
              "    </tr>\n",
              "    <tr>\n",
              "      <th>commonlinkratio_4</th>\n",
              "      <td>0.0225989</td>\n",
              "      <td>0.153333</td>\n",
              "    </tr>\n",
              "    <tr>\n",
              "      <th>compression_ratio</th>\n",
              "      <td>1.03529</td>\n",
              "      <td>0.430948</td>\n",
              "    </tr>\n",
              "    <tr>\n",
              "      <th>embed_ratio</th>\n",
              "      <td>0</td>\n",
              "      <td>0</td>\n",
              "    </tr>\n",
              "    <tr>\n",
              "      <th>frameTagRatio</th>\n",
              "      <td>0.0284126</td>\n",
              "      <td>0.0508475</td>\n",
              "    </tr>\n",
              "    <tr>\n",
              "      <th>hasDomainLink</th>\n",
              "      <td>0</td>\n",
              "      <td>0</td>\n",
              "    </tr>\n",
              "    <tr>\n",
              "      <th>html_ratio</th>\n",
              "      <td>0.191864</td>\n",
              "      <td>0.237588</td>\n",
              "    </tr>\n",
              "    <tr>\n",
              "      <th>image_ratio</th>\n",
              "      <td>6.46154</td>\n",
              "      <td>0.186747</td>\n",
              "    </tr>\n",
              "    <tr>\n",
              "      <th>is_news</th>\n",
              "      <td>0</td>\n",
              "      <td>1</td>\n",
              "    </tr>\n",
              "    <tr>\n",
              "      <th>lengthyLinkDomain</th>\n",
              "      <td>1</td>\n",
              "      <td>1</td>\n",
              "    </tr>\n",
              "    <tr>\n",
              "      <th>linkwordscore</th>\n",
              "      <td>33</td>\n",
              "      <td>25</td>\n",
              "    </tr>\n",
              "    <tr>\n",
              "      <th>news_front_page</th>\n",
              "      <td>0</td>\n",
              "      <td>0</td>\n",
              "    </tr>\n",
              "    <tr>\n",
              "      <th>non_markup_alphanum_characters</th>\n",
              "      <td>4764</td>\n",
              "      <td>4757</td>\n",
              "    </tr>\n",
              "    <tr>\n",
              "      <th>numberOfLinks</th>\n",
              "      <td>354</td>\n",
              "      <td>150</td>\n",
              "    </tr>\n",
              "    <tr>\n",
              "      <th>numwords_in_url</th>\n",
              "      <td>5</td>\n",
              "      <td>10</td>\n",
              "    </tr>\n",
              "    <tr>\n",
              "      <th>parametrizedLinkRatio</th>\n",
              "      <td>0.485876</td>\n",
              "      <td>0.0266667</td>\n",
              "    </tr>\n",
              "    <tr>\n",
              "      <th>spelling_errors_ratio</th>\n",
              "      <td>0.193548</td>\n",
              "      <td>0.0566572</td>\n",
              "    </tr>\n",
              "    <tr>\n",
              "      <th>label</th>\n",
              "      <td>1</td>\n",
              "      <td>1</td>\n",
              "    </tr>\n",
              "  </tbody>\n",
              "</table>\n",
              "</div>"
            ],
            "text/plain": [
              "                                                                             3975                                               3873\n",
              "url                             http://allrecipes.com/Recipe/paska-bread/Detai...  http://blogs.babble.com/family-kitchen/2011/06...\n",
              "boilerplate                     {\"title\":\"Paska Bread Recipe Allrecipes com pa...  {\"title\":\"Classic Cobb Salad with Red Wine Lem...\n",
              "alchemy_category                                                       recreation                                         recreation\n",
              "avglinksize                                                               2.15929                                            2.17007\n",
              "commonlinkratio_1                                                        0.440678                                                0.5\n",
              "commonlinkratio_2                                                         0.19209                                           0.353333\n",
              "commonlinkratio_3                                                       0.0621469                                                0.2\n",
              "commonlinkratio_4                                                       0.0225989                                           0.153333\n",
              "compression_ratio                                                         1.03529                                           0.430948\n",
              "embed_ratio                                                                     0                                                  0\n",
              "frameTagRatio                                                           0.0284126                                          0.0508475\n",
              "hasDomainLink                                                                   0                                                  0\n",
              "html_ratio                                                               0.191864                                           0.237588\n",
              "image_ratio                                                               6.46154                                           0.186747\n",
              "is_news                                                                         0                                                  1\n",
              "lengthyLinkDomain                                                               1                                                  1\n",
              "linkwordscore                                                                  33                                                 25\n",
              "news_front_page                                                                 0                                                  0\n",
              "non_markup_alphanum_characters                                               4764                                               4757\n",
              "numberOfLinks                                                                 354                                                150\n",
              "numwords_in_url                                                                 5                                                 10\n",
              "parametrizedLinkRatio                                                    0.485876                                          0.0266667\n",
              "spelling_errors_ratio                                                    0.193548                                          0.0566572\n",
              "label                                                                           1                                                  1"
            ]
          },
          "metadata": {
            "tags": []
          },
          "execution_count": 12
        }
      ]
    },
    {
      "cell_type": "code",
      "metadata": {
        "id": "KxgVo1jkPavz",
        "colab": {
          "base_uri": "https://localhost:8080/",
          "height": 34
        },
        "outputId": "b7aea795-6de8-425a-bbf6-e5d5a5694ce2"
      },
      "source": [
        "df.label.mean()"
      ],
      "execution_count": null,
      "outputs": [
        {
          "output_type": "execute_result",
          "data": {
            "text/plain": [
              "0.5133198106828939"
            ]
          },
          "metadata": {
            "tags": []
          },
          "execution_count": 13
        }
      ]
    },
    {
      "cell_type": "code",
      "metadata": {
        "id": "ioFVqzW-P_Ff",
        "colab": {
          "base_uri": "https://localhost:8080/",
          "height": 369
        },
        "outputId": "9b35b4f8-9958-4a1c-a227-c68656805083"
      },
      "source": [
        "df.groupby('alchemy_category').label.agg(['mean', 'count']).sort_values('count', ascending=False)['mean'].plot.barh()"
      ],
      "execution_count": null,
      "outputs": [
        {
          "output_type": "execute_result",
          "data": {
            "text/plain": [
              "<matplotlib.axes._subplots.AxesSubplot at 0x7f52482bc940>"
            ]
          },
          "metadata": {
            "tags": []
          },
          "execution_count": 14
        },
        {
          "output_type": "display_data",
          "data": {
            "text/plain": [
              "<Figure size 432x288 with 1 Axes>"
            ],
            "image/svg+xml": "<?xml version=\"1.0\" encoding=\"utf-8\" standalone=\"no\"?>\n<!DOCTYPE svg PUBLIC \"-//W3C//DTD SVG 1.1//EN\"\n  \"http://www.w3.org/Graphics/SVG/1.1/DTD/svg11.dtd\">\n<!-- Created with matplotlib (https://matplotlib.org/) -->\n<svg height=\"248.518125pt\" version=\"1.1\" viewBox=\"0 0 468.314062 248.518125\" width=\"468.314062pt\" xmlns=\"http://www.w3.org/2000/svg\" xmlns:xlink=\"http://www.w3.org/1999/xlink\">\n <defs>\n  <style type=\"text/css\">\n*{stroke-linecap:butt;stroke-linejoin:round;}\n  </style>\n </defs>\n <g id=\"figure_1\">\n  <g id=\"patch_1\">\n   <path d=\"M 0 248.518125 \nL 468.314062 248.518125 \nL 468.314062 0 \nL 0 0 \nz\n\" style=\"fill:none;\"/>\n  </g>\n  <g id=\"axes_1\">\n   <g id=\"patch_2\">\n    <path d=\"M 126.314063 224.64 \nL 461.114063 224.64 \nL 461.114063 7.2 \nL 126.314063 7.2 \nz\n\" style=\"fill:#ffffff;\"/>\n   </g>\n   <g id=\"patch_3\">\n    <path clip-path=\"url(#pb9bcf30331)\" d=\"M 126.314063 220.757143 \nL 351.387851 220.757143 \nL 351.387851 212.991429 \nL 126.314063 212.991429 \nz\n\" style=\"fill:#1f77b4;\"/>\n   </g>\n   <g id=\"patch_4\">\n    <path clip-path=\"url(#pb9bcf30331)\" d=\"M 126.314063 205.225714 \nL 433.038658 205.225714 \nL 433.038658 197.46 \nL 126.314063 197.46 \nz\n\" style=\"fill:#1f77b4;\"/>\n   </g>\n   <g id=\"patch_5\">\n    <path clip-path=\"url(#pb9bcf30331)\" d=\"M 126.314063 189.694286 \nL 293.032223 189.694286 \nL 293.032223 181.928571 \nL 126.314063 181.928571 \nz\n\" style=\"fill:#1f77b4;\"/>\n   </g>\n   <g id=\"patch_6\">\n    <path clip-path=\"url(#pb9bcf30331)\" d=\"M 126.314063 174.162857 \nL 445.171205 174.162857 \nL 445.171205 166.397143 \nL 126.314063 166.397143 \nz\n\" style=\"fill:#1f77b4;\"/>\n   </g>\n   <g id=\"patch_7\">\n    <path clip-path=\"url(#pb9bcf30331)\" d=\"M 126.314063 158.631429 \nL 383.206885 158.631429 \nL 383.206885 150.865714 \nL 126.314063 150.865714 \nz\n\" style=\"fill:#1f77b4;\"/>\n   </g>\n   <g id=\"patch_8\">\n    <path clip-path=\"url(#pb9bcf30331)\" d=\"M 126.314063 143.1 \nL 218.319924 143.1 \nL 218.319924 135.334286 \nL 126.314063 135.334286 \nz\n\" style=\"fill:#1f77b4;\"/>\n   </g>\n   <g id=\"patch_9\">\n    <path clip-path=\"url(#pb9bcf30331)\" d=\"M 126.314063 127.568571 \nL 331.48225 127.568571 \nL 331.48225 119.802857 \nL 126.314063 119.802857 \nz\n\" style=\"fill:#1f77b4;\"/>\n   </g>\n   <g id=\"patch_10\">\n    <path clip-path=\"url(#pb9bcf30331)\" d=\"M 126.314063 112.037143 \nL 236.85818 112.037143 \nL 236.85818 104.271429 \nL 126.314063 104.271429 \nz\n\" style=\"fill:#1f77b4;\"/>\n   </g>\n   <g id=\"patch_11\">\n    <path clip-path=\"url(#pb9bcf30331)\" d=\"M 126.314063 96.505714 \nL 331.043634 96.505714 \nL 331.043634 88.74 \nL 126.314063 88.74 \nz\n\" style=\"fill:#1f77b4;\"/>\n   </g>\n   <g id=\"patch_12\">\n    <path clip-path=\"url(#pb9bcf30331)\" d=\"M 126.314063 80.974286 \nL 291.452788 80.974286 \nL 291.452788 73.208571 \nL 126.314063 73.208571 \nz\n\" style=\"fill:#1f77b4;\"/>\n   </g>\n   <g id=\"patch_13\">\n    <path clip-path=\"url(#pb9bcf30331)\" d=\"M 126.314063 65.442857 \nL 313.078097 65.442857 \nL 313.078097 57.677143 \nL 126.314063 57.677143 \nz\n\" style=\"fill:#1f77b4;\"/>\n   </g>\n   <g id=\"patch_14\">\n    <path clip-path=\"url(#pb9bcf30331)\" d=\"M 126.314063 49.911429 \nL 314.283026 49.911429 \nL 314.283026 42.145714 \nL 126.314063 42.145714 \nz\n\" style=\"fill:#1f77b4;\"/>\n   </g>\n   <g id=\"patch_15\">\n    <path clip-path=\"url(#pb9bcf30331)\" d=\"M 126.314063 34.38 \nL 275.72529 34.38 \nL 275.72529 26.614286 \nL 126.314063 26.614286 \nz\n\" style=\"fill:#1f77b4;\"/>\n   </g>\n   <g id=\"patch_16\">\n    <path clip-path=\"url(#pb9bcf30331)\" d=\"M 126.314063 18.848571 \nL 126.314063 18.848571 \nL 126.314063 11.082857 \nL 126.314063 11.082857 \nz\n\" style=\"fill:#1f77b4;\"/>\n   </g>\n   <g id=\"matplotlib.axis_1\">\n    <g id=\"xtick_1\">\n     <g id=\"line2d_1\">\n      <defs>\n       <path d=\"M 0 0 \nL 0 3.5 \n\" id=\"m6d0de03439\" style=\"stroke:#000000;stroke-width:0.8;\"/>\n      </defs>\n      <g>\n       <use style=\"stroke:#000000;stroke-width:0.8;\" x=\"126.314063\" xlink:href=\"#m6d0de03439\" y=\"224.64\"/>\n      </g>\n     </g>\n     <g id=\"text_1\">\n      <!-- 0.0 -->\n      <defs>\n       <path d=\"M 31.78125 66.40625 \nQ 24.171875 66.40625 20.328125 58.90625 \nQ 16.5 51.421875 16.5 36.375 \nQ 16.5 21.390625 20.328125 13.890625 \nQ 24.171875 6.390625 31.78125 6.390625 \nQ 39.453125 6.390625 43.28125 13.890625 \nQ 47.125 21.390625 47.125 36.375 \nQ 47.125 51.421875 43.28125 58.90625 \nQ 39.453125 66.40625 31.78125 66.40625 \nz\nM 31.78125 74.21875 \nQ 44.046875 74.21875 50.515625 64.515625 \nQ 56.984375 54.828125 56.984375 36.375 \nQ 56.984375 17.96875 50.515625 8.265625 \nQ 44.046875 -1.421875 31.78125 -1.421875 \nQ 19.53125 -1.421875 13.0625 8.265625 \nQ 6.59375 17.96875 6.59375 36.375 \nQ 6.59375 54.828125 13.0625 64.515625 \nQ 19.53125 74.21875 31.78125 74.21875 \nz\n\" id=\"DejaVuSans-48\"/>\n       <path d=\"M 10.6875 12.40625 \nL 21 12.40625 \nL 21 0 \nL 10.6875 0 \nz\n\" id=\"DejaVuSans-46\"/>\n      </defs>\n      <g transform=\"translate(118.3625 239.238437)scale(0.1 -0.1)\">\n       <use xlink:href=\"#DejaVuSans-48\"/>\n       <use x=\"63.623047\" xlink:href=\"#DejaVuSans-46\"/>\n       <use x=\"95.410156\" xlink:href=\"#DejaVuSans-48\"/>\n      </g>\n     </g>\n    </g>\n    <g id=\"xtick_2\">\n     <g id=\"line2d_2\">\n      <g>\n       <use style=\"stroke:#000000;stroke-width:0.8;\" x=\"171.137431\" xlink:href=\"#m6d0de03439\" y=\"224.64\"/>\n      </g>\n     </g>\n     <g id=\"text_2\">\n      <!-- 0.1 -->\n      <defs>\n       <path d=\"M 12.40625 8.296875 \nL 28.515625 8.296875 \nL 28.515625 63.921875 \nL 10.984375 60.40625 \nL 10.984375 69.390625 \nL 28.421875 72.90625 \nL 38.28125 72.90625 \nL 38.28125 8.296875 \nL 54.390625 8.296875 \nL 54.390625 0 \nL 12.40625 0 \nz\n\" id=\"DejaVuSans-49\"/>\n      </defs>\n      <g transform=\"translate(163.185868 239.238437)scale(0.1 -0.1)\">\n       <use xlink:href=\"#DejaVuSans-48\"/>\n       <use x=\"63.623047\" xlink:href=\"#DejaVuSans-46\"/>\n       <use x=\"95.410156\" xlink:href=\"#DejaVuSans-49\"/>\n      </g>\n     </g>\n    </g>\n    <g id=\"xtick_3\">\n     <g id=\"line2d_3\">\n      <g>\n       <use style=\"stroke:#000000;stroke-width:0.8;\" x=\"215.960799\" xlink:href=\"#m6d0de03439\" y=\"224.64\"/>\n      </g>\n     </g>\n     <g id=\"text_3\">\n      <!-- 0.2 -->\n      <defs>\n       <path d=\"M 19.1875 8.296875 \nL 53.609375 8.296875 \nL 53.609375 0 \nL 7.328125 0 \nL 7.328125 8.296875 \nQ 12.9375 14.109375 22.625 23.890625 \nQ 32.328125 33.6875 34.8125 36.53125 \nQ 39.546875 41.84375 41.421875 45.53125 \nQ 43.3125 49.21875 43.3125 52.78125 \nQ 43.3125 58.59375 39.234375 62.25 \nQ 35.15625 65.921875 28.609375 65.921875 \nQ 23.96875 65.921875 18.8125 64.3125 \nQ 13.671875 62.703125 7.8125 59.421875 \nL 7.8125 69.390625 \nQ 13.765625 71.78125 18.9375 73 \nQ 24.125 74.21875 28.421875 74.21875 \nQ 39.75 74.21875 46.484375 68.546875 \nQ 53.21875 62.890625 53.21875 53.421875 \nQ 53.21875 48.921875 51.53125 44.890625 \nQ 49.859375 40.875 45.40625 35.40625 \nQ 44.1875 33.984375 37.640625 27.21875 \nQ 31.109375 20.453125 19.1875 8.296875 \nz\n\" id=\"DejaVuSans-50\"/>\n      </defs>\n      <g transform=\"translate(208.009237 239.238437)scale(0.1 -0.1)\">\n       <use xlink:href=\"#DejaVuSans-48\"/>\n       <use x=\"63.623047\" xlink:href=\"#DejaVuSans-46\"/>\n       <use x=\"95.410156\" xlink:href=\"#DejaVuSans-50\"/>\n      </g>\n     </g>\n    </g>\n    <g id=\"xtick_4\">\n     <g id=\"line2d_4\">\n      <g>\n       <use style=\"stroke:#000000;stroke-width:0.8;\" x=\"260.784167\" xlink:href=\"#m6d0de03439\" y=\"224.64\"/>\n      </g>\n     </g>\n     <g id=\"text_4\">\n      <!-- 0.3 -->\n      <defs>\n       <path d=\"M 40.578125 39.3125 \nQ 47.65625 37.796875 51.625 33 \nQ 55.609375 28.21875 55.609375 21.1875 \nQ 55.609375 10.40625 48.1875 4.484375 \nQ 40.765625 -1.421875 27.09375 -1.421875 \nQ 22.515625 -1.421875 17.65625 -0.515625 \nQ 12.796875 0.390625 7.625 2.203125 \nL 7.625 11.71875 \nQ 11.71875 9.328125 16.59375 8.109375 \nQ 21.484375 6.890625 26.8125 6.890625 \nQ 36.078125 6.890625 40.9375 10.546875 \nQ 45.796875 14.203125 45.796875 21.1875 \nQ 45.796875 27.640625 41.28125 31.265625 \nQ 36.765625 34.90625 28.71875 34.90625 \nL 20.21875 34.90625 \nL 20.21875 43.015625 \nL 29.109375 43.015625 \nQ 36.375 43.015625 40.234375 45.921875 \nQ 44.09375 48.828125 44.09375 54.296875 \nQ 44.09375 59.90625 40.109375 62.90625 \nQ 36.140625 65.921875 28.71875 65.921875 \nQ 24.65625 65.921875 20.015625 65.03125 \nQ 15.375 64.15625 9.8125 62.3125 \nL 9.8125 71.09375 \nQ 15.4375 72.65625 20.34375 73.4375 \nQ 25.25 74.21875 29.59375 74.21875 \nQ 40.828125 74.21875 47.359375 69.109375 \nQ 53.90625 64.015625 53.90625 55.328125 \nQ 53.90625 49.265625 50.4375 45.09375 \nQ 46.96875 40.921875 40.578125 39.3125 \nz\n\" id=\"DejaVuSans-51\"/>\n      </defs>\n      <g transform=\"translate(252.832605 239.238437)scale(0.1 -0.1)\">\n       <use xlink:href=\"#DejaVuSans-48\"/>\n       <use x=\"63.623047\" xlink:href=\"#DejaVuSans-46\"/>\n       <use x=\"95.410156\" xlink:href=\"#DejaVuSans-51\"/>\n      </g>\n     </g>\n    </g>\n    <g id=\"xtick_5\">\n     <g id=\"line2d_5\">\n      <g>\n       <use style=\"stroke:#000000;stroke-width:0.8;\" x=\"305.607536\" xlink:href=\"#m6d0de03439\" y=\"224.64\"/>\n      </g>\n     </g>\n     <g id=\"text_5\">\n      <!-- 0.4 -->\n      <defs>\n       <path d=\"M 37.796875 64.3125 \nL 12.890625 25.390625 \nL 37.796875 25.390625 \nz\nM 35.203125 72.90625 \nL 47.609375 72.90625 \nL 47.609375 25.390625 \nL 58.015625 25.390625 \nL 58.015625 17.1875 \nL 47.609375 17.1875 \nL 47.609375 0 \nL 37.796875 0 \nL 37.796875 17.1875 \nL 4.890625 17.1875 \nL 4.890625 26.703125 \nz\n\" id=\"DejaVuSans-52\"/>\n      </defs>\n      <g transform=\"translate(297.655973 239.238437)scale(0.1 -0.1)\">\n       <use xlink:href=\"#DejaVuSans-48\"/>\n       <use x=\"63.623047\" xlink:href=\"#DejaVuSans-46\"/>\n       <use x=\"95.410156\" xlink:href=\"#DejaVuSans-52\"/>\n      </g>\n     </g>\n    </g>\n    <g id=\"xtick_6\">\n     <g id=\"line2d_6\">\n      <g>\n       <use style=\"stroke:#000000;stroke-width:0.8;\" x=\"350.430904\" xlink:href=\"#m6d0de03439\" y=\"224.64\"/>\n      </g>\n     </g>\n     <g id=\"text_6\">\n      <!-- 0.5 -->\n      <defs>\n       <path d=\"M 10.796875 72.90625 \nL 49.515625 72.90625 \nL 49.515625 64.59375 \nL 19.828125 64.59375 \nL 19.828125 46.734375 \nQ 21.96875 47.46875 24.109375 47.828125 \nQ 26.265625 48.1875 28.421875 48.1875 \nQ 40.625 48.1875 47.75 41.5 \nQ 54.890625 34.8125 54.890625 23.390625 \nQ 54.890625 11.625 47.5625 5.09375 \nQ 40.234375 -1.421875 26.90625 -1.421875 \nQ 22.3125 -1.421875 17.546875 -0.640625 \nQ 12.796875 0.140625 7.71875 1.703125 \nL 7.71875 11.625 \nQ 12.109375 9.234375 16.796875 8.0625 \nQ 21.484375 6.890625 26.703125 6.890625 \nQ 35.15625 6.890625 40.078125 11.328125 \nQ 45.015625 15.765625 45.015625 23.390625 \nQ 45.015625 31 40.078125 35.4375 \nQ 35.15625 39.890625 26.703125 39.890625 \nQ 22.75 39.890625 18.8125 39.015625 \nQ 14.890625 38.140625 10.796875 36.28125 \nz\n\" id=\"DejaVuSans-53\"/>\n      </defs>\n      <g transform=\"translate(342.479342 239.238437)scale(0.1 -0.1)\">\n       <use xlink:href=\"#DejaVuSans-48\"/>\n       <use x=\"63.623047\" xlink:href=\"#DejaVuSans-46\"/>\n       <use x=\"95.410156\" xlink:href=\"#DejaVuSans-53\"/>\n      </g>\n     </g>\n    </g>\n    <g id=\"xtick_7\">\n     <g id=\"line2d_7\">\n      <g>\n       <use style=\"stroke:#000000;stroke-width:0.8;\" x=\"395.254272\" xlink:href=\"#m6d0de03439\" y=\"224.64\"/>\n      </g>\n     </g>\n     <g id=\"text_7\">\n      <!-- 0.6 -->\n      <defs>\n       <path d=\"M 33.015625 40.375 \nQ 26.375 40.375 22.484375 35.828125 \nQ 18.609375 31.296875 18.609375 23.390625 \nQ 18.609375 15.53125 22.484375 10.953125 \nQ 26.375 6.390625 33.015625 6.390625 \nQ 39.65625 6.390625 43.53125 10.953125 \nQ 47.40625 15.53125 47.40625 23.390625 \nQ 47.40625 31.296875 43.53125 35.828125 \nQ 39.65625 40.375 33.015625 40.375 \nz\nM 52.59375 71.296875 \nL 52.59375 62.3125 \nQ 48.875 64.0625 45.09375 64.984375 \nQ 41.3125 65.921875 37.59375 65.921875 \nQ 27.828125 65.921875 22.671875 59.328125 \nQ 17.53125 52.734375 16.796875 39.40625 \nQ 19.671875 43.65625 24.015625 45.921875 \nQ 28.375 48.1875 33.59375 48.1875 \nQ 44.578125 48.1875 50.953125 41.515625 \nQ 57.328125 34.859375 57.328125 23.390625 \nQ 57.328125 12.15625 50.6875 5.359375 \nQ 44.046875 -1.421875 33.015625 -1.421875 \nQ 20.359375 -1.421875 13.671875 8.265625 \nQ 6.984375 17.96875 6.984375 36.375 \nQ 6.984375 53.65625 15.1875 63.9375 \nQ 23.390625 74.21875 37.203125 74.21875 \nQ 40.921875 74.21875 44.703125 73.484375 \nQ 48.484375 72.75 52.59375 71.296875 \nz\n\" id=\"DejaVuSans-54\"/>\n      </defs>\n      <g transform=\"translate(387.30271 239.238437)scale(0.1 -0.1)\">\n       <use xlink:href=\"#DejaVuSans-48\"/>\n       <use x=\"63.623047\" xlink:href=\"#DejaVuSans-46\"/>\n       <use x=\"95.410156\" xlink:href=\"#DejaVuSans-54\"/>\n      </g>\n     </g>\n    </g>\n    <g id=\"xtick_8\">\n     <g id=\"line2d_8\">\n      <g>\n       <use style=\"stroke:#000000;stroke-width:0.8;\" x=\"440.077641\" xlink:href=\"#m6d0de03439\" y=\"224.64\"/>\n      </g>\n     </g>\n     <g id=\"text_8\">\n      <!-- 0.7 -->\n      <defs>\n       <path d=\"M 8.203125 72.90625 \nL 55.078125 72.90625 \nL 55.078125 68.703125 \nL 28.609375 0 \nL 18.3125 0 \nL 43.21875 64.59375 \nL 8.203125 64.59375 \nz\n\" id=\"DejaVuSans-55\"/>\n      </defs>\n      <g transform=\"translate(432.126078 239.238437)scale(0.1 -0.1)\">\n       <use xlink:href=\"#DejaVuSans-48\"/>\n       <use x=\"63.623047\" xlink:href=\"#DejaVuSans-46\"/>\n       <use x=\"95.410156\" xlink:href=\"#DejaVuSans-55\"/>\n      </g>\n     </g>\n    </g>\n   </g>\n   <g id=\"matplotlib.axis_2\">\n    <g id=\"ytick_1\">\n     <g id=\"line2d_9\">\n      <defs>\n       <path d=\"M 0 0 \nL -3.5 0 \n\" id=\"m3d732f0496\" style=\"stroke:#000000;stroke-width:0.8;\"/>\n      </defs>\n      <g>\n       <use style=\"stroke:#000000;stroke-width:0.8;\" x=\"126.314063\" xlink:href=\"#m3d732f0496\" y=\"216.874286\"/>\n      </g>\n     </g>\n     <g id=\"text_9\">\n      <!-- ? -->\n      <defs>\n       <path d=\"M 19.09375 12.40625 \nL 29 12.40625 \nL 29 0 \nL 19.09375 0 \nz\nM 28.71875 19.578125 \nL 19.390625 19.578125 \nL 19.390625 27.09375 \nQ 19.390625 32.03125 20.75 35.203125 \nQ 22.125 38.375 26.515625 42.578125 \nL 30.90625 46.921875 \nQ 33.6875 49.515625 34.9375 51.8125 \nQ 36.1875 54.109375 36.1875 56.5 \nQ 36.1875 60.84375 32.984375 63.53125 \nQ 29.78125 66.21875 24.515625 66.21875 \nQ 20.65625 66.21875 16.28125 64.5 \nQ 11.921875 62.796875 7.171875 59.515625 \nL 7.171875 68.703125 \nQ 11.765625 71.484375 16.46875 72.84375 \nQ 21.1875 74.21875 26.21875 74.21875 \nQ 35.203125 74.21875 40.640625 69.484375 \nQ 46.09375 64.75 46.09375 56.984375 \nQ 46.09375 53.265625 44.328125 49.921875 \nQ 42.578125 46.578125 38.1875 42.390625 \nL 33.890625 38.1875 \nQ 31.59375 35.890625 30.640625 34.59375 \nQ 29.6875 33.296875 29.296875 32.078125 \nQ 29 31.0625 28.859375 29.59375 \nQ 28.71875 28.125 28.71875 25.59375 \nz\n\" id=\"DejaVuSans-63\"/>\n      </defs>\n      <g transform=\"translate(114.00625 220.673504)scale(0.1 -0.1)\">\n       <use xlink:href=\"#DejaVuSans-63\"/>\n      </g>\n     </g>\n    </g>\n    <g id=\"ytick_2\">\n     <g id=\"line2d_10\">\n      <g>\n       <use style=\"stroke:#000000;stroke-width:0.8;\" x=\"126.314063\" xlink:href=\"#m3d732f0496\" y=\"201.342857\"/>\n      </g>\n     </g>\n     <g id=\"text_10\">\n      <!-- recreation -->\n      <defs>\n       <path d=\"M 41.109375 46.296875 \nQ 39.59375 47.171875 37.8125 47.578125 \nQ 36.03125 48 33.890625 48 \nQ 26.265625 48 22.1875 43.046875 \nQ 18.109375 38.09375 18.109375 28.8125 \nL 18.109375 0 \nL 9.078125 0 \nL 9.078125 54.6875 \nL 18.109375 54.6875 \nL 18.109375 46.1875 \nQ 20.953125 51.171875 25.484375 53.578125 \nQ 30.03125 56 36.53125 56 \nQ 37.453125 56 38.578125 55.875 \nQ 39.703125 55.765625 41.0625 55.515625 \nz\n\" id=\"DejaVuSans-114\"/>\n       <path d=\"M 56.203125 29.59375 \nL 56.203125 25.203125 \nL 14.890625 25.203125 \nQ 15.484375 15.921875 20.484375 11.0625 \nQ 25.484375 6.203125 34.421875 6.203125 \nQ 39.59375 6.203125 44.453125 7.46875 \nQ 49.3125 8.734375 54.109375 11.28125 \nL 54.109375 2.78125 \nQ 49.265625 0.734375 44.1875 -0.34375 \nQ 39.109375 -1.421875 33.890625 -1.421875 \nQ 20.796875 -1.421875 13.15625 6.1875 \nQ 5.515625 13.8125 5.515625 26.8125 \nQ 5.515625 40.234375 12.765625 48.109375 \nQ 20.015625 56 32.328125 56 \nQ 43.359375 56 49.78125 48.890625 \nQ 56.203125 41.796875 56.203125 29.59375 \nz\nM 47.21875 32.234375 \nQ 47.125 39.59375 43.09375 43.984375 \nQ 39.0625 48.390625 32.421875 48.390625 \nQ 24.90625 48.390625 20.390625 44.140625 \nQ 15.875 39.890625 15.1875 32.171875 \nz\n\" id=\"DejaVuSans-101\"/>\n       <path d=\"M 48.78125 52.59375 \nL 48.78125 44.1875 \nQ 44.96875 46.296875 41.140625 47.34375 \nQ 37.3125 48.390625 33.40625 48.390625 \nQ 24.65625 48.390625 19.8125 42.84375 \nQ 14.984375 37.3125 14.984375 27.296875 \nQ 14.984375 17.28125 19.8125 11.734375 \nQ 24.65625 6.203125 33.40625 6.203125 \nQ 37.3125 6.203125 41.140625 7.25 \nQ 44.96875 8.296875 48.78125 10.40625 \nL 48.78125 2.09375 \nQ 45.015625 0.34375 40.984375 -0.53125 \nQ 36.96875 -1.421875 32.421875 -1.421875 \nQ 20.0625 -1.421875 12.78125 6.34375 \nQ 5.515625 14.109375 5.515625 27.296875 \nQ 5.515625 40.671875 12.859375 48.328125 \nQ 20.21875 56 33.015625 56 \nQ 37.15625 56 41.109375 55.140625 \nQ 45.0625 54.296875 48.78125 52.59375 \nz\n\" id=\"DejaVuSans-99\"/>\n       <path d=\"M 34.28125 27.484375 \nQ 23.390625 27.484375 19.1875 25 \nQ 14.984375 22.515625 14.984375 16.5 \nQ 14.984375 11.71875 18.140625 8.90625 \nQ 21.296875 6.109375 26.703125 6.109375 \nQ 34.1875 6.109375 38.703125 11.40625 \nQ 43.21875 16.703125 43.21875 25.484375 \nL 43.21875 27.484375 \nz\nM 52.203125 31.203125 \nL 52.203125 0 \nL 43.21875 0 \nL 43.21875 8.296875 \nQ 40.140625 3.328125 35.546875 0.953125 \nQ 30.953125 -1.421875 24.3125 -1.421875 \nQ 15.921875 -1.421875 10.953125 3.296875 \nQ 6 8.015625 6 15.921875 \nQ 6 25.140625 12.171875 29.828125 \nQ 18.359375 34.515625 30.609375 34.515625 \nL 43.21875 34.515625 \nL 43.21875 35.40625 \nQ 43.21875 41.609375 39.140625 45 \nQ 35.0625 48.390625 27.6875 48.390625 \nQ 23 48.390625 18.546875 47.265625 \nQ 14.109375 46.140625 10.015625 43.890625 \nL 10.015625 52.203125 \nQ 14.9375 54.109375 19.578125 55.046875 \nQ 24.21875 56 28.609375 56 \nQ 40.484375 56 46.34375 49.84375 \nQ 52.203125 43.703125 52.203125 31.203125 \nz\n\" id=\"DejaVuSans-97\"/>\n       <path d=\"M 18.3125 70.21875 \nL 18.3125 54.6875 \nL 36.8125 54.6875 \nL 36.8125 47.703125 \nL 18.3125 47.703125 \nL 18.3125 18.015625 \nQ 18.3125 11.328125 20.140625 9.421875 \nQ 21.96875 7.515625 27.59375 7.515625 \nL 36.8125 7.515625 \nL 36.8125 0 \nL 27.59375 0 \nQ 17.1875 0 13.234375 3.875 \nQ 9.28125 7.765625 9.28125 18.015625 \nL 9.28125 47.703125 \nL 2.6875 47.703125 \nL 2.6875 54.6875 \nL 9.28125 54.6875 \nL 9.28125 70.21875 \nz\n\" id=\"DejaVuSans-116\"/>\n       <path d=\"M 9.421875 54.6875 \nL 18.40625 54.6875 \nL 18.40625 0 \nL 9.421875 0 \nz\nM 9.421875 75.984375 \nL 18.40625 75.984375 \nL 18.40625 64.59375 \nL 9.421875 64.59375 \nz\n\" id=\"DejaVuSans-105\"/>\n       <path d=\"M 30.609375 48.390625 \nQ 23.390625 48.390625 19.1875 42.75 \nQ 14.984375 37.109375 14.984375 27.296875 \nQ 14.984375 17.484375 19.15625 11.84375 \nQ 23.34375 6.203125 30.609375 6.203125 \nQ 37.796875 6.203125 41.984375 11.859375 \nQ 46.1875 17.53125 46.1875 27.296875 \nQ 46.1875 37.015625 41.984375 42.703125 \nQ 37.796875 48.390625 30.609375 48.390625 \nz\nM 30.609375 56 \nQ 42.328125 56 49.015625 48.375 \nQ 55.71875 40.765625 55.71875 27.296875 \nQ 55.71875 13.875 49.015625 6.21875 \nQ 42.328125 -1.421875 30.609375 -1.421875 \nQ 18.84375 -1.421875 12.171875 6.21875 \nQ 5.515625 13.875 5.515625 27.296875 \nQ 5.515625 40.765625 12.171875 48.375 \nQ 18.84375 56 30.609375 56 \nz\n\" id=\"DejaVuSans-111\"/>\n       <path d=\"M 54.890625 33.015625 \nL 54.890625 0 \nL 45.90625 0 \nL 45.90625 32.71875 \nQ 45.90625 40.484375 42.875 44.328125 \nQ 39.84375 48.1875 33.796875 48.1875 \nQ 26.515625 48.1875 22.3125 43.546875 \nQ 18.109375 38.921875 18.109375 30.90625 \nL 18.109375 0 \nL 9.078125 0 \nL 9.078125 54.6875 \nL 18.109375 54.6875 \nL 18.109375 46.1875 \nQ 21.34375 51.125 25.703125 53.5625 \nQ 30.078125 56 35.796875 56 \nQ 45.21875 56 50.046875 50.171875 \nQ 54.890625 44.34375 54.890625 33.015625 \nz\n\" id=\"DejaVuSans-110\"/>\n      </defs>\n      <g transform=\"translate(68.454688 205.142076)scale(0.1 -0.1)\">\n       <use xlink:href=\"#DejaVuSans-114\"/>\n       <use x=\"38.863281\" xlink:href=\"#DejaVuSans-101\"/>\n       <use x=\"100.386719\" xlink:href=\"#DejaVuSans-99\"/>\n       <use x=\"155.367188\" xlink:href=\"#DejaVuSans-114\"/>\n       <use x=\"194.230469\" xlink:href=\"#DejaVuSans-101\"/>\n       <use x=\"255.753906\" xlink:href=\"#DejaVuSans-97\"/>\n       <use x=\"317.033203\" xlink:href=\"#DejaVuSans-116\"/>\n       <use x=\"356.242188\" xlink:href=\"#DejaVuSans-105\"/>\n       <use x=\"384.025391\" xlink:href=\"#DejaVuSans-111\"/>\n       <use x=\"445.207031\" xlink:href=\"#DejaVuSans-110\"/>\n      </g>\n     </g>\n    </g>\n    <g id=\"ytick_3\">\n     <g id=\"line2d_11\">\n      <g>\n       <use style=\"stroke:#000000;stroke-width:0.8;\" x=\"126.314063\" xlink:href=\"#m3d732f0496\" y=\"185.811429\"/>\n      </g>\n     </g>\n     <g id=\"text_11\">\n      <!-- arts_entertainment -->\n      <defs>\n       <path d=\"M 44.28125 53.078125 \nL 44.28125 44.578125 \nQ 40.484375 46.53125 36.375 47.5 \nQ 32.28125 48.484375 27.875 48.484375 \nQ 21.1875 48.484375 17.84375 46.4375 \nQ 14.5 44.390625 14.5 40.28125 \nQ 14.5 37.15625 16.890625 35.375 \nQ 19.28125 33.59375 26.515625 31.984375 \nL 29.59375 31.296875 \nQ 39.15625 29.25 43.1875 25.515625 \nQ 47.21875 21.78125 47.21875 15.09375 \nQ 47.21875 7.46875 41.1875 3.015625 \nQ 35.15625 -1.421875 24.609375 -1.421875 \nQ 20.21875 -1.421875 15.453125 -0.5625 \nQ 10.6875 0.296875 5.421875 2 \nL 5.421875 11.28125 \nQ 10.40625 8.6875 15.234375 7.390625 \nQ 20.0625 6.109375 24.8125 6.109375 \nQ 31.15625 6.109375 34.5625 8.28125 \nQ 37.984375 10.453125 37.984375 14.40625 \nQ 37.984375 18.0625 35.515625 20.015625 \nQ 33.0625 21.96875 24.703125 23.78125 \nL 21.578125 24.515625 \nQ 13.234375 26.265625 9.515625 29.90625 \nQ 5.8125 33.546875 5.8125 39.890625 \nQ 5.8125 47.609375 11.28125 51.796875 \nQ 16.75 56 26.8125 56 \nQ 31.78125 56 36.171875 55.265625 \nQ 40.578125 54.546875 44.28125 53.078125 \nz\n\" id=\"DejaVuSans-115\"/>\n       <path d=\"M 50.984375 -16.609375 \nL 50.984375 -23.578125 \nL -0.984375 -23.578125 \nL -0.984375 -16.609375 \nz\n\" id=\"DejaVuSans-95\"/>\n       <path d=\"M 52 44.1875 \nQ 55.375 50.25 60.0625 53.125 \nQ 64.75 56 71.09375 56 \nQ 79.640625 56 84.28125 50.015625 \nQ 88.921875 44.046875 88.921875 33.015625 \nL 88.921875 0 \nL 79.890625 0 \nL 79.890625 32.71875 \nQ 79.890625 40.578125 77.09375 44.375 \nQ 74.3125 48.1875 68.609375 48.1875 \nQ 61.625 48.1875 57.5625 43.546875 \nQ 53.515625 38.921875 53.515625 30.90625 \nL 53.515625 0 \nL 44.484375 0 \nL 44.484375 32.71875 \nQ 44.484375 40.625 41.703125 44.40625 \nQ 38.921875 48.1875 33.109375 48.1875 \nQ 26.21875 48.1875 22.15625 43.53125 \nQ 18.109375 38.875 18.109375 30.90625 \nL 18.109375 0 \nL 9.078125 0 \nL 9.078125 54.6875 \nL 18.109375 54.6875 \nL 18.109375 46.1875 \nQ 21.1875 51.21875 25.484375 53.609375 \nQ 29.78125 56 35.6875 56 \nQ 41.65625 56 45.828125 52.96875 \nQ 50 49.953125 52 44.1875 \nz\n\" id=\"DejaVuSans-109\"/>\n      </defs>\n      <g transform=\"translate(22.954688 189.610647)scale(0.1 -0.1)\">\n       <use xlink:href=\"#DejaVuSans-97\"/>\n       <use x=\"61.279297\" xlink:href=\"#DejaVuSans-114\"/>\n       <use x=\"102.392578\" xlink:href=\"#DejaVuSans-116\"/>\n       <use x=\"141.601562\" xlink:href=\"#DejaVuSans-115\"/>\n       <use x=\"193.701172\" xlink:href=\"#DejaVuSans-95\"/>\n       <use x=\"243.701172\" xlink:href=\"#DejaVuSans-101\"/>\n       <use x=\"305.224609\" xlink:href=\"#DejaVuSans-110\"/>\n       <use x=\"368.603516\" xlink:href=\"#DejaVuSans-116\"/>\n       <use x=\"407.8125\" xlink:href=\"#DejaVuSans-101\"/>\n       <use x=\"469.335938\" xlink:href=\"#DejaVuSans-114\"/>\n       <use x=\"510.449219\" xlink:href=\"#DejaVuSans-116\"/>\n       <use x=\"549.658203\" xlink:href=\"#DejaVuSans-97\"/>\n       <use x=\"610.9375\" xlink:href=\"#DejaVuSans-105\"/>\n       <use x=\"638.720703\" xlink:href=\"#DejaVuSans-110\"/>\n       <use x=\"702.099609\" xlink:href=\"#DejaVuSans-109\"/>\n       <use x=\"799.511719\" xlink:href=\"#DejaVuSans-101\"/>\n       <use x=\"861.035156\" xlink:href=\"#DejaVuSans-110\"/>\n       <use x=\"924.414062\" xlink:href=\"#DejaVuSans-116\"/>\n      </g>\n     </g>\n    </g>\n    <g id=\"ytick_4\">\n     <g id=\"line2d_12\">\n      <g>\n       <use style=\"stroke:#000000;stroke-width:0.8;\" x=\"126.314063\" xlink:href=\"#m3d732f0496\" y=\"170.28\"/>\n      </g>\n     </g>\n     <g id=\"text_12\">\n      <!-- business -->\n      <defs>\n       <path d=\"M 48.6875 27.296875 \nQ 48.6875 37.203125 44.609375 42.84375 \nQ 40.53125 48.484375 33.40625 48.484375 \nQ 26.265625 48.484375 22.1875 42.84375 \nQ 18.109375 37.203125 18.109375 27.296875 \nQ 18.109375 17.390625 22.1875 11.75 \nQ 26.265625 6.109375 33.40625 6.109375 \nQ 40.53125 6.109375 44.609375 11.75 \nQ 48.6875 17.390625 48.6875 27.296875 \nz\nM 18.109375 46.390625 \nQ 20.953125 51.265625 25.265625 53.625 \nQ 29.59375 56 35.59375 56 \nQ 45.5625 56 51.78125 48.09375 \nQ 58.015625 40.1875 58.015625 27.296875 \nQ 58.015625 14.40625 51.78125 6.484375 \nQ 45.5625 -1.421875 35.59375 -1.421875 \nQ 29.59375 -1.421875 25.265625 0.953125 \nQ 20.953125 3.328125 18.109375 8.203125 \nL 18.109375 0 \nL 9.078125 0 \nL 9.078125 75.984375 \nL 18.109375 75.984375 \nz\n\" id=\"DejaVuSans-98\"/>\n       <path d=\"M 8.5 21.578125 \nL 8.5 54.6875 \nL 17.484375 54.6875 \nL 17.484375 21.921875 \nQ 17.484375 14.15625 20.5 10.265625 \nQ 23.53125 6.390625 29.59375 6.390625 \nQ 36.859375 6.390625 41.078125 11.03125 \nQ 45.3125 15.671875 45.3125 23.6875 \nL 45.3125 54.6875 \nL 54.296875 54.6875 \nL 54.296875 0 \nL 45.3125 0 \nL 45.3125 8.40625 \nQ 42.046875 3.421875 37.71875 1 \nQ 33.40625 -1.421875 27.6875 -1.421875 \nQ 18.265625 -1.421875 13.375 4.4375 \nQ 8.5 10.296875 8.5 21.578125 \nz\nM 31.109375 56 \nz\n\" id=\"DejaVuSans-117\"/>\n      </defs>\n      <g transform=\"translate(75.73125 174.079219)scale(0.1 -0.1)\">\n       <use xlink:href=\"#DejaVuSans-98\"/>\n       <use x=\"63.476562\" xlink:href=\"#DejaVuSans-117\"/>\n       <use x=\"126.855469\" xlink:href=\"#DejaVuSans-115\"/>\n       <use x=\"178.955078\" xlink:href=\"#DejaVuSans-105\"/>\n       <use x=\"206.738281\" xlink:href=\"#DejaVuSans-110\"/>\n       <use x=\"270.117188\" xlink:href=\"#DejaVuSans-101\"/>\n       <use x=\"331.640625\" xlink:href=\"#DejaVuSans-115\"/>\n       <use x=\"383.740234\" xlink:href=\"#DejaVuSans-115\"/>\n      </g>\n     </g>\n    </g>\n    <g id=\"ytick_5\">\n     <g id=\"line2d_13\">\n      <g>\n       <use style=\"stroke:#000000;stroke-width:0.8;\" x=\"126.314063\" xlink:href=\"#m3d732f0496\" y=\"154.748571\"/>\n      </g>\n     </g>\n     <g id=\"text_13\">\n      <!-- health -->\n      <defs>\n       <path d=\"M 54.890625 33.015625 \nL 54.890625 0 \nL 45.90625 0 \nL 45.90625 32.71875 \nQ 45.90625 40.484375 42.875 44.328125 \nQ 39.84375 48.1875 33.796875 48.1875 \nQ 26.515625 48.1875 22.3125 43.546875 \nQ 18.109375 38.921875 18.109375 30.90625 \nL 18.109375 0 \nL 9.078125 0 \nL 9.078125 75.984375 \nL 18.109375 75.984375 \nL 18.109375 46.1875 \nQ 21.34375 51.125 25.703125 53.5625 \nQ 30.078125 56 35.796875 56 \nQ 45.21875 56 50.046875 50.171875 \nQ 54.890625 44.34375 54.890625 33.015625 \nz\n\" id=\"DejaVuSans-104\"/>\n       <path d=\"M 9.421875 75.984375 \nL 18.40625 75.984375 \nL 18.40625 0 \nL 9.421875 0 \nz\n\" id=\"DejaVuSans-108\"/>\n      </defs>\n      <g transform=\"translate(87.659375 158.54779)scale(0.1 -0.1)\">\n       <use xlink:href=\"#DejaVuSans-104\"/>\n       <use x=\"63.378906\" xlink:href=\"#DejaVuSans-101\"/>\n       <use x=\"124.902344\" xlink:href=\"#DejaVuSans-97\"/>\n       <use x=\"186.181641\" xlink:href=\"#DejaVuSans-108\"/>\n       <use x=\"213.964844\" xlink:href=\"#DejaVuSans-116\"/>\n       <use x=\"253.173828\" xlink:href=\"#DejaVuSans-104\"/>\n      </g>\n     </g>\n    </g>\n    <g id=\"ytick_6\">\n     <g id=\"line2d_14\">\n      <g>\n       <use style=\"stroke:#000000;stroke-width:0.8;\" x=\"126.314063\" xlink:href=\"#m3d732f0496\" y=\"139.217143\"/>\n      </g>\n     </g>\n     <g id=\"text_14\">\n      <!-- sports -->\n      <defs>\n       <path d=\"M 18.109375 8.203125 \nL 18.109375 -20.796875 \nL 9.078125 -20.796875 \nL 9.078125 54.6875 \nL 18.109375 54.6875 \nL 18.109375 46.390625 \nQ 20.953125 51.265625 25.265625 53.625 \nQ 29.59375 56 35.59375 56 \nQ 45.5625 56 51.78125 48.09375 \nQ 58.015625 40.1875 58.015625 27.296875 \nQ 58.015625 14.40625 51.78125 6.484375 \nQ 45.5625 -1.421875 35.59375 -1.421875 \nQ 29.59375 -1.421875 25.265625 0.953125 \nQ 20.953125 3.328125 18.109375 8.203125 \nz\nM 48.6875 27.296875 \nQ 48.6875 37.203125 44.609375 42.84375 \nQ 40.53125 48.484375 33.40625 48.484375 \nQ 26.265625 48.484375 22.1875 42.84375 \nQ 18.109375 37.203125 18.109375 27.296875 \nQ 18.109375 17.390625 22.1875 11.75 \nQ 26.265625 6.109375 33.40625 6.109375 \nQ 40.53125 6.109375 44.609375 11.75 \nQ 48.6875 17.390625 48.6875 27.296875 \nz\n\" id=\"DejaVuSans-112\"/>\n      </defs>\n      <g transform=\"translate(88.396875 143.016362)scale(0.1 -0.1)\">\n       <use xlink:href=\"#DejaVuSans-115\"/>\n       <use x=\"52.099609\" xlink:href=\"#DejaVuSans-112\"/>\n       <use x=\"115.576172\" xlink:href=\"#DejaVuSans-111\"/>\n       <use x=\"176.757812\" xlink:href=\"#DejaVuSans-114\"/>\n       <use x=\"217.871094\" xlink:href=\"#DejaVuSans-116\"/>\n       <use x=\"257.080078\" xlink:href=\"#DejaVuSans-115\"/>\n      </g>\n     </g>\n    </g>\n    <g id=\"ytick_7\">\n     <g id=\"line2d_15\">\n      <g>\n       <use style=\"stroke:#000000;stroke-width:0.8;\" x=\"126.314063\" xlink:href=\"#m3d732f0496\" y=\"123.685714\"/>\n      </g>\n     </g>\n     <g id=\"text_15\">\n      <!-- culture_politics -->\n      <g transform=\"translate(43.973438 127.484933)scale(0.1 -0.1)\">\n       <use xlink:href=\"#DejaVuSans-99\"/>\n       <use x=\"54.980469\" xlink:href=\"#DejaVuSans-117\"/>\n       <use x=\"118.359375\" xlink:href=\"#DejaVuSans-108\"/>\n       <use x=\"146.142578\" xlink:href=\"#DejaVuSans-116\"/>\n       <use x=\"185.351562\" xlink:href=\"#DejaVuSans-117\"/>\n       <use x=\"248.730469\" xlink:href=\"#DejaVuSans-114\"/>\n       <use x=\"287.59375\" xlink:href=\"#DejaVuSans-101\"/>\n       <use x=\"349.117188\" xlink:href=\"#DejaVuSans-95\"/>\n       <use x=\"399.117188\" xlink:href=\"#DejaVuSans-112\"/>\n       <use x=\"462.59375\" xlink:href=\"#DejaVuSans-111\"/>\n       <use x=\"523.775391\" xlink:href=\"#DejaVuSans-108\"/>\n       <use x=\"551.558594\" xlink:href=\"#DejaVuSans-105\"/>\n       <use x=\"579.341797\" xlink:href=\"#DejaVuSans-116\"/>\n       <use x=\"618.550781\" xlink:href=\"#DejaVuSans-105\"/>\n       <use x=\"646.333984\" xlink:href=\"#DejaVuSans-99\"/>\n       <use x=\"701.314453\" xlink:href=\"#DejaVuSans-115\"/>\n      </g>\n     </g>\n    </g>\n    <g id=\"ytick_8\">\n     <g id=\"line2d_16\">\n      <g>\n       <use style=\"stroke:#000000;stroke-width:0.8;\" x=\"126.314063\" xlink:href=\"#m3d732f0496\" y=\"108.154286\"/>\n      </g>\n     </g>\n     <g id=\"text_16\">\n      <!-- computer_internet -->\n      <g transform=\"translate(26.55 111.953504)scale(0.1 -0.1)\">\n       <use xlink:href=\"#DejaVuSans-99\"/>\n       <use x=\"54.980469\" xlink:href=\"#DejaVuSans-111\"/>\n       <use x=\"116.162109\" xlink:href=\"#DejaVuSans-109\"/>\n       <use x=\"213.574219\" xlink:href=\"#DejaVuSans-112\"/>\n       <use x=\"277.050781\" xlink:href=\"#DejaVuSans-117\"/>\n       <use x=\"340.429688\" xlink:href=\"#DejaVuSans-116\"/>\n       <use x=\"379.638672\" xlink:href=\"#DejaVuSans-101\"/>\n       <use x=\"441.162109\" xlink:href=\"#DejaVuSans-114\"/>\n       <use x=\"482.275391\" xlink:href=\"#DejaVuSans-95\"/>\n       <use x=\"532.275391\" xlink:href=\"#DejaVuSans-105\"/>\n       <use x=\"560.058594\" xlink:href=\"#DejaVuSans-110\"/>\n       <use x=\"623.4375\" xlink:href=\"#DejaVuSans-116\"/>\n       <use x=\"662.646484\" xlink:href=\"#DejaVuSans-101\"/>\n       <use x=\"724.169922\" xlink:href=\"#DejaVuSans-114\"/>\n       <use x=\"763.533203\" xlink:href=\"#DejaVuSans-110\"/>\n       <use x=\"826.912109\" xlink:href=\"#DejaVuSans-101\"/>\n       <use x=\"888.435547\" xlink:href=\"#DejaVuSans-116\"/>\n      </g>\n     </g>\n    </g>\n    <g id=\"ytick_9\">\n     <g id=\"line2d_17\">\n      <g>\n       <use style=\"stroke:#000000;stroke-width:0.8;\" x=\"126.314063\" xlink:href=\"#m3d732f0496\" y=\"92.622857\"/>\n      </g>\n     </g>\n     <g id=\"text_17\">\n      <!-- science_technology -->\n      <defs>\n       <path d=\"M 45.40625 27.984375 \nQ 45.40625 37.75 41.375 43.109375 \nQ 37.359375 48.484375 30.078125 48.484375 \nQ 22.859375 48.484375 18.828125 43.109375 \nQ 14.796875 37.75 14.796875 27.984375 \nQ 14.796875 18.265625 18.828125 12.890625 \nQ 22.859375 7.515625 30.078125 7.515625 \nQ 37.359375 7.515625 41.375 12.890625 \nQ 45.40625 18.265625 45.40625 27.984375 \nz\nM 54.390625 6.78125 \nQ 54.390625 -7.171875 48.1875 -13.984375 \nQ 42 -20.796875 29.203125 -20.796875 \nQ 24.46875 -20.796875 20.265625 -20.09375 \nQ 16.0625 -19.390625 12.109375 -17.921875 \nL 12.109375 -9.1875 \nQ 16.0625 -11.328125 19.921875 -12.34375 \nQ 23.78125 -13.375 27.78125 -13.375 \nQ 36.625 -13.375 41.015625 -8.765625 \nQ 45.40625 -4.15625 45.40625 5.171875 \nL 45.40625 9.625 \nQ 42.625 4.78125 38.28125 2.390625 \nQ 33.9375 0 27.875 0 \nQ 17.828125 0 11.671875 7.65625 \nQ 5.515625 15.328125 5.515625 27.984375 \nQ 5.515625 40.671875 11.671875 48.328125 \nQ 17.828125 56 27.875 56 \nQ 33.9375 56 38.28125 53.609375 \nQ 42.625 51.21875 45.40625 46.390625 \nL 45.40625 54.6875 \nL 54.390625 54.6875 \nz\n\" id=\"DejaVuSans-103\"/>\n       <path d=\"M 32.171875 -5.078125 \nQ 28.375 -14.84375 24.75 -17.8125 \nQ 21.140625 -20.796875 15.09375 -20.796875 \nL 7.90625 -20.796875 \nL 7.90625 -13.28125 \nL 13.1875 -13.28125 \nQ 16.890625 -13.28125 18.9375 -11.515625 \nQ 21 -9.765625 23.484375 -3.21875 \nL 25.09375 0.875 \nL 2.984375 54.6875 \nL 12.5 54.6875 \nL 29.59375 11.921875 \nL 46.6875 54.6875 \nL 56.203125 54.6875 \nz\n\" id=\"DejaVuSans-121\"/>\n      </defs>\n      <g transform=\"translate(21.15625 96.422076)scale(0.1 -0.1)\">\n       <use xlink:href=\"#DejaVuSans-115\"/>\n       <use x=\"52.099609\" xlink:href=\"#DejaVuSans-99\"/>\n       <use x=\"107.080078\" xlink:href=\"#DejaVuSans-105\"/>\n       <use x=\"134.863281\" xlink:href=\"#DejaVuSans-101\"/>\n       <use x=\"196.386719\" xlink:href=\"#DejaVuSans-110\"/>\n       <use x=\"259.765625\" xlink:href=\"#DejaVuSans-99\"/>\n       <use x=\"314.746094\" xlink:href=\"#DejaVuSans-101\"/>\n       <use x=\"376.269531\" xlink:href=\"#DejaVuSans-95\"/>\n       <use x=\"426.269531\" xlink:href=\"#DejaVuSans-116\"/>\n       <use x=\"465.478516\" xlink:href=\"#DejaVuSans-101\"/>\n       <use x=\"527.001953\" xlink:href=\"#DejaVuSans-99\"/>\n       <use x=\"581.982422\" xlink:href=\"#DejaVuSans-104\"/>\n       <use x=\"645.361328\" xlink:href=\"#DejaVuSans-110\"/>\n       <use x=\"708.740234\" xlink:href=\"#DejaVuSans-111\"/>\n       <use x=\"769.921875\" xlink:href=\"#DejaVuSans-108\"/>\n       <use x=\"797.705078\" xlink:href=\"#DejaVuSans-111\"/>\n       <use x=\"858.886719\" xlink:href=\"#DejaVuSans-103\"/>\n       <use x=\"922.363281\" xlink:href=\"#DejaVuSans-121\"/>\n      </g>\n     </g>\n    </g>\n    <g id=\"ytick_10\">\n     <g id=\"line2d_18\">\n      <g>\n       <use style=\"stroke:#000000;stroke-width:0.8;\" x=\"126.314063\" xlink:href=\"#m3d732f0496\" y=\"77.091429\"/>\n      </g>\n     </g>\n     <g id=\"text_18\">\n      <!-- gaming -->\n      <g transform=\"translate(81.632813 80.890647)scale(0.1 -0.1)\">\n       <use xlink:href=\"#DejaVuSans-103\"/>\n       <use x=\"63.476562\" xlink:href=\"#DejaVuSans-97\"/>\n       <use x=\"124.755859\" xlink:href=\"#DejaVuSans-109\"/>\n       <use x=\"222.167969\" xlink:href=\"#DejaVuSans-105\"/>\n       <use x=\"249.951172\" xlink:href=\"#DejaVuSans-110\"/>\n       <use x=\"313.330078\" xlink:href=\"#DejaVuSans-103\"/>\n      </g>\n     </g>\n    </g>\n    <g id=\"ytick_11\">\n     <g id=\"line2d_19\">\n      <g>\n       <use style=\"stroke:#000000;stroke-width:0.8;\" x=\"126.314063\" xlink:href=\"#m3d732f0496\" y=\"61.56\"/>\n      </g>\n     </g>\n     <g id=\"text_19\">\n      <!-- religion -->\n      <g transform=\"translate(82.135938 65.359219)scale(0.1 -0.1)\">\n       <use xlink:href=\"#DejaVuSans-114\"/>\n       <use x=\"38.863281\" xlink:href=\"#DejaVuSans-101\"/>\n       <use x=\"100.386719\" xlink:href=\"#DejaVuSans-108\"/>\n       <use x=\"128.169922\" xlink:href=\"#DejaVuSans-105\"/>\n       <use x=\"155.953125\" xlink:href=\"#DejaVuSans-103\"/>\n       <use x=\"219.429688\" xlink:href=\"#DejaVuSans-105\"/>\n       <use x=\"247.212891\" xlink:href=\"#DejaVuSans-111\"/>\n       <use x=\"308.394531\" xlink:href=\"#DejaVuSans-110\"/>\n      </g>\n     </g>\n    </g>\n    <g id=\"ytick_12\">\n     <g id=\"line2d_20\">\n      <g>\n       <use style=\"stroke:#000000;stroke-width:0.8;\" x=\"126.314063\" xlink:href=\"#m3d732f0496\" y=\"46.028571\"/>\n      </g>\n     </g>\n     <g id=\"text_20\">\n      <!-- law_crime -->\n      <defs>\n       <path d=\"M 4.203125 54.6875 \nL 13.1875 54.6875 \nL 24.421875 12.015625 \nL 35.59375 54.6875 \nL 46.1875 54.6875 \nL 57.421875 12.015625 \nL 68.609375 54.6875 \nL 77.59375 54.6875 \nL 63.28125 0 \nL 52.6875 0 \nL 40.921875 44.828125 \nL 29.109375 0 \nL 18.5 0 \nz\n\" id=\"DejaVuSans-119\"/>\n      </defs>\n      <g transform=\"translate(68.948438 49.82779)scale(0.1 -0.1)\">\n       <use xlink:href=\"#DejaVuSans-108\"/>\n       <use x=\"27.783203\" xlink:href=\"#DejaVuSans-97\"/>\n       <use x=\"89.0625\" xlink:href=\"#DejaVuSans-119\"/>\n       <use x=\"170.849609\" xlink:href=\"#DejaVuSans-95\"/>\n       <use x=\"220.849609\" xlink:href=\"#DejaVuSans-99\"/>\n       <use x=\"275.830078\" xlink:href=\"#DejaVuSans-114\"/>\n       <use x=\"316.943359\" xlink:href=\"#DejaVuSans-105\"/>\n       <use x=\"344.726562\" xlink:href=\"#DejaVuSans-109\"/>\n       <use x=\"442.138672\" xlink:href=\"#DejaVuSans-101\"/>\n      </g>\n     </g>\n    </g>\n    <g id=\"ytick_13\">\n     <g id=\"line2d_21\">\n      <g>\n       <use style=\"stroke:#000000;stroke-width:0.8;\" x=\"126.314063\" xlink:href=\"#m3d732f0496\" y=\"30.497143\"/>\n      </g>\n     </g>\n     <g id=\"text_21\">\n      <!-- unknown -->\n      <defs>\n       <path d=\"M 9.078125 75.984375 \nL 18.109375 75.984375 \nL 18.109375 31.109375 \nL 44.921875 54.6875 \nL 56.390625 54.6875 \nL 27.390625 29.109375 \nL 57.625 0 \nL 45.90625 0 \nL 18.109375 26.703125 \nL 18.109375 0 \nL 9.078125 0 \nz\n\" id=\"DejaVuSans-107\"/>\n      </defs>\n      <g transform=\"translate(73.876563 34.296362)scale(0.1 -0.1)\">\n       <use xlink:href=\"#DejaVuSans-117\"/>\n       <use x=\"63.378906\" xlink:href=\"#DejaVuSans-110\"/>\n       <use x=\"126.757812\" xlink:href=\"#DejaVuSans-107\"/>\n       <use x=\"184.667969\" xlink:href=\"#DejaVuSans-110\"/>\n       <use x=\"248.046875\" xlink:href=\"#DejaVuSans-111\"/>\n       <use x=\"309.228516\" xlink:href=\"#DejaVuSans-119\"/>\n       <use x=\"391.015625\" xlink:href=\"#DejaVuSans-110\"/>\n      </g>\n     </g>\n    </g>\n    <g id=\"ytick_14\">\n     <g id=\"line2d_22\">\n      <g>\n       <use style=\"stroke:#000000;stroke-width:0.8;\" x=\"126.314063\" xlink:href=\"#m3d732f0496\" y=\"14.965714\"/>\n      </g>\n     </g>\n     <g id=\"text_22\">\n      <!-- weather -->\n      <g transform=\"translate(78.332813 18.764933)scale(0.1 -0.1)\">\n       <use xlink:href=\"#DejaVuSans-119\"/>\n       <use x=\"81.787109\" xlink:href=\"#DejaVuSans-101\"/>\n       <use x=\"143.310547\" xlink:href=\"#DejaVuSans-97\"/>\n       <use x=\"204.589844\" xlink:href=\"#DejaVuSans-116\"/>\n       <use x=\"243.798828\" xlink:href=\"#DejaVuSans-104\"/>\n       <use x=\"307.177734\" xlink:href=\"#DejaVuSans-101\"/>\n       <use x=\"368.701172\" xlink:href=\"#DejaVuSans-114\"/>\n      </g>\n     </g>\n    </g>\n    <g id=\"text_23\">\n     <!-- alchemy_category -->\n     <g transform=\"translate(14.798438 161.795781)rotate(-90)scale(0.1 -0.1)\">\n      <use xlink:href=\"#DejaVuSans-97\"/>\n      <use x=\"61.279297\" xlink:href=\"#DejaVuSans-108\"/>\n      <use x=\"89.0625\" xlink:href=\"#DejaVuSans-99\"/>\n      <use x=\"144.042969\" xlink:href=\"#DejaVuSans-104\"/>\n      <use x=\"207.421875\" xlink:href=\"#DejaVuSans-101\"/>\n      <use x=\"268.945312\" xlink:href=\"#DejaVuSans-109\"/>\n      <use x=\"366.357422\" xlink:href=\"#DejaVuSans-121\"/>\n      <use x=\"425.537109\" xlink:href=\"#DejaVuSans-95\"/>\n      <use x=\"475.537109\" xlink:href=\"#DejaVuSans-99\"/>\n      <use x=\"530.517578\" xlink:href=\"#DejaVuSans-97\"/>\n      <use x=\"591.796875\" xlink:href=\"#DejaVuSans-116\"/>\n      <use x=\"631.005859\" xlink:href=\"#DejaVuSans-101\"/>\n      <use x=\"692.529297\" xlink:href=\"#DejaVuSans-103\"/>\n      <use x=\"756.005859\" xlink:href=\"#DejaVuSans-111\"/>\n      <use x=\"817.1875\" xlink:href=\"#DejaVuSans-114\"/>\n      <use x=\"858.300781\" xlink:href=\"#DejaVuSans-121\"/>\n     </g>\n    </g>\n   </g>\n   <g id=\"patch_17\">\n    <path d=\"M 126.314063 224.64 \nL 126.314063 7.2 \n\" style=\"fill:none;stroke:#000000;stroke-linecap:square;stroke-linejoin:miter;stroke-width:0.8;\"/>\n   </g>\n   <g id=\"patch_18\">\n    <path d=\"M 461.114063 224.64 \nL 461.114063 7.2 \n\" style=\"fill:none;stroke:#000000;stroke-linecap:square;stroke-linejoin:miter;stroke-width:0.8;\"/>\n   </g>\n   <g id=\"patch_19\">\n    <path d=\"M 126.314063 224.64 \nL 461.114063 224.64 \n\" style=\"fill:none;stroke:#000000;stroke-linecap:square;stroke-linejoin:miter;stroke-width:0.8;\"/>\n   </g>\n   <g id=\"patch_20\">\n    <path d=\"M 126.314063 7.2 \nL 461.114063 7.2 \n\" style=\"fill:none;stroke:#000000;stroke-linecap:square;stroke-linejoin:miter;stroke-width:0.8;\"/>\n   </g>\n  </g>\n </g>\n <defs>\n  <clipPath id=\"pb9bcf30331\">\n   <rect height=\"217.44\" width=\"334.8\" x=\"126.314063\" y=\"7.2\"/>\n  </clipPath>\n </defs>\n</svg>\n"
          },
          "metadata": {
            "tags": [],
            "needs_background": "light"
          }
        }
      ]
    },
    {
      "cell_type": "code",
      "metadata": {
        "id": "pzcQIlixSBsC",
        "colab": {
          "base_uri": "https://localhost:8080/",
          "height": 428
        },
        "outputId": "5a4090b4-4d51-4a71-dfd1-3138f7fa21bc"
      },
      "source": [
        "import seaborn as sns\n",
        "sns.heatmap(df.corr('spearman').abs()[['label']].sort_values('label'))"
      ],
      "execution_count": null,
      "outputs": [
        {
          "output_type": "stream",
          "text": [
            "/usr/local/lib/python3.6/dist-packages/statsmodels/tools/_testing.py:19: FutureWarning: pandas.util.testing is deprecated. Use the functions in the public API at pandas.testing instead.\n",
            "  import pandas.util.testing as tm\n"
          ],
          "name": "stderr"
        },
        {
          "output_type": "execute_result",
          "data": {
            "text/plain": [
              "<matplotlib.axes._subplots.AxesSubplot at 0x7f523d341908>"
            ]
          },
          "metadata": {
            "tags": []
          },
          "execution_count": 15
        },
        {
          "output_type": "display_data",
          "data": {
            "text/plain": [
              "<Figure size 432x288 with 2 Axes>"
            ],
            "image/svg+xml": "<?xml version=\"1.0\" encoding=\"utf-8\" standalone=\"no\"?>\n<!DOCTYPE svg PUBLIC \"-//W3C//DTD SVG 1.1//EN\"\n  \"http://www.w3.org/Graphics/SVG/1.1/DTD/svg11.dtd\">\n<!-- Created with matplotlib (https://matplotlib.org/) -->\n<svg height=\"252.317344pt\" version=\"1.1\" viewBox=\"0 0 514.923875 252.317344\" width=\"514.923875pt\" xmlns=\"http://www.w3.org/2000/svg\" xmlns:xlink=\"http://www.w3.org/1999/xlink\">\n <defs>\n  <style type=\"text/css\">\n*{stroke-linecap:butt;stroke-linejoin:round;}\n  </style>\n </defs>\n <g id=\"figure_1\">\n  <g id=\"patch_1\">\n   <path d=\"M 0 252.317344 \nL 514.923875 252.317344 \nL 514.923875 0 \nL 0 0 \nz\n\" style=\"fill:none;\"/>\n  </g>\n  <g id=\"axes_1\">\n   <g id=\"patch_2\">\n    <path d=\"M 189.36875 228.439219 \nL 457.20875 228.439219 \nL 457.20875 10.999219 \nL 189.36875 10.999219 \nz\n\" style=\"fill:#ffffff;\"/>\n   </g>\n   <g id=\"QuadMesh_1\">\n    <path clip-path=\"url(#p12b1777df7)\" d=\"M 189.36875 10.999219 \nL 457.20875 10.999219 \nL 457.20875 21.871219 \nL 189.36875 21.871219 \nL 189.36875 10.999219 \n\" style=\"fill:#03051a;\"/>\n    <path clip-path=\"url(#p12b1777df7)\" d=\"M 189.36875 21.871219 \nL 457.20875 21.871219 \nL 457.20875 32.743219 \nL 189.36875 32.743219 \nL 189.36875 21.871219 \n\" style=\"fill:#03051a;\"/>\n    <path clip-path=\"url(#p12b1777df7)\" d=\"M 189.36875 32.743219 \nL 457.20875 32.743219 \nL 457.20875 43.615219 \nL 189.36875 43.615219 \nL 189.36875 32.743219 \n\" style=\"fill:#04051a;\"/>\n    <path clip-path=\"url(#p12b1777df7)\" d=\"M 189.36875 43.615219 \nL 457.20875 43.615219 \nL 457.20875 54.487219 \nL 189.36875 54.487219 \nL 189.36875 43.615219 \n\" style=\"fill:#05061b;\"/>\n    <path clip-path=\"url(#p12b1777df7)\" d=\"M 189.36875 54.487219 \nL 457.20875 54.487219 \nL 457.20875 65.359219 \nL 189.36875 65.359219 \nL 189.36875 54.487219 \n\" style=\"fill:#08081e;\"/>\n    <path clip-path=\"url(#p12b1777df7)\" d=\"M 189.36875 65.359219 \nL 457.20875 65.359219 \nL 457.20875 76.231219 \nL 189.36875 76.231219 \nL 189.36875 65.359219 \n\" style=\"fill:#0b0920;\"/>\n    <path clip-path=\"url(#p12b1777df7)\" d=\"M 189.36875 76.231219 \nL 457.20875 76.231219 \nL 457.20875 87.103219 \nL 189.36875 87.103219 \nL 189.36875 76.231219 \n\" style=\"fill:#100b23;\"/>\n    <path clip-path=\"url(#p12b1777df7)\" d=\"M 189.36875 87.103219 \nL 457.20875 87.103219 \nL 457.20875 97.975219 \nL 189.36875 97.975219 \nL 189.36875 87.103219 \n\" style=\"fill:#160e27;\"/>\n    <path clip-path=\"url(#p12b1777df7)\" d=\"M 189.36875 97.975219 \nL 457.20875 97.975219 \nL 457.20875 108.847219 \nL 189.36875 108.847219 \nL 189.36875 97.975219 \n\" style=\"fill:#160e27;\"/>\n    <path clip-path=\"url(#p12b1777df7)\" d=\"M 189.36875 108.847219 \nL 457.20875 108.847219 \nL 457.20875 119.719219 \nL 189.36875 119.719219 \nL 189.36875 108.847219 \n\" style=\"fill:#160e27;\"/>\n    <path clip-path=\"url(#p12b1777df7)\" d=\"M 189.36875 119.719219 \nL 457.20875 119.719219 \nL 457.20875 130.591219 \nL 189.36875 130.591219 \nL 189.36875 119.719219 \n\" style=\"fill:#1b112b;\"/>\n    <path clip-path=\"url(#p12b1777df7)\" d=\"M 189.36875 130.591219 \nL 457.20875 130.591219 \nL 457.20875 141.463219 \nL 189.36875 141.463219 \nL 189.36875 130.591219 \n\" style=\"fill:#20122e;\"/>\n    <path clip-path=\"url(#p12b1777df7)\" d=\"M 189.36875 141.463219 \nL 457.20875 141.463219 \nL 457.20875 152.335219 \nL 189.36875 152.335219 \nL 189.36875 141.463219 \n\" style=\"fill:#211330;\"/>\n    <path clip-path=\"url(#p12b1777df7)\" d=\"M 189.36875 152.335219 \nL 457.20875 152.335219 \nL 457.20875 163.207219 \nL 189.36875 163.207219 \nL 189.36875 152.335219 \n\" style=\"fill:#251433;\"/>\n    <path clip-path=\"url(#p12b1777df7)\" d=\"M 189.36875 163.207219 \nL 457.20875 163.207219 \nL 457.20875 174.079219 \nL 189.36875 174.079219 \nL 189.36875 163.207219 \n\" style=\"fill:#2a1636;\"/>\n    <path clip-path=\"url(#p12b1777df7)\" d=\"M 189.36875 174.079219 \nL 457.20875 174.079219 \nL 457.20875 184.951219 \nL 189.36875 184.951219 \nL 189.36875 174.079219 \n\" style=\"fill:#2b1637;\"/>\n    <path clip-path=\"url(#p12b1777df7)\" d=\"M 189.36875 184.951219 \nL 457.20875 184.951219 \nL 457.20875 195.823219 \nL 189.36875 195.823219 \nL 189.36875 184.951219 \n\" style=\"fill:#421b45;\"/>\n    <path clip-path=\"url(#p12b1777df7)\" d=\"M 189.36875 195.823219 \nL 457.20875 195.823219 \nL 457.20875 206.695219 \nL 189.36875 206.695219 \nL 189.36875 195.823219 \n\" style=\"fill:#491d49;\"/>\n    <path clip-path=\"url(#p12b1777df7)\" d=\"M 189.36875 206.695219 \nL 457.20875 206.695219 \nL 457.20875 217.567219 \nL 189.36875 217.567219 \nL 189.36875 206.695219 \n\" style=\"fill:#4e1d4b;\"/>\n    <path clip-path=\"url(#p12b1777df7)\" d=\"M 189.36875 217.567219 \nL 457.20875 217.567219 \nL 457.20875 228.439219 \nL 189.36875 228.439219 \nL 189.36875 217.567219 \n\" style=\"fill:#faebdd;\"/>\n   </g>\n   <g id=\"matplotlib.axis_1\">\n    <g id=\"xtick_1\">\n     <g id=\"line2d_1\">\n      <defs>\n       <path d=\"M 0 0 \nL 0 3.5 \n\" id=\"me495238a82\" style=\"stroke:#000000;stroke-width:0.8;\"/>\n      </defs>\n      <g>\n       <use style=\"stroke:#000000;stroke-width:0.8;\" x=\"323.28875\" xlink:href=\"#me495238a82\" y=\"228.439219\"/>\n      </g>\n     </g>\n     <g id=\"text_1\">\n      <!-- label -->\n      <defs>\n       <path d=\"M 9.421875 75.984375 \nL 18.40625 75.984375 \nL 18.40625 0 \nL 9.421875 0 \nz\n\" id=\"DejaVuSans-108\"/>\n       <path d=\"M 34.28125 27.484375 \nQ 23.390625 27.484375 19.1875 25 \nQ 14.984375 22.515625 14.984375 16.5 \nQ 14.984375 11.71875 18.140625 8.90625 \nQ 21.296875 6.109375 26.703125 6.109375 \nQ 34.1875 6.109375 38.703125 11.40625 \nQ 43.21875 16.703125 43.21875 25.484375 \nL 43.21875 27.484375 \nz\nM 52.203125 31.203125 \nL 52.203125 0 \nL 43.21875 0 \nL 43.21875 8.296875 \nQ 40.140625 3.328125 35.546875 0.953125 \nQ 30.953125 -1.421875 24.3125 -1.421875 \nQ 15.921875 -1.421875 10.953125 3.296875 \nQ 6 8.015625 6 15.921875 \nQ 6 25.140625 12.171875 29.828125 \nQ 18.359375 34.515625 30.609375 34.515625 \nL 43.21875 34.515625 \nL 43.21875 35.40625 \nQ 43.21875 41.609375 39.140625 45 \nQ 35.0625 48.390625 27.6875 48.390625 \nQ 23 48.390625 18.546875 47.265625 \nQ 14.109375 46.140625 10.015625 43.890625 \nL 10.015625 52.203125 \nQ 14.9375 54.109375 19.578125 55.046875 \nQ 24.21875 56 28.609375 56 \nQ 40.484375 56 46.34375 49.84375 \nQ 52.203125 43.703125 52.203125 31.203125 \nz\n\" id=\"DejaVuSans-97\"/>\n       <path d=\"M 48.6875 27.296875 \nQ 48.6875 37.203125 44.609375 42.84375 \nQ 40.53125 48.484375 33.40625 48.484375 \nQ 26.265625 48.484375 22.1875 42.84375 \nQ 18.109375 37.203125 18.109375 27.296875 \nQ 18.109375 17.390625 22.1875 11.75 \nQ 26.265625 6.109375 33.40625 6.109375 \nQ 40.53125 6.109375 44.609375 11.75 \nQ 48.6875 17.390625 48.6875 27.296875 \nz\nM 18.109375 46.390625 \nQ 20.953125 51.265625 25.265625 53.625 \nQ 29.59375 56 35.59375 56 \nQ 45.5625 56 51.78125 48.09375 \nQ 58.015625 40.1875 58.015625 27.296875 \nQ 58.015625 14.40625 51.78125 6.484375 \nQ 45.5625 -1.421875 35.59375 -1.421875 \nQ 29.59375 -1.421875 25.265625 0.953125 \nQ 20.953125 3.328125 18.109375 8.203125 \nL 18.109375 0 \nL 9.078125 0 \nL 9.078125 75.984375 \nL 18.109375 75.984375 \nz\n\" id=\"DejaVuSans-98\"/>\n       <path d=\"M 56.203125 29.59375 \nL 56.203125 25.203125 \nL 14.890625 25.203125 \nQ 15.484375 15.921875 20.484375 11.0625 \nQ 25.484375 6.203125 34.421875 6.203125 \nQ 39.59375 6.203125 44.453125 7.46875 \nQ 49.3125 8.734375 54.109375 11.28125 \nL 54.109375 2.78125 \nQ 49.265625 0.734375 44.1875 -0.34375 \nQ 39.109375 -1.421875 33.890625 -1.421875 \nQ 20.796875 -1.421875 13.15625 6.1875 \nQ 5.515625 13.8125 5.515625 26.8125 \nQ 5.515625 40.234375 12.765625 48.109375 \nQ 20.015625 56 32.328125 56 \nQ 43.359375 56 49.78125 48.890625 \nQ 56.203125 41.796875 56.203125 29.59375 \nz\nM 47.21875 32.234375 \nQ 47.125 39.59375 43.09375 43.984375 \nQ 39.0625 48.390625 32.421875 48.390625 \nQ 24.90625 48.390625 20.390625 44.140625 \nQ 15.875 39.890625 15.1875 32.171875 \nz\n\" id=\"DejaVuSans-101\"/>\n      </defs>\n      <g transform=\"translate(311.195781 243.037656)scale(0.1 -0.1)\">\n       <use xlink:href=\"#DejaVuSans-108\"/>\n       <use x=\"27.783203\" xlink:href=\"#DejaVuSans-97\"/>\n       <use x=\"89.0625\" xlink:href=\"#DejaVuSans-98\"/>\n       <use x=\"152.539062\" xlink:href=\"#DejaVuSans-101\"/>\n       <use x=\"214.0625\" xlink:href=\"#DejaVuSans-108\"/>\n      </g>\n     </g>\n    </g>\n   </g>\n   <g id=\"matplotlib.axis_2\">\n    <g id=\"ytick_1\">\n     <g id=\"line2d_2\">\n      <defs>\n       <path d=\"M 0 0 \nL -3.5 0 \n\" id=\"mf5269c1826\" style=\"stroke:#000000;stroke-width:0.8;\"/>\n      </defs>\n      <g>\n       <use style=\"stroke:#000000;stroke-width:0.8;\" x=\"189.36875\" xlink:href=\"#mf5269c1826\" y=\"16.435219\"/>\n      </g>\n     </g>\n     <g id=\"text_2\">\n      <!-- hasDomainLink -->\n      <defs>\n       <path d=\"M 54.890625 33.015625 \nL 54.890625 0 \nL 45.90625 0 \nL 45.90625 32.71875 \nQ 45.90625 40.484375 42.875 44.328125 \nQ 39.84375 48.1875 33.796875 48.1875 \nQ 26.515625 48.1875 22.3125 43.546875 \nQ 18.109375 38.921875 18.109375 30.90625 \nL 18.109375 0 \nL 9.078125 0 \nL 9.078125 75.984375 \nL 18.109375 75.984375 \nL 18.109375 46.1875 \nQ 21.34375 51.125 25.703125 53.5625 \nQ 30.078125 56 35.796875 56 \nQ 45.21875 56 50.046875 50.171875 \nQ 54.890625 44.34375 54.890625 33.015625 \nz\n\" id=\"DejaVuSans-104\"/>\n       <path d=\"M 44.28125 53.078125 \nL 44.28125 44.578125 \nQ 40.484375 46.53125 36.375 47.5 \nQ 32.28125 48.484375 27.875 48.484375 \nQ 21.1875 48.484375 17.84375 46.4375 \nQ 14.5 44.390625 14.5 40.28125 \nQ 14.5 37.15625 16.890625 35.375 \nQ 19.28125 33.59375 26.515625 31.984375 \nL 29.59375 31.296875 \nQ 39.15625 29.25 43.1875 25.515625 \nQ 47.21875 21.78125 47.21875 15.09375 \nQ 47.21875 7.46875 41.1875 3.015625 \nQ 35.15625 -1.421875 24.609375 -1.421875 \nQ 20.21875 -1.421875 15.453125 -0.5625 \nQ 10.6875 0.296875 5.421875 2 \nL 5.421875 11.28125 \nQ 10.40625 8.6875 15.234375 7.390625 \nQ 20.0625 6.109375 24.8125 6.109375 \nQ 31.15625 6.109375 34.5625 8.28125 \nQ 37.984375 10.453125 37.984375 14.40625 \nQ 37.984375 18.0625 35.515625 20.015625 \nQ 33.0625 21.96875 24.703125 23.78125 \nL 21.578125 24.515625 \nQ 13.234375 26.265625 9.515625 29.90625 \nQ 5.8125 33.546875 5.8125 39.890625 \nQ 5.8125 47.609375 11.28125 51.796875 \nQ 16.75 56 26.8125 56 \nQ 31.78125 56 36.171875 55.265625 \nQ 40.578125 54.546875 44.28125 53.078125 \nz\n\" id=\"DejaVuSans-115\"/>\n       <path d=\"M 19.671875 64.796875 \nL 19.671875 8.109375 \nL 31.59375 8.109375 \nQ 46.6875 8.109375 53.6875 14.9375 \nQ 60.6875 21.78125 60.6875 36.53125 \nQ 60.6875 51.171875 53.6875 57.984375 \nQ 46.6875 64.796875 31.59375 64.796875 \nz\nM 9.8125 72.90625 \nL 30.078125 72.90625 \nQ 51.265625 72.90625 61.171875 64.09375 \nQ 71.09375 55.28125 71.09375 36.53125 \nQ 71.09375 17.671875 61.125 8.828125 \nQ 51.171875 0 30.078125 0 \nL 9.8125 0 \nz\n\" id=\"DejaVuSans-68\"/>\n       <path d=\"M 30.609375 48.390625 \nQ 23.390625 48.390625 19.1875 42.75 \nQ 14.984375 37.109375 14.984375 27.296875 \nQ 14.984375 17.484375 19.15625 11.84375 \nQ 23.34375 6.203125 30.609375 6.203125 \nQ 37.796875 6.203125 41.984375 11.859375 \nQ 46.1875 17.53125 46.1875 27.296875 \nQ 46.1875 37.015625 41.984375 42.703125 \nQ 37.796875 48.390625 30.609375 48.390625 \nz\nM 30.609375 56 \nQ 42.328125 56 49.015625 48.375 \nQ 55.71875 40.765625 55.71875 27.296875 \nQ 55.71875 13.875 49.015625 6.21875 \nQ 42.328125 -1.421875 30.609375 -1.421875 \nQ 18.84375 -1.421875 12.171875 6.21875 \nQ 5.515625 13.875 5.515625 27.296875 \nQ 5.515625 40.765625 12.171875 48.375 \nQ 18.84375 56 30.609375 56 \nz\n\" id=\"DejaVuSans-111\"/>\n       <path d=\"M 52 44.1875 \nQ 55.375 50.25 60.0625 53.125 \nQ 64.75 56 71.09375 56 \nQ 79.640625 56 84.28125 50.015625 \nQ 88.921875 44.046875 88.921875 33.015625 \nL 88.921875 0 \nL 79.890625 0 \nL 79.890625 32.71875 \nQ 79.890625 40.578125 77.09375 44.375 \nQ 74.3125 48.1875 68.609375 48.1875 \nQ 61.625 48.1875 57.5625 43.546875 \nQ 53.515625 38.921875 53.515625 30.90625 \nL 53.515625 0 \nL 44.484375 0 \nL 44.484375 32.71875 \nQ 44.484375 40.625 41.703125 44.40625 \nQ 38.921875 48.1875 33.109375 48.1875 \nQ 26.21875 48.1875 22.15625 43.53125 \nQ 18.109375 38.875 18.109375 30.90625 \nL 18.109375 0 \nL 9.078125 0 \nL 9.078125 54.6875 \nL 18.109375 54.6875 \nL 18.109375 46.1875 \nQ 21.1875 51.21875 25.484375 53.609375 \nQ 29.78125 56 35.6875 56 \nQ 41.65625 56 45.828125 52.96875 \nQ 50 49.953125 52 44.1875 \nz\n\" id=\"DejaVuSans-109\"/>\n       <path d=\"M 9.421875 54.6875 \nL 18.40625 54.6875 \nL 18.40625 0 \nL 9.421875 0 \nz\nM 9.421875 75.984375 \nL 18.40625 75.984375 \nL 18.40625 64.59375 \nL 9.421875 64.59375 \nz\n\" id=\"DejaVuSans-105\"/>\n       <path d=\"M 54.890625 33.015625 \nL 54.890625 0 \nL 45.90625 0 \nL 45.90625 32.71875 \nQ 45.90625 40.484375 42.875 44.328125 \nQ 39.84375 48.1875 33.796875 48.1875 \nQ 26.515625 48.1875 22.3125 43.546875 \nQ 18.109375 38.921875 18.109375 30.90625 \nL 18.109375 0 \nL 9.078125 0 \nL 9.078125 54.6875 \nL 18.109375 54.6875 \nL 18.109375 46.1875 \nQ 21.34375 51.125 25.703125 53.5625 \nQ 30.078125 56 35.796875 56 \nQ 45.21875 56 50.046875 50.171875 \nQ 54.890625 44.34375 54.890625 33.015625 \nz\n\" id=\"DejaVuSans-110\"/>\n       <path d=\"M 9.8125 72.90625 \nL 19.671875 72.90625 \nL 19.671875 8.296875 \nL 55.171875 8.296875 \nL 55.171875 0 \nL 9.8125 0 \nz\n\" id=\"DejaVuSans-76\"/>\n       <path d=\"M 9.078125 75.984375 \nL 18.109375 75.984375 \nL 18.109375 31.109375 \nL 44.921875 54.6875 \nL 56.390625 54.6875 \nL 27.390625 29.109375 \nL 57.625 0 \nL 45.90625 0 \nL 18.109375 26.703125 \nL 18.109375 0 \nL 9.078125 0 \nz\n\" id=\"DejaVuSans-107\"/>\n      </defs>\n      <g transform=\"translate(105.4125 20.234437)scale(0.1 -0.1)\">\n       <use xlink:href=\"#DejaVuSans-104\"/>\n       <use x=\"63.378906\" xlink:href=\"#DejaVuSans-97\"/>\n       <use x=\"124.658203\" xlink:href=\"#DejaVuSans-115\"/>\n       <use x=\"176.757812\" xlink:href=\"#DejaVuSans-68\"/>\n       <use x=\"253.759766\" xlink:href=\"#DejaVuSans-111\"/>\n       <use x=\"314.941406\" xlink:href=\"#DejaVuSans-109\"/>\n       <use x=\"412.353516\" xlink:href=\"#DejaVuSans-97\"/>\n       <use x=\"473.632812\" xlink:href=\"#DejaVuSans-105\"/>\n       <use x=\"501.416016\" xlink:href=\"#DejaVuSans-110\"/>\n       <use x=\"564.794922\" xlink:href=\"#DejaVuSans-76\"/>\n       <use x=\"620.507812\" xlink:href=\"#DejaVuSans-105\"/>\n       <use x=\"648.291016\" xlink:href=\"#DejaVuSans-110\"/>\n       <use x=\"711.669922\" xlink:href=\"#DejaVuSans-107\"/>\n      </g>\n     </g>\n    </g>\n    <g id=\"ytick_2\">\n     <g id=\"line2d_3\">\n      <g>\n       <use style=\"stroke:#000000;stroke-width:0.8;\" x=\"189.36875\" xlink:href=\"#mf5269c1826\" y=\"27.307219\"/>\n      </g>\n     </g>\n     <g id=\"text_3\">\n      <!-- embed_ratio -->\n      <defs>\n       <path d=\"M 45.40625 46.390625 \nL 45.40625 75.984375 \nL 54.390625 75.984375 \nL 54.390625 0 \nL 45.40625 0 \nL 45.40625 8.203125 \nQ 42.578125 3.328125 38.25 0.953125 \nQ 33.9375 -1.421875 27.875 -1.421875 \nQ 17.96875 -1.421875 11.734375 6.484375 \nQ 5.515625 14.40625 5.515625 27.296875 \nQ 5.515625 40.1875 11.734375 48.09375 \nQ 17.96875 56 27.875 56 \nQ 33.9375 56 38.25 53.625 \nQ 42.578125 51.265625 45.40625 46.390625 \nz\nM 14.796875 27.296875 \nQ 14.796875 17.390625 18.875 11.75 \nQ 22.953125 6.109375 30.078125 6.109375 \nQ 37.203125 6.109375 41.296875 11.75 \nQ 45.40625 17.390625 45.40625 27.296875 \nQ 45.40625 37.203125 41.296875 42.84375 \nQ 37.203125 48.484375 30.078125 48.484375 \nQ 22.953125 48.484375 18.875 42.84375 \nQ 14.796875 37.203125 14.796875 27.296875 \nz\n\" id=\"DejaVuSans-100\"/>\n       <path d=\"M 50.984375 -16.609375 \nL 50.984375 -23.578125 \nL -0.984375 -23.578125 \nL -0.984375 -16.609375 \nz\n\" id=\"DejaVuSans-95\"/>\n       <path d=\"M 41.109375 46.296875 \nQ 39.59375 47.171875 37.8125 47.578125 \nQ 36.03125 48 33.890625 48 \nQ 26.265625 48 22.1875 43.046875 \nQ 18.109375 38.09375 18.109375 28.8125 \nL 18.109375 0 \nL 9.078125 0 \nL 9.078125 54.6875 \nL 18.109375 54.6875 \nL 18.109375 46.1875 \nQ 20.953125 51.171875 25.484375 53.578125 \nQ 30.03125 56 36.53125 56 \nQ 37.453125 56 38.578125 55.875 \nQ 39.703125 55.765625 41.0625 55.515625 \nz\n\" id=\"DejaVuSans-114\"/>\n       <path d=\"M 18.3125 70.21875 \nL 18.3125 54.6875 \nL 36.8125 54.6875 \nL 36.8125 47.703125 \nL 18.3125 47.703125 \nL 18.3125 18.015625 \nQ 18.3125 11.328125 20.140625 9.421875 \nQ 21.96875 7.515625 27.59375 7.515625 \nL 36.8125 7.515625 \nL 36.8125 0 \nL 27.59375 0 \nQ 17.1875 0 13.234375 3.875 \nQ 9.28125 7.765625 9.28125 18.015625 \nL 9.28125 47.703125 \nL 2.6875 47.703125 \nL 2.6875 54.6875 \nL 9.28125 54.6875 \nL 9.28125 70.21875 \nz\n\" id=\"DejaVuSans-116\"/>\n      </defs>\n      <g transform=\"translate(119.56875 31.106437)scale(0.1 -0.1)\">\n       <use xlink:href=\"#DejaVuSans-101\"/>\n       <use x=\"61.523438\" xlink:href=\"#DejaVuSans-109\"/>\n       <use x=\"158.935547\" xlink:href=\"#DejaVuSans-98\"/>\n       <use x=\"222.412109\" xlink:href=\"#DejaVuSans-101\"/>\n       <use x=\"283.935547\" xlink:href=\"#DejaVuSans-100\"/>\n       <use x=\"347.412109\" xlink:href=\"#DejaVuSans-95\"/>\n       <use x=\"397.412109\" xlink:href=\"#DejaVuSans-114\"/>\n       <use x=\"438.525391\" xlink:href=\"#DejaVuSans-97\"/>\n       <use x=\"499.804688\" xlink:href=\"#DejaVuSans-116\"/>\n       <use x=\"539.013672\" xlink:href=\"#DejaVuSans-105\"/>\n       <use x=\"566.796875\" xlink:href=\"#DejaVuSans-111\"/>\n      </g>\n     </g>\n    </g>\n    <g id=\"ytick_3\">\n     <g id=\"line2d_4\">\n      <g>\n       <use style=\"stroke:#000000;stroke-width:0.8;\" x=\"189.36875\" xlink:href=\"#mf5269c1826\" y=\"38.179219\"/>\n      </g>\n     </g>\n     <g id=\"text_4\">\n      <!-- is_news -->\n      <defs>\n       <path d=\"M 4.203125 54.6875 \nL 13.1875 54.6875 \nL 24.421875 12.015625 \nL 35.59375 54.6875 \nL 46.1875 54.6875 \nL 57.421875 12.015625 \nL 68.609375 54.6875 \nL 77.59375 54.6875 \nL 63.28125 0 \nL 52.6875 0 \nL 40.921875 44.828125 \nL 29.109375 0 \nL 18.5 0 \nz\n\" id=\"DejaVuSans-119\"/>\n      </defs>\n      <g transform=\"translate(143.503125 41.978437)scale(0.1 -0.1)\">\n       <use xlink:href=\"#DejaVuSans-105\"/>\n       <use x=\"27.783203\" xlink:href=\"#DejaVuSans-115\"/>\n       <use x=\"79.882812\" xlink:href=\"#DejaVuSans-95\"/>\n       <use x=\"129.882812\" xlink:href=\"#DejaVuSans-110\"/>\n       <use x=\"193.261719\" xlink:href=\"#DejaVuSans-101\"/>\n       <use x=\"254.785156\" xlink:href=\"#DejaVuSans-119\"/>\n       <use x=\"336.572266\" xlink:href=\"#DejaVuSans-115\"/>\n      </g>\n     </g>\n    </g>\n    <g id=\"ytick_4\">\n     <g id=\"line2d_5\">\n      <g>\n       <use style=\"stroke:#000000;stroke-width:0.8;\" x=\"189.36875\" xlink:href=\"#mf5269c1826\" y=\"49.051219\"/>\n      </g>\n     </g>\n     <g id=\"text_5\">\n      <!-- numwords_in_url -->\n      <defs>\n       <path d=\"M 8.5 21.578125 \nL 8.5 54.6875 \nL 17.484375 54.6875 \nL 17.484375 21.921875 \nQ 17.484375 14.15625 20.5 10.265625 \nQ 23.53125 6.390625 29.59375 6.390625 \nQ 36.859375 6.390625 41.078125 11.03125 \nQ 45.3125 15.671875 45.3125 23.6875 \nL 45.3125 54.6875 \nL 54.296875 54.6875 \nL 54.296875 0 \nL 45.3125 0 \nL 45.3125 8.40625 \nQ 42.046875 3.421875 37.71875 1 \nQ 33.40625 -1.421875 27.6875 -1.421875 \nQ 18.265625 -1.421875 13.375 4.4375 \nQ 8.5 10.296875 8.5 21.578125 \nz\nM 31.109375 56 \nz\n\" id=\"DejaVuSans-117\"/>\n      </defs>\n      <g transform=\"translate(97.820313 52.850437)scale(0.1 -0.1)\">\n       <use xlink:href=\"#DejaVuSans-110\"/>\n       <use x=\"63.378906\" xlink:href=\"#DejaVuSans-117\"/>\n       <use x=\"126.757812\" xlink:href=\"#DejaVuSans-109\"/>\n       <use x=\"224.169922\" xlink:href=\"#DejaVuSans-119\"/>\n       <use x=\"305.957031\" xlink:href=\"#DejaVuSans-111\"/>\n       <use x=\"367.138672\" xlink:href=\"#DejaVuSans-114\"/>\n       <use x=\"406.501953\" xlink:href=\"#DejaVuSans-100\"/>\n       <use x=\"469.978516\" xlink:href=\"#DejaVuSans-115\"/>\n       <use x=\"522.078125\" xlink:href=\"#DejaVuSans-95\"/>\n       <use x=\"572.078125\" xlink:href=\"#DejaVuSans-105\"/>\n       <use x=\"599.861328\" xlink:href=\"#DejaVuSans-110\"/>\n       <use x=\"663.240234\" xlink:href=\"#DejaVuSans-95\"/>\n       <use x=\"713.240234\" xlink:href=\"#DejaVuSans-117\"/>\n       <use x=\"776.619141\" xlink:href=\"#DejaVuSans-114\"/>\n       <use x=\"817.732422\" xlink:href=\"#DejaVuSans-108\"/>\n      </g>\n     </g>\n    </g>\n    <g id=\"ytick_5\">\n     <g id=\"line2d_6\">\n      <g>\n       <use style=\"stroke:#000000;stroke-width:0.8;\" x=\"189.36875\" xlink:href=\"#mf5269c1826\" y=\"59.923219\"/>\n      </g>\n     </g>\n     <g id=\"text_6\">\n      <!-- image_ratio -->\n      <defs>\n       <path d=\"M 45.40625 27.984375 \nQ 45.40625 37.75 41.375 43.109375 \nQ 37.359375 48.484375 30.078125 48.484375 \nQ 22.859375 48.484375 18.828125 43.109375 \nQ 14.796875 37.75 14.796875 27.984375 \nQ 14.796875 18.265625 18.828125 12.890625 \nQ 22.859375 7.515625 30.078125 7.515625 \nQ 37.359375 7.515625 41.375 12.890625 \nQ 45.40625 18.265625 45.40625 27.984375 \nz\nM 54.390625 6.78125 \nQ 54.390625 -7.171875 48.1875 -13.984375 \nQ 42 -20.796875 29.203125 -20.796875 \nQ 24.46875 -20.796875 20.265625 -20.09375 \nQ 16.0625 -19.390625 12.109375 -17.921875 \nL 12.109375 -9.1875 \nQ 16.0625 -11.328125 19.921875 -12.34375 \nQ 23.78125 -13.375 27.78125 -13.375 \nQ 36.625 -13.375 41.015625 -8.765625 \nQ 45.40625 -4.15625 45.40625 5.171875 \nL 45.40625 9.625 \nQ 42.625 4.78125 38.28125 2.390625 \nQ 33.9375 0 27.875 0 \nQ 17.828125 0 11.671875 7.65625 \nQ 5.515625 15.328125 5.515625 27.984375 \nQ 5.515625 40.671875 11.671875 48.328125 \nQ 17.828125 56 27.875 56 \nQ 33.9375 56 38.28125 53.609375 \nQ 42.625 51.21875 45.40625 46.390625 \nL 45.40625 54.6875 \nL 54.390625 54.6875 \nz\n\" id=\"DejaVuSans-103\"/>\n      </defs>\n      <g transform=\"translate(123.164063 63.722437)scale(0.1 -0.1)\">\n       <use xlink:href=\"#DejaVuSans-105\"/>\n       <use x=\"27.783203\" xlink:href=\"#DejaVuSans-109\"/>\n       <use x=\"125.195312\" xlink:href=\"#DejaVuSans-97\"/>\n       <use x=\"186.474609\" xlink:href=\"#DejaVuSans-103\"/>\n       <use x=\"249.951172\" xlink:href=\"#DejaVuSans-101\"/>\n       <use x=\"311.474609\" xlink:href=\"#DejaVuSans-95\"/>\n       <use x=\"361.474609\" xlink:href=\"#DejaVuSans-114\"/>\n       <use x=\"402.587891\" xlink:href=\"#DejaVuSans-97\"/>\n       <use x=\"463.867188\" xlink:href=\"#DejaVuSans-116\"/>\n       <use x=\"503.076172\" xlink:href=\"#DejaVuSans-105\"/>\n       <use x=\"530.859375\" xlink:href=\"#DejaVuSans-111\"/>\n      </g>\n     </g>\n    </g>\n    <g id=\"ytick_6\">\n     <g id=\"line2d_7\">\n      <g>\n       <use style=\"stroke:#000000;stroke-width:0.8;\" x=\"189.36875\" xlink:href=\"#mf5269c1826\" y=\"70.795219\"/>\n      </g>\n     </g>\n     <g id=\"text_7\">\n      <!-- lengthyLinkDomain -->\n      <defs>\n       <path d=\"M 32.171875 -5.078125 \nQ 28.375 -14.84375 24.75 -17.8125 \nQ 21.140625 -20.796875 15.09375 -20.796875 \nL 7.90625 -20.796875 \nL 7.90625 -13.28125 \nL 13.1875 -13.28125 \nQ 16.890625 -13.28125 18.9375 -11.515625 \nQ 21 -9.765625 23.484375 -3.21875 \nL 25.09375 0.875 \nL 2.984375 54.6875 \nL 12.5 54.6875 \nL 29.59375 11.921875 \nL 46.6875 54.6875 \nL 56.203125 54.6875 \nz\n\" id=\"DejaVuSans-121\"/>\n      </defs>\n      <g transform=\"translate(85.29375 74.594437)scale(0.1 -0.1)\">\n       <use xlink:href=\"#DejaVuSans-108\"/>\n       <use x=\"27.783203\" xlink:href=\"#DejaVuSans-101\"/>\n       <use x=\"89.306641\" xlink:href=\"#DejaVuSans-110\"/>\n       <use x=\"152.685547\" xlink:href=\"#DejaVuSans-103\"/>\n       <use x=\"216.162109\" xlink:href=\"#DejaVuSans-116\"/>\n       <use x=\"255.371094\" xlink:href=\"#DejaVuSans-104\"/>\n       <use x=\"318.75\" xlink:href=\"#DejaVuSans-121\"/>\n       <use x=\"377.929688\" xlink:href=\"#DejaVuSans-76\"/>\n       <use x=\"433.642578\" xlink:href=\"#DejaVuSans-105\"/>\n       <use x=\"461.425781\" xlink:href=\"#DejaVuSans-110\"/>\n       <use x=\"524.804688\" xlink:href=\"#DejaVuSans-107\"/>\n       <use x=\"582.714844\" xlink:href=\"#DejaVuSans-68\"/>\n       <use x=\"659.716797\" xlink:href=\"#DejaVuSans-111\"/>\n       <use x=\"720.898438\" xlink:href=\"#DejaVuSans-109\"/>\n       <use x=\"818.310547\" xlink:href=\"#DejaVuSans-97\"/>\n       <use x=\"879.589844\" xlink:href=\"#DejaVuSans-105\"/>\n       <use x=\"907.373047\" xlink:href=\"#DejaVuSans-110\"/>\n      </g>\n     </g>\n    </g>\n    <g id=\"ytick_7\">\n     <g id=\"line2d_8\">\n      <g>\n       <use style=\"stroke:#000000;stroke-width:0.8;\" x=\"189.36875\" xlink:href=\"#mf5269c1826\" y=\"81.667219\"/>\n      </g>\n     </g>\n     <g id=\"text_8\">\n      <!-- parametrizedLinkRatio -->\n      <defs>\n       <path d=\"M 18.109375 8.203125 \nL 18.109375 -20.796875 \nL 9.078125 -20.796875 \nL 9.078125 54.6875 \nL 18.109375 54.6875 \nL 18.109375 46.390625 \nQ 20.953125 51.265625 25.265625 53.625 \nQ 29.59375 56 35.59375 56 \nQ 45.5625 56 51.78125 48.09375 \nQ 58.015625 40.1875 58.015625 27.296875 \nQ 58.015625 14.40625 51.78125 6.484375 \nQ 45.5625 -1.421875 35.59375 -1.421875 \nQ 29.59375 -1.421875 25.265625 0.953125 \nQ 20.953125 3.328125 18.109375 8.203125 \nz\nM 48.6875 27.296875 \nQ 48.6875 37.203125 44.609375 42.84375 \nQ 40.53125 48.484375 33.40625 48.484375 \nQ 26.265625 48.484375 22.1875 42.84375 \nQ 18.109375 37.203125 18.109375 27.296875 \nQ 18.109375 17.390625 22.1875 11.75 \nQ 26.265625 6.109375 33.40625 6.109375 \nQ 40.53125 6.109375 44.609375 11.75 \nQ 48.6875 17.390625 48.6875 27.296875 \nz\n\" id=\"DejaVuSans-112\"/>\n       <path d=\"M 5.515625 54.6875 \nL 48.1875 54.6875 \nL 48.1875 46.484375 \nL 14.40625 7.171875 \nL 48.1875 7.171875 \nL 48.1875 0 \nL 4.296875 0 \nL 4.296875 8.203125 \nL 38.09375 47.515625 \nL 5.515625 47.515625 \nz\n\" id=\"DejaVuSans-122\"/>\n       <path d=\"M 44.390625 34.1875 \nQ 47.5625 33.109375 50.5625 29.59375 \nQ 53.5625 26.078125 56.59375 19.921875 \nL 66.609375 0 \nL 56 0 \nL 46.6875 18.703125 \nQ 43.0625 26.03125 39.671875 28.421875 \nQ 36.28125 30.8125 30.421875 30.8125 \nL 19.671875 30.8125 \nL 19.671875 0 \nL 9.8125 0 \nL 9.8125 72.90625 \nL 32.078125 72.90625 \nQ 44.578125 72.90625 50.734375 67.671875 \nQ 56.890625 62.453125 56.890625 51.90625 \nQ 56.890625 45.015625 53.6875 40.46875 \nQ 50.484375 35.9375 44.390625 34.1875 \nz\nM 19.671875 64.796875 \nL 19.671875 38.921875 \nL 32.078125 38.921875 \nQ 39.203125 38.921875 42.84375 42.21875 \nQ 46.484375 45.515625 46.484375 51.90625 \nQ 46.484375 58.296875 42.84375 61.546875 \nQ 39.203125 64.796875 32.078125 64.796875 \nz\n\" id=\"DejaVuSans-82\"/>\n      </defs>\n      <g transform=\"translate(69.053125 85.466437)scale(0.1 -0.1)\">\n       <use xlink:href=\"#DejaVuSans-112\"/>\n       <use x=\"63.476562\" xlink:href=\"#DejaVuSans-97\"/>\n       <use x=\"124.755859\" xlink:href=\"#DejaVuSans-114\"/>\n       <use x=\"165.869141\" xlink:href=\"#DejaVuSans-97\"/>\n       <use x=\"227.148438\" xlink:href=\"#DejaVuSans-109\"/>\n       <use x=\"324.560547\" xlink:href=\"#DejaVuSans-101\"/>\n       <use x=\"386.083984\" xlink:href=\"#DejaVuSans-116\"/>\n       <use x=\"425.292969\" xlink:href=\"#DejaVuSans-114\"/>\n       <use x=\"466.40625\" xlink:href=\"#DejaVuSans-105\"/>\n       <use x=\"494.189453\" xlink:href=\"#DejaVuSans-122\"/>\n       <use x=\"546.679688\" xlink:href=\"#DejaVuSans-101\"/>\n       <use x=\"608.203125\" xlink:href=\"#DejaVuSans-100\"/>\n       <use x=\"671.679688\" xlink:href=\"#DejaVuSans-76\"/>\n       <use x=\"727.392578\" xlink:href=\"#DejaVuSans-105\"/>\n       <use x=\"755.175781\" xlink:href=\"#DejaVuSans-110\"/>\n       <use x=\"818.554688\" xlink:href=\"#DejaVuSans-107\"/>\n       <use x=\"876.464844\" xlink:href=\"#DejaVuSans-82\"/>\n       <use x=\"943.697266\" xlink:href=\"#DejaVuSans-97\"/>\n       <use x=\"1004.976562\" xlink:href=\"#DejaVuSans-116\"/>\n       <use x=\"1044.185547\" xlink:href=\"#DejaVuSans-105\"/>\n       <use x=\"1071.96875\" xlink:href=\"#DejaVuSans-111\"/>\n      </g>\n     </g>\n    </g>\n    <g id=\"ytick_8\">\n     <g id=\"line2d_9\">\n      <g>\n       <use style=\"stroke:#000000;stroke-width:0.8;\" x=\"189.36875\" xlink:href=\"#mf5269c1826\" y=\"92.539219\"/>\n      </g>\n     </g>\n     <g id=\"text_9\">\n      <!-- avglinksize -->\n      <defs>\n       <path d=\"M 2.984375 54.6875 \nL 12.5 54.6875 \nL 29.59375 8.796875 \nL 46.6875 54.6875 \nL 56.203125 54.6875 \nL 35.6875 0 \nL 23.484375 0 \nz\n\" id=\"DejaVuSans-118\"/>\n      </defs>\n      <g transform=\"translate(126.9 96.338437)scale(0.1 -0.1)\">\n       <use xlink:href=\"#DejaVuSans-97\"/>\n       <use x=\"61.279297\" xlink:href=\"#DejaVuSans-118\"/>\n       <use x=\"120.458984\" xlink:href=\"#DejaVuSans-103\"/>\n       <use x=\"183.935547\" xlink:href=\"#DejaVuSans-108\"/>\n       <use x=\"211.71875\" xlink:href=\"#DejaVuSans-105\"/>\n       <use x=\"239.501953\" xlink:href=\"#DejaVuSans-110\"/>\n       <use x=\"302.880859\" xlink:href=\"#DejaVuSans-107\"/>\n       <use x=\"360.791016\" xlink:href=\"#DejaVuSans-115\"/>\n       <use x=\"412.890625\" xlink:href=\"#DejaVuSans-105\"/>\n       <use x=\"440.673828\" xlink:href=\"#DejaVuSans-122\"/>\n       <use x=\"493.164062\" xlink:href=\"#DejaVuSans-101\"/>\n      </g>\n     </g>\n    </g>\n    <g id=\"ytick_9\">\n     <g id=\"line2d_10\">\n      <g>\n       <use style=\"stroke:#000000;stroke-width:0.8;\" x=\"189.36875\" xlink:href=\"#mf5269c1826\" y=\"103.411219\"/>\n      </g>\n     </g>\n     <g id=\"text_10\">\n      <!-- html_ratio -->\n      <g transform=\"translate(131.535938 107.210437)scale(0.1 -0.1)\">\n       <use xlink:href=\"#DejaVuSans-104\"/>\n       <use x=\"63.378906\" xlink:href=\"#DejaVuSans-116\"/>\n       <use x=\"102.587891\" xlink:href=\"#DejaVuSans-109\"/>\n       <use x=\"200\" xlink:href=\"#DejaVuSans-108\"/>\n       <use x=\"227.783203\" xlink:href=\"#DejaVuSans-95\"/>\n       <use x=\"277.783203\" xlink:href=\"#DejaVuSans-114\"/>\n       <use x=\"318.896484\" xlink:href=\"#DejaVuSans-97\"/>\n       <use x=\"380.175781\" xlink:href=\"#DejaVuSans-116\"/>\n       <use x=\"419.384766\" xlink:href=\"#DejaVuSans-105\"/>\n       <use x=\"447.167969\" xlink:href=\"#DejaVuSans-111\"/>\n      </g>\n     </g>\n    </g>\n    <g id=\"ytick_10\">\n     <g id=\"line2d_11\">\n      <g>\n       <use style=\"stroke:#000000;stroke-width:0.8;\" x=\"189.36875\" xlink:href=\"#mf5269c1826\" y=\"114.283219\"/>\n      </g>\n     </g>\n     <g id=\"text_11\">\n      <!-- spelling_errors_ratio -->\n      <g transform=\"translate(81.167188 118.082437)scale(0.1 -0.1)\">\n       <use xlink:href=\"#DejaVuSans-115\"/>\n       <use x=\"52.099609\" xlink:href=\"#DejaVuSans-112\"/>\n       <use x=\"115.576172\" xlink:href=\"#DejaVuSans-101\"/>\n       <use x=\"177.099609\" xlink:href=\"#DejaVuSans-108\"/>\n       <use x=\"204.882812\" xlink:href=\"#DejaVuSans-108\"/>\n       <use x=\"232.666016\" xlink:href=\"#DejaVuSans-105\"/>\n       <use x=\"260.449219\" xlink:href=\"#DejaVuSans-110\"/>\n       <use x=\"323.828125\" xlink:href=\"#DejaVuSans-103\"/>\n       <use x=\"387.304688\" xlink:href=\"#DejaVuSans-95\"/>\n       <use x=\"437.304688\" xlink:href=\"#DejaVuSans-101\"/>\n       <use x=\"498.828125\" xlink:href=\"#DejaVuSans-114\"/>\n       <use x=\"538.191406\" xlink:href=\"#DejaVuSans-114\"/>\n       <use x=\"577.054688\" xlink:href=\"#DejaVuSans-111\"/>\n       <use x=\"638.236328\" xlink:href=\"#DejaVuSans-114\"/>\n       <use x=\"679.349609\" xlink:href=\"#DejaVuSans-115\"/>\n       <use x=\"731.449219\" xlink:href=\"#DejaVuSans-95\"/>\n       <use x=\"781.449219\" xlink:href=\"#DejaVuSans-114\"/>\n       <use x=\"822.5625\" xlink:href=\"#DejaVuSans-97\"/>\n       <use x=\"883.841797\" xlink:href=\"#DejaVuSans-116\"/>\n       <use x=\"923.050781\" xlink:href=\"#DejaVuSans-105\"/>\n       <use x=\"950.833984\" xlink:href=\"#DejaVuSans-111\"/>\n      </g>\n     </g>\n    </g>\n    <g id=\"ytick_11\">\n     <g id=\"line2d_12\">\n      <g>\n       <use style=\"stroke:#000000;stroke-width:0.8;\" x=\"189.36875\" xlink:href=\"#mf5269c1826\" y=\"125.155219\"/>\n      </g>\n     </g>\n     <g id=\"text_12\">\n      <!-- commonlinkratio_1 -->\n      <defs>\n       <path d=\"M 48.78125 52.59375 \nL 48.78125 44.1875 \nQ 44.96875 46.296875 41.140625 47.34375 \nQ 37.3125 48.390625 33.40625 48.390625 \nQ 24.65625 48.390625 19.8125 42.84375 \nQ 14.984375 37.3125 14.984375 27.296875 \nQ 14.984375 17.28125 19.8125 11.734375 \nQ 24.65625 6.203125 33.40625 6.203125 \nQ 37.3125 6.203125 41.140625 7.25 \nQ 44.96875 8.296875 48.78125 10.40625 \nL 48.78125 2.09375 \nQ 45.015625 0.34375 40.984375 -0.53125 \nQ 36.96875 -1.421875 32.421875 -1.421875 \nQ 20.0625 -1.421875 12.78125 6.34375 \nQ 5.515625 14.109375 5.515625 27.296875 \nQ 5.515625 40.671875 12.859375 48.328125 \nQ 20.21875 56 33.015625 56 \nQ 37.15625 56 41.109375 55.140625 \nQ 45.0625 54.296875 48.78125 52.59375 \nz\n\" id=\"DejaVuSans-99\"/>\n       <path d=\"M 12.40625 8.296875 \nL 28.515625 8.296875 \nL 28.515625 63.921875 \nL 10.984375 60.40625 \nL 10.984375 69.390625 \nL 28.421875 72.90625 \nL 38.28125 72.90625 \nL 38.28125 8.296875 \nL 54.390625 8.296875 \nL 54.390625 0 \nL 12.40625 0 \nz\n\" id=\"DejaVuSans-49\"/>\n      </defs>\n      <g transform=\"translate(86.710938 128.954437)scale(0.1 -0.1)\">\n       <use xlink:href=\"#DejaVuSans-99\"/>\n       <use x=\"54.980469\" xlink:href=\"#DejaVuSans-111\"/>\n       <use x=\"116.162109\" xlink:href=\"#DejaVuSans-109\"/>\n       <use x=\"213.574219\" xlink:href=\"#DejaVuSans-109\"/>\n       <use x=\"310.986328\" xlink:href=\"#DejaVuSans-111\"/>\n       <use x=\"372.167969\" xlink:href=\"#DejaVuSans-110\"/>\n       <use x=\"435.546875\" xlink:href=\"#DejaVuSans-108\"/>\n       <use x=\"463.330078\" xlink:href=\"#DejaVuSans-105\"/>\n       <use x=\"491.113281\" xlink:href=\"#DejaVuSans-110\"/>\n       <use x=\"554.492188\" xlink:href=\"#DejaVuSans-107\"/>\n       <use x=\"612.402344\" xlink:href=\"#DejaVuSans-114\"/>\n       <use x=\"653.515625\" xlink:href=\"#DejaVuSans-97\"/>\n       <use x=\"714.794922\" xlink:href=\"#DejaVuSans-116\"/>\n       <use x=\"754.003906\" xlink:href=\"#DejaVuSans-105\"/>\n       <use x=\"781.787109\" xlink:href=\"#DejaVuSans-111\"/>\n       <use x=\"842.96875\" xlink:href=\"#DejaVuSans-95\"/>\n       <use x=\"892.96875\" xlink:href=\"#DejaVuSans-49\"/>\n      </g>\n     </g>\n    </g>\n    <g id=\"ytick_12\">\n     <g id=\"line2d_13\">\n      <g>\n       <use style=\"stroke:#000000;stroke-width:0.8;\" x=\"189.36875\" xlink:href=\"#mf5269c1826\" y=\"136.027219\"/>\n      </g>\n     </g>\n     <g id=\"text_13\">\n      <!-- commonlinkratio_2 -->\n      <defs>\n       <path d=\"M 19.1875 8.296875 \nL 53.609375 8.296875 \nL 53.609375 0 \nL 7.328125 0 \nL 7.328125 8.296875 \nQ 12.9375 14.109375 22.625 23.890625 \nQ 32.328125 33.6875 34.8125 36.53125 \nQ 39.546875 41.84375 41.421875 45.53125 \nQ 43.3125 49.21875 43.3125 52.78125 \nQ 43.3125 58.59375 39.234375 62.25 \nQ 35.15625 65.921875 28.609375 65.921875 \nQ 23.96875 65.921875 18.8125 64.3125 \nQ 13.671875 62.703125 7.8125 59.421875 \nL 7.8125 69.390625 \nQ 13.765625 71.78125 18.9375 73 \nQ 24.125 74.21875 28.421875 74.21875 \nQ 39.75 74.21875 46.484375 68.546875 \nQ 53.21875 62.890625 53.21875 53.421875 \nQ 53.21875 48.921875 51.53125 44.890625 \nQ 49.859375 40.875 45.40625 35.40625 \nQ 44.1875 33.984375 37.640625 27.21875 \nQ 31.109375 20.453125 19.1875 8.296875 \nz\n\" id=\"DejaVuSans-50\"/>\n      </defs>\n      <g transform=\"translate(86.710938 139.826437)scale(0.1 -0.1)\">\n       <use xlink:href=\"#DejaVuSans-99\"/>\n       <use x=\"54.980469\" xlink:href=\"#DejaVuSans-111\"/>\n       <use x=\"116.162109\" xlink:href=\"#DejaVuSans-109\"/>\n       <use x=\"213.574219\" xlink:href=\"#DejaVuSans-109\"/>\n       <use x=\"310.986328\" xlink:href=\"#DejaVuSans-111\"/>\n       <use x=\"372.167969\" xlink:href=\"#DejaVuSans-110\"/>\n       <use x=\"435.546875\" xlink:href=\"#DejaVuSans-108\"/>\n       <use x=\"463.330078\" xlink:href=\"#DejaVuSans-105\"/>\n       <use x=\"491.113281\" xlink:href=\"#DejaVuSans-110\"/>\n       <use x=\"554.492188\" xlink:href=\"#DejaVuSans-107\"/>\n       <use x=\"612.402344\" xlink:href=\"#DejaVuSans-114\"/>\n       <use x=\"653.515625\" xlink:href=\"#DejaVuSans-97\"/>\n       <use x=\"714.794922\" xlink:href=\"#DejaVuSans-116\"/>\n       <use x=\"754.003906\" xlink:href=\"#DejaVuSans-105\"/>\n       <use x=\"781.787109\" xlink:href=\"#DejaVuSans-111\"/>\n       <use x=\"842.96875\" xlink:href=\"#DejaVuSans-95\"/>\n       <use x=\"892.96875\" xlink:href=\"#DejaVuSans-50\"/>\n      </g>\n     </g>\n    </g>\n    <g id=\"ytick_13\">\n     <g id=\"line2d_14\">\n      <g>\n       <use style=\"stroke:#000000;stroke-width:0.8;\" x=\"189.36875\" xlink:href=\"#mf5269c1826\" y=\"146.899219\"/>\n      </g>\n     </g>\n     <g id=\"text_14\">\n      <!-- commonlinkratio_4 -->\n      <defs>\n       <path d=\"M 37.796875 64.3125 \nL 12.890625 25.390625 \nL 37.796875 25.390625 \nz\nM 35.203125 72.90625 \nL 47.609375 72.90625 \nL 47.609375 25.390625 \nL 58.015625 25.390625 \nL 58.015625 17.1875 \nL 47.609375 17.1875 \nL 47.609375 0 \nL 37.796875 0 \nL 37.796875 17.1875 \nL 4.890625 17.1875 \nL 4.890625 26.703125 \nz\n\" id=\"DejaVuSans-52\"/>\n      </defs>\n      <g transform=\"translate(86.710938 150.698437)scale(0.1 -0.1)\">\n       <use xlink:href=\"#DejaVuSans-99\"/>\n       <use x=\"54.980469\" xlink:href=\"#DejaVuSans-111\"/>\n       <use x=\"116.162109\" xlink:href=\"#DejaVuSans-109\"/>\n       <use x=\"213.574219\" xlink:href=\"#DejaVuSans-109\"/>\n       <use x=\"310.986328\" xlink:href=\"#DejaVuSans-111\"/>\n       <use x=\"372.167969\" xlink:href=\"#DejaVuSans-110\"/>\n       <use x=\"435.546875\" xlink:href=\"#DejaVuSans-108\"/>\n       <use x=\"463.330078\" xlink:href=\"#DejaVuSans-105\"/>\n       <use x=\"491.113281\" xlink:href=\"#DejaVuSans-110\"/>\n       <use x=\"554.492188\" xlink:href=\"#DejaVuSans-107\"/>\n       <use x=\"612.402344\" xlink:href=\"#DejaVuSans-114\"/>\n       <use x=\"653.515625\" xlink:href=\"#DejaVuSans-97\"/>\n       <use x=\"714.794922\" xlink:href=\"#DejaVuSans-116\"/>\n       <use x=\"754.003906\" xlink:href=\"#DejaVuSans-105\"/>\n       <use x=\"781.787109\" xlink:href=\"#DejaVuSans-111\"/>\n       <use x=\"842.96875\" xlink:href=\"#DejaVuSans-95\"/>\n       <use x=\"892.96875\" xlink:href=\"#DejaVuSans-52\"/>\n      </g>\n     </g>\n    </g>\n    <g id=\"ytick_14\">\n     <g id=\"line2d_15\">\n      <g>\n       <use style=\"stroke:#000000;stroke-width:0.8;\" x=\"189.36875\" xlink:href=\"#mf5269c1826\" y=\"157.771219\"/>\n      </g>\n     </g>\n     <g id=\"text_15\">\n      <!-- numberOfLinks -->\n      <defs>\n       <path d=\"M 39.40625 66.21875 \nQ 28.65625 66.21875 22.328125 58.203125 \nQ 16.015625 50.203125 16.015625 36.375 \nQ 16.015625 22.609375 22.328125 14.59375 \nQ 28.65625 6.59375 39.40625 6.59375 \nQ 50.140625 6.59375 56.421875 14.59375 \nQ 62.703125 22.609375 62.703125 36.375 \nQ 62.703125 50.203125 56.421875 58.203125 \nQ 50.140625 66.21875 39.40625 66.21875 \nz\nM 39.40625 74.21875 \nQ 54.734375 74.21875 63.90625 63.9375 \nQ 73.09375 53.65625 73.09375 36.375 \nQ 73.09375 19.140625 63.90625 8.859375 \nQ 54.734375 -1.421875 39.40625 -1.421875 \nQ 24.03125 -1.421875 14.8125 8.828125 \nQ 5.609375 19.09375 5.609375 36.375 \nQ 5.609375 53.65625 14.8125 63.9375 \nQ 24.03125 74.21875 39.40625 74.21875 \nz\n\" id=\"DejaVuSans-79\"/>\n       <path d=\"M 37.109375 75.984375 \nL 37.109375 68.5 \nL 28.515625 68.5 \nQ 23.6875 68.5 21.796875 66.546875 \nQ 19.921875 64.59375 19.921875 59.515625 \nL 19.921875 54.6875 \nL 34.71875 54.6875 \nL 34.71875 47.703125 \nL 19.921875 47.703125 \nL 19.921875 0 \nL 10.890625 0 \nL 10.890625 47.703125 \nL 2.296875 47.703125 \nL 2.296875 54.6875 \nL 10.890625 54.6875 \nL 10.890625 58.5 \nQ 10.890625 67.625 15.140625 71.796875 \nQ 19.390625 75.984375 28.609375 75.984375 \nz\n\" id=\"DejaVuSans-102\"/>\n      </defs>\n      <g transform=\"translate(106.260938 161.570437)scale(0.1 -0.1)\">\n       <use xlink:href=\"#DejaVuSans-110\"/>\n       <use x=\"63.378906\" xlink:href=\"#DejaVuSans-117\"/>\n       <use x=\"126.757812\" xlink:href=\"#DejaVuSans-109\"/>\n       <use x=\"224.169922\" xlink:href=\"#DejaVuSans-98\"/>\n       <use x=\"287.646484\" xlink:href=\"#DejaVuSans-101\"/>\n       <use x=\"349.169922\" xlink:href=\"#DejaVuSans-114\"/>\n       <use x=\"390.283203\" xlink:href=\"#DejaVuSans-79\"/>\n       <use x=\"468.994141\" xlink:href=\"#DejaVuSans-102\"/>\n       <use x=\"504.199219\" xlink:href=\"#DejaVuSans-76\"/>\n       <use x=\"559.912109\" xlink:href=\"#DejaVuSans-105\"/>\n       <use x=\"587.695312\" xlink:href=\"#DejaVuSans-110\"/>\n       <use x=\"651.074219\" xlink:href=\"#DejaVuSans-107\"/>\n       <use x=\"708.984375\" xlink:href=\"#DejaVuSans-115\"/>\n      </g>\n     </g>\n    </g>\n    <g id=\"ytick_15\">\n     <g id=\"line2d_16\">\n      <g>\n       <use style=\"stroke:#000000;stroke-width:0.8;\" x=\"189.36875\" xlink:href=\"#mf5269c1826\" y=\"168.643219\"/>\n      </g>\n     </g>\n     <g id=\"text_16\">\n      <!-- compression_ratio -->\n      <g transform=\"translate(90.914063 172.442437)scale(0.1 -0.1)\">\n       <use xlink:href=\"#DejaVuSans-99\"/>\n       <use x=\"54.980469\" xlink:href=\"#DejaVuSans-111\"/>\n       <use x=\"116.162109\" xlink:href=\"#DejaVuSans-109\"/>\n       <use x=\"213.574219\" xlink:href=\"#DejaVuSans-112\"/>\n       <use x=\"277.050781\" xlink:href=\"#DejaVuSans-114\"/>\n       <use x=\"315.914062\" xlink:href=\"#DejaVuSans-101\"/>\n       <use x=\"377.4375\" xlink:href=\"#DejaVuSans-115\"/>\n       <use x=\"429.537109\" xlink:href=\"#DejaVuSans-115\"/>\n       <use x=\"481.636719\" xlink:href=\"#DejaVuSans-105\"/>\n       <use x=\"509.419922\" xlink:href=\"#DejaVuSans-111\"/>\n       <use x=\"570.601562\" xlink:href=\"#DejaVuSans-110\"/>\n       <use x=\"633.980469\" xlink:href=\"#DejaVuSans-95\"/>\n       <use x=\"683.980469\" xlink:href=\"#DejaVuSans-114\"/>\n       <use x=\"725.09375\" xlink:href=\"#DejaVuSans-97\"/>\n       <use x=\"786.373047\" xlink:href=\"#DejaVuSans-116\"/>\n       <use x=\"825.582031\" xlink:href=\"#DejaVuSans-105\"/>\n       <use x=\"853.365234\" xlink:href=\"#DejaVuSans-111\"/>\n      </g>\n     </g>\n    </g>\n    <g id=\"ytick_16\">\n     <g id=\"line2d_17\">\n      <g>\n       <use style=\"stroke:#000000;stroke-width:0.8;\" x=\"189.36875\" xlink:href=\"#mf5269c1826\" y=\"179.515219\"/>\n      </g>\n     </g>\n     <g id=\"text_17\">\n      <!-- commonlinkratio_3 -->\n      <defs>\n       <path d=\"M 40.578125 39.3125 \nQ 47.65625 37.796875 51.625 33 \nQ 55.609375 28.21875 55.609375 21.1875 \nQ 55.609375 10.40625 48.1875 4.484375 \nQ 40.765625 -1.421875 27.09375 -1.421875 \nQ 22.515625 -1.421875 17.65625 -0.515625 \nQ 12.796875 0.390625 7.625 2.203125 \nL 7.625 11.71875 \nQ 11.71875 9.328125 16.59375 8.109375 \nQ 21.484375 6.890625 26.8125 6.890625 \nQ 36.078125 6.890625 40.9375 10.546875 \nQ 45.796875 14.203125 45.796875 21.1875 \nQ 45.796875 27.640625 41.28125 31.265625 \nQ 36.765625 34.90625 28.71875 34.90625 \nL 20.21875 34.90625 \nL 20.21875 43.015625 \nL 29.109375 43.015625 \nQ 36.375 43.015625 40.234375 45.921875 \nQ 44.09375 48.828125 44.09375 54.296875 \nQ 44.09375 59.90625 40.109375 62.90625 \nQ 36.140625 65.921875 28.71875 65.921875 \nQ 24.65625 65.921875 20.015625 65.03125 \nQ 15.375 64.15625 9.8125 62.3125 \nL 9.8125 71.09375 \nQ 15.4375 72.65625 20.34375 73.4375 \nQ 25.25 74.21875 29.59375 74.21875 \nQ 40.828125 74.21875 47.359375 69.109375 \nQ 53.90625 64.015625 53.90625 55.328125 \nQ 53.90625 49.265625 50.4375 45.09375 \nQ 46.96875 40.921875 40.578125 39.3125 \nz\n\" id=\"DejaVuSans-51\"/>\n      </defs>\n      <g transform=\"translate(86.710938 183.314437)scale(0.1 -0.1)\">\n       <use xlink:href=\"#DejaVuSans-99\"/>\n       <use x=\"54.980469\" xlink:href=\"#DejaVuSans-111\"/>\n       <use x=\"116.162109\" xlink:href=\"#DejaVuSans-109\"/>\n       <use x=\"213.574219\" xlink:href=\"#DejaVuSans-109\"/>\n       <use x=\"310.986328\" xlink:href=\"#DejaVuSans-111\"/>\n       <use x=\"372.167969\" xlink:href=\"#DejaVuSans-110\"/>\n       <use x=\"435.546875\" xlink:href=\"#DejaVuSans-108\"/>\n       <use x=\"463.330078\" xlink:href=\"#DejaVuSans-105\"/>\n       <use x=\"491.113281\" xlink:href=\"#DejaVuSans-110\"/>\n       <use x=\"554.492188\" xlink:href=\"#DejaVuSans-107\"/>\n       <use x=\"612.402344\" xlink:href=\"#DejaVuSans-114\"/>\n       <use x=\"653.515625\" xlink:href=\"#DejaVuSans-97\"/>\n       <use x=\"714.794922\" xlink:href=\"#DejaVuSans-116\"/>\n       <use x=\"754.003906\" xlink:href=\"#DejaVuSans-105\"/>\n       <use x=\"781.787109\" xlink:href=\"#DejaVuSans-111\"/>\n       <use x=\"842.96875\" xlink:href=\"#DejaVuSans-95\"/>\n       <use x=\"892.96875\" xlink:href=\"#DejaVuSans-51\"/>\n      </g>\n     </g>\n    </g>\n    <g id=\"ytick_17\">\n     <g id=\"line2d_18\">\n      <g>\n       <use style=\"stroke:#000000;stroke-width:0.8;\" x=\"189.36875\" xlink:href=\"#mf5269c1826\" y=\"190.387219\"/>\n      </g>\n     </g>\n     <g id=\"text_18\">\n      <!-- linkwordscore -->\n      <g transform=\"translate(113.2375 194.186437)scale(0.1 -0.1)\">\n       <use xlink:href=\"#DejaVuSans-108\"/>\n       <use x=\"27.783203\" xlink:href=\"#DejaVuSans-105\"/>\n       <use x=\"55.566406\" xlink:href=\"#DejaVuSans-110\"/>\n       <use x=\"118.945312\" xlink:href=\"#DejaVuSans-107\"/>\n       <use x=\"176.855469\" xlink:href=\"#DejaVuSans-119\"/>\n       <use x=\"258.642578\" xlink:href=\"#DejaVuSans-111\"/>\n       <use x=\"319.824219\" xlink:href=\"#DejaVuSans-114\"/>\n       <use x=\"359.1875\" xlink:href=\"#DejaVuSans-100\"/>\n       <use x=\"422.664062\" xlink:href=\"#DejaVuSans-115\"/>\n       <use x=\"474.763672\" xlink:href=\"#DejaVuSans-99\"/>\n       <use x=\"529.744141\" xlink:href=\"#DejaVuSans-111\"/>\n       <use x=\"590.925781\" xlink:href=\"#DejaVuSans-114\"/>\n       <use x=\"629.789062\" xlink:href=\"#DejaVuSans-101\"/>\n      </g>\n     </g>\n    </g>\n    <g id=\"ytick_18\">\n     <g id=\"line2d_19\">\n      <g>\n       <use style=\"stroke:#000000;stroke-width:0.8;\" x=\"189.36875\" xlink:href=\"#mf5269c1826\" y=\"201.259219\"/>\n      </g>\n     </g>\n     <g id=\"text_19\">\n      <!-- frameTagRatio -->\n      <defs>\n       <path d=\"M -0.296875 72.90625 \nL 61.375 72.90625 \nL 61.375 64.59375 \nL 35.5 64.59375 \nL 35.5 0 \nL 25.59375 0 \nL 25.59375 64.59375 \nL -0.296875 64.59375 \nz\n\" id=\"DejaVuSans-84\"/>\n      </defs>\n      <g transform=\"translate(110.1125 205.058437)scale(0.1 -0.1)\">\n       <use xlink:href=\"#DejaVuSans-102\"/>\n       <use x=\"35.205078\" xlink:href=\"#DejaVuSans-114\"/>\n       <use x=\"76.318359\" xlink:href=\"#DejaVuSans-97\"/>\n       <use x=\"137.597656\" xlink:href=\"#DejaVuSans-109\"/>\n       <use x=\"235.009766\" xlink:href=\"#DejaVuSans-101\"/>\n       <use x=\"296.533203\" xlink:href=\"#DejaVuSans-84\"/>\n       <use x=\"341.117188\" xlink:href=\"#DejaVuSans-97\"/>\n       <use x=\"402.396484\" xlink:href=\"#DejaVuSans-103\"/>\n       <use x=\"465.873047\" xlink:href=\"#DejaVuSans-82\"/>\n       <use x=\"533.105469\" xlink:href=\"#DejaVuSans-97\"/>\n       <use x=\"594.384766\" xlink:href=\"#DejaVuSans-116\"/>\n       <use x=\"633.59375\" xlink:href=\"#DejaVuSans-105\"/>\n       <use x=\"661.376953\" xlink:href=\"#DejaVuSans-111\"/>\n      </g>\n     </g>\n    </g>\n    <g id=\"ytick_19\">\n     <g id=\"line2d_20\">\n      <g>\n       <use style=\"stroke:#000000;stroke-width:0.8;\" x=\"189.36875\" xlink:href=\"#mf5269c1826\" y=\"212.131219\"/>\n      </g>\n     </g>\n     <g id=\"text_20\">\n      <!-- non_markup_alphanum_characters -->\n      <g transform=\"translate(7.2 215.930437)scale(0.1 -0.1)\">\n       <use xlink:href=\"#DejaVuSans-110\"/>\n       <use x=\"63.378906\" xlink:href=\"#DejaVuSans-111\"/>\n       <use x=\"124.560547\" xlink:href=\"#DejaVuSans-110\"/>\n       <use x=\"187.939453\" xlink:href=\"#DejaVuSans-95\"/>\n       <use x=\"237.939453\" xlink:href=\"#DejaVuSans-109\"/>\n       <use x=\"335.351562\" xlink:href=\"#DejaVuSans-97\"/>\n       <use x=\"396.630859\" xlink:href=\"#DejaVuSans-114\"/>\n       <use x=\"437.744141\" xlink:href=\"#DejaVuSans-107\"/>\n       <use x=\"492.529297\" xlink:href=\"#DejaVuSans-117\"/>\n       <use x=\"555.908203\" xlink:href=\"#DejaVuSans-112\"/>\n       <use x=\"619.384766\" xlink:href=\"#DejaVuSans-95\"/>\n       <use x=\"669.384766\" xlink:href=\"#DejaVuSans-97\"/>\n       <use x=\"730.664062\" xlink:href=\"#DejaVuSans-108\"/>\n       <use x=\"758.447266\" xlink:href=\"#DejaVuSans-112\"/>\n       <use x=\"821.923828\" xlink:href=\"#DejaVuSans-104\"/>\n       <use x=\"885.302734\" xlink:href=\"#DejaVuSans-97\"/>\n       <use x=\"946.582031\" xlink:href=\"#DejaVuSans-110\"/>\n       <use x=\"1009.960938\" xlink:href=\"#DejaVuSans-117\"/>\n       <use x=\"1073.339844\" xlink:href=\"#DejaVuSans-109\"/>\n       <use x=\"1170.751953\" xlink:href=\"#DejaVuSans-95\"/>\n       <use x=\"1220.751953\" xlink:href=\"#DejaVuSans-99\"/>\n       <use x=\"1275.732422\" xlink:href=\"#DejaVuSans-104\"/>\n       <use x=\"1339.111328\" xlink:href=\"#DejaVuSans-97\"/>\n       <use x=\"1400.390625\" xlink:href=\"#DejaVuSans-114\"/>\n       <use x=\"1441.503906\" xlink:href=\"#DejaVuSans-97\"/>\n       <use x=\"1502.783203\" xlink:href=\"#DejaVuSans-99\"/>\n       <use x=\"1557.763672\" xlink:href=\"#DejaVuSans-116\"/>\n       <use x=\"1596.972656\" xlink:href=\"#DejaVuSans-101\"/>\n       <use x=\"1658.496094\" xlink:href=\"#DejaVuSans-114\"/>\n       <use x=\"1699.609375\" xlink:href=\"#DejaVuSans-115\"/>\n      </g>\n     </g>\n    </g>\n    <g id=\"ytick_20\">\n     <g id=\"line2d_21\">\n      <g>\n       <use style=\"stroke:#000000;stroke-width:0.8;\" x=\"189.36875\" xlink:href=\"#mf5269c1826\" y=\"223.003219\"/>\n      </g>\n     </g>\n     <g id=\"text_21\">\n      <!-- label -->\n      <g transform=\"translate(158.182813 226.802437)scale(0.1 -0.1)\">\n       <use xlink:href=\"#DejaVuSans-108\"/>\n       <use x=\"27.783203\" xlink:href=\"#DejaVuSans-97\"/>\n       <use x=\"89.0625\" xlink:href=\"#DejaVuSans-98\"/>\n       <use x=\"152.539062\" xlink:href=\"#DejaVuSans-101\"/>\n       <use x=\"214.0625\" xlink:href=\"#DejaVuSans-108\"/>\n      </g>\n     </g>\n    </g>\n   </g>\n  </g>\n  <g id=\"axes_2\">\n   <g id=\"patch_3\">\n    <path clip-path=\"url(#p4287b4bf94)\" d=\"M 473.94875 228.439219 \nL 473.94875 227.589844 \nL 473.94875 11.848594 \nL 473.94875 10.999219 \nL 484.82075 10.999219 \nL 484.82075 11.848594 \nL 484.82075 227.589844 \nL 484.82075 228.439219 \nz\n\" style=\"fill:#ffffff;stroke:#ffffff;stroke-linejoin:miter;stroke-width:0.01;\"/>\n   </g>\n   <image height=\"217\" id=\"imageb64ad4c8a0\" transform=\"scale(1 -1)translate(0 -217)\" width=\"11\" x=\"474\" xlink:href=\"data:image/png;base64,\niVBORw0KGgoAAAANSUhEUgAAAAsAAADZCAYAAAD2WsoCAAAABHNCSVQICAgIfAhkiAAAAV9JREFUaIHVmtsNAzEIwHjdEt1/zl5XwB+WaL4RMoakuag5z+eN5ZrM3MbS4ADBXSVlLq3AIhgoM7LhYRzx3OnZODF1qECxKTcym+3WbGgYE2g29sucDa3dEGO/zJOfBI82SMyG125vW61D6fB76qANgCGq05iRjSPMCIPtbpKZFbj+PPhbGySY2PAw5gYGazdhHoRxxIaGMe8+tbgH6wYGspFhMcMCAUYzZhIMRIvqEpwF0yS4SDDCgJnXsTFdXymzWCA47BhzNbABmQEGUifaGG02ELOmrsBVhmGENxteMLj3kMceqo5lBjdzlhncCyYIhsfMMMDPJsxMnixQZhhM3us0G0GeDT0bSWxEt4SBmuJ5ztEKFNtNMqM9CD55VRukgx4GssHOOtRBSx3c3RqGVyDK3Gj4bzCzdqN51jZs3pg60QYp8MbwZz9SZnP4iWfSbvQviysFsnZrZ51V4A9keCojHT7iJgAAAABJRU5ErkJggg==\" y=\"-11\"/>\n   <g id=\"matplotlib.axis_3\"/>\n   <g id=\"matplotlib.axis_4\">\n    <g id=\"ytick_21\">\n     <g id=\"line2d_22\">\n      <defs>\n       <path d=\"M 0 0 \nL 3.5 0 \n\" id=\"me8a3c6427c\" style=\"stroke:#000000;stroke-width:0.8;\"/>\n      </defs>\n      <g>\n       <use style=\"stroke:#000000;stroke-width:0.8;\" x=\"484.82075\" xlink:href=\"#me8a3c6427c\" y=\"185.801327\"/>\n      </g>\n     </g>\n     <g id=\"text_22\">\n      <!-- 0.2 -->\n      <defs>\n       <path d=\"M 31.78125 66.40625 \nQ 24.171875 66.40625 20.328125 58.90625 \nQ 16.5 51.421875 16.5 36.375 \nQ 16.5 21.390625 20.328125 13.890625 \nQ 24.171875 6.390625 31.78125 6.390625 \nQ 39.453125 6.390625 43.28125 13.890625 \nQ 47.125 21.390625 47.125 36.375 \nQ 47.125 51.421875 43.28125 58.90625 \nQ 39.453125 66.40625 31.78125 66.40625 \nz\nM 31.78125 74.21875 \nQ 44.046875 74.21875 50.515625 64.515625 \nQ 56.984375 54.828125 56.984375 36.375 \nQ 56.984375 17.96875 50.515625 8.265625 \nQ 44.046875 -1.421875 31.78125 -1.421875 \nQ 19.53125 -1.421875 13.0625 8.265625 \nQ 6.59375 17.96875 6.59375 36.375 \nQ 6.59375 54.828125 13.0625 64.515625 \nQ 19.53125 74.21875 31.78125 74.21875 \nz\n\" id=\"DejaVuSans-48\"/>\n       <path d=\"M 10.6875 12.40625 \nL 21 12.40625 \nL 21 0 \nL 10.6875 0 \nz\n\" id=\"DejaVuSans-46\"/>\n      </defs>\n      <g transform=\"translate(491.82075 189.600546)scale(0.1 -0.1)\">\n       <use xlink:href=\"#DejaVuSans-48\"/>\n       <use x=\"63.623047\" xlink:href=\"#DejaVuSans-46\"/>\n       <use x=\"95.410156\" xlink:href=\"#DejaVuSans-50\"/>\n      </g>\n     </g>\n    </g>\n    <g id=\"ytick_22\">\n     <g id=\"line2d_23\">\n      <g>\n       <use style=\"stroke:#000000;stroke-width:0.8;\" x=\"484.82075\" xlink:href=\"#me8a3c6427c\" y=\"142.1008\"/>\n      </g>\n     </g>\n     <g id=\"text_23\">\n      <!-- 0.4 -->\n      <g transform=\"translate(491.82075 145.900019)scale(0.1 -0.1)\">\n       <use xlink:href=\"#DejaVuSans-48\"/>\n       <use x=\"63.623047\" xlink:href=\"#DejaVuSans-46\"/>\n       <use x=\"95.410156\" xlink:href=\"#DejaVuSans-52\"/>\n      </g>\n     </g>\n    </g>\n    <g id=\"ytick_23\">\n     <g id=\"line2d_24\">\n      <g>\n       <use style=\"stroke:#000000;stroke-width:0.8;\" x=\"484.82075\" xlink:href=\"#me8a3c6427c\" y=\"98.400273\"/>\n      </g>\n     </g>\n     <g id=\"text_24\">\n      <!-- 0.6 -->\n      <defs>\n       <path d=\"M 33.015625 40.375 \nQ 26.375 40.375 22.484375 35.828125 \nQ 18.609375 31.296875 18.609375 23.390625 \nQ 18.609375 15.53125 22.484375 10.953125 \nQ 26.375 6.390625 33.015625 6.390625 \nQ 39.65625 6.390625 43.53125 10.953125 \nQ 47.40625 15.53125 47.40625 23.390625 \nQ 47.40625 31.296875 43.53125 35.828125 \nQ 39.65625 40.375 33.015625 40.375 \nz\nM 52.59375 71.296875 \nL 52.59375 62.3125 \nQ 48.875 64.0625 45.09375 64.984375 \nQ 41.3125 65.921875 37.59375 65.921875 \nQ 27.828125 65.921875 22.671875 59.328125 \nQ 17.53125 52.734375 16.796875 39.40625 \nQ 19.671875 43.65625 24.015625 45.921875 \nQ 28.375 48.1875 33.59375 48.1875 \nQ 44.578125 48.1875 50.953125 41.515625 \nQ 57.328125 34.859375 57.328125 23.390625 \nQ 57.328125 12.15625 50.6875 5.359375 \nQ 44.046875 -1.421875 33.015625 -1.421875 \nQ 20.359375 -1.421875 13.671875 8.265625 \nQ 6.984375 17.96875 6.984375 36.375 \nQ 6.984375 53.65625 15.1875 63.9375 \nQ 23.390625 74.21875 37.203125 74.21875 \nQ 40.921875 74.21875 44.703125 73.484375 \nQ 48.484375 72.75 52.59375 71.296875 \nz\n\" id=\"DejaVuSans-54\"/>\n      </defs>\n      <g transform=\"translate(491.82075 102.199492)scale(0.1 -0.1)\">\n       <use xlink:href=\"#DejaVuSans-48\"/>\n       <use x=\"63.623047\" xlink:href=\"#DejaVuSans-46\"/>\n       <use x=\"95.410156\" xlink:href=\"#DejaVuSans-54\"/>\n      </g>\n     </g>\n    </g>\n    <g id=\"ytick_24\">\n     <g id=\"line2d_25\">\n      <g>\n       <use style=\"stroke:#000000;stroke-width:0.8;\" x=\"484.82075\" xlink:href=\"#me8a3c6427c\" y=\"54.699746\"/>\n      </g>\n     </g>\n     <g id=\"text_25\">\n      <!-- 0.8 -->\n      <defs>\n       <path d=\"M 31.78125 34.625 \nQ 24.75 34.625 20.71875 30.859375 \nQ 16.703125 27.09375 16.703125 20.515625 \nQ 16.703125 13.921875 20.71875 10.15625 \nQ 24.75 6.390625 31.78125 6.390625 \nQ 38.8125 6.390625 42.859375 10.171875 \nQ 46.921875 13.96875 46.921875 20.515625 \nQ 46.921875 27.09375 42.890625 30.859375 \nQ 38.875 34.625 31.78125 34.625 \nz\nM 21.921875 38.8125 \nQ 15.578125 40.375 12.03125 44.71875 \nQ 8.5 49.078125 8.5 55.328125 \nQ 8.5 64.0625 14.71875 69.140625 \nQ 20.953125 74.21875 31.78125 74.21875 \nQ 42.671875 74.21875 48.875 69.140625 \nQ 55.078125 64.0625 55.078125 55.328125 \nQ 55.078125 49.078125 51.53125 44.71875 \nQ 48 40.375 41.703125 38.8125 \nQ 48.828125 37.15625 52.796875 32.3125 \nQ 56.78125 27.484375 56.78125 20.515625 \nQ 56.78125 9.90625 50.3125 4.234375 \nQ 43.84375 -1.421875 31.78125 -1.421875 \nQ 19.734375 -1.421875 13.25 4.234375 \nQ 6.78125 9.90625 6.78125 20.515625 \nQ 6.78125 27.484375 10.78125 32.3125 \nQ 14.796875 37.15625 21.921875 38.8125 \nz\nM 18.3125 54.390625 \nQ 18.3125 48.734375 21.84375 45.5625 \nQ 25.390625 42.390625 31.78125 42.390625 \nQ 38.140625 42.390625 41.71875 45.5625 \nQ 45.3125 48.734375 45.3125 54.390625 \nQ 45.3125 60.0625 41.71875 63.234375 \nQ 38.140625 66.40625 31.78125 66.40625 \nQ 25.390625 66.40625 21.84375 63.234375 \nQ 18.3125 60.0625 18.3125 54.390625 \nz\n\" id=\"DejaVuSans-56\"/>\n      </defs>\n      <g transform=\"translate(491.82075 58.498965)scale(0.1 -0.1)\">\n       <use xlink:href=\"#DejaVuSans-48\"/>\n       <use x=\"63.623047\" xlink:href=\"#DejaVuSans-46\"/>\n       <use x=\"95.410156\" xlink:href=\"#DejaVuSans-56\"/>\n      </g>\n     </g>\n    </g>\n    <g id=\"ytick_25\">\n     <g id=\"line2d_26\">\n      <g>\n       <use style=\"stroke:#000000;stroke-width:0.8;\" x=\"484.82075\" xlink:href=\"#me8a3c6427c\" y=\"10.999219\"/>\n      </g>\n     </g>\n     <g id=\"text_26\">\n      <!-- 1.0 -->\n      <g transform=\"translate(491.82075 14.798437)scale(0.1 -0.1)\">\n       <use xlink:href=\"#DejaVuSans-49\"/>\n       <use x=\"63.623047\" xlink:href=\"#DejaVuSans-46\"/>\n       <use x=\"95.410156\" xlink:href=\"#DejaVuSans-48\"/>\n      </g>\n     </g>\n    </g>\n   </g>\n   <g id=\"patch_4\">\n    <path d=\"M 473.94875 228.439219 \nL 473.94875 227.589844 \nL 473.94875 11.848594 \nL 473.94875 10.999219 \nL 484.82075 10.999219 \nL 484.82075 11.848594 \nL 484.82075 227.589844 \nL 484.82075 228.439219 \nz\n\" style=\"fill:none;\"/>\n   </g>\n  </g>\n </g>\n <defs>\n  <clipPath id=\"p12b1777df7\">\n   <rect height=\"217.44\" width=\"267.84\" x=\"189.36875\" y=\"10.999219\"/>\n  </clipPath>\n  <clipPath id=\"p4287b4bf94\">\n   <rect height=\"217.44\" width=\"10.872\" x=\"473.94875\" y=\"10.999219\"/>\n  </clipPath>\n </defs>\n</svg>\n"
          },
          "metadata": {
            "tags": [],
            "needs_background": "light"
          }
        }
      ]
    },
    {
      "cell_type": "code",
      "metadata": {
        "id": "Sv1Mo2-uV00l",
        "colab": {
          "base_uri": "https://localhost:8080/",
          "height": 595
        },
        "outputId": "5f8ef7e6-438a-4c27-9378-63abbb6f920a"
      },
      "source": [
        "sns.heatmap(df.corr().abs())"
      ],
      "execution_count": null,
      "outputs": [
        {
          "output_type": "execute_result",
          "data": {
            "text/plain": [
              "<matplotlib.axes._subplots.AxesSubplot at 0x7f52482e76a0>"
            ]
          },
          "metadata": {
            "tags": []
          },
          "execution_count": 16
        },
        {
          "output_type": "display_data",
          "data": {
            "text/plain": [
              "<Figure size 432x288 with 2 Axes>"
            ],
            "image/svg+xml": "<?xml version=\"1.0\" encoding=\"utf-8\" standalone=\"no\"?>\n<!DOCTYPE svg PUBLIC \"-//W3C//DTD SVG 1.1//EN\"\n  \"http://www.w3.org/Graphics/SVG/1.1/DTD/svg11.dtd\">\n<!-- Created with matplotlib (https://matplotlib.org/) -->\n<svg height=\"417.807969pt\" version=\"1.1\" viewBox=\"0 0 514.923875 417.807969\" width=\"514.923875pt\" xmlns=\"http://www.w3.org/2000/svg\" xmlns:xlink=\"http://www.w3.org/1999/xlink\">\n <defs>\n  <style type=\"text/css\">\n*{stroke-linecap:butt;stroke-linejoin:round;}\n  </style>\n </defs>\n <g id=\"figure_1\">\n  <g id=\"patch_1\">\n   <path d=\"M 0 417.807969 \nL 514.923875 417.807969 \nL 514.923875 0 \nL 0 0 \nz\n\" style=\"fill:none;\"/>\n  </g>\n  <g id=\"axes_1\">\n   <g id=\"patch_2\">\n    <path d=\"M 189.36875 228.439219 \nL 457.20875 228.439219 \nL 457.20875 10.999219 \nL 189.36875 10.999219 \nz\n\" style=\"fill:#ffffff;\"/>\n   </g>\n   <g id=\"QuadMesh_1\">\n    <path clip-path=\"url(#p43455f5b76)\" d=\"M 189.36875 10.999219 \nL 202.76075 10.999219 \nL 202.76075 21.871219 \nL 189.36875 21.871219 \nL 189.36875 10.999219 \n\" style=\"fill:#faebdd;\"/>\n    <path clip-path=\"url(#p43455f5b76)\" d=\"M 202.76075 10.999219 \nL 216.15275 10.999219 \nL 216.15275 21.871219 \nL 202.76075 21.871219 \nL 202.76075 10.999219 \n\" style=\"fill:#2d1738;\"/>\n    <path clip-path=\"url(#p43455f5b76)\" d=\"M 216.15275 10.999219 \nL 229.54475 10.999219 \nL 229.54475 21.871219 \nL 216.15275 21.871219 \nL 216.15275 10.999219 \n\" style=\"fill:#3d1a42;\"/>\n    <path clip-path=\"url(#p43455f5b76)\" d=\"M 229.54475 10.999219 \nL 242.93675 10.999219 \nL 242.93675 21.871219 \nL 229.54475 21.871219 \nL 229.54475 10.999219 \n\" style=\"fill:#421b45;\"/>\n    <path clip-path=\"url(#p43455f5b76)\" d=\"M 242.93675 10.999219 \nL 256.32875 10.999219 \nL 256.32875 21.871219 \nL 242.93675 21.871219 \nL 242.93675 10.999219 \n\" style=\"fill:#33183c;\"/>\n    <path clip-path=\"url(#p43455f5b76)\" d=\"M 256.32875 10.999219 \nL 269.72075 10.999219 \nL 269.72075 21.871219 \nL 256.32875 21.871219 \nL 256.32875 10.999219 \n\" style=\"fill:#03051a;\"/>\n    <path clip-path=\"url(#p43455f5b76)\" d=\"M 269.72075 10.999219 \nL 283.11275 10.999219 \nL 283.11275 21.871219 \nL 269.72075 21.871219 \nL 269.72075 10.999219 \n\" style=\"fill:#04051a;\"/>\n    <path clip-path=\"url(#p43455f5b76)\" d=\"M 283.11275 10.999219 \nL 296.50475 10.999219 \nL 296.50475 21.871219 \nL 283.11275 21.871219 \nL 283.11275 10.999219 \n\" style=\"fill:#130d25;\"/>\n    <path clip-path=\"url(#p43455f5b76)\" d=\"M 296.50475 10.999219 \nL 309.89675 10.999219 \nL 309.89675 21.871219 \nL 296.50475 21.871219 \nL 296.50475 10.999219 \n\" style=\"fill:#03051a;\"/>\n    <path clip-path=\"url(#p43455f5b76)\" d=\"M 309.89675 10.999219 \nL 323.28875 10.999219 \nL 323.28875 21.871219 \nL 309.89675 21.871219 \nL 309.89675 10.999219 \n\" style=\"fill:#07071d;\"/>\n    <path clip-path=\"url(#p43455f5b76)\" d=\"M 323.28875 10.999219 \nL 336.68075 10.999219 \nL 336.68075 21.871219 \nL 323.28875 21.871219 \nL 323.28875 10.999219 \n\" style=\"fill:#03051a;\"/>\n    <path clip-path=\"url(#p43455f5b76)\" d=\"M 336.68075 10.999219 \nL 350.07275 10.999219 \nL 350.07275 21.871219 \nL 336.68075 21.871219 \nL 336.68075 10.999219 \n\" style=\"fill:#180f29;\"/>\n    <path clip-path=\"url(#p43455f5b76)\" d=\"M 350.07275 10.999219 \nL 363.46475 10.999219 \nL 363.46475 21.871219 \nL 350.07275 21.871219 \nL 350.07275 10.999219 \n\" style=\"fill:#08081e;\"/>\n    <path clip-path=\"url(#p43455f5b76)\" d=\"M 363.46475 10.999219 \nL 376.85675 10.999219 \nL 376.85675 21.871219 \nL 363.46475 21.871219 \nL 363.46475 10.999219 \n\" style=\"fill:#2e1739;\"/>\n    <path clip-path=\"url(#p43455f5b76)\" d=\"M 376.85675 10.999219 \nL 390.24875 10.999219 \nL 390.24875 21.871219 \nL 376.85675 21.871219 \nL 376.85675 10.999219 \n\" style=\"fill:#05061b;\"/>\n    <path clip-path=\"url(#p43455f5b76)\" d=\"M 390.24875 10.999219 \nL 403.64075 10.999219 \nL 403.64075 21.871219 \nL 390.24875 21.871219 \nL 390.24875 10.999219 \n\" style=\"fill:#03051a;\"/>\n    <path clip-path=\"url(#p43455f5b76)\" d=\"M 403.64075 10.999219 \nL 417.03275 10.999219 \nL 417.03275 21.871219 \nL 403.64075 21.871219 \nL 403.64075 10.999219 \n\" style=\"fill:#0d0a21;\"/>\n    <path clip-path=\"url(#p43455f5b76)\" d=\"M 417.03275 10.999219 \nL 430.42475 10.999219 \nL 430.42475 21.871219 \nL 417.03275 21.871219 \nL 417.03275 10.999219 \n\" style=\"fill:#04051a;\"/>\n    <path clip-path=\"url(#p43455f5b76)\" d=\"M 430.42475 10.999219 \nL 443.81675 10.999219 \nL 443.81675 21.871219 \nL 430.42475 21.871219 \nL 430.42475 10.999219 \n\" style=\"fill:#0e0b22;\"/>\n    <path clip-path=\"url(#p43455f5b76)\" d=\"M 443.81675 10.999219 \nL 457.20875 10.999219 \nL 457.20875 21.871219 \nL 443.81675 21.871219 \nL 443.81675 10.999219 \n\" style=\"fill:#04051a;\"/>\n    <path clip-path=\"url(#p43455f5b76)\" d=\"M 189.36875 21.871219 \nL 202.76075 21.871219 \nL 202.76075 32.743219 \nL 189.36875 32.743219 \nL 189.36875 21.871219 \n\" style=\"fill:#2d1738;\"/>\n    <path clip-path=\"url(#p43455f5b76)\" d=\"M 202.76075 21.871219 \nL 216.15275 21.871219 \nL 216.15275 32.743219 \nL 202.76075 32.743219 \nL 202.76075 21.871219 \n\" style=\"fill:#faebdd;\"/>\n    <path clip-path=\"url(#p43455f5b76)\" d=\"M 216.15275 21.871219 \nL 229.54475 21.871219 \nL 229.54475 32.743219 \nL 216.15275 32.743219 \nL 216.15275 21.871219 \n\" style=\"fill:#f6a077;\"/>\n    <path clip-path=\"url(#p43455f5b76)\" d=\"M 229.54475 21.871219 \nL 242.93675 21.871219 \nL 242.93675 32.743219 \nL 229.54475 32.743219 \nL 229.54475 21.871219 \n\" style=\"fill:#de2e44;\"/>\n    <path clip-path=\"url(#p43455f5b76)\" d=\"M 242.93675 21.871219 \nL 256.32875 21.871219 \nL 256.32875 32.743219 \nL 242.93675 32.743219 \nL 242.93675 21.871219 \n\" style=\"fill:#9c1b5b;\"/>\n    <path clip-path=\"url(#p43455f5b76)\" d=\"M 256.32875 21.871219 \nL 269.72075 21.871219 \nL 269.72075 32.743219 \nL 256.32875 32.743219 \nL 256.32875 21.871219 \n\" style=\"fill:#07071d;\"/>\n    <path clip-path=\"url(#p43455f5b76)\" d=\"M 269.72075 21.871219 \nL 283.11275 21.871219 \nL 283.11275 32.743219 \nL 269.72075 32.743219 \nL 269.72075 21.871219 \n\" style=\"fill:#04051a;\"/>\n    <path clip-path=\"url(#p43455f5b76)\" d=\"M 283.11275 21.871219 \nL 296.50475 21.871219 \nL 296.50475 32.743219 \nL 283.11275 32.743219 \nL 283.11275 21.871219 \n\" style=\"fill:#731f58;\"/>\n    <path clip-path=\"url(#p43455f5b76)\" d=\"M 296.50475 21.871219 \nL 309.89675 21.871219 \nL 309.89675 32.743219 \nL 296.50475 32.743219 \nL 296.50475 21.871219 \n\" style=\"fill:#04051a;\"/>\n    <path clip-path=\"url(#p43455f5b76)\" d=\"M 309.89675 21.871219 \nL 323.28875 21.871219 \nL 323.28875 32.743219 \nL 309.89675 32.743219 \nL 309.89675 21.871219 \n\" style=\"fill:#4c1d4b;\"/>\n    <path clip-path=\"url(#p43455f5b76)\" d=\"M 323.28875 21.871219 \nL 336.68075 21.871219 \nL 336.68075 32.743219 \nL 323.28875 32.743219 \nL 323.28875 21.871219 \n\" style=\"fill:#180f29;\"/>\n    <path clip-path=\"url(#p43455f5b76)\" d=\"M 336.68075 21.871219 \nL 350.07275 21.871219 \nL 350.07275 32.743219 \nL 336.68075 32.743219 \nL 336.68075 21.871219 \n\" style=\"fill:#1e122d;\"/>\n    <path clip-path=\"url(#p43455f5b76)\" d=\"M 350.07275 21.871219 \nL 363.46475 21.871219 \nL 363.46475 32.743219 \nL 350.07275 32.743219 \nL 350.07275 21.871219 \n\" style=\"fill:#aa185a;\"/>\n    <path clip-path=\"url(#p43455f5b76)\" d=\"M 363.46475 21.871219 \nL 376.85675 21.871219 \nL 376.85675 32.743219 \nL 363.46475 32.743219 \nL 363.46475 21.871219 \n\" style=\"fill:#631f53;\"/>\n    <path clip-path=\"url(#p43455f5b76)\" d=\"M 376.85675 21.871219 \nL 390.24875 21.871219 \nL 390.24875 32.743219 \nL 376.85675 32.743219 \nL 376.85675 21.871219 \n\" style=\"fill:#491d49;\"/>\n    <path clip-path=\"url(#p43455f5b76)\" d=\"M 390.24875 21.871219 \nL 403.64075 21.871219 \nL 403.64075 32.743219 \nL 390.24875 32.743219 \nL 390.24875 21.871219 \n\" style=\"fill:#7d1f5a;\"/>\n    <path clip-path=\"url(#p43455f5b76)\" d=\"M 403.64075 21.871219 \nL 417.03275 21.871219 \nL 417.03275 32.743219 \nL 403.64075 32.743219 \nL 403.64075 21.871219 \n\" style=\"fill:#35193e;\"/>\n    <path clip-path=\"url(#p43455f5b76)\" d=\"M 417.03275 21.871219 \nL 430.42475 21.871219 \nL 430.42475 32.743219 \nL 417.03275 32.743219 \nL 417.03275 21.871219 \n\" style=\"fill:#1d112c;\"/>\n    <path clip-path=\"url(#p43455f5b76)\" d=\"M 430.42475 21.871219 \nL 443.81675 21.871219 \nL 443.81675 32.743219 \nL 430.42475 32.743219 \nL 430.42475 21.871219 \n\" style=\"fill:#0d0a21;\"/>\n    <path clip-path=\"url(#p43455f5b76)\" d=\"M 443.81675 21.871219 \nL 457.20875 21.871219 \nL 457.20875 32.743219 \nL 443.81675 32.743219 \nL 443.81675 21.871219 \n\" style=\"fill:#20122e;\"/>\n    <path clip-path=\"url(#p43455f5b76)\" d=\"M 189.36875 32.743219 \nL 202.76075 32.743219 \nL 202.76075 43.615219 \nL 189.36875 43.615219 \nL 189.36875 32.743219 \n\" style=\"fill:#3d1a42;\"/>\n    <path clip-path=\"url(#p43455f5b76)\" d=\"M 202.76075 32.743219 \nL 216.15275 32.743219 \nL 216.15275 43.615219 \nL 202.76075 43.615219 \nL 202.76075 32.743219 \n\" style=\"fill:#f6a077;\"/>\n    <path clip-path=\"url(#p43455f5b76)\" d=\"M 216.15275 32.743219 \nL 229.54475 32.743219 \nL 229.54475 43.615219 \nL 216.15275 43.615219 \nL 216.15275 32.743219 \n\" style=\"fill:#faebdd;\"/>\n    <path clip-path=\"url(#p43455f5b76)\" d=\"M 229.54475 32.743219 \nL 242.93675 32.743219 \nL 242.93675 43.615219 \nL 229.54475 43.615219 \nL 229.54475 32.743219 \n\" style=\"fill:#f58b63;\"/>\n    <path clip-path=\"url(#p43455f5b76)\" d=\"M 242.93675 32.743219 \nL 256.32875 32.743219 \nL 256.32875 43.615219 \nL 242.93675 43.615219 \nL 242.93675 32.743219 \n\" style=\"fill:#dd2c45;\"/>\n    <path clip-path=\"url(#p43455f5b76)\" d=\"M 256.32875 32.743219 \nL 269.72075 32.743219 \nL 269.72075 43.615219 \nL 256.32875 43.615219 \nL 256.32875 32.743219 \n\" style=\"fill:#0d0a21;\"/>\n    <path clip-path=\"url(#p43455f5b76)\" d=\"M 269.72075 32.743219 \nL 283.11275 32.743219 \nL 283.11275 43.615219 \nL 269.72075 43.615219 \nL 269.72075 32.743219 \n\" style=\"fill:#07071d;\"/>\n    <path clip-path=\"url(#p43455f5b76)\" d=\"M 283.11275 32.743219 \nL 296.50475 32.743219 \nL 296.50475 43.615219 \nL 283.11275 43.615219 \nL 283.11275 32.743219 \n\" style=\"fill:#641f54;\"/>\n    <path clip-path=\"url(#p43455f5b76)\" d=\"M 296.50475 32.743219 \nL 309.89675 32.743219 \nL 309.89675 43.615219 \nL 296.50475 43.615219 \nL 296.50475 32.743219 \n\" style=\"fill:#03051a;\"/>\n    <path clip-path=\"url(#p43455f5b76)\" d=\"M 309.89675 32.743219 \nL 323.28875 32.743219 \nL 323.28875 43.615219 \nL 309.89675 43.615219 \nL 309.89675 32.743219 \n\" style=\"fill:#3c1a42;\"/>\n    <path clip-path=\"url(#p43455f5b76)\" d=\"M 323.28875 32.743219 \nL 336.68075 32.743219 \nL 336.68075 43.615219 \nL 323.28875 43.615219 \nL 323.28875 32.743219 \n\" style=\"fill:#110c24;\"/>\n    <path clip-path=\"url(#p43455f5b76)\" d=\"M 336.68075 32.743219 \nL 350.07275 32.743219 \nL 350.07275 43.615219 \nL 336.68075 43.615219 \nL 336.68075 32.743219 \n\" style=\"fill:#1d112c;\"/>\n    <path clip-path=\"url(#p43455f5b76)\" d=\"M 350.07275 32.743219 \nL 363.46475 32.743219 \nL 363.46475 43.615219 \nL 350.07275 43.615219 \nL 350.07275 32.743219 \n\" style=\"fill:#a11a5b;\"/>\n    <path clip-path=\"url(#p43455f5b76)\" d=\"M 363.46475 32.743219 \nL 376.85675 32.743219 \nL 376.85675 43.615219 \nL 363.46475 43.615219 \nL 363.46475 32.743219 \n\" style=\"fill:#631f53;\"/>\n    <path clip-path=\"url(#p43455f5b76)\" d=\"M 376.85675 32.743219 \nL 390.24875 32.743219 \nL 390.24875 43.615219 \nL 376.85675 43.615219 \nL 376.85675 32.743219 \n\" style=\"fill:#431c46;\"/>\n    <path clip-path=\"url(#p43455f5b76)\" d=\"M 390.24875 32.743219 \nL 403.64075 32.743219 \nL 403.64075 43.615219 \nL 390.24875 43.615219 \nL 390.24875 32.743219 \n\" style=\"fill:#7a1f59;\"/>\n    <path clip-path=\"url(#p43455f5b76)\" d=\"M 403.64075 32.743219 \nL 417.03275 32.743219 \nL 417.03275 43.615219 \nL 403.64075 43.615219 \nL 403.64075 32.743219 \n\" style=\"fill:#241432;\"/>\n    <path clip-path=\"url(#p43455f5b76)\" d=\"M 417.03275 32.743219 \nL 430.42475 32.743219 \nL 430.42475 43.615219 \nL 417.03275 43.615219 \nL 417.03275 32.743219 \n\" style=\"fill:#1e122d;\"/>\n    <path clip-path=\"url(#p43455f5b76)\" d=\"M 430.42475 32.743219 \nL 443.81675 32.743219 \nL 443.81675 43.615219 \nL 430.42475 43.615219 \nL 430.42475 32.743219 \n\" style=\"fill:#0b0920;\"/>\n    <path clip-path=\"url(#p43455f5b76)\" d=\"M 443.81675 32.743219 \nL 457.20875 32.743219 \nL 457.20875 43.615219 \nL 443.81675 43.615219 \nL 443.81675 32.743219 \n\" style=\"fill:#20122e;\"/>\n    <path clip-path=\"url(#p43455f5b76)\" d=\"M 189.36875 43.615219 \nL 202.76075 43.615219 \nL 202.76075 54.487219 \nL 189.36875 54.487219 \nL 189.36875 43.615219 \n\" style=\"fill:#421b45;\"/>\n    <path clip-path=\"url(#p43455f5b76)\" d=\"M 202.76075 43.615219 \nL 216.15275 43.615219 \nL 216.15275 54.487219 \nL 202.76075 54.487219 \nL 202.76075 43.615219 \n\" style=\"fill:#de2e44;\"/>\n    <path clip-path=\"url(#p43455f5b76)\" d=\"M 216.15275 43.615219 \nL 229.54475 43.615219 \nL 229.54475 54.487219 \nL 216.15275 54.487219 \nL 216.15275 43.615219 \n\" style=\"fill:#f58b63;\"/>\n    <path clip-path=\"url(#p43455f5b76)\" d=\"M 229.54475 43.615219 \nL 242.93675 43.615219 \nL 242.93675 54.487219 \nL 229.54475 54.487219 \nL 229.54475 43.615219 \n\" style=\"fill:#faebdd;\"/>\n    <path clip-path=\"url(#p43455f5b76)\" d=\"M 242.93675 43.615219 \nL 256.32875 43.615219 \nL 256.32875 54.487219 \nL 242.93675 54.487219 \nL 242.93675 43.615219 \n\" style=\"fill:#f6b18b;\"/>\n    <path clip-path=\"url(#p43455f5b76)\" d=\"M 256.32875 43.615219 \nL 269.72075 43.615219 \nL 269.72075 54.487219 \nL 256.32875 54.487219 \nL 256.32875 43.615219 \n\" style=\"fill:#07071d;\"/>\n    <path clip-path=\"url(#p43455f5b76)\" d=\"M 269.72075 43.615219 \nL 283.11275 43.615219 \nL 283.11275 54.487219 \nL 269.72075 54.487219 \nL 269.72075 43.615219 \n\" style=\"fill:#04051a;\"/>\n    <path clip-path=\"url(#p43455f5b76)\" d=\"M 283.11275 43.615219 \nL 296.50475 43.615219 \nL 296.50475 54.487219 \nL 283.11275 54.487219 \nL 283.11275 43.615219 \n\" style=\"fill:#531e4d;\"/>\n    <path clip-path=\"url(#p43455f5b76)\" d=\"M 296.50475 43.615219 \nL 309.89675 43.615219 \nL 309.89675 54.487219 \nL 296.50475 54.487219 \nL 296.50475 43.615219 \n\" style=\"fill:#0b0920;\"/>\n    <path clip-path=\"url(#p43455f5b76)\" d=\"M 309.89675 43.615219 \nL 323.28875 43.615219 \nL 323.28875 54.487219 \nL 309.89675 54.487219 \nL 309.89675 43.615219 \n\" style=\"fill:#33183c;\"/>\n    <path clip-path=\"url(#p43455f5b76)\" d=\"M 323.28875 43.615219 \nL 336.68075 43.615219 \nL 336.68075 54.487219 \nL 323.28875 54.487219 \nL 323.28875 43.615219 \n\" style=\"fill:#130d25;\"/>\n    <path clip-path=\"url(#p43455f5b76)\" d=\"M 336.68075 43.615219 \nL 350.07275 43.615219 \nL 350.07275 54.487219 \nL 336.68075 54.487219 \nL 336.68075 43.615219 \n\" style=\"fill:#20122e;\"/>\n    <path clip-path=\"url(#p43455f5b76)\" d=\"M 350.07275 43.615219 \nL 363.46475 43.615219 \nL 363.46475 54.487219 \nL 350.07275 54.487219 \nL 350.07275 43.615219 \n\" style=\"fill:#901d5b;\"/>\n    <path clip-path=\"url(#p43455f5b76)\" d=\"M 363.46475 43.615219 \nL 376.85675 43.615219 \nL 376.85675 54.487219 \nL 363.46475 54.487219 \nL 363.46475 43.615219 \n\" style=\"fill:#2a1636;\"/>\n    <path clip-path=\"url(#p43455f5b76)\" d=\"M 376.85675 43.615219 \nL 390.24875 43.615219 \nL 390.24875 54.487219 \nL 376.85675 54.487219 \nL 376.85675 43.615219 \n\" style=\"fill:#661f54;\"/>\n    <path clip-path=\"url(#p43455f5b76)\" d=\"M 390.24875 43.615219 \nL 403.64075 43.615219 \nL 403.64075 54.487219 \nL 390.24875 54.487219 \nL 390.24875 43.615219 \n\" style=\"fill:#6e1f57;\"/>\n    <path clip-path=\"url(#p43455f5b76)\" d=\"M 403.64075 43.615219 \nL 417.03275 43.615219 \nL 417.03275 54.487219 \nL 403.64075 54.487219 \nL 403.64075 43.615219 \n\" style=\"fill:#130d25;\"/>\n    <path clip-path=\"url(#p43455f5b76)\" d=\"M 417.03275 43.615219 \nL 430.42475 43.615219 \nL 430.42475 54.487219 \nL 417.03275 54.487219 \nL 417.03275 43.615219 \n\" style=\"fill:#05061b;\"/>\n    <path clip-path=\"url(#p43455f5b76)\" d=\"M 430.42475 43.615219 \nL 443.81675 43.615219 \nL 443.81675 54.487219 \nL 430.42475 54.487219 \nL 430.42475 43.615219 \n\" style=\"fill:#05061b;\"/>\n    <path clip-path=\"url(#p43455f5b76)\" d=\"M 443.81675 43.615219 \nL 457.20875 43.615219 \nL 457.20875 54.487219 \nL 443.81675 54.487219 \nL 443.81675 43.615219 \n\" style=\"fill:#281535;\"/>\n    <path clip-path=\"url(#p43455f5b76)\" d=\"M 189.36875 54.487219 \nL 202.76075 54.487219 \nL 202.76075 65.359219 \nL 189.36875 65.359219 \nL 189.36875 54.487219 \n\" style=\"fill:#33183c;\"/>\n    <path clip-path=\"url(#p43455f5b76)\" d=\"M 202.76075 54.487219 \nL 216.15275 54.487219 \nL 216.15275 65.359219 \nL 202.76075 65.359219 \nL 202.76075 54.487219 \n\" style=\"fill:#9c1b5b;\"/>\n    <path clip-path=\"url(#p43455f5b76)\" d=\"M 216.15275 54.487219 \nL 229.54475 54.487219 \nL 229.54475 65.359219 \nL 216.15275 65.359219 \nL 216.15275 54.487219 \n\" style=\"fill:#dd2c45;\"/>\n    <path clip-path=\"url(#p43455f5b76)\" d=\"M 229.54475 54.487219 \nL 242.93675 54.487219 \nL 242.93675 65.359219 \nL 229.54475 65.359219 \nL 229.54475 54.487219 \n\" style=\"fill:#f6b18b;\"/>\n    <path clip-path=\"url(#p43455f5b76)\" d=\"M 242.93675 54.487219 \nL 256.32875 54.487219 \nL 256.32875 65.359219 \nL 242.93675 65.359219 \nL 242.93675 54.487219 \n\" style=\"fill:#faebdd;\"/>\n    <path clip-path=\"url(#p43455f5b76)\" d=\"M 256.32875 54.487219 \nL 269.72075 54.487219 \nL 269.72075 65.359219 \nL 256.32875 65.359219 \nL 256.32875 54.487219 \n\" style=\"fill:#08081e;\"/>\n    <path clip-path=\"url(#p43455f5b76)\" d=\"M 269.72075 54.487219 \nL 283.11275 54.487219 \nL 283.11275 65.359219 \nL 269.72075 65.359219 \nL 269.72075 54.487219 \n\" style=\"fill:#04051a;\"/>\n    <path clip-path=\"url(#p43455f5b76)\" d=\"M 283.11275 54.487219 \nL 296.50475 54.487219 \nL 296.50475 65.359219 \nL 283.11275 65.359219 \nL 283.11275 54.487219 \n\" style=\"fill:#431c46;\"/>\n    <path clip-path=\"url(#p43455f5b76)\" d=\"M 296.50475 54.487219 \nL 309.89675 54.487219 \nL 309.89675 65.359219 \nL 296.50475 65.359219 \nL 296.50475 54.487219 \n\" style=\"fill:#140e26;\"/>\n    <path clip-path=\"url(#p43455f5b76)\" d=\"M 309.89675 54.487219 \nL 323.28875 54.487219 \nL 323.28875 65.359219 \nL 309.89675 65.359219 \nL 309.89675 54.487219 \n\" style=\"fill:#33183c;\"/>\n    <path clip-path=\"url(#p43455f5b76)\" d=\"M 323.28875 54.487219 \nL 336.68075 54.487219 \nL 336.68075 65.359219 \nL 323.28875 65.359219 \nL 323.28875 54.487219 \n\" style=\"fill:#0e0b22;\"/>\n    <path clip-path=\"url(#p43455f5b76)\" d=\"M 336.68075 54.487219 \nL 350.07275 54.487219 \nL 350.07275 65.359219 \nL 336.68075 65.359219 \nL 336.68075 54.487219 \n\" style=\"fill:#2a1636;\"/>\n    <path clip-path=\"url(#p43455f5b76)\" d=\"M 350.07275 54.487219 \nL 363.46475 54.487219 \nL 363.46475 65.359219 \nL 350.07275 65.359219 \nL 350.07275 54.487219 \n\" style=\"fill:#701f57;\"/>\n    <path clip-path=\"url(#p43455f5b76)\" d=\"M 363.46475 54.487219 \nL 376.85675 54.487219 \nL 376.85675 65.359219 \nL 363.46475 65.359219 \nL 363.46475 54.487219 \n\" style=\"fill:#170f28;\"/>\n    <path clip-path=\"url(#p43455f5b76)\" d=\"M 376.85675 54.487219 \nL 390.24875 54.487219 \nL 390.24875 65.359219 \nL 376.85675 65.359219 \nL 376.85675 54.487219 \n\" style=\"fill:#3d1a42;\"/>\n    <path clip-path=\"url(#p43455f5b76)\" d=\"M 390.24875 54.487219 \nL 403.64075 54.487219 \nL 403.64075 65.359219 \nL 390.24875 65.359219 \nL 390.24875 54.487219 \n\" style=\"fill:#591e50;\"/>\n    <path clip-path=\"url(#p43455f5b76)\" d=\"M 403.64075 54.487219 \nL 417.03275 54.487219 \nL 417.03275 65.359219 \nL 403.64075 65.359219 \nL 403.64075 54.487219 \n\" style=\"fill:#0a091f;\"/>\n    <path clip-path=\"url(#p43455f5b76)\" d=\"M 417.03275 54.487219 \nL 430.42475 54.487219 \nL 430.42475 65.359219 \nL 417.03275 65.359219 \nL 417.03275 54.487219 \n\" style=\"fill:#0e0b22;\"/>\n    <path clip-path=\"url(#p43455f5b76)\" d=\"M 430.42475 54.487219 \nL 443.81675 54.487219 \nL 443.81675 65.359219 \nL 430.42475 65.359219 \nL 430.42475 54.487219 \n\" style=\"fill:#06071c;\"/>\n    <path clip-path=\"url(#p43455f5b76)\" d=\"M 443.81675 54.487219 \nL 457.20875 54.487219 \nL 457.20875 65.359219 \nL 443.81675 65.359219 \nL 443.81675 54.487219 \n\" style=\"fill:#1e122d;\"/>\n    <path clip-path=\"url(#p43455f5b76)\" d=\"M 189.36875 65.359219 \nL 202.76075 65.359219 \nL 202.76075 76.231219 \nL 189.36875 76.231219 \nL 189.36875 65.359219 \n\" style=\"fill:#03051a;\"/>\n    <path clip-path=\"url(#p43455f5b76)\" d=\"M 202.76075 65.359219 \nL 216.15275 65.359219 \nL 216.15275 76.231219 \nL 202.76075 76.231219 \nL 202.76075 65.359219 \n\" style=\"fill:#07071d;\"/>\n    <path clip-path=\"url(#p43455f5b76)\" d=\"M 216.15275 65.359219 \nL 229.54475 65.359219 \nL 229.54475 76.231219 \nL 216.15275 76.231219 \nL 216.15275 65.359219 \n\" style=\"fill:#0d0a21;\"/>\n    <path clip-path=\"url(#p43455f5b76)\" d=\"M 229.54475 65.359219 \nL 242.93675 65.359219 \nL 242.93675 76.231219 \nL 229.54475 76.231219 \nL 229.54475 65.359219 \n\" style=\"fill:#07071d;\"/>\n    <path clip-path=\"url(#p43455f5b76)\" d=\"M 242.93675 65.359219 \nL 256.32875 65.359219 \nL 256.32875 76.231219 \nL 242.93675 76.231219 \nL 242.93675 65.359219 \n\" style=\"fill:#08081e;\"/>\n    <path clip-path=\"url(#p43455f5b76)\" d=\"M 256.32875 65.359219 \nL 269.72075 65.359219 \nL 269.72075 76.231219 \nL 256.32875 76.231219 \nL 256.32875 65.359219 \n\" style=\"fill:#faebdd;\"/>\n    <path clip-path=\"url(#p43455f5b76)\" d=\"M 269.72075 65.359219 \nL 283.11275 65.359219 \nL 283.11275 76.231219 \nL 269.72075 76.231219 \nL 269.72075 65.359219 \n\" style=\"fill:#f6c19f;\"/>\n    <path clip-path=\"url(#p43455f5b76)\" d=\"M 283.11275 65.359219 \nL 296.50475 65.359219 \nL 296.50475 76.231219 \nL 283.11275 76.231219 \nL 283.11275 65.359219 \n\" style=\"fill:#3c1a42;\"/>\n    <path clip-path=\"url(#p43455f5b76)\" d=\"M 296.50475 65.359219 \nL 309.89675 65.359219 \nL 309.89675 76.231219 \nL 296.50475 76.231219 \nL 296.50475 65.359219 \n\" style=\"fill:#0b0920;\"/>\n    <path clip-path=\"url(#p43455f5b76)\" d=\"M 309.89675 65.359219 \nL 323.28875 65.359219 \nL 323.28875 76.231219 \nL 309.89675 76.231219 \nL 309.89675 65.359219 \n\" style=\"fill:#281535;\"/>\n    <path clip-path=\"url(#p43455f5b76)\" d=\"M 323.28875 65.359219 \nL 336.68075 65.359219 \nL 336.68075 76.231219 \nL 323.28875 76.231219 \nL 323.28875 65.359219 \n\" style=\"fill:#481c48;\"/>\n    <path clip-path=\"url(#p43455f5b76)\" d=\"M 336.68075 65.359219 \nL 350.07275 65.359219 \nL 350.07275 76.231219 \nL 336.68075 76.231219 \nL 336.68075 65.359219 \n\" style=\"fill:#2e1739;\"/>\n    <path clip-path=\"url(#p43455f5b76)\" d=\"M 350.07275 65.359219 \nL 363.46475 65.359219 \nL 363.46475 76.231219 \nL 350.07275 76.231219 \nL 350.07275 65.359219 \n\" style=\"fill:#221331;\"/>\n    <path clip-path=\"url(#p43455f5b76)\" d=\"M 363.46475 65.359219 \nL 376.85675 65.359219 \nL 376.85675 76.231219 \nL 363.46475 76.231219 \nL 363.46475 65.359219 \n\" style=\"fill:#37193f;\"/>\n    <path clip-path=\"url(#p43455f5b76)\" d=\"M 376.85675 65.359219 \nL 390.24875 65.359219 \nL 390.24875 76.231219 \nL 376.85675 76.231219 \nL 376.85675 65.359219 \n\" style=\"fill:#180f29;\"/>\n    <path clip-path=\"url(#p43455f5b76)\" d=\"M 390.24875 65.359219 \nL 403.64075 65.359219 \nL 403.64075 76.231219 \nL 390.24875 76.231219 \nL 390.24875 65.359219 \n\" style=\"fill:#160e27;\"/>\n    <path clip-path=\"url(#p43455f5b76)\" d=\"M 403.64075 65.359219 \nL 417.03275 65.359219 \nL 417.03275 76.231219 \nL 403.64075 76.231219 \nL 403.64075 65.359219 \n\" style=\"fill:#100b23;\"/>\n    <path clip-path=\"url(#p43455f5b76)\" d=\"M 417.03275 65.359219 \nL 430.42475 65.359219 \nL 430.42475 76.231219 \nL 417.03275 76.231219 \nL 417.03275 65.359219 \n\" style=\"fill:#0d0a21;\"/>\n    <path clip-path=\"url(#p43455f5b76)\" d=\"M 430.42475 65.359219 \nL 443.81675 65.359219 \nL 443.81675 76.231219 \nL 430.42475 76.231219 \nL 430.42475 65.359219 \n\" style=\"fill:#921c5b;\"/>\n    <path clip-path=\"url(#p43455f5b76)\" d=\"M 443.81675 65.359219 \nL 457.20875 65.359219 \nL 457.20875 76.231219 \nL 443.81675 76.231219 \nL 443.81675 65.359219 \n\" style=\"fill:#170f28;\"/>\n    <path clip-path=\"url(#p43455f5b76)\" d=\"M 189.36875 76.231219 \nL 202.76075 76.231219 \nL 202.76075 87.103219 \nL 189.36875 87.103219 \nL 189.36875 76.231219 \n\" style=\"fill:#04051a;\"/>\n    <path clip-path=\"url(#p43455f5b76)\" d=\"M 202.76075 76.231219 \nL 216.15275 76.231219 \nL 216.15275 87.103219 \nL 202.76075 87.103219 \nL 202.76075 76.231219 \n\" style=\"fill:#04051a;\"/>\n    <path clip-path=\"url(#p43455f5b76)\" d=\"M 216.15275 76.231219 \nL 229.54475 76.231219 \nL 229.54475 87.103219 \nL 216.15275 87.103219 \nL 216.15275 76.231219 \n\" style=\"fill:#07071d;\"/>\n    <path clip-path=\"url(#p43455f5b76)\" d=\"M 229.54475 76.231219 \nL 242.93675 76.231219 \nL 242.93675 87.103219 \nL 229.54475 87.103219 \nL 229.54475 76.231219 \n\" style=\"fill:#04051a;\"/>\n    <path clip-path=\"url(#p43455f5b76)\" d=\"M 242.93675 76.231219 \nL 256.32875 76.231219 \nL 256.32875 87.103219 \nL 242.93675 87.103219 \nL 242.93675 76.231219 \n\" style=\"fill:#04051a;\"/>\n    <path clip-path=\"url(#p43455f5b76)\" d=\"M 256.32875 76.231219 \nL 269.72075 76.231219 \nL 269.72075 87.103219 \nL 256.32875 87.103219 \nL 256.32875 76.231219 \n\" style=\"fill:#f6c19f;\"/>\n    <path clip-path=\"url(#p43455f5b76)\" d=\"M 269.72075 76.231219 \nL 283.11275 76.231219 \nL 283.11275 87.103219 \nL 269.72075 87.103219 \nL 269.72075 76.231219 \n\" style=\"fill:#faebdd;\"/>\n    <path clip-path=\"url(#p43455f5b76)\" d=\"M 283.11275 76.231219 \nL 296.50475 76.231219 \nL 296.50475 87.103219 \nL 283.11275 87.103219 \nL 283.11275 76.231219 \n\" style=\"fill:#31183b;\"/>\n    <path clip-path=\"url(#p43455f5b76)\" d=\"M 296.50475 76.231219 \nL 309.89675 76.231219 \nL 309.89675 87.103219 \nL 296.50475 87.103219 \nL 296.50475 76.231219 \n\" style=\"fill:#0a091f;\"/>\n    <path clip-path=\"url(#p43455f5b76)\" d=\"M 309.89675 76.231219 \nL 323.28875 76.231219 \nL 323.28875 87.103219 \nL 309.89675 87.103219 \nL 309.89675 76.231219 \n\" style=\"fill:#221331;\"/>\n    <path clip-path=\"url(#p43455f5b76)\" d=\"M 323.28875 76.231219 \nL 336.68075 76.231219 \nL 336.68075 87.103219 \nL 323.28875 87.103219 \nL 323.28875 76.231219 \n\" style=\"fill:#461c48;\"/>\n    <path clip-path=\"url(#p43455f5b76)\" d=\"M 336.68075 76.231219 \nL 350.07275 76.231219 \nL 350.07275 87.103219 \nL 336.68075 87.103219 \nL 336.68075 76.231219 \n\" style=\"fill:#20122e;\"/>\n    <path clip-path=\"url(#p43455f5b76)\" d=\"M 350.07275 76.231219 \nL 363.46475 76.231219 \nL 363.46475 87.103219 \nL 350.07275 87.103219 \nL 350.07275 76.231219 \n\" style=\"fill:#1d112c;\"/>\n    <path clip-path=\"url(#p43455f5b76)\" d=\"M 363.46475 76.231219 \nL 376.85675 76.231219 \nL 376.85675 87.103219 \nL 363.46475 87.103219 \nL 363.46475 76.231219 \n\" style=\"fill:#281535;\"/>\n    <path clip-path=\"url(#p43455f5b76)\" d=\"M 376.85675 76.231219 \nL 390.24875 76.231219 \nL 390.24875 87.103219 \nL 376.85675 87.103219 \nL 376.85675 76.231219 \n\" style=\"fill:#110c24;\"/>\n    <path clip-path=\"url(#p43455f5b76)\" d=\"M 390.24875 76.231219 \nL 403.64075 76.231219 \nL 403.64075 87.103219 \nL 390.24875 87.103219 \nL 390.24875 76.231219 \n\" style=\"fill:#100b23;\"/>\n    <path clip-path=\"url(#p43455f5b76)\" d=\"M 403.64075 76.231219 \nL 417.03275 76.231219 \nL 417.03275 87.103219 \nL 403.64075 87.103219 \nL 403.64075 76.231219 \n\" style=\"fill:#110c24;\"/>\n    <path clip-path=\"url(#p43455f5b76)\" d=\"M 417.03275 76.231219 \nL 430.42475 76.231219 \nL 430.42475 87.103219 \nL 417.03275 87.103219 \nL 417.03275 76.231219 \n\" style=\"fill:#0e0b22;\"/>\n    <path clip-path=\"url(#p43455f5b76)\" d=\"M 430.42475 76.231219 \nL 443.81675 76.231219 \nL 443.81675 87.103219 \nL 430.42475 87.103219 \nL 430.42475 76.231219 \n\" style=\"fill:#871e5b;\"/>\n    <path clip-path=\"url(#p43455f5b76)\" d=\"M 443.81675 76.231219 \nL 457.20875 76.231219 \nL 457.20875 87.103219 \nL 443.81675 87.103219 \nL 443.81675 76.231219 \n\" style=\"fill:#100b23;\"/>\n    <path clip-path=\"url(#p43455f5b76)\" d=\"M 189.36875 87.103219 \nL 202.76075 87.103219 \nL 202.76075 97.975219 \nL 189.36875 97.975219 \nL 189.36875 87.103219 \n\" style=\"fill:#130d25;\"/>\n    <path clip-path=\"url(#p43455f5b76)\" d=\"M 202.76075 87.103219 \nL 216.15275 87.103219 \nL 216.15275 97.975219 \nL 202.76075 97.975219 \nL 202.76075 87.103219 \n\" style=\"fill:#731f58;\"/>\n    <path clip-path=\"url(#p43455f5b76)\" d=\"M 216.15275 87.103219 \nL 229.54475 87.103219 \nL 229.54475 97.975219 \nL 216.15275 97.975219 \nL 216.15275 87.103219 \n\" style=\"fill:#641f54;\"/>\n    <path clip-path=\"url(#p43455f5b76)\" d=\"M 229.54475 87.103219 \nL 242.93675 87.103219 \nL 242.93675 97.975219 \nL 229.54475 97.975219 \nL 229.54475 87.103219 \n\" style=\"fill:#531e4d;\"/>\n    <path clip-path=\"url(#p43455f5b76)\" d=\"M 242.93675 87.103219 \nL 256.32875 87.103219 \nL 256.32875 97.975219 \nL 242.93675 97.975219 \nL 242.93675 87.103219 \n\" style=\"fill:#431c46;\"/>\n    <path clip-path=\"url(#p43455f5b76)\" d=\"M 256.32875 87.103219 \nL 269.72075 87.103219 \nL 269.72075 97.975219 \nL 256.32875 97.975219 \nL 256.32875 87.103219 \n\" style=\"fill:#3c1a42;\"/>\n    <path clip-path=\"url(#p43455f5b76)\" d=\"M 269.72075 87.103219 \nL 283.11275 87.103219 \nL 283.11275 97.975219 \nL 269.72075 97.975219 \nL 269.72075 87.103219 \n\" style=\"fill:#31183b;\"/>\n    <path clip-path=\"url(#p43455f5b76)\" d=\"M 283.11275 87.103219 \nL 296.50475 87.103219 \nL 296.50475 97.975219 \nL 283.11275 97.975219 \nL 283.11275 87.103219 \n\" style=\"fill:#faebdd;\"/>\n    <path clip-path=\"url(#p43455f5b76)\" d=\"M 296.50475 87.103219 \nL 309.89675 87.103219 \nL 309.89675 97.975219 \nL 296.50475 97.975219 \nL 296.50475 87.103219 \n\" style=\"fill:#05061b;\"/>\n    <path clip-path=\"url(#p43455f5b76)\" d=\"M 309.89675 87.103219 \nL 323.28875 87.103219 \nL 323.28875 97.975219 \nL 309.89675 97.975219 \nL 309.89675 87.103219 \n\" style=\"fill:#9a1b5b;\"/>\n    <path clip-path=\"url(#p43455f5b76)\" d=\"M 323.28875 87.103219 \nL 336.68075 87.103219 \nL 336.68075 97.975219 \nL 323.28875 97.975219 \nL 323.28875 87.103219 \n\" style=\"fill:#211330;\"/>\n    <path clip-path=\"url(#p43455f5b76)\" d=\"M 336.68075 87.103219 \nL 350.07275 87.103219 \nL 350.07275 97.975219 \nL 336.68075 97.975219 \nL 336.68075 87.103219 \n\" style=\"fill:#100b23;\"/>\n    <path clip-path=\"url(#p43455f5b76)\" d=\"M 350.07275 87.103219 \nL 363.46475 87.103219 \nL 363.46475 97.975219 \nL 350.07275 97.975219 \nL 350.07275 87.103219 \n\" style=\"fill:#4b1d4a;\"/>\n    <path clip-path=\"url(#p43455f5b76)\" d=\"M 363.46475 87.103219 \nL 376.85675 87.103219 \nL 376.85675 97.975219 \nL 363.46475 97.975219 \nL 363.46475 87.103219 \n\" style=\"fill:#3c1a42;\"/>\n    <path clip-path=\"url(#p43455f5b76)\" d=\"M 376.85675 87.103219 \nL 390.24875 87.103219 \nL 390.24875 97.975219 \nL 376.85675 97.975219 \nL 376.85675 87.103219 \n\" style=\"fill:#761f58;\"/>\n    <path clip-path=\"url(#p43455f5b76)\" d=\"M 390.24875 87.103219 \nL 403.64075 87.103219 \nL 403.64075 97.975219 \nL 390.24875 97.975219 \nL 390.24875 87.103219 \n\" style=\"fill:#901d5b;\"/>\n    <path clip-path=\"url(#p43455f5b76)\" d=\"M 403.64075 87.103219 \nL 417.03275 87.103219 \nL 417.03275 97.975219 \nL 403.64075 97.975219 \nL 403.64075 87.103219 \n\" style=\"fill:#130d25;\"/>\n    <path clip-path=\"url(#p43455f5b76)\" d=\"M 417.03275 87.103219 \nL 430.42475 87.103219 \nL 430.42475 97.975219 \nL 417.03275 97.975219 \nL 417.03275 87.103219 \n\" style=\"fill:#241432;\"/>\n    <path clip-path=\"url(#p43455f5b76)\" d=\"M 430.42475 87.103219 \nL 443.81675 87.103219 \nL 443.81675 97.975219 \nL 430.42475 97.975219 \nL 430.42475 87.103219 \n\" style=\"fill:#0d0a21;\"/>\n    <path clip-path=\"url(#p43455f5b76)\" d=\"M 443.81675 87.103219 \nL 457.20875 87.103219 \nL 457.20875 97.975219 \nL 443.81675 97.975219 \nL 443.81675 87.103219 \n\" style=\"fill:#481c48;\"/>\n    <path clip-path=\"url(#p43455f5b76)\" d=\"M 189.36875 97.975219 \nL 202.76075 97.975219 \nL 202.76075 108.847219 \nL 189.36875 108.847219 \nL 189.36875 97.975219 \n\" style=\"fill:#03051a;\"/>\n    <path clip-path=\"url(#p43455f5b76)\" d=\"M 202.76075 97.975219 \nL 216.15275 97.975219 \nL 216.15275 108.847219 \nL 202.76075 108.847219 \nL 202.76075 97.975219 \n\" style=\"fill:#04051a;\"/>\n    <path clip-path=\"url(#p43455f5b76)\" d=\"M 216.15275 97.975219 \nL 229.54475 97.975219 \nL 229.54475 108.847219 \nL 216.15275 108.847219 \nL 216.15275 97.975219 \n\" style=\"fill:#03051a;\"/>\n    <path clip-path=\"url(#p43455f5b76)\" d=\"M 229.54475 97.975219 \nL 242.93675 97.975219 \nL 242.93675 108.847219 \nL 229.54475 108.847219 \nL 229.54475 97.975219 \n\" style=\"fill:#0b0920;\"/>\n    <path clip-path=\"url(#p43455f5b76)\" d=\"M 242.93675 97.975219 \nL 256.32875 97.975219 \nL 256.32875 108.847219 \nL 242.93675 108.847219 \nL 242.93675 97.975219 \n\" style=\"fill:#140e26;\"/>\n    <path clip-path=\"url(#p43455f5b76)\" d=\"M 256.32875 97.975219 \nL 269.72075 97.975219 \nL 269.72075 108.847219 \nL 256.32875 108.847219 \nL 256.32875 97.975219 \n\" style=\"fill:#0b0920;\"/>\n    <path clip-path=\"url(#p43455f5b76)\" d=\"M 269.72075 97.975219 \nL 283.11275 97.975219 \nL 283.11275 108.847219 \nL 269.72075 108.847219 \nL 269.72075 97.975219 \n\" style=\"fill:#0a091f;\"/>\n    <path clip-path=\"url(#p43455f5b76)\" d=\"M 283.11275 97.975219 \nL 296.50475 97.975219 \nL 296.50475 108.847219 \nL 283.11275 108.847219 \nL 283.11275 97.975219 \n\" style=\"fill:#05061b;\"/>\n    <path clip-path=\"url(#p43455f5b76)\" d=\"M 296.50475 97.975219 \nL 309.89675 97.975219 \nL 309.89675 108.847219 \nL 296.50475 108.847219 \nL 296.50475 97.975219 \n\" style=\"fill:#faebdd;\"/>\n    <path clip-path=\"url(#p43455f5b76)\" d=\"M 309.89675 97.975219 \nL 323.28875 97.975219 \nL 323.28875 108.847219 \nL 309.89675 108.847219 \nL 309.89675 97.975219 \n\" style=\"fill:#05061b;\"/>\n    <path clip-path=\"url(#p43455f5b76)\" d=\"M 323.28875 97.975219 \nL 336.68075 97.975219 \nL 336.68075 108.847219 \nL 323.28875 108.847219 \nL 323.28875 97.975219 \n\" style=\"fill:#03051a;\"/>\n    <path clip-path=\"url(#p43455f5b76)\" d=\"M 336.68075 97.975219 \nL 350.07275 97.975219 \nL 350.07275 108.847219 \nL 336.68075 108.847219 \nL 336.68075 97.975219 \n\" style=\"fill:#08081e;\"/>\n    <path clip-path=\"url(#p43455f5b76)\" d=\"M 350.07275 97.975219 \nL 363.46475 97.975219 \nL 363.46475 108.847219 \nL 350.07275 108.847219 \nL 350.07275 97.975219 \n\" style=\"fill:#05061b;\"/>\n    <path clip-path=\"url(#p43455f5b76)\" d=\"M 363.46475 97.975219 \nL 376.85675 97.975219 \nL 376.85675 108.847219 \nL 363.46475 108.847219 \nL 363.46475 97.975219 \n\" style=\"fill:#08081e;\"/>\n    <path clip-path=\"url(#p43455f5b76)\" d=\"M 376.85675 97.975219 \nL 390.24875 97.975219 \nL 390.24875 108.847219 \nL 376.85675 108.847219 \nL 376.85675 97.975219 \n\" style=\"fill:#07071d;\"/>\n    <path clip-path=\"url(#p43455f5b76)\" d=\"M 390.24875 97.975219 \nL 403.64075 97.975219 \nL 403.64075 108.847219 \nL 390.24875 108.847219 \nL 390.24875 97.975219 \n\" style=\"fill:#06071c;\"/>\n    <path clip-path=\"url(#p43455f5b76)\" d=\"M 403.64075 97.975219 \nL 417.03275 97.975219 \nL 417.03275 108.847219 \nL 403.64075 108.847219 \nL 403.64075 97.975219 \n\" style=\"fill:#160e27;\"/>\n    <path clip-path=\"url(#p43455f5b76)\" d=\"M 417.03275 97.975219 \nL 430.42475 97.975219 \nL 430.42475 108.847219 \nL 417.03275 108.847219 \nL 417.03275 97.975219 \n\" style=\"fill:#140e26;\"/>\n    <path clip-path=\"url(#p43455f5b76)\" d=\"M 430.42475 97.975219 \nL 443.81675 97.975219 \nL 443.81675 108.847219 \nL 430.42475 108.847219 \nL 430.42475 97.975219 \n\" style=\"fill:#05061b;\"/>\n    <path clip-path=\"url(#p43455f5b76)\" d=\"M 443.81675 97.975219 \nL 457.20875 97.975219 \nL 457.20875 108.847219 \nL 443.81675 108.847219 \nL 443.81675 97.975219 \n\" style=\"fill:#04051a;\"/>\n    <path clip-path=\"url(#p43455f5b76)\" d=\"M 189.36875 108.847219 \nL 202.76075 108.847219 \nL 202.76075 119.719219 \nL 189.36875 119.719219 \nL 189.36875 108.847219 \n\" style=\"fill:#07071d;\"/>\n    <path clip-path=\"url(#p43455f5b76)\" d=\"M 202.76075 108.847219 \nL 216.15275 108.847219 \nL 216.15275 119.719219 \nL 202.76075 119.719219 \nL 202.76075 108.847219 \n\" style=\"fill:#4c1d4b;\"/>\n    <path clip-path=\"url(#p43455f5b76)\" d=\"M 216.15275 108.847219 \nL 229.54475 108.847219 \nL 229.54475 119.719219 \nL 216.15275 119.719219 \nL 216.15275 108.847219 \n\" style=\"fill:#3c1a42;\"/>\n    <path clip-path=\"url(#p43455f5b76)\" d=\"M 229.54475 108.847219 \nL 242.93675 108.847219 \nL 242.93675 119.719219 \nL 229.54475 119.719219 \nL 229.54475 108.847219 \n\" style=\"fill:#33183c;\"/>\n    <path clip-path=\"url(#p43455f5b76)\" d=\"M 242.93675 108.847219 \nL 256.32875 108.847219 \nL 256.32875 119.719219 \nL 242.93675 119.719219 \nL 242.93675 108.847219 \n\" style=\"fill:#33183c;\"/>\n    <path clip-path=\"url(#p43455f5b76)\" d=\"M 256.32875 108.847219 \nL 269.72075 108.847219 \nL 269.72075 119.719219 \nL 256.32875 119.719219 \nL 256.32875 108.847219 \n\" style=\"fill:#281535;\"/>\n    <path clip-path=\"url(#p43455f5b76)\" d=\"M 269.72075 108.847219 \nL 283.11275 108.847219 \nL 283.11275 119.719219 \nL 269.72075 119.719219 \nL 269.72075 108.847219 \n\" style=\"fill:#221331;\"/>\n    <path clip-path=\"url(#p43455f5b76)\" d=\"M 283.11275 108.847219 \nL 296.50475 108.847219 \nL 296.50475 119.719219 \nL 283.11275 119.719219 \nL 283.11275 108.847219 \n\" style=\"fill:#9a1b5b;\"/>\n    <path clip-path=\"url(#p43455f5b76)\" d=\"M 296.50475 108.847219 \nL 309.89675 108.847219 \nL 309.89675 119.719219 \nL 296.50475 119.719219 \nL 296.50475 108.847219 \n\" style=\"fill:#05061b;\"/>\n    <path clip-path=\"url(#p43455f5b76)\" d=\"M 309.89675 108.847219 \nL 323.28875 108.847219 \nL 323.28875 119.719219 \nL 309.89675 119.719219 \nL 309.89675 108.847219 \n\" style=\"fill:#faebdd;\"/>\n    <path clip-path=\"url(#p43455f5b76)\" d=\"M 323.28875 108.847219 \nL 336.68075 108.847219 \nL 336.68075 119.719219 \nL 323.28875 119.719219 \nL 323.28875 108.847219 \n\" style=\"fill:#421b45;\"/>\n    <path clip-path=\"url(#p43455f5b76)\" d=\"M 336.68075 108.847219 \nL 350.07275 108.847219 \nL 350.07275 119.719219 \nL 336.68075 119.719219 \nL 336.68075 108.847219 \n\" style=\"fill:#100b23;\"/>\n    <path clip-path=\"url(#p43455f5b76)\" d=\"M 350.07275 108.847219 \nL 363.46475 108.847219 \nL 363.46475 119.719219 \nL 350.07275 119.719219 \nL 350.07275 108.847219 \n\" style=\"fill:#531e4d;\"/>\n    <path clip-path=\"url(#p43455f5b76)\" d=\"M 363.46475 108.847219 \nL 376.85675 108.847219 \nL 376.85675 119.719219 \nL 363.46475 119.719219 \nL 363.46475 108.847219 \n\" style=\"fill:#35193e;\"/>\n    <path clip-path=\"url(#p43455f5b76)\" d=\"M 376.85675 108.847219 \nL 390.24875 108.847219 \nL 390.24875 119.719219 \nL 376.85675 119.719219 \nL 376.85675 108.847219 \n\" style=\"fill:#33183c;\"/>\n    <path clip-path=\"url(#p43455f5b76)\" d=\"M 390.24875 108.847219 \nL 403.64075 108.847219 \nL 403.64075 119.719219 \nL 390.24875 119.719219 \nL 390.24875 108.847219 \n\" style=\"fill:#b91657;\"/>\n    <path clip-path=\"url(#p43455f5b76)\" d=\"M 403.64075 108.847219 \nL 417.03275 108.847219 \nL 417.03275 119.719219 \nL 403.64075 119.719219 \nL 403.64075 108.847219 \n\" style=\"fill:#100b23;\"/>\n    <path clip-path=\"url(#p43455f5b76)\" d=\"M 417.03275 108.847219 \nL 430.42475 108.847219 \nL 430.42475 119.719219 \nL 417.03275 119.719219 \nL 417.03275 108.847219 \n\" style=\"fill:#451c47;\"/>\n    <path clip-path=\"url(#p43455f5b76)\" d=\"M 430.42475 108.847219 \nL 443.81675 108.847219 \nL 443.81675 119.719219 \nL 430.42475 119.719219 \nL 430.42475 108.847219 \n\" style=\"fill:#06071c;\"/>\n    <path clip-path=\"url(#p43455f5b76)\" d=\"M 443.81675 108.847219 \nL 457.20875 108.847219 \nL 457.20875 119.719219 \nL 443.81675 119.719219 \nL 443.81675 108.847219 \n\" style=\"fill:#140e26;\"/>\n    <path clip-path=\"url(#p43455f5b76)\" d=\"M 189.36875 119.719219 \nL 202.76075 119.719219 \nL 202.76075 130.591219 \nL 189.36875 130.591219 \nL 189.36875 119.719219 \n\" style=\"fill:#03051a;\"/>\n    <path clip-path=\"url(#p43455f5b76)\" d=\"M 202.76075 119.719219 \nL 216.15275 119.719219 \nL 216.15275 130.591219 \nL 202.76075 130.591219 \nL 202.76075 119.719219 \n\" style=\"fill:#180f29;\"/>\n    <path clip-path=\"url(#p43455f5b76)\" d=\"M 216.15275 119.719219 \nL 229.54475 119.719219 \nL 229.54475 130.591219 \nL 216.15275 130.591219 \nL 216.15275 119.719219 \n\" style=\"fill:#110c24;\"/>\n    <path clip-path=\"url(#p43455f5b76)\" d=\"M 229.54475 119.719219 \nL 242.93675 119.719219 \nL 242.93675 130.591219 \nL 229.54475 130.591219 \nL 229.54475 119.719219 \n\" style=\"fill:#130d25;\"/>\n    <path clip-path=\"url(#p43455f5b76)\" d=\"M 242.93675 119.719219 \nL 256.32875 119.719219 \nL 256.32875 130.591219 \nL 242.93675 130.591219 \nL 242.93675 119.719219 \n\" style=\"fill:#0e0b22;\"/>\n    <path clip-path=\"url(#p43455f5b76)\" d=\"M 256.32875 119.719219 \nL 269.72075 119.719219 \nL 269.72075 130.591219 \nL 256.32875 130.591219 \nL 256.32875 119.719219 \n\" style=\"fill:#481c48;\"/>\n    <path clip-path=\"url(#p43455f5b76)\" d=\"M 269.72075 119.719219 \nL 283.11275 119.719219 \nL 283.11275 130.591219 \nL 269.72075 130.591219 \nL 269.72075 119.719219 \n\" style=\"fill:#461c48;\"/>\n    <path clip-path=\"url(#p43455f5b76)\" d=\"M 283.11275 119.719219 \nL 296.50475 119.719219 \nL 296.50475 130.591219 \nL 283.11275 130.591219 \nL 283.11275 119.719219 \n\" style=\"fill:#211330;\"/>\n    <path clip-path=\"url(#p43455f5b76)\" d=\"M 296.50475 119.719219 \nL 309.89675 119.719219 \nL 309.89675 130.591219 \nL 296.50475 130.591219 \nL 296.50475 119.719219 \n\" style=\"fill:#03051a;\"/>\n    <path clip-path=\"url(#p43455f5b76)\" d=\"M 309.89675 119.719219 \nL 323.28875 119.719219 \nL 323.28875 130.591219 \nL 309.89675 130.591219 \nL 309.89675 119.719219 \n\" style=\"fill:#421b45;\"/>\n    <path clip-path=\"url(#p43455f5b76)\" d=\"M 323.28875 119.719219 \nL 336.68075 119.719219 \nL 336.68075 130.591219 \nL 323.28875 130.591219 \nL 323.28875 119.719219 \n\" style=\"fill:#faebdd;\"/>\n    <path clip-path=\"url(#p43455f5b76)\" d=\"M 336.68075 119.719219 \nL 350.07275 119.719219 \nL 350.07275 130.591219 \nL 336.68075 130.591219 \nL 336.68075 119.719219 \n\" style=\"fill:#130d25;\"/>\n    <path clip-path=\"url(#p43455f5b76)\" d=\"M 350.07275 119.719219 \nL 363.46475 119.719219 \nL 363.46475 130.591219 \nL 350.07275 130.591219 \nL 350.07275 119.719219 \n\" style=\"fill:#130d25;\"/>\n    <path clip-path=\"url(#p43455f5b76)\" d=\"M 363.46475 119.719219 \nL 376.85675 119.719219 \nL 376.85675 130.591219 \nL 363.46475 130.591219 \nL 363.46475 119.719219 \n\" style=\"fill:#140e26;\"/>\n    <path clip-path=\"url(#p43455f5b76)\" d=\"M 376.85675 119.719219 \nL 390.24875 119.719219 \nL 390.24875 130.591219 \nL 376.85675 130.591219 \nL 376.85675 119.719219 \n\" style=\"fill:#0a091f;\"/>\n    <path clip-path=\"url(#p43455f5b76)\" d=\"M 390.24875 119.719219 \nL 403.64075 119.719219 \nL 403.64075 130.591219 \nL 390.24875 130.591219 \nL 390.24875 119.719219 \n\" style=\"fill:#221331;\"/>\n    <path clip-path=\"url(#p43455f5b76)\" d=\"M 403.64075 119.719219 \nL 417.03275 119.719219 \nL 417.03275 130.591219 \nL 403.64075 130.591219 \nL 403.64075 119.719219 \n\" style=\"fill:#0e0b22;\"/>\n    <path clip-path=\"url(#p43455f5b76)\" d=\"M 417.03275 119.719219 \nL 430.42475 119.719219 \nL 430.42475 130.591219 \nL 417.03275 130.591219 \nL 417.03275 119.719219 \n\" style=\"fill:#2d1738;\"/>\n    <path clip-path=\"url(#p43455f5b76)\" d=\"M 430.42475 119.719219 \nL 443.81675 119.719219 \nL 443.81675 130.591219 \nL 430.42475 130.591219 \nL 430.42475 119.719219 \n\" style=\"fill:#05061b;\"/>\n    <path clip-path=\"url(#p43455f5b76)\" d=\"M 443.81675 119.719219 \nL 457.20875 119.719219 \nL 457.20875 130.591219 \nL 443.81675 130.591219 \nL 443.81675 119.719219 \n\" style=\"fill:#07071d;\"/>\n    <path clip-path=\"url(#p43455f5b76)\" d=\"M 189.36875 130.591219 \nL 202.76075 130.591219 \nL 202.76075 141.463219 \nL 189.36875 141.463219 \nL 189.36875 130.591219 \n\" style=\"fill:#180f29;\"/>\n    <path clip-path=\"url(#p43455f5b76)\" d=\"M 202.76075 130.591219 \nL 216.15275 130.591219 \nL 216.15275 141.463219 \nL 202.76075 141.463219 \nL 202.76075 130.591219 \n\" style=\"fill:#1e122d;\"/>\n    <path clip-path=\"url(#p43455f5b76)\" d=\"M 216.15275 130.591219 \nL 229.54475 130.591219 \nL 229.54475 141.463219 \nL 216.15275 141.463219 \nL 216.15275 130.591219 \n\" style=\"fill:#1d112c;\"/>\n    <path clip-path=\"url(#p43455f5b76)\" d=\"M 229.54475 130.591219 \nL 242.93675 130.591219 \nL 242.93675 141.463219 \nL 229.54475 141.463219 \nL 229.54475 130.591219 \n\" style=\"fill:#20122e;\"/>\n    <path clip-path=\"url(#p43455f5b76)\" d=\"M 242.93675 130.591219 \nL 256.32875 130.591219 \nL 256.32875 141.463219 \nL 242.93675 141.463219 \nL 242.93675 130.591219 \n\" style=\"fill:#2a1636;\"/>\n    <path clip-path=\"url(#p43455f5b76)\" d=\"M 256.32875 130.591219 \nL 269.72075 130.591219 \nL 269.72075 141.463219 \nL 256.32875 141.463219 \nL 256.32875 130.591219 \n\" style=\"fill:#2e1739;\"/>\n    <path clip-path=\"url(#p43455f5b76)\" d=\"M 269.72075 130.591219 \nL 283.11275 130.591219 \nL 283.11275 141.463219 \nL 269.72075 141.463219 \nL 269.72075 130.591219 \n\" style=\"fill:#20122e;\"/>\n    <path clip-path=\"url(#p43455f5b76)\" d=\"M 283.11275 130.591219 \nL 296.50475 130.591219 \nL 296.50475 141.463219 \nL 283.11275 141.463219 \nL 283.11275 130.591219 \n\" style=\"fill:#100b23;\"/>\n    <path clip-path=\"url(#p43455f5b76)\" d=\"M 296.50475 130.591219 \nL 309.89675 130.591219 \nL 309.89675 141.463219 \nL 296.50475 141.463219 \nL 296.50475 130.591219 \n\" style=\"fill:#08081e;\"/>\n    <path clip-path=\"url(#p43455f5b76)\" d=\"M 309.89675 130.591219 \nL 323.28875 130.591219 \nL 323.28875 141.463219 \nL 309.89675 141.463219 \nL 309.89675 130.591219 \n\" style=\"fill:#100b23;\"/>\n    <path clip-path=\"url(#p43455f5b76)\" d=\"M 323.28875 130.591219 \nL 336.68075 130.591219 \nL 336.68075 141.463219 \nL 323.28875 141.463219 \nL 323.28875 130.591219 \n\" style=\"fill:#130d25;\"/>\n    <path clip-path=\"url(#p43455f5b76)\" d=\"M 336.68075 130.591219 \nL 350.07275 130.591219 \nL 350.07275 141.463219 \nL 336.68075 141.463219 \nL 336.68075 130.591219 \n\" style=\"fill:#faebdd;\"/>\n    <path clip-path=\"url(#p43455f5b76)\" d=\"M 350.07275 130.591219 \nL 363.46475 130.591219 \nL 363.46475 141.463219 \nL 350.07275 141.463219 \nL 350.07275 130.591219 \n\" style=\"fill:#381a40;\"/>\n    <path clip-path=\"url(#p43455f5b76)\" d=\"M 363.46475 130.591219 \nL 376.85675 130.591219 \nL 376.85675 141.463219 \nL 363.46475 141.463219 \nL 363.46475 130.591219 \n\" style=\"fill:#06071c;\"/>\n    <path clip-path=\"url(#p43455f5b76)\" d=\"M 376.85675 130.591219 \nL 390.24875 130.591219 \nL 390.24875 141.463219 \nL 376.85675 141.463219 \nL 376.85675 130.591219 \n\" style=\"fill:#0d0a21;\"/>\n    <path clip-path=\"url(#p43455f5b76)\" d=\"M 390.24875 130.591219 \nL 403.64075 130.591219 \nL 403.64075 141.463219 \nL 390.24875 141.463219 \nL 390.24875 130.591219 \n\" style=\"fill:#160e27;\"/>\n    <path clip-path=\"url(#p43455f5b76)\" d=\"M 403.64075 130.591219 \nL 417.03275 130.591219 \nL 417.03275 141.463219 \nL 403.64075 141.463219 \nL 403.64075 130.591219 \n\" style=\"fill:#2d1738;\"/>\n    <path clip-path=\"url(#p43455f5b76)\" d=\"M 417.03275 130.591219 \nL 430.42475 130.591219 \nL 430.42475 141.463219 \nL 417.03275 141.463219 \nL 417.03275 130.591219 \n\" style=\"fill:#170f28;\"/>\n    <path clip-path=\"url(#p43455f5b76)\" d=\"M 430.42475 130.591219 \nL 443.81675 130.591219 \nL 443.81675 141.463219 \nL 430.42475 141.463219 \nL 430.42475 130.591219 \n\" style=\"fill:#130d25;\"/>\n    <path clip-path=\"url(#p43455f5b76)\" d=\"M 443.81675 130.591219 \nL 457.20875 130.591219 \nL 457.20875 141.463219 \nL 443.81675 141.463219 \nL 443.81675 130.591219 \n\" style=\"fill:#05061b;\"/>\n    <path clip-path=\"url(#p43455f5b76)\" d=\"M 189.36875 141.463219 \nL 202.76075 141.463219 \nL 202.76075 152.335219 \nL 189.36875 152.335219 \nL 189.36875 141.463219 \n\" style=\"fill:#08081e;\"/>\n    <path clip-path=\"url(#p43455f5b76)\" d=\"M 202.76075 141.463219 \nL 216.15275 141.463219 \nL 216.15275 152.335219 \nL 202.76075 152.335219 \nL 202.76075 141.463219 \n\" style=\"fill:#aa185a;\"/>\n    <path clip-path=\"url(#p43455f5b76)\" d=\"M 216.15275 141.463219 \nL 229.54475 141.463219 \nL 229.54475 152.335219 \nL 216.15275 152.335219 \nL 216.15275 141.463219 \n\" style=\"fill:#a11a5b;\"/>\n    <path clip-path=\"url(#p43455f5b76)\" d=\"M 229.54475 141.463219 \nL 242.93675 141.463219 \nL 242.93675 152.335219 \nL 229.54475 152.335219 \nL 229.54475 141.463219 \n\" style=\"fill:#901d5b;\"/>\n    <path clip-path=\"url(#p43455f5b76)\" d=\"M 242.93675 141.463219 \nL 256.32875 141.463219 \nL 256.32875 152.335219 \nL 242.93675 152.335219 \nL 242.93675 141.463219 \n\" style=\"fill:#701f57;\"/>\n    <path clip-path=\"url(#p43455f5b76)\" d=\"M 256.32875 141.463219 \nL 269.72075 141.463219 \nL 269.72075 152.335219 \nL 256.32875 152.335219 \nL 256.32875 141.463219 \n\" style=\"fill:#221331;\"/>\n    <path clip-path=\"url(#p43455f5b76)\" d=\"M 269.72075 141.463219 \nL 283.11275 141.463219 \nL 283.11275 152.335219 \nL 269.72075 152.335219 \nL 269.72075 141.463219 \n\" style=\"fill:#1d112c;\"/>\n    <path clip-path=\"url(#p43455f5b76)\" d=\"M 283.11275 141.463219 \nL 296.50475 141.463219 \nL 296.50475 152.335219 \nL 283.11275 152.335219 \nL 283.11275 141.463219 \n\" style=\"fill:#4b1d4a;\"/>\n    <path clip-path=\"url(#p43455f5b76)\" d=\"M 296.50475 141.463219 \nL 309.89675 141.463219 \nL 309.89675 152.335219 \nL 296.50475 152.335219 \nL 296.50475 141.463219 \n\" style=\"fill:#05061b;\"/>\n    <path clip-path=\"url(#p43455f5b76)\" d=\"M 309.89675 141.463219 \nL 323.28875 141.463219 \nL 323.28875 152.335219 \nL 309.89675 152.335219 \nL 309.89675 141.463219 \n\" style=\"fill:#531e4d;\"/>\n    <path clip-path=\"url(#p43455f5b76)\" d=\"M 323.28875 141.463219 \nL 336.68075 141.463219 \nL 336.68075 152.335219 \nL 323.28875 152.335219 \nL 323.28875 141.463219 \n\" style=\"fill:#130d25;\"/>\n    <path clip-path=\"url(#p43455f5b76)\" d=\"M 336.68075 141.463219 \nL 350.07275 141.463219 \nL 350.07275 152.335219 \nL 336.68075 152.335219 \nL 336.68075 141.463219 \n\" style=\"fill:#381a40;\"/>\n    <path clip-path=\"url(#p43455f5b76)\" d=\"M 350.07275 141.463219 \nL 363.46475 141.463219 \nL 363.46475 152.335219 \nL 350.07275 152.335219 \nL 350.07275 141.463219 \n\" style=\"fill:#faebdd;\"/>\n    <path clip-path=\"url(#p43455f5b76)\" d=\"M 363.46475 141.463219 \nL 376.85675 141.463219 \nL 376.85675 152.335219 \nL 363.46475 152.335219 \nL 363.46475 141.463219 \n\" style=\"fill:#31183b;\"/>\n    <path clip-path=\"url(#p43455f5b76)\" d=\"M 376.85675 141.463219 \nL 390.24875 141.463219 \nL 390.24875 152.335219 \nL 376.85675 152.335219 \nL 376.85675 141.463219 \n\" style=\"fill:#4e1d4b;\"/>\n    <path clip-path=\"url(#p43455f5b76)\" d=\"M 390.24875 141.463219 \nL 403.64075 141.463219 \nL 403.64075 152.335219 \nL 390.24875 152.335219 \nL 390.24875 141.463219 \n\" style=\"fill:#781f59;\"/>\n    <path clip-path=\"url(#p43455f5b76)\" d=\"M 403.64075 141.463219 \nL 417.03275 141.463219 \nL 417.03275 152.335219 \nL 403.64075 152.335219 \nL 403.64075 141.463219 \n\" style=\"fill:#581e4f;\"/>\n    <path clip-path=\"url(#p43455f5b76)\" d=\"M 417.03275 141.463219 \nL 430.42475 141.463219 \nL 430.42475 152.335219 \nL 417.03275 152.335219 \nL 417.03275 141.463219 \n\" style=\"fill:#0d0a21;\"/>\n    <path clip-path=\"url(#p43455f5b76)\" d=\"M 430.42475 141.463219 \nL 443.81675 141.463219 \nL 443.81675 152.335219 \nL 430.42475 152.335219 \nL 430.42475 141.463219 \n\" style=\"fill:#0d0a21;\"/>\n    <path clip-path=\"url(#p43455f5b76)\" d=\"M 443.81675 141.463219 \nL 457.20875 141.463219 \nL 457.20875 152.335219 \nL 443.81675 152.335219 \nL 443.81675 141.463219 \n\" style=\"fill:#0d0a21;\"/>\n    <path clip-path=\"url(#p43455f5b76)\" d=\"M 189.36875 152.335219 \nL 202.76075 152.335219 \nL 202.76075 163.207219 \nL 189.36875 163.207219 \nL 189.36875 152.335219 \n\" style=\"fill:#2e1739;\"/>\n    <path clip-path=\"url(#p43455f5b76)\" d=\"M 202.76075 152.335219 \nL 216.15275 152.335219 \nL 216.15275 163.207219 \nL 202.76075 163.207219 \nL 202.76075 152.335219 \n\" style=\"fill:#631f53;\"/>\n    <path clip-path=\"url(#p43455f5b76)\" d=\"M 216.15275 152.335219 \nL 229.54475 152.335219 \nL 229.54475 163.207219 \nL 216.15275 163.207219 \nL 216.15275 152.335219 \n\" style=\"fill:#631f53;\"/>\n    <path clip-path=\"url(#p43455f5b76)\" d=\"M 229.54475 152.335219 \nL 242.93675 152.335219 \nL 242.93675 163.207219 \nL 229.54475 163.207219 \nL 229.54475 152.335219 \n\" style=\"fill:#2a1636;\"/>\n    <path clip-path=\"url(#p43455f5b76)\" d=\"M 242.93675 152.335219 \nL 256.32875 152.335219 \nL 256.32875 163.207219 \nL 242.93675 163.207219 \nL 242.93675 152.335219 \n\" style=\"fill:#170f28;\"/>\n    <path clip-path=\"url(#p43455f5b76)\" d=\"M 256.32875 152.335219 \nL 269.72075 152.335219 \nL 269.72075 163.207219 \nL 256.32875 163.207219 \nL 256.32875 152.335219 \n\" style=\"fill:#37193f;\"/>\n    <path clip-path=\"url(#p43455f5b76)\" d=\"M 269.72075 152.335219 \nL 283.11275 152.335219 \nL 283.11275 163.207219 \nL 269.72075 163.207219 \nL 269.72075 152.335219 \n\" style=\"fill:#281535;\"/>\n    <path clip-path=\"url(#p43455f5b76)\" d=\"M 283.11275 152.335219 \nL 296.50475 152.335219 \nL 296.50475 163.207219 \nL 283.11275 163.207219 \nL 283.11275 152.335219 \n\" style=\"fill:#3c1a42;\"/>\n    <path clip-path=\"url(#p43455f5b76)\" d=\"M 296.50475 152.335219 \nL 309.89675 152.335219 \nL 309.89675 163.207219 \nL 296.50475 163.207219 \nL 296.50475 152.335219 \n\" style=\"fill:#08081e;\"/>\n    <path clip-path=\"url(#p43455f5b76)\" d=\"M 309.89675 152.335219 \nL 323.28875 152.335219 \nL 323.28875 163.207219 \nL 309.89675 163.207219 \nL 309.89675 152.335219 \n\" style=\"fill:#35193e;\"/>\n    <path clip-path=\"url(#p43455f5b76)\" d=\"M 323.28875 152.335219 \nL 336.68075 152.335219 \nL 336.68075 163.207219 \nL 323.28875 163.207219 \nL 323.28875 152.335219 \n\" style=\"fill:#140e26;\"/>\n    <path clip-path=\"url(#p43455f5b76)\" d=\"M 336.68075 152.335219 \nL 350.07275 152.335219 \nL 350.07275 163.207219 \nL 336.68075 163.207219 \nL 336.68075 152.335219 \n\" style=\"fill:#06071c;\"/>\n    <path clip-path=\"url(#p43455f5b76)\" d=\"M 350.07275 152.335219 \nL 363.46475 152.335219 \nL 363.46475 163.207219 \nL 350.07275 163.207219 \nL 350.07275 152.335219 \n\" style=\"fill:#31183b;\"/>\n    <path clip-path=\"url(#p43455f5b76)\" d=\"M 363.46475 152.335219 \nL 376.85675 152.335219 \nL 376.85675 163.207219 \nL 363.46475 163.207219 \nL 363.46475 152.335219 \n\" style=\"fill:#faebdd;\"/>\n    <path clip-path=\"url(#p43455f5b76)\" d=\"M 376.85675 152.335219 \nL 390.24875 152.335219 \nL 390.24875 163.207219 \nL 376.85675 163.207219 \nL 376.85675 152.335219 \n\" style=\"fill:#981b5b;\"/>\n    <path clip-path=\"url(#p43455f5b76)\" d=\"M 390.24875 152.335219 \nL 403.64075 152.335219 \nL 403.64075 163.207219 \nL 390.24875 163.207219 \nL 390.24875 152.335219 \n\" style=\"fill:#401b44;\"/>\n    <path clip-path=\"url(#p43455f5b76)\" d=\"M 403.64075 152.335219 \nL 417.03275 152.335219 \nL 417.03275 163.207219 \nL 403.64075 163.207219 \nL 403.64075 152.335219 \n\" style=\"fill:#05061b;\"/>\n    <path clip-path=\"url(#p43455f5b76)\" d=\"M 417.03275 152.335219 \nL 430.42475 152.335219 \nL 430.42475 163.207219 \nL 417.03275 163.207219 \nL 417.03275 152.335219 \n\" style=\"fill:#03051a;\"/>\n    <path clip-path=\"url(#p43455f5b76)\" d=\"M 430.42475 152.335219 \nL 443.81675 152.335219 \nL 443.81675 163.207219 \nL 430.42475 163.207219 \nL 430.42475 152.335219 \n\" style=\"fill:#0a091f;\"/>\n    <path clip-path=\"url(#p43455f5b76)\" d=\"M 443.81675 152.335219 \nL 457.20875 152.335219 \nL 457.20875 163.207219 \nL 443.81675 163.207219 \nL 443.81675 152.335219 \n\" style=\"fill:#421b45;\"/>\n    <path clip-path=\"url(#p43455f5b76)\" d=\"M 189.36875 163.207219 \nL 202.76075 163.207219 \nL 202.76075 174.079219 \nL 189.36875 174.079219 \nL 189.36875 163.207219 \n\" style=\"fill:#05061b;\"/>\n    <path clip-path=\"url(#p43455f5b76)\" d=\"M 202.76075 163.207219 \nL 216.15275 163.207219 \nL 216.15275 174.079219 \nL 202.76075 174.079219 \nL 202.76075 163.207219 \n\" style=\"fill:#491d49;\"/>\n    <path clip-path=\"url(#p43455f5b76)\" d=\"M 216.15275 163.207219 \nL 229.54475 163.207219 \nL 229.54475 174.079219 \nL 216.15275 174.079219 \nL 216.15275 163.207219 \n\" style=\"fill:#431c46;\"/>\n    <path clip-path=\"url(#p43455f5b76)\" d=\"M 229.54475 163.207219 \nL 242.93675 163.207219 \nL 242.93675 174.079219 \nL 229.54475 174.079219 \nL 229.54475 163.207219 \n\" style=\"fill:#661f54;\"/>\n    <path clip-path=\"url(#p43455f5b76)\" d=\"M 242.93675 163.207219 \nL 256.32875 163.207219 \nL 256.32875 174.079219 \nL 242.93675 174.079219 \nL 242.93675 163.207219 \n\" style=\"fill:#3d1a42;\"/>\n    <path clip-path=\"url(#p43455f5b76)\" d=\"M 256.32875 163.207219 \nL 269.72075 163.207219 \nL 269.72075 174.079219 \nL 256.32875 174.079219 \nL 256.32875 163.207219 \n\" style=\"fill:#180f29;\"/>\n    <path clip-path=\"url(#p43455f5b76)\" d=\"M 269.72075 163.207219 \nL 283.11275 163.207219 \nL 283.11275 174.079219 \nL 269.72075 174.079219 \nL 269.72075 163.207219 \n\" style=\"fill:#110c24;\"/>\n    <path clip-path=\"url(#p43455f5b76)\" d=\"M 283.11275 163.207219 \nL 296.50475 163.207219 \nL 296.50475 174.079219 \nL 283.11275 174.079219 \nL 283.11275 163.207219 \n\" style=\"fill:#761f58;\"/>\n    <path clip-path=\"url(#p43455f5b76)\" d=\"M 296.50475 163.207219 \nL 309.89675 163.207219 \nL 309.89675 174.079219 \nL 296.50475 174.079219 \nL 296.50475 163.207219 \n\" style=\"fill:#07071d;\"/>\n    <path clip-path=\"url(#p43455f5b76)\" d=\"M 309.89675 163.207219 \nL 323.28875 163.207219 \nL 323.28875 174.079219 \nL 309.89675 174.079219 \nL 309.89675 163.207219 \n\" style=\"fill:#33183c;\"/>\n    <path clip-path=\"url(#p43455f5b76)\" d=\"M 323.28875 163.207219 \nL 336.68075 163.207219 \nL 336.68075 174.079219 \nL 323.28875 174.079219 \nL 323.28875 163.207219 \n\" style=\"fill:#0a091f;\"/>\n    <path clip-path=\"url(#p43455f5b76)\" d=\"M 336.68075 163.207219 \nL 350.07275 163.207219 \nL 350.07275 174.079219 \nL 336.68075 174.079219 \nL 336.68075 163.207219 \n\" style=\"fill:#0d0a21;\"/>\n    <path clip-path=\"url(#p43455f5b76)\" d=\"M 350.07275 163.207219 \nL 363.46475 163.207219 \nL 363.46475 174.079219 \nL 350.07275 174.079219 \nL 350.07275 163.207219 \n\" style=\"fill:#4e1d4b;\"/>\n    <path clip-path=\"url(#p43455f5b76)\" d=\"M 363.46475 163.207219 \nL 376.85675 163.207219 \nL 376.85675 174.079219 \nL 363.46475 174.079219 \nL 363.46475 163.207219 \n\" style=\"fill:#981b5b;\"/>\n    <path clip-path=\"url(#p43455f5b76)\" d=\"M 376.85675 163.207219 \nL 390.24875 163.207219 \nL 390.24875 174.079219 \nL 376.85675 174.079219 \nL 376.85675 163.207219 \n\" style=\"fill:#faebdd;\"/>\n    <path clip-path=\"url(#p43455f5b76)\" d=\"M 390.24875 163.207219 \nL 403.64075 163.207219 \nL 403.64075 174.079219 \nL 390.24875 174.079219 \nL 390.24875 163.207219 \n\" style=\"fill:#971c5b;\"/>\n    <path clip-path=\"url(#p43455f5b76)\" d=\"M 403.64075 163.207219 \nL 417.03275 163.207219 \nL 417.03275 174.079219 \nL 403.64075 174.079219 \nL 403.64075 163.207219 \n\" style=\"fill:#1d112c;\"/>\n    <path clip-path=\"url(#p43455f5b76)\" d=\"M 417.03275 163.207219 \nL 430.42475 163.207219 \nL 430.42475 174.079219 \nL 417.03275 174.079219 \nL 417.03275 163.207219 \n\" style=\"fill:#06071c;\"/>\n    <path clip-path=\"url(#p43455f5b76)\" d=\"M 430.42475 163.207219 \nL 443.81675 163.207219 \nL 443.81675 174.079219 \nL 430.42475 174.079219 \nL 430.42475 163.207219 \n\" style=\"fill:#05061b;\"/>\n    <path clip-path=\"url(#p43455f5b76)\" d=\"M 443.81675 163.207219 \nL 457.20875 163.207219 \nL 457.20875 174.079219 \nL 443.81675 174.079219 \nL 443.81675 163.207219 \n\" style=\"fill:#241432;\"/>\n    <path clip-path=\"url(#p43455f5b76)\" d=\"M 189.36875 174.079219 \nL 202.76075 174.079219 \nL 202.76075 184.951219 \nL 189.36875 184.951219 \nL 189.36875 174.079219 \n\" style=\"fill:#03051a;\"/>\n    <path clip-path=\"url(#p43455f5b76)\" d=\"M 202.76075 174.079219 \nL 216.15275 174.079219 \nL 216.15275 184.951219 \nL 202.76075 184.951219 \nL 202.76075 174.079219 \n\" style=\"fill:#7d1f5a;\"/>\n    <path clip-path=\"url(#p43455f5b76)\" d=\"M 216.15275 174.079219 \nL 229.54475 174.079219 \nL 229.54475 184.951219 \nL 216.15275 184.951219 \nL 216.15275 174.079219 \n\" style=\"fill:#7a1f59;\"/>\n    <path clip-path=\"url(#p43455f5b76)\" d=\"M 229.54475 174.079219 \nL 242.93675 174.079219 \nL 242.93675 184.951219 \nL 229.54475 184.951219 \nL 229.54475 174.079219 \n\" style=\"fill:#6e1f57;\"/>\n    <path clip-path=\"url(#p43455f5b76)\" d=\"M 242.93675 174.079219 \nL 256.32875 174.079219 \nL 256.32875 184.951219 \nL 242.93675 184.951219 \nL 242.93675 174.079219 \n\" style=\"fill:#591e50;\"/>\n    <path clip-path=\"url(#p43455f5b76)\" d=\"M 256.32875 174.079219 \nL 269.72075 174.079219 \nL 269.72075 184.951219 \nL 256.32875 184.951219 \nL 256.32875 174.079219 \n\" style=\"fill:#160e27;\"/>\n    <path clip-path=\"url(#p43455f5b76)\" d=\"M 269.72075 174.079219 \nL 283.11275 174.079219 \nL 283.11275 184.951219 \nL 269.72075 184.951219 \nL 269.72075 174.079219 \n\" style=\"fill:#100b23;\"/>\n    <path clip-path=\"url(#p43455f5b76)\" d=\"M 283.11275 174.079219 \nL 296.50475 174.079219 \nL 296.50475 184.951219 \nL 283.11275 184.951219 \nL 283.11275 174.079219 \n\" style=\"fill:#901d5b;\"/>\n    <path clip-path=\"url(#p43455f5b76)\" d=\"M 296.50475 174.079219 \nL 309.89675 174.079219 \nL 309.89675 184.951219 \nL 296.50475 184.951219 \nL 296.50475 174.079219 \n\" style=\"fill:#06071c;\"/>\n    <path clip-path=\"url(#p43455f5b76)\" d=\"M 309.89675 174.079219 \nL 323.28875 174.079219 \nL 323.28875 184.951219 \nL 309.89675 184.951219 \nL 309.89675 174.079219 \n\" style=\"fill:#b91657;\"/>\n    <path clip-path=\"url(#p43455f5b76)\" d=\"M 323.28875 174.079219 \nL 336.68075 174.079219 \nL 336.68075 184.951219 \nL 323.28875 184.951219 \nL 323.28875 174.079219 \n\" style=\"fill:#221331;\"/>\n    <path clip-path=\"url(#p43455f5b76)\" d=\"M 336.68075 174.079219 \nL 350.07275 174.079219 \nL 350.07275 184.951219 \nL 336.68075 184.951219 \nL 336.68075 174.079219 \n\" style=\"fill:#160e27;\"/>\n    <path clip-path=\"url(#p43455f5b76)\" d=\"M 350.07275 174.079219 \nL 363.46475 174.079219 \nL 363.46475 184.951219 \nL 350.07275 184.951219 \nL 350.07275 174.079219 \n\" style=\"fill:#781f59;\"/>\n    <path clip-path=\"url(#p43455f5b76)\" d=\"M 363.46475 174.079219 \nL 376.85675 174.079219 \nL 376.85675 184.951219 \nL 363.46475 184.951219 \nL 363.46475 174.079219 \n\" style=\"fill:#401b44;\"/>\n    <path clip-path=\"url(#p43455f5b76)\" d=\"M 376.85675 174.079219 \nL 390.24875 174.079219 \nL 390.24875 184.951219 \nL 376.85675 184.951219 \nL 376.85675 174.079219 \n\" style=\"fill:#971c5b;\"/>\n    <path clip-path=\"url(#p43455f5b76)\" d=\"M 390.24875 174.079219 \nL 403.64075 174.079219 \nL 403.64075 184.951219 \nL 390.24875 184.951219 \nL 390.24875 174.079219 \n\" style=\"fill:#faebdd;\"/>\n    <path clip-path=\"url(#p43455f5b76)\" d=\"M 403.64075 174.079219 \nL 417.03275 174.079219 \nL 417.03275 184.951219 \nL 403.64075 184.951219 \nL 403.64075 174.079219 \n\" style=\"fill:#1a102a;\"/>\n    <path clip-path=\"url(#p43455f5b76)\" d=\"M 417.03275 174.079219 \nL 430.42475 174.079219 \nL 430.42475 184.951219 \nL 417.03275 184.951219 \nL 417.03275 174.079219 \n\" style=\"fill:#33183c;\"/>\n    <path clip-path=\"url(#p43455f5b76)\" d=\"M 430.42475 174.079219 \nL 443.81675 174.079219 \nL 443.81675 184.951219 \nL 430.42475 184.951219 \nL 430.42475 174.079219 \n\" style=\"fill:#03051a;\"/>\n    <path clip-path=\"url(#p43455f5b76)\" d=\"M 443.81675 174.079219 \nL 457.20875 174.079219 \nL 457.20875 184.951219 \nL 443.81675 184.951219 \nL 443.81675 174.079219 \n\" style=\"fill:#1e122d;\"/>\n    <path clip-path=\"url(#p43455f5b76)\" d=\"M 189.36875 184.951219 \nL 202.76075 184.951219 \nL 202.76075 195.823219 \nL 189.36875 195.823219 \nL 189.36875 184.951219 \n\" style=\"fill:#0d0a21;\"/>\n    <path clip-path=\"url(#p43455f5b76)\" d=\"M 202.76075 184.951219 \nL 216.15275 184.951219 \nL 216.15275 195.823219 \nL 202.76075 195.823219 \nL 202.76075 184.951219 \n\" style=\"fill:#35193e;\"/>\n    <path clip-path=\"url(#p43455f5b76)\" d=\"M 216.15275 184.951219 \nL 229.54475 184.951219 \nL 229.54475 195.823219 \nL 216.15275 195.823219 \nL 216.15275 184.951219 \n\" style=\"fill:#241432;\"/>\n    <path clip-path=\"url(#p43455f5b76)\" d=\"M 229.54475 184.951219 \nL 242.93675 184.951219 \nL 242.93675 195.823219 \nL 229.54475 195.823219 \nL 229.54475 184.951219 \n\" style=\"fill:#130d25;\"/>\n    <path clip-path=\"url(#p43455f5b76)\" d=\"M 242.93675 184.951219 \nL 256.32875 184.951219 \nL 256.32875 195.823219 \nL 242.93675 195.823219 \nL 242.93675 184.951219 \n\" style=\"fill:#0a091f;\"/>\n    <path clip-path=\"url(#p43455f5b76)\" d=\"M 256.32875 184.951219 \nL 269.72075 184.951219 \nL 269.72075 195.823219 \nL 256.32875 195.823219 \nL 256.32875 184.951219 \n\" style=\"fill:#100b23;\"/>\n    <path clip-path=\"url(#p43455f5b76)\" d=\"M 269.72075 184.951219 \nL 283.11275 184.951219 \nL 283.11275 195.823219 \nL 269.72075 195.823219 \nL 269.72075 184.951219 \n\" style=\"fill:#110c24;\"/>\n    <path clip-path=\"url(#p43455f5b76)\" d=\"M 283.11275 184.951219 \nL 296.50475 184.951219 \nL 296.50475 195.823219 \nL 283.11275 195.823219 \nL 283.11275 184.951219 \n\" style=\"fill:#130d25;\"/>\n    <path clip-path=\"url(#p43455f5b76)\" d=\"M 296.50475 184.951219 \nL 309.89675 184.951219 \nL 309.89675 195.823219 \nL 296.50475 195.823219 \nL 296.50475 184.951219 \n\" style=\"fill:#160e27;\"/>\n    <path clip-path=\"url(#p43455f5b76)\" d=\"M 309.89675 184.951219 \nL 323.28875 184.951219 \nL 323.28875 195.823219 \nL 309.89675 195.823219 \nL 309.89675 184.951219 \n\" style=\"fill:#100b23;\"/>\n    <path clip-path=\"url(#p43455f5b76)\" d=\"M 323.28875 184.951219 \nL 336.68075 184.951219 \nL 336.68075 195.823219 \nL 323.28875 195.823219 \nL 323.28875 184.951219 \n\" style=\"fill:#0e0b22;\"/>\n    <path clip-path=\"url(#p43455f5b76)\" d=\"M 336.68075 184.951219 \nL 350.07275 184.951219 \nL 350.07275 195.823219 \nL 336.68075 195.823219 \nL 336.68075 184.951219 \n\" style=\"fill:#2d1738;\"/>\n    <path clip-path=\"url(#p43455f5b76)\" d=\"M 350.07275 184.951219 \nL 363.46475 184.951219 \nL 363.46475 195.823219 \nL 350.07275 195.823219 \nL 350.07275 184.951219 \n\" style=\"fill:#581e4f;\"/>\n    <path clip-path=\"url(#p43455f5b76)\" d=\"M 363.46475 184.951219 \nL 376.85675 184.951219 \nL 376.85675 195.823219 \nL 363.46475 195.823219 \nL 363.46475 184.951219 \n\" style=\"fill:#05061b;\"/>\n    <path clip-path=\"url(#p43455f5b76)\" d=\"M 376.85675 184.951219 \nL 390.24875 184.951219 \nL 390.24875 195.823219 \nL 376.85675 195.823219 \nL 376.85675 184.951219 \n\" style=\"fill:#1d112c;\"/>\n    <path clip-path=\"url(#p43455f5b76)\" d=\"M 390.24875 184.951219 \nL 403.64075 184.951219 \nL 403.64075 195.823219 \nL 390.24875 195.823219 \nL 390.24875 184.951219 \n\" style=\"fill:#1a102a;\"/>\n    <path clip-path=\"url(#p43455f5b76)\" d=\"M 403.64075 184.951219 \nL 417.03275 184.951219 \nL 417.03275 195.823219 \nL 403.64075 195.823219 \nL 403.64075 184.951219 \n\" style=\"fill:#faebdd;\"/>\n    <path clip-path=\"url(#p43455f5b76)\" d=\"M 417.03275 184.951219 \nL 430.42475 184.951219 \nL 430.42475 195.823219 \nL 417.03275 195.823219 \nL 417.03275 184.951219 \n\" style=\"fill:#241432;\"/>\n    <path clip-path=\"url(#p43455f5b76)\" d=\"M 430.42475 184.951219 \nL 443.81675 184.951219 \nL 443.81675 195.823219 \nL 430.42475 195.823219 \nL 430.42475 184.951219 \n\" style=\"fill:#281535;\"/>\n    <path clip-path=\"url(#p43455f5b76)\" d=\"M 443.81675 184.951219 \nL 457.20875 184.951219 \nL 457.20875 195.823219 \nL 443.81675 195.823219 \nL 443.81675 184.951219 \n\" style=\"fill:#0a091f;\"/>\n    <path clip-path=\"url(#p43455f5b76)\" d=\"M 189.36875 195.823219 \nL 202.76075 195.823219 \nL 202.76075 206.695219 \nL 189.36875 206.695219 \nL 189.36875 195.823219 \n\" style=\"fill:#04051a;\"/>\n    <path clip-path=\"url(#p43455f5b76)\" d=\"M 202.76075 195.823219 \nL 216.15275 195.823219 \nL 216.15275 206.695219 \nL 202.76075 206.695219 \nL 202.76075 195.823219 \n\" style=\"fill:#1d112c;\"/>\n    <path clip-path=\"url(#p43455f5b76)\" d=\"M 216.15275 195.823219 \nL 229.54475 195.823219 \nL 229.54475 206.695219 \nL 216.15275 206.695219 \nL 216.15275 195.823219 \n\" style=\"fill:#1e122d;\"/>\n    <path clip-path=\"url(#p43455f5b76)\" d=\"M 229.54475 195.823219 \nL 242.93675 195.823219 \nL 242.93675 206.695219 \nL 229.54475 206.695219 \nL 229.54475 195.823219 \n\" style=\"fill:#05061b;\"/>\n    <path clip-path=\"url(#p43455f5b76)\" d=\"M 242.93675 195.823219 \nL 256.32875 195.823219 \nL 256.32875 206.695219 \nL 242.93675 206.695219 \nL 242.93675 195.823219 \n\" style=\"fill:#0e0b22;\"/>\n    <path clip-path=\"url(#p43455f5b76)\" d=\"M 256.32875 195.823219 \nL 269.72075 195.823219 \nL 269.72075 206.695219 \nL 256.32875 206.695219 \nL 256.32875 195.823219 \n\" style=\"fill:#0d0a21;\"/>\n    <path clip-path=\"url(#p43455f5b76)\" d=\"M 269.72075 195.823219 \nL 283.11275 195.823219 \nL 283.11275 206.695219 \nL 269.72075 206.695219 \nL 269.72075 195.823219 \n\" style=\"fill:#0e0b22;\"/>\n    <path clip-path=\"url(#p43455f5b76)\" d=\"M 283.11275 195.823219 \nL 296.50475 195.823219 \nL 296.50475 206.695219 \nL 283.11275 206.695219 \nL 283.11275 195.823219 \n\" style=\"fill:#241432;\"/>\n    <path clip-path=\"url(#p43455f5b76)\" d=\"M 296.50475 195.823219 \nL 309.89675 195.823219 \nL 309.89675 206.695219 \nL 296.50475 206.695219 \nL 296.50475 195.823219 \n\" style=\"fill:#140e26;\"/>\n    <path clip-path=\"url(#p43455f5b76)\" d=\"M 309.89675 195.823219 \nL 323.28875 195.823219 \nL 323.28875 206.695219 \nL 309.89675 206.695219 \nL 309.89675 195.823219 \n\" style=\"fill:#451c47;\"/>\n    <path clip-path=\"url(#p43455f5b76)\" d=\"M 323.28875 195.823219 \nL 336.68075 195.823219 \nL 336.68075 206.695219 \nL 323.28875 206.695219 \nL 323.28875 195.823219 \n\" style=\"fill:#2d1738;\"/>\n    <path clip-path=\"url(#p43455f5b76)\" d=\"M 336.68075 195.823219 \nL 350.07275 195.823219 \nL 350.07275 206.695219 \nL 336.68075 206.695219 \nL 336.68075 195.823219 \n\" style=\"fill:#170f28;\"/>\n    <path clip-path=\"url(#p43455f5b76)\" d=\"M 350.07275 195.823219 \nL 363.46475 195.823219 \nL 363.46475 206.695219 \nL 350.07275 206.695219 \nL 350.07275 195.823219 \n\" style=\"fill:#0d0a21;\"/>\n    <path clip-path=\"url(#p43455f5b76)\" d=\"M 363.46475 195.823219 \nL 376.85675 195.823219 \nL 376.85675 206.695219 \nL 363.46475 206.695219 \nL 363.46475 195.823219 \n\" style=\"fill:#03051a;\"/>\n    <path clip-path=\"url(#p43455f5b76)\" d=\"M 376.85675 195.823219 \nL 390.24875 195.823219 \nL 390.24875 206.695219 \nL 376.85675 206.695219 \nL 376.85675 195.823219 \n\" style=\"fill:#06071c;\"/>\n    <path clip-path=\"url(#p43455f5b76)\" d=\"M 390.24875 195.823219 \nL 403.64075 195.823219 \nL 403.64075 206.695219 \nL 390.24875 206.695219 \nL 390.24875 195.823219 \n\" style=\"fill:#33183c;\"/>\n    <path clip-path=\"url(#p43455f5b76)\" d=\"M 403.64075 195.823219 \nL 417.03275 195.823219 \nL 417.03275 206.695219 \nL 403.64075 206.695219 \nL 403.64075 195.823219 \n\" style=\"fill:#241432;\"/>\n    <path clip-path=\"url(#p43455f5b76)\" d=\"M 417.03275 195.823219 \nL 430.42475 195.823219 \nL 430.42475 206.695219 \nL 417.03275 206.695219 \nL 417.03275 195.823219 \n\" style=\"fill:#faebdd;\"/>\n    <path clip-path=\"url(#p43455f5b76)\" d=\"M 430.42475 195.823219 \nL 443.81675 195.823219 \nL 443.81675 206.695219 \nL 430.42475 206.695219 \nL 430.42475 195.823219 \n\" style=\"fill:#04051a;\"/>\n    <path clip-path=\"url(#p43455f5b76)\" d=\"M 443.81675 195.823219 \nL 457.20875 195.823219 \nL 457.20875 206.695219 \nL 443.81675 206.695219 \nL 443.81675 195.823219 \n\" style=\"fill:#05061b;\"/>\n    <path clip-path=\"url(#p43455f5b76)\" d=\"M 189.36875 206.695219 \nL 202.76075 206.695219 \nL 202.76075 217.567219 \nL 189.36875 217.567219 \nL 189.36875 206.695219 \n\" style=\"fill:#0e0b22;\"/>\n    <path clip-path=\"url(#p43455f5b76)\" d=\"M 202.76075 206.695219 \nL 216.15275 206.695219 \nL 216.15275 217.567219 \nL 202.76075 217.567219 \nL 202.76075 206.695219 \n\" style=\"fill:#0d0a21;\"/>\n    <path clip-path=\"url(#p43455f5b76)\" d=\"M 216.15275 206.695219 \nL 229.54475 206.695219 \nL 229.54475 217.567219 \nL 216.15275 217.567219 \nL 216.15275 206.695219 \n\" style=\"fill:#0b0920;\"/>\n    <path clip-path=\"url(#p43455f5b76)\" d=\"M 229.54475 206.695219 \nL 242.93675 206.695219 \nL 242.93675 217.567219 \nL 229.54475 217.567219 \nL 229.54475 206.695219 \n\" style=\"fill:#05061b;\"/>\n    <path clip-path=\"url(#p43455f5b76)\" d=\"M 242.93675 206.695219 \nL 256.32875 206.695219 \nL 256.32875 217.567219 \nL 242.93675 217.567219 \nL 242.93675 206.695219 \n\" style=\"fill:#06071c;\"/>\n    <path clip-path=\"url(#p43455f5b76)\" d=\"M 256.32875 206.695219 \nL 269.72075 206.695219 \nL 269.72075 217.567219 \nL 256.32875 217.567219 \nL 256.32875 206.695219 \n\" style=\"fill:#921c5b;\"/>\n    <path clip-path=\"url(#p43455f5b76)\" d=\"M 269.72075 206.695219 \nL 283.11275 206.695219 \nL 283.11275 217.567219 \nL 269.72075 217.567219 \nL 269.72075 206.695219 \n\" style=\"fill:#871e5b;\"/>\n    <path clip-path=\"url(#p43455f5b76)\" d=\"M 283.11275 206.695219 \nL 296.50475 206.695219 \nL 296.50475 217.567219 \nL 283.11275 217.567219 \nL 283.11275 206.695219 \n\" style=\"fill:#0d0a21;\"/>\n    <path clip-path=\"url(#p43455f5b76)\" d=\"M 296.50475 206.695219 \nL 309.89675 206.695219 \nL 309.89675 217.567219 \nL 296.50475 217.567219 \nL 296.50475 206.695219 \n\" style=\"fill:#05061b;\"/>\n    <path clip-path=\"url(#p43455f5b76)\" d=\"M 309.89675 206.695219 \nL 323.28875 206.695219 \nL 323.28875 217.567219 \nL 309.89675 217.567219 \nL 309.89675 206.695219 \n\" style=\"fill:#06071c;\"/>\n    <path clip-path=\"url(#p43455f5b76)\" d=\"M 323.28875 206.695219 \nL 336.68075 206.695219 \nL 336.68075 217.567219 \nL 323.28875 217.567219 \nL 323.28875 206.695219 \n\" style=\"fill:#05061b;\"/>\n    <path clip-path=\"url(#p43455f5b76)\" d=\"M 336.68075 206.695219 \nL 350.07275 206.695219 \nL 350.07275 217.567219 \nL 336.68075 217.567219 \nL 336.68075 206.695219 \n\" style=\"fill:#130d25;\"/>\n    <path clip-path=\"url(#p43455f5b76)\" d=\"M 350.07275 206.695219 \nL 363.46475 206.695219 \nL 363.46475 217.567219 \nL 350.07275 217.567219 \nL 350.07275 206.695219 \n\" style=\"fill:#0d0a21;\"/>\n    <path clip-path=\"url(#p43455f5b76)\" d=\"M 363.46475 206.695219 \nL 376.85675 206.695219 \nL 376.85675 217.567219 \nL 363.46475 217.567219 \nL 363.46475 206.695219 \n\" style=\"fill:#0a091f;\"/>\n    <path clip-path=\"url(#p43455f5b76)\" d=\"M 376.85675 206.695219 \nL 390.24875 206.695219 \nL 390.24875 217.567219 \nL 376.85675 217.567219 \nL 376.85675 206.695219 \n\" style=\"fill:#05061b;\"/>\n    <path clip-path=\"url(#p43455f5b76)\" d=\"M 390.24875 206.695219 \nL 403.64075 206.695219 \nL 403.64075 217.567219 \nL 390.24875 217.567219 \nL 390.24875 206.695219 \n\" style=\"fill:#03051a;\"/>\n    <path clip-path=\"url(#p43455f5b76)\" d=\"M 403.64075 206.695219 \nL 417.03275 206.695219 \nL 417.03275 217.567219 \nL 403.64075 217.567219 \nL 403.64075 206.695219 \n\" style=\"fill:#281535;\"/>\n    <path clip-path=\"url(#p43455f5b76)\" d=\"M 417.03275 206.695219 \nL 430.42475 206.695219 \nL 430.42475 217.567219 \nL 417.03275 217.567219 \nL 417.03275 206.695219 \n\" style=\"fill:#04051a;\"/>\n    <path clip-path=\"url(#p43455f5b76)\" d=\"M 430.42475 206.695219 \nL 443.81675 206.695219 \nL 443.81675 217.567219 \nL 430.42475 217.567219 \nL 430.42475 206.695219 \n\" style=\"fill:#faebdd;\"/>\n    <path clip-path=\"url(#p43455f5b76)\" d=\"M 443.81675 206.695219 \nL 457.20875 206.695219 \nL 457.20875 217.567219 \nL 443.81675 217.567219 \nL 443.81675 206.695219 \n\" style=\"fill:#160e27;\"/>\n    <path clip-path=\"url(#p43455f5b76)\" d=\"M 189.36875 217.567219 \nL 202.76075 217.567219 \nL 202.76075 228.439219 \nL 189.36875 228.439219 \nL 189.36875 217.567219 \n\" style=\"fill:#04051a;\"/>\n    <path clip-path=\"url(#p43455f5b76)\" d=\"M 202.76075 217.567219 \nL 216.15275 217.567219 \nL 216.15275 228.439219 \nL 202.76075 228.439219 \nL 202.76075 217.567219 \n\" style=\"fill:#20122e;\"/>\n    <path clip-path=\"url(#p43455f5b76)\" d=\"M 216.15275 217.567219 \nL 229.54475 217.567219 \nL 229.54475 228.439219 \nL 216.15275 228.439219 \nL 216.15275 217.567219 \n\" style=\"fill:#20122e;\"/>\n    <path clip-path=\"url(#p43455f5b76)\" d=\"M 229.54475 217.567219 \nL 242.93675 217.567219 \nL 242.93675 228.439219 \nL 229.54475 228.439219 \nL 229.54475 217.567219 \n\" style=\"fill:#281535;\"/>\n    <path clip-path=\"url(#p43455f5b76)\" d=\"M 242.93675 217.567219 \nL 256.32875 217.567219 \nL 256.32875 228.439219 \nL 242.93675 228.439219 \nL 242.93675 217.567219 \n\" style=\"fill:#1e122d;\"/>\n    <path clip-path=\"url(#p43455f5b76)\" d=\"M 256.32875 217.567219 \nL 269.72075 217.567219 \nL 269.72075 228.439219 \nL 256.32875 228.439219 \nL 256.32875 217.567219 \n\" style=\"fill:#170f28;\"/>\n    <path clip-path=\"url(#p43455f5b76)\" d=\"M 269.72075 217.567219 \nL 283.11275 217.567219 \nL 283.11275 228.439219 \nL 269.72075 228.439219 \nL 269.72075 217.567219 \n\" style=\"fill:#100b23;\"/>\n    <path clip-path=\"url(#p43455f5b76)\" d=\"M 283.11275 217.567219 \nL 296.50475 217.567219 \nL 296.50475 228.439219 \nL 283.11275 228.439219 \nL 283.11275 217.567219 \n\" style=\"fill:#481c48;\"/>\n    <path clip-path=\"url(#p43455f5b76)\" d=\"M 296.50475 217.567219 \nL 309.89675 217.567219 \nL 309.89675 228.439219 \nL 296.50475 228.439219 \nL 296.50475 217.567219 \n\" style=\"fill:#04051a;\"/>\n    <path clip-path=\"url(#p43455f5b76)\" d=\"M 309.89675 217.567219 \nL 323.28875 217.567219 \nL 323.28875 228.439219 \nL 309.89675 228.439219 \nL 309.89675 217.567219 \n\" style=\"fill:#140e26;\"/>\n    <path clip-path=\"url(#p43455f5b76)\" d=\"M 323.28875 217.567219 \nL 336.68075 217.567219 \nL 336.68075 228.439219 \nL 323.28875 228.439219 \nL 323.28875 217.567219 \n\" style=\"fill:#07071d;\"/>\n    <path clip-path=\"url(#p43455f5b76)\" d=\"M 336.68075 217.567219 \nL 350.07275 217.567219 \nL 350.07275 228.439219 \nL 336.68075 228.439219 \nL 336.68075 217.567219 \n\" style=\"fill:#05061b;\"/>\n    <path clip-path=\"url(#p43455f5b76)\" d=\"M 350.07275 217.567219 \nL 363.46475 217.567219 \nL 363.46475 228.439219 \nL 350.07275 228.439219 \nL 350.07275 217.567219 \n\" style=\"fill:#0d0a21;\"/>\n    <path clip-path=\"url(#p43455f5b76)\" d=\"M 363.46475 217.567219 \nL 376.85675 217.567219 \nL 376.85675 228.439219 \nL 363.46475 228.439219 \nL 363.46475 217.567219 \n\" style=\"fill:#421b45;\"/>\n    <path clip-path=\"url(#p43455f5b76)\" d=\"M 376.85675 217.567219 \nL 390.24875 217.567219 \nL 390.24875 228.439219 \nL 376.85675 228.439219 \nL 376.85675 217.567219 \n\" style=\"fill:#241432;\"/>\n    <path clip-path=\"url(#p43455f5b76)\" d=\"M 390.24875 217.567219 \nL 403.64075 217.567219 \nL 403.64075 228.439219 \nL 390.24875 228.439219 \nL 390.24875 217.567219 \n\" style=\"fill:#1e122d;\"/>\n    <path clip-path=\"url(#p43455f5b76)\" d=\"M 403.64075 217.567219 \nL 417.03275 217.567219 \nL 417.03275 228.439219 \nL 403.64075 228.439219 \nL 403.64075 217.567219 \n\" style=\"fill:#0a091f;\"/>\n    <path clip-path=\"url(#p43455f5b76)\" d=\"M 417.03275 217.567219 \nL 430.42475 217.567219 \nL 430.42475 228.439219 \nL 417.03275 228.439219 \nL 417.03275 217.567219 \n\" style=\"fill:#05061b;\"/>\n    <path clip-path=\"url(#p43455f5b76)\" d=\"M 430.42475 217.567219 \nL 443.81675 217.567219 \nL 443.81675 228.439219 \nL 430.42475 228.439219 \nL 430.42475 217.567219 \n\" style=\"fill:#160e27;\"/>\n    <path clip-path=\"url(#p43455f5b76)\" d=\"M 443.81675 217.567219 \nL 457.20875 217.567219 \nL 457.20875 228.439219 \nL 443.81675 228.439219 \nL 443.81675 217.567219 \n\" style=\"fill:#faebdd;\"/>\n   </g>\n   <g id=\"matplotlib.axis_1\">\n    <g id=\"xtick_1\">\n     <g id=\"line2d_1\">\n      <defs>\n       <path d=\"M 0 0 \nL 0 3.5 \n\" id=\"m5fde9759fd\" style=\"stroke:#000000;stroke-width:0.8;\"/>\n      </defs>\n      <g>\n       <use style=\"stroke:#000000;stroke-width:0.8;\" x=\"196.06475\" xlink:href=\"#m5fde9759fd\" y=\"228.439219\"/>\n      </g>\n     </g>\n     <g id=\"text_1\">\n      <!-- avglinksize -->\n      <defs>\n       <path d=\"M 34.28125 27.484375 \nQ 23.390625 27.484375 19.1875 25 \nQ 14.984375 22.515625 14.984375 16.5 \nQ 14.984375 11.71875 18.140625 8.90625 \nQ 21.296875 6.109375 26.703125 6.109375 \nQ 34.1875 6.109375 38.703125 11.40625 \nQ 43.21875 16.703125 43.21875 25.484375 \nL 43.21875 27.484375 \nz\nM 52.203125 31.203125 \nL 52.203125 0 \nL 43.21875 0 \nL 43.21875 8.296875 \nQ 40.140625 3.328125 35.546875 0.953125 \nQ 30.953125 -1.421875 24.3125 -1.421875 \nQ 15.921875 -1.421875 10.953125 3.296875 \nQ 6 8.015625 6 15.921875 \nQ 6 25.140625 12.171875 29.828125 \nQ 18.359375 34.515625 30.609375 34.515625 \nL 43.21875 34.515625 \nL 43.21875 35.40625 \nQ 43.21875 41.609375 39.140625 45 \nQ 35.0625 48.390625 27.6875 48.390625 \nQ 23 48.390625 18.546875 47.265625 \nQ 14.109375 46.140625 10.015625 43.890625 \nL 10.015625 52.203125 \nQ 14.9375 54.109375 19.578125 55.046875 \nQ 24.21875 56 28.609375 56 \nQ 40.484375 56 46.34375 49.84375 \nQ 52.203125 43.703125 52.203125 31.203125 \nz\n\" id=\"DejaVuSans-97\"/>\n       <path d=\"M 2.984375 54.6875 \nL 12.5 54.6875 \nL 29.59375 8.796875 \nL 46.6875 54.6875 \nL 56.203125 54.6875 \nL 35.6875 0 \nL 23.484375 0 \nz\n\" id=\"DejaVuSans-118\"/>\n       <path d=\"M 45.40625 27.984375 \nQ 45.40625 37.75 41.375 43.109375 \nQ 37.359375 48.484375 30.078125 48.484375 \nQ 22.859375 48.484375 18.828125 43.109375 \nQ 14.796875 37.75 14.796875 27.984375 \nQ 14.796875 18.265625 18.828125 12.890625 \nQ 22.859375 7.515625 30.078125 7.515625 \nQ 37.359375 7.515625 41.375 12.890625 \nQ 45.40625 18.265625 45.40625 27.984375 \nz\nM 54.390625 6.78125 \nQ 54.390625 -7.171875 48.1875 -13.984375 \nQ 42 -20.796875 29.203125 -20.796875 \nQ 24.46875 -20.796875 20.265625 -20.09375 \nQ 16.0625 -19.390625 12.109375 -17.921875 \nL 12.109375 -9.1875 \nQ 16.0625 -11.328125 19.921875 -12.34375 \nQ 23.78125 -13.375 27.78125 -13.375 \nQ 36.625 -13.375 41.015625 -8.765625 \nQ 45.40625 -4.15625 45.40625 5.171875 \nL 45.40625 9.625 \nQ 42.625 4.78125 38.28125 2.390625 \nQ 33.9375 0 27.875 0 \nQ 17.828125 0 11.671875 7.65625 \nQ 5.515625 15.328125 5.515625 27.984375 \nQ 5.515625 40.671875 11.671875 48.328125 \nQ 17.828125 56 27.875 56 \nQ 33.9375 56 38.28125 53.609375 \nQ 42.625 51.21875 45.40625 46.390625 \nL 45.40625 54.6875 \nL 54.390625 54.6875 \nz\n\" id=\"DejaVuSans-103\"/>\n       <path d=\"M 9.421875 75.984375 \nL 18.40625 75.984375 \nL 18.40625 0 \nL 9.421875 0 \nz\n\" id=\"DejaVuSans-108\"/>\n       <path d=\"M 9.421875 54.6875 \nL 18.40625 54.6875 \nL 18.40625 0 \nL 9.421875 0 \nz\nM 9.421875 75.984375 \nL 18.40625 75.984375 \nL 18.40625 64.59375 \nL 9.421875 64.59375 \nz\n\" id=\"DejaVuSans-105\"/>\n       <path d=\"M 54.890625 33.015625 \nL 54.890625 0 \nL 45.90625 0 \nL 45.90625 32.71875 \nQ 45.90625 40.484375 42.875 44.328125 \nQ 39.84375 48.1875 33.796875 48.1875 \nQ 26.515625 48.1875 22.3125 43.546875 \nQ 18.109375 38.921875 18.109375 30.90625 \nL 18.109375 0 \nL 9.078125 0 \nL 9.078125 54.6875 \nL 18.109375 54.6875 \nL 18.109375 46.1875 \nQ 21.34375 51.125 25.703125 53.5625 \nQ 30.078125 56 35.796875 56 \nQ 45.21875 56 50.046875 50.171875 \nQ 54.890625 44.34375 54.890625 33.015625 \nz\n\" id=\"DejaVuSans-110\"/>\n       <path d=\"M 9.078125 75.984375 \nL 18.109375 75.984375 \nL 18.109375 31.109375 \nL 44.921875 54.6875 \nL 56.390625 54.6875 \nL 27.390625 29.109375 \nL 57.625 0 \nL 45.90625 0 \nL 18.109375 26.703125 \nL 18.109375 0 \nL 9.078125 0 \nz\n\" id=\"DejaVuSans-107\"/>\n       <path d=\"M 44.28125 53.078125 \nL 44.28125 44.578125 \nQ 40.484375 46.53125 36.375 47.5 \nQ 32.28125 48.484375 27.875 48.484375 \nQ 21.1875 48.484375 17.84375 46.4375 \nQ 14.5 44.390625 14.5 40.28125 \nQ 14.5 37.15625 16.890625 35.375 \nQ 19.28125 33.59375 26.515625 31.984375 \nL 29.59375 31.296875 \nQ 39.15625 29.25 43.1875 25.515625 \nQ 47.21875 21.78125 47.21875 15.09375 \nQ 47.21875 7.46875 41.1875 3.015625 \nQ 35.15625 -1.421875 24.609375 -1.421875 \nQ 20.21875 -1.421875 15.453125 -0.5625 \nQ 10.6875 0.296875 5.421875 2 \nL 5.421875 11.28125 \nQ 10.40625 8.6875 15.234375 7.390625 \nQ 20.0625 6.109375 24.8125 6.109375 \nQ 31.15625 6.109375 34.5625 8.28125 \nQ 37.984375 10.453125 37.984375 14.40625 \nQ 37.984375 18.0625 35.515625 20.015625 \nQ 33.0625 21.96875 24.703125 23.78125 \nL 21.578125 24.515625 \nQ 13.234375 26.265625 9.515625 29.90625 \nQ 5.8125 33.546875 5.8125 39.890625 \nQ 5.8125 47.609375 11.28125 51.796875 \nQ 16.75 56 26.8125 56 \nQ 31.78125 56 36.171875 55.265625 \nQ 40.578125 54.546875 44.28125 53.078125 \nz\n\" id=\"DejaVuSans-115\"/>\n       <path d=\"M 5.515625 54.6875 \nL 48.1875 54.6875 \nL 48.1875 46.484375 \nL 14.40625 7.171875 \nL 48.1875 7.171875 \nL 48.1875 0 \nL 4.296875 0 \nL 4.296875 8.203125 \nL 38.09375 47.515625 \nL 5.515625 47.515625 \nz\n\" id=\"DejaVuSans-122\"/>\n       <path d=\"M 56.203125 29.59375 \nL 56.203125 25.203125 \nL 14.890625 25.203125 \nQ 15.484375 15.921875 20.484375 11.0625 \nQ 25.484375 6.203125 34.421875 6.203125 \nQ 39.59375 6.203125 44.453125 7.46875 \nQ 49.3125 8.734375 54.109375 11.28125 \nL 54.109375 2.78125 \nQ 49.265625 0.734375 44.1875 -0.34375 \nQ 39.109375 -1.421875 33.890625 -1.421875 \nQ 20.796875 -1.421875 13.15625 6.1875 \nQ 5.515625 13.8125 5.515625 26.8125 \nQ 5.515625 40.234375 12.765625 48.109375 \nQ 20.015625 56 32.328125 56 \nQ 43.359375 56 49.78125 48.890625 \nQ 56.203125 41.796875 56.203125 29.59375 \nz\nM 47.21875 32.234375 \nQ 47.125 39.59375 43.09375 43.984375 \nQ 39.0625 48.390625 32.421875 48.390625 \nQ 24.90625 48.390625 20.390625 44.140625 \nQ 15.875 39.890625 15.1875 32.171875 \nz\n\" id=\"DejaVuSans-101\"/>\n      </defs>\n      <g transform=\"translate(198.824125 290.907969)rotate(-90)scale(0.1 -0.1)\">\n       <use xlink:href=\"#DejaVuSans-97\"/>\n       <use x=\"61.279297\" xlink:href=\"#DejaVuSans-118\"/>\n       <use x=\"120.458984\" xlink:href=\"#DejaVuSans-103\"/>\n       <use x=\"183.935547\" xlink:href=\"#DejaVuSans-108\"/>\n       <use x=\"211.71875\" xlink:href=\"#DejaVuSans-105\"/>\n       <use x=\"239.501953\" xlink:href=\"#DejaVuSans-110\"/>\n       <use x=\"302.880859\" xlink:href=\"#DejaVuSans-107\"/>\n       <use x=\"360.791016\" xlink:href=\"#DejaVuSans-115\"/>\n       <use x=\"412.890625\" xlink:href=\"#DejaVuSans-105\"/>\n       <use x=\"440.673828\" xlink:href=\"#DejaVuSans-122\"/>\n       <use x=\"493.164062\" xlink:href=\"#DejaVuSans-101\"/>\n      </g>\n     </g>\n    </g>\n    <g id=\"xtick_2\">\n     <g id=\"line2d_2\">\n      <g>\n       <use style=\"stroke:#000000;stroke-width:0.8;\" x=\"209.45675\" xlink:href=\"#m5fde9759fd\" y=\"228.439219\"/>\n      </g>\n     </g>\n     <g id=\"text_2\">\n      <!-- commonlinkratio_1 -->\n      <defs>\n       <path d=\"M 48.78125 52.59375 \nL 48.78125 44.1875 \nQ 44.96875 46.296875 41.140625 47.34375 \nQ 37.3125 48.390625 33.40625 48.390625 \nQ 24.65625 48.390625 19.8125 42.84375 \nQ 14.984375 37.3125 14.984375 27.296875 \nQ 14.984375 17.28125 19.8125 11.734375 \nQ 24.65625 6.203125 33.40625 6.203125 \nQ 37.3125 6.203125 41.140625 7.25 \nQ 44.96875 8.296875 48.78125 10.40625 \nL 48.78125 2.09375 \nQ 45.015625 0.34375 40.984375 -0.53125 \nQ 36.96875 -1.421875 32.421875 -1.421875 \nQ 20.0625 -1.421875 12.78125 6.34375 \nQ 5.515625 14.109375 5.515625 27.296875 \nQ 5.515625 40.671875 12.859375 48.328125 \nQ 20.21875 56 33.015625 56 \nQ 37.15625 56 41.109375 55.140625 \nQ 45.0625 54.296875 48.78125 52.59375 \nz\n\" id=\"DejaVuSans-99\"/>\n       <path d=\"M 30.609375 48.390625 \nQ 23.390625 48.390625 19.1875 42.75 \nQ 14.984375 37.109375 14.984375 27.296875 \nQ 14.984375 17.484375 19.15625 11.84375 \nQ 23.34375 6.203125 30.609375 6.203125 \nQ 37.796875 6.203125 41.984375 11.859375 \nQ 46.1875 17.53125 46.1875 27.296875 \nQ 46.1875 37.015625 41.984375 42.703125 \nQ 37.796875 48.390625 30.609375 48.390625 \nz\nM 30.609375 56 \nQ 42.328125 56 49.015625 48.375 \nQ 55.71875 40.765625 55.71875 27.296875 \nQ 55.71875 13.875 49.015625 6.21875 \nQ 42.328125 -1.421875 30.609375 -1.421875 \nQ 18.84375 -1.421875 12.171875 6.21875 \nQ 5.515625 13.875 5.515625 27.296875 \nQ 5.515625 40.765625 12.171875 48.375 \nQ 18.84375 56 30.609375 56 \nz\n\" id=\"DejaVuSans-111\"/>\n       <path d=\"M 52 44.1875 \nQ 55.375 50.25 60.0625 53.125 \nQ 64.75 56 71.09375 56 \nQ 79.640625 56 84.28125 50.015625 \nQ 88.921875 44.046875 88.921875 33.015625 \nL 88.921875 0 \nL 79.890625 0 \nL 79.890625 32.71875 \nQ 79.890625 40.578125 77.09375 44.375 \nQ 74.3125 48.1875 68.609375 48.1875 \nQ 61.625 48.1875 57.5625 43.546875 \nQ 53.515625 38.921875 53.515625 30.90625 \nL 53.515625 0 \nL 44.484375 0 \nL 44.484375 32.71875 \nQ 44.484375 40.625 41.703125 44.40625 \nQ 38.921875 48.1875 33.109375 48.1875 \nQ 26.21875 48.1875 22.15625 43.53125 \nQ 18.109375 38.875 18.109375 30.90625 \nL 18.109375 0 \nL 9.078125 0 \nL 9.078125 54.6875 \nL 18.109375 54.6875 \nL 18.109375 46.1875 \nQ 21.1875 51.21875 25.484375 53.609375 \nQ 29.78125 56 35.6875 56 \nQ 41.65625 56 45.828125 52.96875 \nQ 50 49.953125 52 44.1875 \nz\n\" id=\"DejaVuSans-109\"/>\n       <path d=\"M 41.109375 46.296875 \nQ 39.59375 47.171875 37.8125 47.578125 \nQ 36.03125 48 33.890625 48 \nQ 26.265625 48 22.1875 43.046875 \nQ 18.109375 38.09375 18.109375 28.8125 \nL 18.109375 0 \nL 9.078125 0 \nL 9.078125 54.6875 \nL 18.109375 54.6875 \nL 18.109375 46.1875 \nQ 20.953125 51.171875 25.484375 53.578125 \nQ 30.03125 56 36.53125 56 \nQ 37.453125 56 38.578125 55.875 \nQ 39.703125 55.765625 41.0625 55.515625 \nz\n\" id=\"DejaVuSans-114\"/>\n       <path d=\"M 18.3125 70.21875 \nL 18.3125 54.6875 \nL 36.8125 54.6875 \nL 36.8125 47.703125 \nL 18.3125 47.703125 \nL 18.3125 18.015625 \nQ 18.3125 11.328125 20.140625 9.421875 \nQ 21.96875 7.515625 27.59375 7.515625 \nL 36.8125 7.515625 \nL 36.8125 0 \nL 27.59375 0 \nQ 17.1875 0 13.234375 3.875 \nQ 9.28125 7.765625 9.28125 18.015625 \nL 9.28125 47.703125 \nL 2.6875 47.703125 \nL 2.6875 54.6875 \nL 9.28125 54.6875 \nL 9.28125 70.21875 \nz\n\" id=\"DejaVuSans-116\"/>\n       <path d=\"M 50.984375 -16.609375 \nL 50.984375 -23.578125 \nL -0.984375 -23.578125 \nL -0.984375 -16.609375 \nz\n\" id=\"DejaVuSans-95\"/>\n       <path d=\"M 12.40625 8.296875 \nL 28.515625 8.296875 \nL 28.515625 63.921875 \nL 10.984375 60.40625 \nL 10.984375 69.390625 \nL 28.421875 72.90625 \nL 38.28125 72.90625 \nL 38.28125 8.296875 \nL 54.390625 8.296875 \nL 54.390625 0 \nL 12.40625 0 \nz\n\" id=\"DejaVuSans-49\"/>\n      </defs>\n      <g transform=\"translate(212.077063 331.097031)rotate(-90)scale(0.1 -0.1)\">\n       <use xlink:href=\"#DejaVuSans-99\"/>\n       <use x=\"54.980469\" xlink:href=\"#DejaVuSans-111\"/>\n       <use x=\"116.162109\" xlink:href=\"#DejaVuSans-109\"/>\n       <use x=\"213.574219\" xlink:href=\"#DejaVuSans-109\"/>\n       <use x=\"310.986328\" xlink:href=\"#DejaVuSans-111\"/>\n       <use x=\"372.167969\" xlink:href=\"#DejaVuSans-110\"/>\n       <use x=\"435.546875\" xlink:href=\"#DejaVuSans-108\"/>\n       <use x=\"463.330078\" xlink:href=\"#DejaVuSans-105\"/>\n       <use x=\"491.113281\" xlink:href=\"#DejaVuSans-110\"/>\n       <use x=\"554.492188\" xlink:href=\"#DejaVuSans-107\"/>\n       <use x=\"612.402344\" xlink:href=\"#DejaVuSans-114\"/>\n       <use x=\"653.515625\" xlink:href=\"#DejaVuSans-97\"/>\n       <use x=\"714.794922\" xlink:href=\"#DejaVuSans-116\"/>\n       <use x=\"754.003906\" xlink:href=\"#DejaVuSans-105\"/>\n       <use x=\"781.787109\" xlink:href=\"#DejaVuSans-111\"/>\n       <use x=\"842.96875\" xlink:href=\"#DejaVuSans-95\"/>\n       <use x=\"892.96875\" xlink:href=\"#DejaVuSans-49\"/>\n      </g>\n     </g>\n    </g>\n    <g id=\"xtick_3\">\n     <g id=\"line2d_3\">\n      <g>\n       <use style=\"stroke:#000000;stroke-width:0.8;\" x=\"222.84875\" xlink:href=\"#m5fde9759fd\" y=\"228.439219\"/>\n      </g>\n     </g>\n     <g id=\"text_3\">\n      <!-- commonlinkratio_2 -->\n      <defs>\n       <path d=\"M 19.1875 8.296875 \nL 53.609375 8.296875 \nL 53.609375 0 \nL 7.328125 0 \nL 7.328125 8.296875 \nQ 12.9375 14.109375 22.625 23.890625 \nQ 32.328125 33.6875 34.8125 36.53125 \nQ 39.546875 41.84375 41.421875 45.53125 \nQ 43.3125 49.21875 43.3125 52.78125 \nQ 43.3125 58.59375 39.234375 62.25 \nQ 35.15625 65.921875 28.609375 65.921875 \nQ 23.96875 65.921875 18.8125 64.3125 \nQ 13.671875 62.703125 7.8125 59.421875 \nL 7.8125 69.390625 \nQ 13.765625 71.78125 18.9375 73 \nQ 24.125 74.21875 28.421875 74.21875 \nQ 39.75 74.21875 46.484375 68.546875 \nQ 53.21875 62.890625 53.21875 53.421875 \nQ 53.21875 48.921875 51.53125 44.890625 \nQ 49.859375 40.875 45.40625 35.40625 \nQ 44.1875 33.984375 37.640625 27.21875 \nQ 31.109375 20.453125 19.1875 8.296875 \nz\n\" id=\"DejaVuSans-50\"/>\n      </defs>\n      <g transform=\"translate(225.469063 331.097031)rotate(-90)scale(0.1 -0.1)\">\n       <use xlink:href=\"#DejaVuSans-99\"/>\n       <use x=\"54.980469\" xlink:href=\"#DejaVuSans-111\"/>\n       <use x=\"116.162109\" xlink:href=\"#DejaVuSans-109\"/>\n       <use x=\"213.574219\" xlink:href=\"#DejaVuSans-109\"/>\n       <use x=\"310.986328\" xlink:href=\"#DejaVuSans-111\"/>\n       <use x=\"372.167969\" xlink:href=\"#DejaVuSans-110\"/>\n       <use x=\"435.546875\" xlink:href=\"#DejaVuSans-108\"/>\n       <use x=\"463.330078\" xlink:href=\"#DejaVuSans-105\"/>\n       <use x=\"491.113281\" xlink:href=\"#DejaVuSans-110\"/>\n       <use x=\"554.492188\" xlink:href=\"#DejaVuSans-107\"/>\n       <use x=\"612.402344\" xlink:href=\"#DejaVuSans-114\"/>\n       <use x=\"653.515625\" xlink:href=\"#DejaVuSans-97\"/>\n       <use x=\"714.794922\" xlink:href=\"#DejaVuSans-116\"/>\n       <use x=\"754.003906\" xlink:href=\"#DejaVuSans-105\"/>\n       <use x=\"781.787109\" xlink:href=\"#DejaVuSans-111\"/>\n       <use x=\"842.96875\" xlink:href=\"#DejaVuSans-95\"/>\n       <use x=\"892.96875\" xlink:href=\"#DejaVuSans-50\"/>\n      </g>\n     </g>\n    </g>\n    <g id=\"xtick_4\">\n     <g id=\"line2d_4\">\n      <g>\n       <use style=\"stroke:#000000;stroke-width:0.8;\" x=\"236.24075\" xlink:href=\"#m5fde9759fd\" y=\"228.439219\"/>\n      </g>\n     </g>\n     <g id=\"text_4\">\n      <!-- commonlinkratio_3 -->\n      <defs>\n       <path d=\"M 40.578125 39.3125 \nQ 47.65625 37.796875 51.625 33 \nQ 55.609375 28.21875 55.609375 21.1875 \nQ 55.609375 10.40625 48.1875 4.484375 \nQ 40.765625 -1.421875 27.09375 -1.421875 \nQ 22.515625 -1.421875 17.65625 -0.515625 \nQ 12.796875 0.390625 7.625 2.203125 \nL 7.625 11.71875 \nQ 11.71875 9.328125 16.59375 8.109375 \nQ 21.484375 6.890625 26.8125 6.890625 \nQ 36.078125 6.890625 40.9375 10.546875 \nQ 45.796875 14.203125 45.796875 21.1875 \nQ 45.796875 27.640625 41.28125 31.265625 \nQ 36.765625 34.90625 28.71875 34.90625 \nL 20.21875 34.90625 \nL 20.21875 43.015625 \nL 29.109375 43.015625 \nQ 36.375 43.015625 40.234375 45.921875 \nQ 44.09375 48.828125 44.09375 54.296875 \nQ 44.09375 59.90625 40.109375 62.90625 \nQ 36.140625 65.921875 28.71875 65.921875 \nQ 24.65625 65.921875 20.015625 65.03125 \nQ 15.375 64.15625 9.8125 62.3125 \nL 9.8125 71.09375 \nQ 15.4375 72.65625 20.34375 73.4375 \nQ 25.25 74.21875 29.59375 74.21875 \nQ 40.828125 74.21875 47.359375 69.109375 \nQ 53.90625 64.015625 53.90625 55.328125 \nQ 53.90625 49.265625 50.4375 45.09375 \nQ 46.96875 40.921875 40.578125 39.3125 \nz\n\" id=\"DejaVuSans-51\"/>\n      </defs>\n      <g transform=\"translate(238.861063 331.097031)rotate(-90)scale(0.1 -0.1)\">\n       <use xlink:href=\"#DejaVuSans-99\"/>\n       <use x=\"54.980469\" xlink:href=\"#DejaVuSans-111\"/>\n       <use x=\"116.162109\" xlink:href=\"#DejaVuSans-109\"/>\n       <use x=\"213.574219\" xlink:href=\"#DejaVuSans-109\"/>\n       <use x=\"310.986328\" xlink:href=\"#DejaVuSans-111\"/>\n       <use x=\"372.167969\" xlink:href=\"#DejaVuSans-110\"/>\n       <use x=\"435.546875\" xlink:href=\"#DejaVuSans-108\"/>\n       <use x=\"463.330078\" xlink:href=\"#DejaVuSans-105\"/>\n       <use x=\"491.113281\" xlink:href=\"#DejaVuSans-110\"/>\n       <use x=\"554.492188\" xlink:href=\"#DejaVuSans-107\"/>\n       <use x=\"612.402344\" xlink:href=\"#DejaVuSans-114\"/>\n       <use x=\"653.515625\" xlink:href=\"#DejaVuSans-97\"/>\n       <use x=\"714.794922\" xlink:href=\"#DejaVuSans-116\"/>\n       <use x=\"754.003906\" xlink:href=\"#DejaVuSans-105\"/>\n       <use x=\"781.787109\" xlink:href=\"#DejaVuSans-111\"/>\n       <use x=\"842.96875\" xlink:href=\"#DejaVuSans-95\"/>\n       <use x=\"892.96875\" xlink:href=\"#DejaVuSans-51\"/>\n      </g>\n     </g>\n    </g>\n    <g id=\"xtick_5\">\n     <g id=\"line2d_5\">\n      <g>\n       <use style=\"stroke:#000000;stroke-width:0.8;\" x=\"249.63275\" xlink:href=\"#m5fde9759fd\" y=\"228.439219\"/>\n      </g>\n     </g>\n     <g id=\"text_5\">\n      <!-- commonlinkratio_4 -->\n      <defs>\n       <path d=\"M 37.796875 64.3125 \nL 12.890625 25.390625 \nL 37.796875 25.390625 \nz\nM 35.203125 72.90625 \nL 47.609375 72.90625 \nL 47.609375 25.390625 \nL 58.015625 25.390625 \nL 58.015625 17.1875 \nL 47.609375 17.1875 \nL 47.609375 0 \nL 37.796875 0 \nL 37.796875 17.1875 \nL 4.890625 17.1875 \nL 4.890625 26.703125 \nz\n\" id=\"DejaVuSans-52\"/>\n      </defs>\n      <g transform=\"translate(252.253063 331.097031)rotate(-90)scale(0.1 -0.1)\">\n       <use xlink:href=\"#DejaVuSans-99\"/>\n       <use x=\"54.980469\" xlink:href=\"#DejaVuSans-111\"/>\n       <use x=\"116.162109\" xlink:href=\"#DejaVuSans-109\"/>\n       <use x=\"213.574219\" xlink:href=\"#DejaVuSans-109\"/>\n       <use x=\"310.986328\" xlink:href=\"#DejaVuSans-111\"/>\n       <use x=\"372.167969\" xlink:href=\"#DejaVuSans-110\"/>\n       <use x=\"435.546875\" xlink:href=\"#DejaVuSans-108\"/>\n       <use x=\"463.330078\" xlink:href=\"#DejaVuSans-105\"/>\n       <use x=\"491.113281\" xlink:href=\"#DejaVuSans-110\"/>\n       <use x=\"554.492188\" xlink:href=\"#DejaVuSans-107\"/>\n       <use x=\"612.402344\" xlink:href=\"#DejaVuSans-114\"/>\n       <use x=\"653.515625\" xlink:href=\"#DejaVuSans-97\"/>\n       <use x=\"714.794922\" xlink:href=\"#DejaVuSans-116\"/>\n       <use x=\"754.003906\" xlink:href=\"#DejaVuSans-105\"/>\n       <use x=\"781.787109\" xlink:href=\"#DejaVuSans-111\"/>\n       <use x=\"842.96875\" xlink:href=\"#DejaVuSans-95\"/>\n       <use x=\"892.96875\" xlink:href=\"#DejaVuSans-52\"/>\n      </g>\n     </g>\n    </g>\n    <g id=\"xtick_6\">\n     <g id=\"line2d_6\">\n      <g>\n       <use style=\"stroke:#000000;stroke-width:0.8;\" x=\"263.02475\" xlink:href=\"#m5fde9759fd\" y=\"228.439219\"/>\n      </g>\n     </g>\n     <g id=\"text_6\">\n      <!-- compression_ratio -->\n      <defs>\n       <path d=\"M 18.109375 8.203125 \nL 18.109375 -20.796875 \nL 9.078125 -20.796875 \nL 9.078125 54.6875 \nL 18.109375 54.6875 \nL 18.109375 46.390625 \nQ 20.953125 51.265625 25.265625 53.625 \nQ 29.59375 56 35.59375 56 \nQ 45.5625 56 51.78125 48.09375 \nQ 58.015625 40.1875 58.015625 27.296875 \nQ 58.015625 14.40625 51.78125 6.484375 \nQ 45.5625 -1.421875 35.59375 -1.421875 \nQ 29.59375 -1.421875 25.265625 0.953125 \nQ 20.953125 3.328125 18.109375 8.203125 \nz\nM 48.6875 27.296875 \nQ 48.6875 37.203125 44.609375 42.84375 \nQ 40.53125 48.484375 33.40625 48.484375 \nQ 26.265625 48.484375 22.1875 42.84375 \nQ 18.109375 37.203125 18.109375 27.296875 \nQ 18.109375 17.390625 22.1875 11.75 \nQ 26.265625 6.109375 33.40625 6.109375 \nQ 40.53125 6.109375 44.609375 11.75 \nQ 48.6875 17.390625 48.6875 27.296875 \nz\n\" id=\"DejaVuSans-112\"/>\n      </defs>\n      <g transform=\"translate(265.645063 326.893906)rotate(-90)scale(0.1 -0.1)\">\n       <use xlink:href=\"#DejaVuSans-99\"/>\n       <use x=\"54.980469\" xlink:href=\"#DejaVuSans-111\"/>\n       <use x=\"116.162109\" xlink:href=\"#DejaVuSans-109\"/>\n       <use x=\"213.574219\" xlink:href=\"#DejaVuSans-112\"/>\n       <use x=\"277.050781\" xlink:href=\"#DejaVuSans-114\"/>\n       <use x=\"315.914062\" xlink:href=\"#DejaVuSans-101\"/>\n       <use x=\"377.4375\" xlink:href=\"#DejaVuSans-115\"/>\n       <use x=\"429.537109\" xlink:href=\"#DejaVuSans-115\"/>\n       <use x=\"481.636719\" xlink:href=\"#DejaVuSans-105\"/>\n       <use x=\"509.419922\" xlink:href=\"#DejaVuSans-111\"/>\n       <use x=\"570.601562\" xlink:href=\"#DejaVuSans-110\"/>\n       <use x=\"633.980469\" xlink:href=\"#DejaVuSans-95\"/>\n       <use x=\"683.980469\" xlink:href=\"#DejaVuSans-114\"/>\n       <use x=\"725.09375\" xlink:href=\"#DejaVuSans-97\"/>\n       <use x=\"786.373047\" xlink:href=\"#DejaVuSans-116\"/>\n       <use x=\"825.582031\" xlink:href=\"#DejaVuSans-105\"/>\n       <use x=\"853.365234\" xlink:href=\"#DejaVuSans-111\"/>\n      </g>\n     </g>\n    </g>\n    <g id=\"xtick_7\">\n     <g id=\"line2d_7\">\n      <g>\n       <use style=\"stroke:#000000;stroke-width:0.8;\" x=\"276.41675\" xlink:href=\"#m5fde9759fd\" y=\"228.439219\"/>\n      </g>\n     </g>\n     <g id=\"text_7\">\n      <!-- embed_ratio -->\n      <defs>\n       <path d=\"M 48.6875 27.296875 \nQ 48.6875 37.203125 44.609375 42.84375 \nQ 40.53125 48.484375 33.40625 48.484375 \nQ 26.265625 48.484375 22.1875 42.84375 \nQ 18.109375 37.203125 18.109375 27.296875 \nQ 18.109375 17.390625 22.1875 11.75 \nQ 26.265625 6.109375 33.40625 6.109375 \nQ 40.53125 6.109375 44.609375 11.75 \nQ 48.6875 17.390625 48.6875 27.296875 \nz\nM 18.109375 46.390625 \nQ 20.953125 51.265625 25.265625 53.625 \nQ 29.59375 56 35.59375 56 \nQ 45.5625 56 51.78125 48.09375 \nQ 58.015625 40.1875 58.015625 27.296875 \nQ 58.015625 14.40625 51.78125 6.484375 \nQ 45.5625 -1.421875 35.59375 -1.421875 \nQ 29.59375 -1.421875 25.265625 0.953125 \nQ 20.953125 3.328125 18.109375 8.203125 \nL 18.109375 0 \nL 9.078125 0 \nL 9.078125 75.984375 \nL 18.109375 75.984375 \nz\n\" id=\"DejaVuSans-98\"/>\n       <path d=\"M 45.40625 46.390625 \nL 45.40625 75.984375 \nL 54.390625 75.984375 \nL 54.390625 0 \nL 45.40625 0 \nL 45.40625 8.203125 \nQ 42.578125 3.328125 38.25 0.953125 \nQ 33.9375 -1.421875 27.875 -1.421875 \nQ 17.96875 -1.421875 11.734375 6.484375 \nQ 5.515625 14.40625 5.515625 27.296875 \nQ 5.515625 40.1875 11.734375 48.09375 \nQ 17.96875 56 27.875 56 \nQ 33.9375 56 38.25 53.625 \nQ 42.578125 51.265625 45.40625 46.390625 \nz\nM 14.796875 27.296875 \nQ 14.796875 17.390625 18.875 11.75 \nQ 22.953125 6.109375 30.078125 6.109375 \nQ 37.203125 6.109375 41.296875 11.75 \nQ 45.40625 17.390625 45.40625 27.296875 \nQ 45.40625 37.203125 41.296875 42.84375 \nQ 37.203125 48.484375 30.078125 48.484375 \nQ 22.953125 48.484375 18.875 42.84375 \nQ 14.796875 37.203125 14.796875 27.296875 \nz\n\" id=\"DejaVuSans-100\"/>\n      </defs>\n      <g transform=\"translate(279.037063 298.239219)rotate(-90)scale(0.1 -0.1)\">\n       <use xlink:href=\"#DejaVuSans-101\"/>\n       <use x=\"61.523438\" xlink:href=\"#DejaVuSans-109\"/>\n       <use x=\"158.935547\" xlink:href=\"#DejaVuSans-98\"/>\n       <use x=\"222.412109\" xlink:href=\"#DejaVuSans-101\"/>\n       <use x=\"283.935547\" xlink:href=\"#DejaVuSans-100\"/>\n       <use x=\"347.412109\" xlink:href=\"#DejaVuSans-95\"/>\n       <use x=\"397.412109\" xlink:href=\"#DejaVuSans-114\"/>\n       <use x=\"438.525391\" xlink:href=\"#DejaVuSans-97\"/>\n       <use x=\"499.804688\" xlink:href=\"#DejaVuSans-116\"/>\n       <use x=\"539.013672\" xlink:href=\"#DejaVuSans-105\"/>\n       <use x=\"566.796875\" xlink:href=\"#DejaVuSans-111\"/>\n      </g>\n     </g>\n    </g>\n    <g id=\"xtick_8\">\n     <g id=\"line2d_8\">\n      <g>\n       <use style=\"stroke:#000000;stroke-width:0.8;\" x=\"289.80875\" xlink:href=\"#m5fde9759fd\" y=\"228.439219\"/>\n      </g>\n     </g>\n     <g id=\"text_8\">\n      <!-- frameTagRatio -->\n      <defs>\n       <path d=\"M 37.109375 75.984375 \nL 37.109375 68.5 \nL 28.515625 68.5 \nQ 23.6875 68.5 21.796875 66.546875 \nQ 19.921875 64.59375 19.921875 59.515625 \nL 19.921875 54.6875 \nL 34.71875 54.6875 \nL 34.71875 47.703125 \nL 19.921875 47.703125 \nL 19.921875 0 \nL 10.890625 0 \nL 10.890625 47.703125 \nL 2.296875 47.703125 \nL 2.296875 54.6875 \nL 10.890625 54.6875 \nL 10.890625 58.5 \nQ 10.890625 67.625 15.140625 71.796875 \nQ 19.390625 75.984375 28.609375 75.984375 \nz\n\" id=\"DejaVuSans-102\"/>\n       <path d=\"M -0.296875 72.90625 \nL 61.375 72.90625 \nL 61.375 64.59375 \nL 35.5 64.59375 \nL 35.5 0 \nL 25.59375 0 \nL 25.59375 64.59375 \nL -0.296875 64.59375 \nz\n\" id=\"DejaVuSans-84\"/>\n       <path d=\"M 44.390625 34.1875 \nQ 47.5625 33.109375 50.5625 29.59375 \nQ 53.5625 26.078125 56.59375 19.921875 \nL 66.609375 0 \nL 56 0 \nL 46.6875 18.703125 \nQ 43.0625 26.03125 39.671875 28.421875 \nQ 36.28125 30.8125 30.421875 30.8125 \nL 19.671875 30.8125 \nL 19.671875 0 \nL 9.8125 0 \nL 9.8125 72.90625 \nL 32.078125 72.90625 \nQ 44.578125 72.90625 50.734375 67.671875 \nQ 56.890625 62.453125 56.890625 51.90625 \nQ 56.890625 45.015625 53.6875 40.46875 \nQ 50.484375 35.9375 44.390625 34.1875 \nz\nM 19.671875 64.796875 \nL 19.671875 38.921875 \nL 32.078125 38.921875 \nQ 39.203125 38.921875 42.84375 42.21875 \nQ 46.484375 45.515625 46.484375 51.90625 \nQ 46.484375 58.296875 42.84375 61.546875 \nQ 39.203125 64.796875 32.078125 64.796875 \nz\n\" id=\"DejaVuSans-82\"/>\n      </defs>\n      <g transform=\"translate(292.568125 307.695469)rotate(-90)scale(0.1 -0.1)\">\n       <use xlink:href=\"#DejaVuSans-102\"/>\n       <use x=\"35.205078\" xlink:href=\"#DejaVuSans-114\"/>\n       <use x=\"76.318359\" xlink:href=\"#DejaVuSans-97\"/>\n       <use x=\"137.597656\" xlink:href=\"#DejaVuSans-109\"/>\n       <use x=\"235.009766\" xlink:href=\"#DejaVuSans-101\"/>\n       <use x=\"296.533203\" xlink:href=\"#DejaVuSans-84\"/>\n       <use x=\"341.117188\" xlink:href=\"#DejaVuSans-97\"/>\n       <use x=\"402.396484\" xlink:href=\"#DejaVuSans-103\"/>\n       <use x=\"465.873047\" xlink:href=\"#DejaVuSans-82\"/>\n       <use x=\"533.105469\" xlink:href=\"#DejaVuSans-97\"/>\n       <use x=\"594.384766\" xlink:href=\"#DejaVuSans-116\"/>\n       <use x=\"633.59375\" xlink:href=\"#DejaVuSans-105\"/>\n       <use x=\"661.376953\" xlink:href=\"#DejaVuSans-111\"/>\n      </g>\n     </g>\n    </g>\n    <g id=\"xtick_9\">\n     <g id=\"line2d_9\">\n      <g>\n       <use style=\"stroke:#000000;stroke-width:0.8;\" x=\"303.20075\" xlink:href=\"#m5fde9759fd\" y=\"228.439219\"/>\n      </g>\n     </g>\n     <g id=\"text_9\">\n      <!-- hasDomainLink -->\n      <defs>\n       <path d=\"M 54.890625 33.015625 \nL 54.890625 0 \nL 45.90625 0 \nL 45.90625 32.71875 \nQ 45.90625 40.484375 42.875 44.328125 \nQ 39.84375 48.1875 33.796875 48.1875 \nQ 26.515625 48.1875 22.3125 43.546875 \nQ 18.109375 38.921875 18.109375 30.90625 \nL 18.109375 0 \nL 9.078125 0 \nL 9.078125 75.984375 \nL 18.109375 75.984375 \nL 18.109375 46.1875 \nQ 21.34375 51.125 25.703125 53.5625 \nQ 30.078125 56 35.796875 56 \nQ 45.21875 56 50.046875 50.171875 \nQ 54.890625 44.34375 54.890625 33.015625 \nz\n\" id=\"DejaVuSans-104\"/>\n       <path d=\"M 19.671875 64.796875 \nL 19.671875 8.109375 \nL 31.59375 8.109375 \nQ 46.6875 8.109375 53.6875 14.9375 \nQ 60.6875 21.78125 60.6875 36.53125 \nQ 60.6875 51.171875 53.6875 57.984375 \nQ 46.6875 64.796875 31.59375 64.796875 \nz\nM 9.8125 72.90625 \nL 30.078125 72.90625 \nQ 51.265625 72.90625 61.171875 64.09375 \nQ 71.09375 55.28125 71.09375 36.53125 \nQ 71.09375 17.671875 61.125 8.828125 \nQ 51.171875 0 30.078125 0 \nL 9.8125 0 \nz\n\" id=\"DejaVuSans-68\"/>\n       <path d=\"M 9.8125 72.90625 \nL 19.671875 72.90625 \nL 19.671875 8.296875 \nL 55.171875 8.296875 \nL 55.171875 0 \nL 9.8125 0 \nz\n\" id=\"DejaVuSans-76\"/>\n      </defs>\n      <g transform=\"translate(305.960125 312.395469)rotate(-90)scale(0.1 -0.1)\">\n       <use xlink:href=\"#DejaVuSans-104\"/>\n       <use x=\"63.378906\" xlink:href=\"#DejaVuSans-97\"/>\n       <use x=\"124.658203\" xlink:href=\"#DejaVuSans-115\"/>\n       <use x=\"176.757812\" xlink:href=\"#DejaVuSans-68\"/>\n       <use x=\"253.759766\" xlink:href=\"#DejaVuSans-111\"/>\n       <use x=\"314.941406\" xlink:href=\"#DejaVuSans-109\"/>\n       <use x=\"412.353516\" xlink:href=\"#DejaVuSans-97\"/>\n       <use x=\"473.632812\" xlink:href=\"#DejaVuSans-105\"/>\n       <use x=\"501.416016\" xlink:href=\"#DejaVuSans-110\"/>\n       <use x=\"564.794922\" xlink:href=\"#DejaVuSans-76\"/>\n       <use x=\"620.507812\" xlink:href=\"#DejaVuSans-105\"/>\n       <use x=\"648.291016\" xlink:href=\"#DejaVuSans-110\"/>\n       <use x=\"711.669922\" xlink:href=\"#DejaVuSans-107\"/>\n      </g>\n     </g>\n    </g>\n    <g id=\"xtick_10\">\n     <g id=\"line2d_10\">\n      <g>\n       <use style=\"stroke:#000000;stroke-width:0.8;\" x=\"316.59275\" xlink:href=\"#m5fde9759fd\" y=\"228.439219\"/>\n      </g>\n     </g>\n     <g id=\"text_10\">\n      <!-- html_ratio -->\n      <g transform=\"translate(319.213063 286.272031)rotate(-90)scale(0.1 -0.1)\">\n       <use xlink:href=\"#DejaVuSans-104\"/>\n       <use x=\"63.378906\" xlink:href=\"#DejaVuSans-116\"/>\n       <use x=\"102.587891\" xlink:href=\"#DejaVuSans-109\"/>\n       <use x=\"200\" xlink:href=\"#DejaVuSans-108\"/>\n       <use x=\"227.783203\" xlink:href=\"#DejaVuSans-95\"/>\n       <use x=\"277.783203\" xlink:href=\"#DejaVuSans-114\"/>\n       <use x=\"318.896484\" xlink:href=\"#DejaVuSans-97\"/>\n       <use x=\"380.175781\" xlink:href=\"#DejaVuSans-116\"/>\n       <use x=\"419.384766\" xlink:href=\"#DejaVuSans-105\"/>\n       <use x=\"447.167969\" xlink:href=\"#DejaVuSans-111\"/>\n      </g>\n     </g>\n    </g>\n    <g id=\"xtick_11\">\n     <g id=\"line2d_11\">\n      <g>\n       <use style=\"stroke:#000000;stroke-width:0.8;\" x=\"329.98475\" xlink:href=\"#m5fde9759fd\" y=\"228.439219\"/>\n      </g>\n     </g>\n     <g id=\"text_11\">\n      <!-- image_ratio -->\n      <g transform=\"translate(332.605063 294.643906)rotate(-90)scale(0.1 -0.1)\">\n       <use xlink:href=\"#DejaVuSans-105\"/>\n       <use x=\"27.783203\" xlink:href=\"#DejaVuSans-109\"/>\n       <use x=\"125.195312\" xlink:href=\"#DejaVuSans-97\"/>\n       <use x=\"186.474609\" xlink:href=\"#DejaVuSans-103\"/>\n       <use x=\"249.951172\" xlink:href=\"#DejaVuSans-101\"/>\n       <use x=\"311.474609\" xlink:href=\"#DejaVuSans-95\"/>\n       <use x=\"361.474609\" xlink:href=\"#DejaVuSans-114\"/>\n       <use x=\"402.587891\" xlink:href=\"#DejaVuSans-97\"/>\n       <use x=\"463.867188\" xlink:href=\"#DejaVuSans-116\"/>\n       <use x=\"503.076172\" xlink:href=\"#DejaVuSans-105\"/>\n       <use x=\"530.859375\" xlink:href=\"#DejaVuSans-111\"/>\n      </g>\n     </g>\n    </g>\n    <g id=\"xtick_12\">\n     <g id=\"line2d_12\">\n      <g>\n       <use style=\"stroke:#000000;stroke-width:0.8;\" x=\"343.37675\" xlink:href=\"#m5fde9759fd\" y=\"228.439219\"/>\n      </g>\n     </g>\n     <g id=\"text_12\">\n      <!-- is_news -->\n      <defs>\n       <path d=\"M 4.203125 54.6875 \nL 13.1875 54.6875 \nL 24.421875 12.015625 \nL 35.59375 54.6875 \nL 46.1875 54.6875 \nL 57.421875 12.015625 \nL 68.609375 54.6875 \nL 77.59375 54.6875 \nL 63.28125 0 \nL 52.6875 0 \nL 40.921875 44.828125 \nL 29.109375 0 \nL 18.5 0 \nz\n\" id=\"DejaVuSans-119\"/>\n      </defs>\n      <g transform=\"translate(345.997063 274.304844)rotate(-90)scale(0.1 -0.1)\">\n       <use xlink:href=\"#DejaVuSans-105\"/>\n       <use x=\"27.783203\" xlink:href=\"#DejaVuSans-115\"/>\n       <use x=\"79.882812\" xlink:href=\"#DejaVuSans-95\"/>\n       <use x=\"129.882812\" xlink:href=\"#DejaVuSans-110\"/>\n       <use x=\"193.261719\" xlink:href=\"#DejaVuSans-101\"/>\n       <use x=\"254.785156\" xlink:href=\"#DejaVuSans-119\"/>\n       <use x=\"336.572266\" xlink:href=\"#DejaVuSans-115\"/>\n      </g>\n     </g>\n    </g>\n    <g id=\"xtick_13\">\n     <g id=\"line2d_13\">\n      <g>\n       <use style=\"stroke:#000000;stroke-width:0.8;\" x=\"356.76875\" xlink:href=\"#m5fde9759fd\" y=\"228.439219\"/>\n      </g>\n     </g>\n     <g id=\"text_13\">\n      <!-- lengthyLinkDomain -->\n      <defs>\n       <path d=\"M 32.171875 -5.078125 \nQ 28.375 -14.84375 24.75 -17.8125 \nQ 21.140625 -20.796875 15.09375 -20.796875 \nL 7.90625 -20.796875 \nL 7.90625 -13.28125 \nL 13.1875 -13.28125 \nQ 16.890625 -13.28125 18.9375 -11.515625 \nQ 21 -9.765625 23.484375 -3.21875 \nL 25.09375 0.875 \nL 2.984375 54.6875 \nL 12.5 54.6875 \nL 29.59375 11.921875 \nL 46.6875 54.6875 \nL 56.203125 54.6875 \nz\n\" id=\"DejaVuSans-121\"/>\n      </defs>\n      <g transform=\"translate(359.528125 332.514219)rotate(-90)scale(0.1 -0.1)\">\n       <use xlink:href=\"#DejaVuSans-108\"/>\n       <use x=\"27.783203\" xlink:href=\"#DejaVuSans-101\"/>\n       <use x=\"89.306641\" xlink:href=\"#DejaVuSans-110\"/>\n       <use x=\"152.685547\" xlink:href=\"#DejaVuSans-103\"/>\n       <use x=\"216.162109\" xlink:href=\"#DejaVuSans-116\"/>\n       <use x=\"255.371094\" xlink:href=\"#DejaVuSans-104\"/>\n       <use x=\"318.75\" xlink:href=\"#DejaVuSans-121\"/>\n       <use x=\"377.929688\" xlink:href=\"#DejaVuSans-76\"/>\n       <use x=\"433.642578\" xlink:href=\"#DejaVuSans-105\"/>\n       <use x=\"461.425781\" xlink:href=\"#DejaVuSans-110\"/>\n       <use x=\"524.804688\" xlink:href=\"#DejaVuSans-107\"/>\n       <use x=\"582.714844\" xlink:href=\"#DejaVuSans-68\"/>\n       <use x=\"659.716797\" xlink:href=\"#DejaVuSans-111\"/>\n       <use x=\"720.898438\" xlink:href=\"#DejaVuSans-109\"/>\n       <use x=\"818.310547\" xlink:href=\"#DejaVuSans-97\"/>\n       <use x=\"879.589844\" xlink:href=\"#DejaVuSans-105\"/>\n       <use x=\"907.373047\" xlink:href=\"#DejaVuSans-110\"/>\n      </g>\n     </g>\n    </g>\n    <g id=\"xtick_14\">\n     <g id=\"line2d_14\">\n      <g>\n       <use style=\"stroke:#000000;stroke-width:0.8;\" x=\"370.16075\" xlink:href=\"#m5fde9759fd\" y=\"228.439219\"/>\n      </g>\n     </g>\n     <g id=\"text_14\">\n      <!-- linkwordscore -->\n      <g transform=\"translate(372.920125 304.570469)rotate(-90)scale(0.1 -0.1)\">\n       <use xlink:href=\"#DejaVuSans-108\"/>\n       <use x=\"27.783203\" xlink:href=\"#DejaVuSans-105\"/>\n       <use x=\"55.566406\" xlink:href=\"#DejaVuSans-110\"/>\n       <use x=\"118.945312\" xlink:href=\"#DejaVuSans-107\"/>\n       <use x=\"176.855469\" xlink:href=\"#DejaVuSans-119\"/>\n       <use x=\"258.642578\" xlink:href=\"#DejaVuSans-111\"/>\n       <use x=\"319.824219\" xlink:href=\"#DejaVuSans-114\"/>\n       <use x=\"359.1875\" xlink:href=\"#DejaVuSans-100\"/>\n       <use x=\"422.664062\" xlink:href=\"#DejaVuSans-115\"/>\n       <use x=\"474.763672\" xlink:href=\"#DejaVuSans-99\"/>\n       <use x=\"529.744141\" xlink:href=\"#DejaVuSans-111\"/>\n       <use x=\"590.925781\" xlink:href=\"#DejaVuSans-114\"/>\n       <use x=\"629.789062\" xlink:href=\"#DejaVuSans-101\"/>\n      </g>\n     </g>\n    </g>\n    <g id=\"xtick_15\">\n     <g id=\"line2d_15\">\n      <g>\n       <use style=\"stroke:#000000;stroke-width:0.8;\" x=\"383.55275\" xlink:href=\"#m5fde9759fd\" y=\"228.439219\"/>\n      </g>\n     </g>\n     <g id=\"text_15\">\n      <!-- non_markup_alphanum_characters -->\n      <defs>\n       <path d=\"M 8.5 21.578125 \nL 8.5 54.6875 \nL 17.484375 54.6875 \nL 17.484375 21.921875 \nQ 17.484375 14.15625 20.5 10.265625 \nQ 23.53125 6.390625 29.59375 6.390625 \nQ 36.859375 6.390625 41.078125 11.03125 \nQ 45.3125 15.671875 45.3125 23.6875 \nL 45.3125 54.6875 \nL 54.296875 54.6875 \nL 54.296875 0 \nL 45.3125 0 \nL 45.3125 8.40625 \nQ 42.046875 3.421875 37.71875 1 \nQ 33.40625 -1.421875 27.6875 -1.421875 \nQ 18.265625 -1.421875 13.375 4.4375 \nQ 8.5 10.296875 8.5 21.578125 \nz\nM 31.109375 56 \nz\n\" id=\"DejaVuSans-117\"/>\n      </defs>\n      <g transform=\"translate(386.173063 410.607969)rotate(-90)scale(0.1 -0.1)\">\n       <use xlink:href=\"#DejaVuSans-110\"/>\n       <use x=\"63.378906\" xlink:href=\"#DejaVuSans-111\"/>\n       <use x=\"124.560547\" xlink:href=\"#DejaVuSans-110\"/>\n       <use x=\"187.939453\" xlink:href=\"#DejaVuSans-95\"/>\n       <use x=\"237.939453\" xlink:href=\"#DejaVuSans-109\"/>\n       <use x=\"335.351562\" xlink:href=\"#DejaVuSans-97\"/>\n       <use x=\"396.630859\" xlink:href=\"#DejaVuSans-114\"/>\n       <use x=\"437.744141\" xlink:href=\"#DejaVuSans-107\"/>\n       <use x=\"492.529297\" xlink:href=\"#DejaVuSans-117\"/>\n       <use x=\"555.908203\" xlink:href=\"#DejaVuSans-112\"/>\n       <use x=\"619.384766\" xlink:href=\"#DejaVuSans-95\"/>\n       <use x=\"669.384766\" xlink:href=\"#DejaVuSans-97\"/>\n       <use x=\"730.664062\" xlink:href=\"#DejaVuSans-108\"/>\n       <use x=\"758.447266\" xlink:href=\"#DejaVuSans-112\"/>\n       <use x=\"821.923828\" xlink:href=\"#DejaVuSans-104\"/>\n       <use x=\"885.302734\" xlink:href=\"#DejaVuSans-97\"/>\n       <use x=\"946.582031\" xlink:href=\"#DejaVuSans-110\"/>\n       <use x=\"1009.960938\" xlink:href=\"#DejaVuSans-117\"/>\n       <use x=\"1073.339844\" xlink:href=\"#DejaVuSans-109\"/>\n       <use x=\"1170.751953\" xlink:href=\"#DejaVuSans-95\"/>\n       <use x=\"1220.751953\" xlink:href=\"#DejaVuSans-99\"/>\n       <use x=\"1275.732422\" xlink:href=\"#DejaVuSans-104\"/>\n       <use x=\"1339.111328\" xlink:href=\"#DejaVuSans-97\"/>\n       <use x=\"1400.390625\" xlink:href=\"#DejaVuSans-114\"/>\n       <use x=\"1441.503906\" xlink:href=\"#DejaVuSans-97\"/>\n       <use x=\"1502.783203\" xlink:href=\"#DejaVuSans-99\"/>\n       <use x=\"1557.763672\" xlink:href=\"#DejaVuSans-116\"/>\n       <use x=\"1596.972656\" xlink:href=\"#DejaVuSans-101\"/>\n       <use x=\"1658.496094\" xlink:href=\"#DejaVuSans-114\"/>\n       <use x=\"1699.609375\" xlink:href=\"#DejaVuSans-115\"/>\n      </g>\n     </g>\n    </g>\n    <g id=\"xtick_16\">\n     <g id=\"line2d_16\">\n      <g>\n       <use style=\"stroke:#000000;stroke-width:0.8;\" x=\"396.94475\" xlink:href=\"#m5fde9759fd\" y=\"228.439219\"/>\n      </g>\n     </g>\n     <g id=\"text_16\">\n      <!-- numberOfLinks -->\n      <defs>\n       <path d=\"M 39.40625 66.21875 \nQ 28.65625 66.21875 22.328125 58.203125 \nQ 16.015625 50.203125 16.015625 36.375 \nQ 16.015625 22.609375 22.328125 14.59375 \nQ 28.65625 6.59375 39.40625 6.59375 \nQ 50.140625 6.59375 56.421875 14.59375 \nQ 62.703125 22.609375 62.703125 36.375 \nQ 62.703125 50.203125 56.421875 58.203125 \nQ 50.140625 66.21875 39.40625 66.21875 \nz\nM 39.40625 74.21875 \nQ 54.734375 74.21875 63.90625 63.9375 \nQ 73.09375 53.65625 73.09375 36.375 \nQ 73.09375 19.140625 63.90625 8.859375 \nQ 54.734375 -1.421875 39.40625 -1.421875 \nQ 24.03125 -1.421875 14.8125 8.828125 \nQ 5.609375 19.09375 5.609375 36.375 \nQ 5.609375 53.65625 14.8125 63.9375 \nQ 24.03125 74.21875 39.40625 74.21875 \nz\n\" id=\"DejaVuSans-79\"/>\n      </defs>\n      <g transform=\"translate(399.704125 311.547031)rotate(-90)scale(0.1 -0.1)\">\n       <use xlink:href=\"#DejaVuSans-110\"/>\n       <use x=\"63.378906\" xlink:href=\"#DejaVuSans-117\"/>\n       <use x=\"126.757812\" xlink:href=\"#DejaVuSans-109\"/>\n       <use x=\"224.169922\" xlink:href=\"#DejaVuSans-98\"/>\n       <use x=\"287.646484\" xlink:href=\"#DejaVuSans-101\"/>\n       <use x=\"349.169922\" xlink:href=\"#DejaVuSans-114\"/>\n       <use x=\"390.283203\" xlink:href=\"#DejaVuSans-79\"/>\n       <use x=\"468.994141\" xlink:href=\"#DejaVuSans-102\"/>\n       <use x=\"504.199219\" xlink:href=\"#DejaVuSans-76\"/>\n       <use x=\"559.912109\" xlink:href=\"#DejaVuSans-105\"/>\n       <use x=\"587.695312\" xlink:href=\"#DejaVuSans-110\"/>\n       <use x=\"651.074219\" xlink:href=\"#DejaVuSans-107\"/>\n       <use x=\"708.984375\" xlink:href=\"#DejaVuSans-115\"/>\n      </g>\n     </g>\n    </g>\n    <g id=\"xtick_17\">\n     <g id=\"line2d_17\">\n      <g>\n       <use style=\"stroke:#000000;stroke-width:0.8;\" x=\"410.33675\" xlink:href=\"#m5fde9759fd\" y=\"228.439219\"/>\n      </g>\n     </g>\n     <g id=\"text_17\">\n      <!-- numwords_in_url -->\n      <g transform=\"translate(412.957063 319.987656)rotate(-90)scale(0.1 -0.1)\">\n       <use xlink:href=\"#DejaVuSans-110\"/>\n       <use x=\"63.378906\" xlink:href=\"#DejaVuSans-117\"/>\n       <use x=\"126.757812\" xlink:href=\"#DejaVuSans-109\"/>\n       <use x=\"224.169922\" xlink:href=\"#DejaVuSans-119\"/>\n       <use x=\"305.957031\" xlink:href=\"#DejaVuSans-111\"/>\n       <use x=\"367.138672\" xlink:href=\"#DejaVuSans-114\"/>\n       <use x=\"406.501953\" xlink:href=\"#DejaVuSans-100\"/>\n       <use x=\"469.978516\" xlink:href=\"#DejaVuSans-115\"/>\n       <use x=\"522.078125\" xlink:href=\"#DejaVuSans-95\"/>\n       <use x=\"572.078125\" xlink:href=\"#DejaVuSans-105\"/>\n       <use x=\"599.861328\" xlink:href=\"#DejaVuSans-110\"/>\n       <use x=\"663.240234\" xlink:href=\"#DejaVuSans-95\"/>\n       <use x=\"713.240234\" xlink:href=\"#DejaVuSans-117\"/>\n       <use x=\"776.619141\" xlink:href=\"#DejaVuSans-114\"/>\n       <use x=\"817.732422\" xlink:href=\"#DejaVuSans-108\"/>\n      </g>\n     </g>\n    </g>\n    <g id=\"xtick_18\">\n     <g id=\"line2d_18\">\n      <g>\n       <use style=\"stroke:#000000;stroke-width:0.8;\" x=\"423.72875\" xlink:href=\"#m5fde9759fd\" y=\"228.439219\"/>\n      </g>\n     </g>\n     <g id=\"text_18\">\n      <!-- parametrizedLinkRatio -->\n      <g transform=\"translate(426.488125 348.754844)rotate(-90)scale(0.1 -0.1)\">\n       <use xlink:href=\"#DejaVuSans-112\"/>\n       <use x=\"63.476562\" xlink:href=\"#DejaVuSans-97\"/>\n       <use x=\"124.755859\" xlink:href=\"#DejaVuSans-114\"/>\n       <use x=\"165.869141\" xlink:href=\"#DejaVuSans-97\"/>\n       <use x=\"227.148438\" xlink:href=\"#DejaVuSans-109\"/>\n       <use x=\"324.560547\" xlink:href=\"#DejaVuSans-101\"/>\n       <use x=\"386.083984\" xlink:href=\"#DejaVuSans-116\"/>\n       <use x=\"425.292969\" xlink:href=\"#DejaVuSans-114\"/>\n       <use x=\"466.40625\" xlink:href=\"#DejaVuSans-105\"/>\n       <use x=\"494.189453\" xlink:href=\"#DejaVuSans-122\"/>\n       <use x=\"546.679688\" xlink:href=\"#DejaVuSans-101\"/>\n       <use x=\"608.203125\" xlink:href=\"#DejaVuSans-100\"/>\n       <use x=\"671.679688\" xlink:href=\"#DejaVuSans-76\"/>\n       <use x=\"727.392578\" xlink:href=\"#DejaVuSans-105\"/>\n       <use x=\"755.175781\" xlink:href=\"#DejaVuSans-110\"/>\n       <use x=\"818.554688\" xlink:href=\"#DejaVuSans-107\"/>\n       <use x=\"876.464844\" xlink:href=\"#DejaVuSans-82\"/>\n       <use x=\"943.697266\" xlink:href=\"#DejaVuSans-97\"/>\n       <use x=\"1004.976562\" xlink:href=\"#DejaVuSans-116\"/>\n       <use x=\"1044.185547\" xlink:href=\"#DejaVuSans-105\"/>\n       <use x=\"1071.96875\" xlink:href=\"#DejaVuSans-111\"/>\n      </g>\n     </g>\n    </g>\n    <g id=\"xtick_19\">\n     <g id=\"line2d_19\">\n      <g>\n       <use style=\"stroke:#000000;stroke-width:0.8;\" x=\"437.12075\" xlink:href=\"#m5fde9759fd\" y=\"228.439219\"/>\n      </g>\n     </g>\n     <g id=\"text_19\">\n      <!-- spelling_errors_ratio -->\n      <g transform=\"translate(439.741063 336.640781)rotate(-90)scale(0.1 -0.1)\">\n       <use xlink:href=\"#DejaVuSans-115\"/>\n       <use x=\"52.099609\" xlink:href=\"#DejaVuSans-112\"/>\n       <use x=\"115.576172\" xlink:href=\"#DejaVuSans-101\"/>\n       <use x=\"177.099609\" xlink:href=\"#DejaVuSans-108\"/>\n       <use x=\"204.882812\" xlink:href=\"#DejaVuSans-108\"/>\n       <use x=\"232.666016\" xlink:href=\"#DejaVuSans-105\"/>\n       <use x=\"260.449219\" xlink:href=\"#DejaVuSans-110\"/>\n       <use x=\"323.828125\" xlink:href=\"#DejaVuSans-103\"/>\n       <use x=\"387.304688\" xlink:href=\"#DejaVuSans-95\"/>\n       <use x=\"437.304688\" xlink:href=\"#DejaVuSans-101\"/>\n       <use x=\"498.828125\" xlink:href=\"#DejaVuSans-114\"/>\n       <use x=\"538.191406\" xlink:href=\"#DejaVuSans-114\"/>\n       <use x=\"577.054688\" xlink:href=\"#DejaVuSans-111\"/>\n       <use x=\"638.236328\" xlink:href=\"#DejaVuSans-114\"/>\n       <use x=\"679.349609\" xlink:href=\"#DejaVuSans-115\"/>\n       <use x=\"731.449219\" xlink:href=\"#DejaVuSans-95\"/>\n       <use x=\"781.449219\" xlink:href=\"#DejaVuSans-114\"/>\n       <use x=\"822.5625\" xlink:href=\"#DejaVuSans-97\"/>\n       <use x=\"883.841797\" xlink:href=\"#DejaVuSans-116\"/>\n       <use x=\"923.050781\" xlink:href=\"#DejaVuSans-105\"/>\n       <use x=\"950.833984\" xlink:href=\"#DejaVuSans-111\"/>\n      </g>\n     </g>\n    </g>\n    <g id=\"xtick_20\">\n     <g id=\"line2d_20\">\n      <g>\n       <use style=\"stroke:#000000;stroke-width:0.8;\" x=\"450.51275\" xlink:href=\"#m5fde9759fd\" y=\"228.439219\"/>\n      </g>\n     </g>\n     <g id=\"text_20\">\n      <!-- label -->\n      <g transform=\"translate(453.272125 259.625156)rotate(-90)scale(0.1 -0.1)\">\n       <use xlink:href=\"#DejaVuSans-108\"/>\n       <use x=\"27.783203\" xlink:href=\"#DejaVuSans-97\"/>\n       <use x=\"89.0625\" xlink:href=\"#DejaVuSans-98\"/>\n       <use x=\"152.539062\" xlink:href=\"#DejaVuSans-101\"/>\n       <use x=\"214.0625\" xlink:href=\"#DejaVuSans-108\"/>\n      </g>\n     </g>\n    </g>\n   </g>\n   <g id=\"matplotlib.axis_2\">\n    <g id=\"ytick_1\">\n     <g id=\"line2d_21\">\n      <defs>\n       <path d=\"M 0 0 \nL -3.5 0 \n\" id=\"mdd7e54d011\" style=\"stroke:#000000;stroke-width:0.8;\"/>\n      </defs>\n      <g>\n       <use style=\"stroke:#000000;stroke-width:0.8;\" x=\"189.36875\" xlink:href=\"#mdd7e54d011\" y=\"16.435219\"/>\n      </g>\n     </g>\n     <g id=\"text_21\">\n      <!-- avglinksize -->\n      <g transform=\"translate(126.9 20.234437)scale(0.1 -0.1)\">\n       <use xlink:href=\"#DejaVuSans-97\"/>\n       <use x=\"61.279297\" xlink:href=\"#DejaVuSans-118\"/>\n       <use x=\"120.458984\" xlink:href=\"#DejaVuSans-103\"/>\n       <use x=\"183.935547\" xlink:href=\"#DejaVuSans-108\"/>\n       <use x=\"211.71875\" xlink:href=\"#DejaVuSans-105\"/>\n       <use x=\"239.501953\" xlink:href=\"#DejaVuSans-110\"/>\n       <use x=\"302.880859\" xlink:href=\"#DejaVuSans-107\"/>\n       <use x=\"360.791016\" xlink:href=\"#DejaVuSans-115\"/>\n       <use x=\"412.890625\" xlink:href=\"#DejaVuSans-105\"/>\n       <use x=\"440.673828\" xlink:href=\"#DejaVuSans-122\"/>\n       <use x=\"493.164062\" xlink:href=\"#DejaVuSans-101\"/>\n      </g>\n     </g>\n    </g>\n    <g id=\"ytick_2\">\n     <g id=\"line2d_22\">\n      <g>\n       <use style=\"stroke:#000000;stroke-width:0.8;\" x=\"189.36875\" xlink:href=\"#mdd7e54d011\" y=\"27.307219\"/>\n      </g>\n     </g>\n     <g id=\"text_22\">\n      <!-- commonlinkratio_1 -->\n      <g transform=\"translate(86.710938 31.106437)scale(0.1 -0.1)\">\n       <use xlink:href=\"#DejaVuSans-99\"/>\n       <use x=\"54.980469\" xlink:href=\"#DejaVuSans-111\"/>\n       <use x=\"116.162109\" xlink:href=\"#DejaVuSans-109\"/>\n       <use x=\"213.574219\" xlink:href=\"#DejaVuSans-109\"/>\n       <use x=\"310.986328\" xlink:href=\"#DejaVuSans-111\"/>\n       <use x=\"372.167969\" xlink:href=\"#DejaVuSans-110\"/>\n       <use x=\"435.546875\" xlink:href=\"#DejaVuSans-108\"/>\n       <use x=\"463.330078\" xlink:href=\"#DejaVuSans-105\"/>\n       <use x=\"491.113281\" xlink:href=\"#DejaVuSans-110\"/>\n       <use x=\"554.492188\" xlink:href=\"#DejaVuSans-107\"/>\n       <use x=\"612.402344\" xlink:href=\"#DejaVuSans-114\"/>\n       <use x=\"653.515625\" xlink:href=\"#DejaVuSans-97\"/>\n       <use x=\"714.794922\" xlink:href=\"#DejaVuSans-116\"/>\n       <use x=\"754.003906\" xlink:href=\"#DejaVuSans-105\"/>\n       <use x=\"781.787109\" xlink:href=\"#DejaVuSans-111\"/>\n       <use x=\"842.96875\" xlink:href=\"#DejaVuSans-95\"/>\n       <use x=\"892.96875\" xlink:href=\"#DejaVuSans-49\"/>\n      </g>\n     </g>\n    </g>\n    <g id=\"ytick_3\">\n     <g id=\"line2d_23\">\n      <g>\n       <use style=\"stroke:#000000;stroke-width:0.8;\" x=\"189.36875\" xlink:href=\"#mdd7e54d011\" y=\"38.179219\"/>\n      </g>\n     </g>\n     <g id=\"text_23\">\n      <!-- commonlinkratio_2 -->\n      <g transform=\"translate(86.710938 41.978437)scale(0.1 -0.1)\">\n       <use xlink:href=\"#DejaVuSans-99\"/>\n       <use x=\"54.980469\" xlink:href=\"#DejaVuSans-111\"/>\n       <use x=\"116.162109\" xlink:href=\"#DejaVuSans-109\"/>\n       <use x=\"213.574219\" xlink:href=\"#DejaVuSans-109\"/>\n       <use x=\"310.986328\" xlink:href=\"#DejaVuSans-111\"/>\n       <use x=\"372.167969\" xlink:href=\"#DejaVuSans-110\"/>\n       <use x=\"435.546875\" xlink:href=\"#DejaVuSans-108\"/>\n       <use x=\"463.330078\" xlink:href=\"#DejaVuSans-105\"/>\n       <use x=\"491.113281\" xlink:href=\"#DejaVuSans-110\"/>\n       <use x=\"554.492188\" xlink:href=\"#DejaVuSans-107\"/>\n       <use x=\"612.402344\" xlink:href=\"#DejaVuSans-114\"/>\n       <use x=\"653.515625\" xlink:href=\"#DejaVuSans-97\"/>\n       <use x=\"714.794922\" xlink:href=\"#DejaVuSans-116\"/>\n       <use x=\"754.003906\" xlink:href=\"#DejaVuSans-105\"/>\n       <use x=\"781.787109\" xlink:href=\"#DejaVuSans-111\"/>\n       <use x=\"842.96875\" xlink:href=\"#DejaVuSans-95\"/>\n       <use x=\"892.96875\" xlink:href=\"#DejaVuSans-50\"/>\n      </g>\n     </g>\n    </g>\n    <g id=\"ytick_4\">\n     <g id=\"line2d_24\">\n      <g>\n       <use style=\"stroke:#000000;stroke-width:0.8;\" x=\"189.36875\" xlink:href=\"#mdd7e54d011\" y=\"49.051219\"/>\n      </g>\n     </g>\n     <g id=\"text_24\">\n      <!-- commonlinkratio_3 -->\n      <g transform=\"translate(86.710938 52.850437)scale(0.1 -0.1)\">\n       <use xlink:href=\"#DejaVuSans-99\"/>\n       <use x=\"54.980469\" xlink:href=\"#DejaVuSans-111\"/>\n       <use x=\"116.162109\" xlink:href=\"#DejaVuSans-109\"/>\n       <use x=\"213.574219\" xlink:href=\"#DejaVuSans-109\"/>\n       <use x=\"310.986328\" xlink:href=\"#DejaVuSans-111\"/>\n       <use x=\"372.167969\" xlink:href=\"#DejaVuSans-110\"/>\n       <use x=\"435.546875\" xlink:href=\"#DejaVuSans-108\"/>\n       <use x=\"463.330078\" xlink:href=\"#DejaVuSans-105\"/>\n       <use x=\"491.113281\" xlink:href=\"#DejaVuSans-110\"/>\n       <use x=\"554.492188\" xlink:href=\"#DejaVuSans-107\"/>\n       <use x=\"612.402344\" xlink:href=\"#DejaVuSans-114\"/>\n       <use x=\"653.515625\" xlink:href=\"#DejaVuSans-97\"/>\n       <use x=\"714.794922\" xlink:href=\"#DejaVuSans-116\"/>\n       <use x=\"754.003906\" xlink:href=\"#DejaVuSans-105\"/>\n       <use x=\"781.787109\" xlink:href=\"#DejaVuSans-111\"/>\n       <use x=\"842.96875\" xlink:href=\"#DejaVuSans-95\"/>\n       <use x=\"892.96875\" xlink:href=\"#DejaVuSans-51\"/>\n      </g>\n     </g>\n    </g>\n    <g id=\"ytick_5\">\n     <g id=\"line2d_25\">\n      <g>\n       <use style=\"stroke:#000000;stroke-width:0.8;\" x=\"189.36875\" xlink:href=\"#mdd7e54d011\" y=\"59.923219\"/>\n      </g>\n     </g>\n     <g id=\"text_25\">\n      <!-- commonlinkratio_4 -->\n      <g transform=\"translate(86.710938 63.722437)scale(0.1 -0.1)\">\n       <use xlink:href=\"#DejaVuSans-99\"/>\n       <use x=\"54.980469\" xlink:href=\"#DejaVuSans-111\"/>\n       <use x=\"116.162109\" xlink:href=\"#DejaVuSans-109\"/>\n       <use x=\"213.574219\" xlink:href=\"#DejaVuSans-109\"/>\n       <use x=\"310.986328\" xlink:href=\"#DejaVuSans-111\"/>\n       <use x=\"372.167969\" xlink:href=\"#DejaVuSans-110\"/>\n       <use x=\"435.546875\" xlink:href=\"#DejaVuSans-108\"/>\n       <use x=\"463.330078\" xlink:href=\"#DejaVuSans-105\"/>\n       <use x=\"491.113281\" xlink:href=\"#DejaVuSans-110\"/>\n       <use x=\"554.492188\" xlink:href=\"#DejaVuSans-107\"/>\n       <use x=\"612.402344\" xlink:href=\"#DejaVuSans-114\"/>\n       <use x=\"653.515625\" xlink:href=\"#DejaVuSans-97\"/>\n       <use x=\"714.794922\" xlink:href=\"#DejaVuSans-116\"/>\n       <use x=\"754.003906\" xlink:href=\"#DejaVuSans-105\"/>\n       <use x=\"781.787109\" xlink:href=\"#DejaVuSans-111\"/>\n       <use x=\"842.96875\" xlink:href=\"#DejaVuSans-95\"/>\n       <use x=\"892.96875\" xlink:href=\"#DejaVuSans-52\"/>\n      </g>\n     </g>\n    </g>\n    <g id=\"ytick_6\">\n     <g id=\"line2d_26\">\n      <g>\n       <use style=\"stroke:#000000;stroke-width:0.8;\" x=\"189.36875\" xlink:href=\"#mdd7e54d011\" y=\"70.795219\"/>\n      </g>\n     </g>\n     <g id=\"text_26\">\n      <!-- compression_ratio -->\n      <g transform=\"translate(90.914063 74.594437)scale(0.1 -0.1)\">\n       <use xlink:href=\"#DejaVuSans-99\"/>\n       <use x=\"54.980469\" xlink:href=\"#DejaVuSans-111\"/>\n       <use x=\"116.162109\" xlink:href=\"#DejaVuSans-109\"/>\n       <use x=\"213.574219\" xlink:href=\"#DejaVuSans-112\"/>\n       <use x=\"277.050781\" xlink:href=\"#DejaVuSans-114\"/>\n       <use x=\"315.914062\" xlink:href=\"#DejaVuSans-101\"/>\n       <use x=\"377.4375\" xlink:href=\"#DejaVuSans-115\"/>\n       <use x=\"429.537109\" xlink:href=\"#DejaVuSans-115\"/>\n       <use x=\"481.636719\" xlink:href=\"#DejaVuSans-105\"/>\n       <use x=\"509.419922\" xlink:href=\"#DejaVuSans-111\"/>\n       <use x=\"570.601562\" xlink:href=\"#DejaVuSans-110\"/>\n       <use x=\"633.980469\" xlink:href=\"#DejaVuSans-95\"/>\n       <use x=\"683.980469\" xlink:href=\"#DejaVuSans-114\"/>\n       <use x=\"725.09375\" xlink:href=\"#DejaVuSans-97\"/>\n       <use x=\"786.373047\" xlink:href=\"#DejaVuSans-116\"/>\n       <use x=\"825.582031\" xlink:href=\"#DejaVuSans-105\"/>\n       <use x=\"853.365234\" xlink:href=\"#DejaVuSans-111\"/>\n      </g>\n     </g>\n    </g>\n    <g id=\"ytick_7\">\n     <g id=\"line2d_27\">\n      <g>\n       <use style=\"stroke:#000000;stroke-width:0.8;\" x=\"189.36875\" xlink:href=\"#mdd7e54d011\" y=\"81.667219\"/>\n      </g>\n     </g>\n     <g id=\"text_27\">\n      <!-- embed_ratio -->\n      <g transform=\"translate(119.56875 85.466437)scale(0.1 -0.1)\">\n       <use xlink:href=\"#DejaVuSans-101\"/>\n       <use x=\"61.523438\" xlink:href=\"#DejaVuSans-109\"/>\n       <use x=\"158.935547\" xlink:href=\"#DejaVuSans-98\"/>\n       <use x=\"222.412109\" xlink:href=\"#DejaVuSans-101\"/>\n       <use x=\"283.935547\" xlink:href=\"#DejaVuSans-100\"/>\n       <use x=\"347.412109\" xlink:href=\"#DejaVuSans-95\"/>\n       <use x=\"397.412109\" xlink:href=\"#DejaVuSans-114\"/>\n       <use x=\"438.525391\" xlink:href=\"#DejaVuSans-97\"/>\n       <use x=\"499.804688\" xlink:href=\"#DejaVuSans-116\"/>\n       <use x=\"539.013672\" xlink:href=\"#DejaVuSans-105\"/>\n       <use x=\"566.796875\" xlink:href=\"#DejaVuSans-111\"/>\n      </g>\n     </g>\n    </g>\n    <g id=\"ytick_8\">\n     <g id=\"line2d_28\">\n      <g>\n       <use style=\"stroke:#000000;stroke-width:0.8;\" x=\"189.36875\" xlink:href=\"#mdd7e54d011\" y=\"92.539219\"/>\n      </g>\n     </g>\n     <g id=\"text_28\">\n      <!-- frameTagRatio -->\n      <g transform=\"translate(110.1125 96.338437)scale(0.1 -0.1)\">\n       <use xlink:href=\"#DejaVuSans-102\"/>\n       <use x=\"35.205078\" xlink:href=\"#DejaVuSans-114\"/>\n       <use x=\"76.318359\" xlink:href=\"#DejaVuSans-97\"/>\n       <use x=\"137.597656\" xlink:href=\"#DejaVuSans-109\"/>\n       <use x=\"235.009766\" xlink:href=\"#DejaVuSans-101\"/>\n       <use x=\"296.533203\" xlink:href=\"#DejaVuSans-84\"/>\n       <use x=\"341.117188\" xlink:href=\"#DejaVuSans-97\"/>\n       <use x=\"402.396484\" xlink:href=\"#DejaVuSans-103\"/>\n       <use x=\"465.873047\" xlink:href=\"#DejaVuSans-82\"/>\n       <use x=\"533.105469\" xlink:href=\"#DejaVuSans-97\"/>\n       <use x=\"594.384766\" xlink:href=\"#DejaVuSans-116\"/>\n       <use x=\"633.59375\" xlink:href=\"#DejaVuSans-105\"/>\n       <use x=\"661.376953\" xlink:href=\"#DejaVuSans-111\"/>\n      </g>\n     </g>\n    </g>\n    <g id=\"ytick_9\">\n     <g id=\"line2d_29\">\n      <g>\n       <use style=\"stroke:#000000;stroke-width:0.8;\" x=\"189.36875\" xlink:href=\"#mdd7e54d011\" y=\"103.411219\"/>\n      </g>\n     </g>\n     <g id=\"text_29\">\n      <!-- hasDomainLink -->\n      <g transform=\"translate(105.4125 107.210437)scale(0.1 -0.1)\">\n       <use xlink:href=\"#DejaVuSans-104\"/>\n       <use x=\"63.378906\" xlink:href=\"#DejaVuSans-97\"/>\n       <use x=\"124.658203\" xlink:href=\"#DejaVuSans-115\"/>\n       <use x=\"176.757812\" xlink:href=\"#DejaVuSans-68\"/>\n       <use x=\"253.759766\" xlink:href=\"#DejaVuSans-111\"/>\n       <use x=\"314.941406\" xlink:href=\"#DejaVuSans-109\"/>\n       <use x=\"412.353516\" xlink:href=\"#DejaVuSans-97\"/>\n       <use x=\"473.632812\" xlink:href=\"#DejaVuSans-105\"/>\n       <use x=\"501.416016\" xlink:href=\"#DejaVuSans-110\"/>\n       <use x=\"564.794922\" xlink:href=\"#DejaVuSans-76\"/>\n       <use x=\"620.507812\" xlink:href=\"#DejaVuSans-105\"/>\n       <use x=\"648.291016\" xlink:href=\"#DejaVuSans-110\"/>\n       <use x=\"711.669922\" xlink:href=\"#DejaVuSans-107\"/>\n      </g>\n     </g>\n    </g>\n    <g id=\"ytick_10\">\n     <g id=\"line2d_30\">\n      <g>\n       <use style=\"stroke:#000000;stroke-width:0.8;\" x=\"189.36875\" xlink:href=\"#mdd7e54d011\" y=\"114.283219\"/>\n      </g>\n     </g>\n     <g id=\"text_30\">\n      <!-- html_ratio -->\n      <g transform=\"translate(131.535938 118.082437)scale(0.1 -0.1)\">\n       <use xlink:href=\"#DejaVuSans-104\"/>\n       <use x=\"63.378906\" xlink:href=\"#DejaVuSans-116\"/>\n       <use x=\"102.587891\" xlink:href=\"#DejaVuSans-109\"/>\n       <use x=\"200\" xlink:href=\"#DejaVuSans-108\"/>\n       <use x=\"227.783203\" xlink:href=\"#DejaVuSans-95\"/>\n       <use x=\"277.783203\" xlink:href=\"#DejaVuSans-114\"/>\n       <use x=\"318.896484\" xlink:href=\"#DejaVuSans-97\"/>\n       <use x=\"380.175781\" xlink:href=\"#DejaVuSans-116\"/>\n       <use x=\"419.384766\" xlink:href=\"#DejaVuSans-105\"/>\n       <use x=\"447.167969\" xlink:href=\"#DejaVuSans-111\"/>\n      </g>\n     </g>\n    </g>\n    <g id=\"ytick_11\">\n     <g id=\"line2d_31\">\n      <g>\n       <use style=\"stroke:#000000;stroke-width:0.8;\" x=\"189.36875\" xlink:href=\"#mdd7e54d011\" y=\"125.155219\"/>\n      </g>\n     </g>\n     <g id=\"text_31\">\n      <!-- image_ratio -->\n      <g transform=\"translate(123.164063 128.954437)scale(0.1 -0.1)\">\n       <use xlink:href=\"#DejaVuSans-105\"/>\n       <use x=\"27.783203\" xlink:href=\"#DejaVuSans-109\"/>\n       <use x=\"125.195312\" xlink:href=\"#DejaVuSans-97\"/>\n       <use x=\"186.474609\" xlink:href=\"#DejaVuSans-103\"/>\n       <use x=\"249.951172\" xlink:href=\"#DejaVuSans-101\"/>\n       <use x=\"311.474609\" xlink:href=\"#DejaVuSans-95\"/>\n       <use x=\"361.474609\" xlink:href=\"#DejaVuSans-114\"/>\n       <use x=\"402.587891\" xlink:href=\"#DejaVuSans-97\"/>\n       <use x=\"463.867188\" xlink:href=\"#DejaVuSans-116\"/>\n       <use x=\"503.076172\" xlink:href=\"#DejaVuSans-105\"/>\n       <use x=\"530.859375\" xlink:href=\"#DejaVuSans-111\"/>\n      </g>\n     </g>\n    </g>\n    <g id=\"ytick_12\">\n     <g id=\"line2d_32\">\n      <g>\n       <use style=\"stroke:#000000;stroke-width:0.8;\" x=\"189.36875\" xlink:href=\"#mdd7e54d011\" y=\"136.027219\"/>\n      </g>\n     </g>\n     <g id=\"text_32\">\n      <!-- is_news -->\n      <g transform=\"translate(143.503125 139.826437)scale(0.1 -0.1)\">\n       <use xlink:href=\"#DejaVuSans-105\"/>\n       <use x=\"27.783203\" xlink:href=\"#DejaVuSans-115\"/>\n       <use x=\"79.882812\" xlink:href=\"#DejaVuSans-95\"/>\n       <use x=\"129.882812\" xlink:href=\"#DejaVuSans-110\"/>\n       <use x=\"193.261719\" xlink:href=\"#DejaVuSans-101\"/>\n       <use x=\"254.785156\" xlink:href=\"#DejaVuSans-119\"/>\n       <use x=\"336.572266\" xlink:href=\"#DejaVuSans-115\"/>\n      </g>\n     </g>\n    </g>\n    <g id=\"ytick_13\">\n     <g id=\"line2d_33\">\n      <g>\n       <use style=\"stroke:#000000;stroke-width:0.8;\" x=\"189.36875\" xlink:href=\"#mdd7e54d011\" y=\"146.899219\"/>\n      </g>\n     </g>\n     <g id=\"text_33\">\n      <!-- lengthyLinkDomain -->\n      <g transform=\"translate(85.29375 150.698437)scale(0.1 -0.1)\">\n       <use xlink:href=\"#DejaVuSans-108\"/>\n       <use x=\"27.783203\" xlink:href=\"#DejaVuSans-101\"/>\n       <use x=\"89.306641\" xlink:href=\"#DejaVuSans-110\"/>\n       <use x=\"152.685547\" xlink:href=\"#DejaVuSans-103\"/>\n       <use x=\"216.162109\" xlink:href=\"#DejaVuSans-116\"/>\n       <use x=\"255.371094\" xlink:href=\"#DejaVuSans-104\"/>\n       <use x=\"318.75\" xlink:href=\"#DejaVuSans-121\"/>\n       <use x=\"377.929688\" xlink:href=\"#DejaVuSans-76\"/>\n       <use x=\"433.642578\" xlink:href=\"#DejaVuSans-105\"/>\n       <use x=\"461.425781\" xlink:href=\"#DejaVuSans-110\"/>\n       <use x=\"524.804688\" xlink:href=\"#DejaVuSans-107\"/>\n       <use x=\"582.714844\" xlink:href=\"#DejaVuSans-68\"/>\n       <use x=\"659.716797\" xlink:href=\"#DejaVuSans-111\"/>\n       <use x=\"720.898438\" xlink:href=\"#DejaVuSans-109\"/>\n       <use x=\"818.310547\" xlink:href=\"#DejaVuSans-97\"/>\n       <use x=\"879.589844\" xlink:href=\"#DejaVuSans-105\"/>\n       <use x=\"907.373047\" xlink:href=\"#DejaVuSans-110\"/>\n      </g>\n     </g>\n    </g>\n    <g id=\"ytick_14\">\n     <g id=\"line2d_34\">\n      <g>\n       <use style=\"stroke:#000000;stroke-width:0.8;\" x=\"189.36875\" xlink:href=\"#mdd7e54d011\" y=\"157.771219\"/>\n      </g>\n     </g>\n     <g id=\"text_34\">\n      <!-- linkwordscore -->\n      <g transform=\"translate(113.2375 161.570437)scale(0.1 -0.1)\">\n       <use xlink:href=\"#DejaVuSans-108\"/>\n       <use x=\"27.783203\" xlink:href=\"#DejaVuSans-105\"/>\n       <use x=\"55.566406\" xlink:href=\"#DejaVuSans-110\"/>\n       <use x=\"118.945312\" xlink:href=\"#DejaVuSans-107\"/>\n       <use x=\"176.855469\" xlink:href=\"#DejaVuSans-119\"/>\n       <use x=\"258.642578\" xlink:href=\"#DejaVuSans-111\"/>\n       <use x=\"319.824219\" xlink:href=\"#DejaVuSans-114\"/>\n       <use x=\"359.1875\" xlink:href=\"#DejaVuSans-100\"/>\n       <use x=\"422.664062\" xlink:href=\"#DejaVuSans-115\"/>\n       <use x=\"474.763672\" xlink:href=\"#DejaVuSans-99\"/>\n       <use x=\"529.744141\" xlink:href=\"#DejaVuSans-111\"/>\n       <use x=\"590.925781\" xlink:href=\"#DejaVuSans-114\"/>\n       <use x=\"629.789062\" xlink:href=\"#DejaVuSans-101\"/>\n      </g>\n     </g>\n    </g>\n    <g id=\"ytick_15\">\n     <g id=\"line2d_35\">\n      <g>\n       <use style=\"stroke:#000000;stroke-width:0.8;\" x=\"189.36875\" xlink:href=\"#mdd7e54d011\" y=\"168.643219\"/>\n      </g>\n     </g>\n     <g id=\"text_35\">\n      <!-- non_markup_alphanum_characters -->\n      <g transform=\"translate(7.2 172.442437)scale(0.1 -0.1)\">\n       <use xlink:href=\"#DejaVuSans-110\"/>\n       <use x=\"63.378906\" xlink:href=\"#DejaVuSans-111\"/>\n       <use x=\"124.560547\" xlink:href=\"#DejaVuSans-110\"/>\n       <use x=\"187.939453\" xlink:href=\"#DejaVuSans-95\"/>\n       <use x=\"237.939453\" xlink:href=\"#DejaVuSans-109\"/>\n       <use x=\"335.351562\" xlink:href=\"#DejaVuSans-97\"/>\n       <use x=\"396.630859\" xlink:href=\"#DejaVuSans-114\"/>\n       <use x=\"437.744141\" xlink:href=\"#DejaVuSans-107\"/>\n       <use x=\"492.529297\" xlink:href=\"#DejaVuSans-117\"/>\n       <use x=\"555.908203\" xlink:href=\"#DejaVuSans-112\"/>\n       <use x=\"619.384766\" xlink:href=\"#DejaVuSans-95\"/>\n       <use x=\"669.384766\" xlink:href=\"#DejaVuSans-97\"/>\n       <use x=\"730.664062\" xlink:href=\"#DejaVuSans-108\"/>\n       <use x=\"758.447266\" xlink:href=\"#DejaVuSans-112\"/>\n       <use x=\"821.923828\" xlink:href=\"#DejaVuSans-104\"/>\n       <use x=\"885.302734\" xlink:href=\"#DejaVuSans-97\"/>\n       <use x=\"946.582031\" xlink:href=\"#DejaVuSans-110\"/>\n       <use x=\"1009.960938\" xlink:href=\"#DejaVuSans-117\"/>\n       <use x=\"1073.339844\" xlink:href=\"#DejaVuSans-109\"/>\n       <use x=\"1170.751953\" xlink:href=\"#DejaVuSans-95\"/>\n       <use x=\"1220.751953\" xlink:href=\"#DejaVuSans-99\"/>\n       <use x=\"1275.732422\" xlink:href=\"#DejaVuSans-104\"/>\n       <use x=\"1339.111328\" xlink:href=\"#DejaVuSans-97\"/>\n       <use x=\"1400.390625\" xlink:href=\"#DejaVuSans-114\"/>\n       <use x=\"1441.503906\" xlink:href=\"#DejaVuSans-97\"/>\n       <use x=\"1502.783203\" xlink:href=\"#DejaVuSans-99\"/>\n       <use x=\"1557.763672\" xlink:href=\"#DejaVuSans-116\"/>\n       <use x=\"1596.972656\" xlink:href=\"#DejaVuSans-101\"/>\n       <use x=\"1658.496094\" xlink:href=\"#DejaVuSans-114\"/>\n       <use x=\"1699.609375\" xlink:href=\"#DejaVuSans-115\"/>\n      </g>\n     </g>\n    </g>\n    <g id=\"ytick_16\">\n     <g id=\"line2d_36\">\n      <g>\n       <use style=\"stroke:#000000;stroke-width:0.8;\" x=\"189.36875\" xlink:href=\"#mdd7e54d011\" y=\"179.515219\"/>\n      </g>\n     </g>\n     <g id=\"text_36\">\n      <!-- numberOfLinks -->\n      <g transform=\"translate(106.260938 183.314437)scale(0.1 -0.1)\">\n       <use xlink:href=\"#DejaVuSans-110\"/>\n       <use x=\"63.378906\" xlink:href=\"#DejaVuSans-117\"/>\n       <use x=\"126.757812\" xlink:href=\"#DejaVuSans-109\"/>\n       <use x=\"224.169922\" xlink:href=\"#DejaVuSans-98\"/>\n       <use x=\"287.646484\" xlink:href=\"#DejaVuSans-101\"/>\n       <use x=\"349.169922\" xlink:href=\"#DejaVuSans-114\"/>\n       <use x=\"390.283203\" xlink:href=\"#DejaVuSans-79\"/>\n       <use x=\"468.994141\" xlink:href=\"#DejaVuSans-102\"/>\n       <use x=\"504.199219\" xlink:href=\"#DejaVuSans-76\"/>\n       <use x=\"559.912109\" xlink:href=\"#DejaVuSans-105\"/>\n       <use x=\"587.695312\" xlink:href=\"#DejaVuSans-110\"/>\n       <use x=\"651.074219\" xlink:href=\"#DejaVuSans-107\"/>\n       <use x=\"708.984375\" xlink:href=\"#DejaVuSans-115\"/>\n      </g>\n     </g>\n    </g>\n    <g id=\"ytick_17\">\n     <g id=\"line2d_37\">\n      <g>\n       <use style=\"stroke:#000000;stroke-width:0.8;\" x=\"189.36875\" xlink:href=\"#mdd7e54d011\" y=\"190.387219\"/>\n      </g>\n     </g>\n     <g id=\"text_37\">\n      <!-- numwords_in_url -->\n      <g transform=\"translate(97.820313 194.186437)scale(0.1 -0.1)\">\n       <use xlink:href=\"#DejaVuSans-110\"/>\n       <use x=\"63.378906\" xlink:href=\"#DejaVuSans-117\"/>\n       <use x=\"126.757812\" xlink:href=\"#DejaVuSans-109\"/>\n       <use x=\"224.169922\" xlink:href=\"#DejaVuSans-119\"/>\n       <use x=\"305.957031\" xlink:href=\"#DejaVuSans-111\"/>\n       <use x=\"367.138672\" xlink:href=\"#DejaVuSans-114\"/>\n       <use x=\"406.501953\" xlink:href=\"#DejaVuSans-100\"/>\n       <use x=\"469.978516\" xlink:href=\"#DejaVuSans-115\"/>\n       <use x=\"522.078125\" xlink:href=\"#DejaVuSans-95\"/>\n       <use x=\"572.078125\" xlink:href=\"#DejaVuSans-105\"/>\n       <use x=\"599.861328\" xlink:href=\"#DejaVuSans-110\"/>\n       <use x=\"663.240234\" xlink:href=\"#DejaVuSans-95\"/>\n       <use x=\"713.240234\" xlink:href=\"#DejaVuSans-117\"/>\n       <use x=\"776.619141\" xlink:href=\"#DejaVuSans-114\"/>\n       <use x=\"817.732422\" xlink:href=\"#DejaVuSans-108\"/>\n      </g>\n     </g>\n    </g>\n    <g id=\"ytick_18\">\n     <g id=\"line2d_38\">\n      <g>\n       <use style=\"stroke:#000000;stroke-width:0.8;\" x=\"189.36875\" xlink:href=\"#mdd7e54d011\" y=\"201.259219\"/>\n      </g>\n     </g>\n     <g id=\"text_38\">\n      <!-- parametrizedLinkRatio -->\n      <g transform=\"translate(69.053125 205.058437)scale(0.1 -0.1)\">\n       <use xlink:href=\"#DejaVuSans-112\"/>\n       <use x=\"63.476562\" xlink:href=\"#DejaVuSans-97\"/>\n       <use x=\"124.755859\" xlink:href=\"#DejaVuSans-114\"/>\n       <use x=\"165.869141\" xlink:href=\"#DejaVuSans-97\"/>\n       <use x=\"227.148438\" xlink:href=\"#DejaVuSans-109\"/>\n       <use x=\"324.560547\" xlink:href=\"#DejaVuSans-101\"/>\n       <use x=\"386.083984\" xlink:href=\"#DejaVuSans-116\"/>\n       <use x=\"425.292969\" xlink:href=\"#DejaVuSans-114\"/>\n       <use x=\"466.40625\" xlink:href=\"#DejaVuSans-105\"/>\n       <use x=\"494.189453\" xlink:href=\"#DejaVuSans-122\"/>\n       <use x=\"546.679688\" xlink:href=\"#DejaVuSans-101\"/>\n       <use x=\"608.203125\" xlink:href=\"#DejaVuSans-100\"/>\n       <use x=\"671.679688\" xlink:href=\"#DejaVuSans-76\"/>\n       <use x=\"727.392578\" xlink:href=\"#DejaVuSans-105\"/>\n       <use x=\"755.175781\" xlink:href=\"#DejaVuSans-110\"/>\n       <use x=\"818.554688\" xlink:href=\"#DejaVuSans-107\"/>\n       <use x=\"876.464844\" xlink:href=\"#DejaVuSans-82\"/>\n       <use x=\"943.697266\" xlink:href=\"#DejaVuSans-97\"/>\n       <use x=\"1004.976562\" xlink:href=\"#DejaVuSans-116\"/>\n       <use x=\"1044.185547\" xlink:href=\"#DejaVuSans-105\"/>\n       <use x=\"1071.96875\" xlink:href=\"#DejaVuSans-111\"/>\n      </g>\n     </g>\n    </g>\n    <g id=\"ytick_19\">\n     <g id=\"line2d_39\">\n      <g>\n       <use style=\"stroke:#000000;stroke-width:0.8;\" x=\"189.36875\" xlink:href=\"#mdd7e54d011\" y=\"212.131219\"/>\n      </g>\n     </g>\n     <g id=\"text_39\">\n      <!-- spelling_errors_ratio -->\n      <g transform=\"translate(81.167188 215.930437)scale(0.1 -0.1)\">\n       <use xlink:href=\"#DejaVuSans-115\"/>\n       <use x=\"52.099609\" xlink:href=\"#DejaVuSans-112\"/>\n       <use x=\"115.576172\" xlink:href=\"#DejaVuSans-101\"/>\n       <use x=\"177.099609\" xlink:href=\"#DejaVuSans-108\"/>\n       <use x=\"204.882812\" xlink:href=\"#DejaVuSans-108\"/>\n       <use x=\"232.666016\" xlink:href=\"#DejaVuSans-105\"/>\n       <use x=\"260.449219\" xlink:href=\"#DejaVuSans-110\"/>\n       <use x=\"323.828125\" xlink:href=\"#DejaVuSans-103\"/>\n       <use x=\"387.304688\" xlink:href=\"#DejaVuSans-95\"/>\n       <use x=\"437.304688\" xlink:href=\"#DejaVuSans-101\"/>\n       <use x=\"498.828125\" xlink:href=\"#DejaVuSans-114\"/>\n       <use x=\"538.191406\" xlink:href=\"#DejaVuSans-114\"/>\n       <use x=\"577.054688\" xlink:href=\"#DejaVuSans-111\"/>\n       <use x=\"638.236328\" xlink:href=\"#DejaVuSans-114\"/>\n       <use x=\"679.349609\" xlink:href=\"#DejaVuSans-115\"/>\n       <use x=\"731.449219\" xlink:href=\"#DejaVuSans-95\"/>\n       <use x=\"781.449219\" xlink:href=\"#DejaVuSans-114\"/>\n       <use x=\"822.5625\" xlink:href=\"#DejaVuSans-97\"/>\n       <use x=\"883.841797\" xlink:href=\"#DejaVuSans-116\"/>\n       <use x=\"923.050781\" xlink:href=\"#DejaVuSans-105\"/>\n       <use x=\"950.833984\" xlink:href=\"#DejaVuSans-111\"/>\n      </g>\n     </g>\n    </g>\n    <g id=\"ytick_20\">\n     <g id=\"line2d_40\">\n      <g>\n       <use style=\"stroke:#000000;stroke-width:0.8;\" x=\"189.36875\" xlink:href=\"#mdd7e54d011\" y=\"223.003219\"/>\n      </g>\n     </g>\n     <g id=\"text_40\">\n      <!-- label -->\n      <g transform=\"translate(158.182813 226.802437)scale(0.1 -0.1)\">\n       <use xlink:href=\"#DejaVuSans-108\"/>\n       <use x=\"27.783203\" xlink:href=\"#DejaVuSans-97\"/>\n       <use x=\"89.0625\" xlink:href=\"#DejaVuSans-98\"/>\n       <use x=\"152.539062\" xlink:href=\"#DejaVuSans-101\"/>\n       <use x=\"214.0625\" xlink:href=\"#DejaVuSans-108\"/>\n      </g>\n     </g>\n    </g>\n   </g>\n  </g>\n  <g id=\"axes_2\">\n   <g id=\"patch_3\">\n    <path clip-path=\"url(#p4198c120f5)\" d=\"M 473.94875 228.439219 \nL 473.94875 227.589844 \nL 473.94875 11.848594 \nL 473.94875 10.999219 \nL 484.82075 10.999219 \nL 484.82075 11.848594 \nL 484.82075 227.589844 \nL 484.82075 228.439219 \nz\n\" style=\"fill:#ffffff;stroke:#ffffff;stroke-linejoin:miter;stroke-width:0.01;\"/>\n   </g>\n   <image height=\"218\" id=\"image41f0fea487\" transform=\"scale(1 -1)translate(0 -218)\" width=\"11\" x=\"474\" xlink:href=\"data:image/png;base64,\niVBORw0KGgoAAAANSUhEUgAAAAsAAADaCAYAAABwzrisAAAABHNCSVQICAgIfAhkiAAAAWNJREFUaIHt2jGOAzEMQ1HLci6x9z9nsu2WfgUBTbCpCeKLkjUTJ9Wvn8+6/Jy6Va61zt77Xlzr3vtUgXiLmDDIuUvSyBVIzpYGFDiEOZlGi3jEiE4ZfsKY0m4Z/iHMhHEt1XYPSYOmrmdg3KcczbljU0cFBveGYJzcyhWMnPMz203OID6xQUpGl8I4198lHIPEsdM9pUARx5iPiEswHplGcDbura1A2/wfwRDnIWmUONvwE3PQGcQNJxaZyVnENkji3PsNGMCRTCOG0R1LA05sMLrdgmHM11p1jmFseLZZU+CqgNMA50WzAasfMSyNmLMVCC/bWGDKeYlzwVMFna3AGIZcWcij/iz5DWhKdA1X98icSmPJjas5H0kjhhGMztotGHSsrMBcGverH8+gzUZMTE2RNKYwk3OuwFy7c87/afwRV79CzlPSmFFgyV8FkmnQ8OfeCii63CqQ2fjyAuVub/0COG8rJemuL6kAAAAASUVORK5CYII=\" y=\"-10\"/>\n   <g id=\"matplotlib.axis_3\"/>\n   <g id=\"matplotlib.axis_4\">\n    <g id=\"ytick_21\">\n     <g id=\"line2d_41\">\n      <defs>\n       <path d=\"M 0 0 \nL 3.5 0 \n\" id=\"m98dab23ba4\" style=\"stroke:#000000;stroke-width:0.8;\"/>\n      </defs>\n      <g>\n       <use style=\"stroke:#000000;stroke-width:0.8;\" x=\"484.82075\" xlink:href=\"#m98dab23ba4\" y=\"184.960274\"/>\n      </g>\n     </g>\n     <g id=\"text_41\">\n      <!-- 0.2 -->\n      <defs>\n       <path d=\"M 31.78125 66.40625 \nQ 24.171875 66.40625 20.328125 58.90625 \nQ 16.5 51.421875 16.5 36.375 \nQ 16.5 21.390625 20.328125 13.890625 \nQ 24.171875 6.390625 31.78125 6.390625 \nQ 39.453125 6.390625 43.28125 13.890625 \nQ 47.125 21.390625 47.125 36.375 \nQ 47.125 51.421875 43.28125 58.90625 \nQ 39.453125 66.40625 31.78125 66.40625 \nz\nM 31.78125 74.21875 \nQ 44.046875 74.21875 50.515625 64.515625 \nQ 56.984375 54.828125 56.984375 36.375 \nQ 56.984375 17.96875 50.515625 8.265625 \nQ 44.046875 -1.421875 31.78125 -1.421875 \nQ 19.53125 -1.421875 13.0625 8.265625 \nQ 6.59375 17.96875 6.59375 36.375 \nQ 6.59375 54.828125 13.0625 64.515625 \nQ 19.53125 74.21875 31.78125 74.21875 \nz\n\" id=\"DejaVuSans-48\"/>\n       <path d=\"M 10.6875 12.40625 \nL 21 12.40625 \nL 21 0 \nL 10.6875 0 \nz\n\" id=\"DejaVuSans-46\"/>\n      </defs>\n      <g transform=\"translate(491.82075 188.759493)scale(0.1 -0.1)\">\n       <use xlink:href=\"#DejaVuSans-48\"/>\n       <use x=\"63.623047\" xlink:href=\"#DejaVuSans-46\"/>\n       <use x=\"95.410156\" xlink:href=\"#DejaVuSans-50\"/>\n      </g>\n     </g>\n    </g>\n    <g id=\"ytick_22\">\n     <g id=\"line2d_42\">\n      <g>\n       <use style=\"stroke:#000000;stroke-width:0.8;\" x=\"484.82075\" xlink:href=\"#m98dab23ba4\" y=\"141.47001\"/>\n      </g>\n     </g>\n     <g id=\"text_42\">\n      <!-- 0.4 -->\n      <g transform=\"translate(491.82075 145.269229)scale(0.1 -0.1)\">\n       <use xlink:href=\"#DejaVuSans-48\"/>\n       <use x=\"63.623047\" xlink:href=\"#DejaVuSans-46\"/>\n       <use x=\"95.410156\" xlink:href=\"#DejaVuSans-52\"/>\n      </g>\n     </g>\n    </g>\n    <g id=\"ytick_23\">\n     <g id=\"line2d_43\">\n      <g>\n       <use style=\"stroke:#000000;stroke-width:0.8;\" x=\"484.82075\" xlink:href=\"#m98dab23ba4\" y=\"97.979746\"/>\n      </g>\n     </g>\n     <g id=\"text_43\">\n      <!-- 0.6 -->\n      <defs>\n       <path d=\"M 33.015625 40.375 \nQ 26.375 40.375 22.484375 35.828125 \nQ 18.609375 31.296875 18.609375 23.390625 \nQ 18.609375 15.53125 22.484375 10.953125 \nQ 26.375 6.390625 33.015625 6.390625 \nQ 39.65625 6.390625 43.53125 10.953125 \nQ 47.40625 15.53125 47.40625 23.390625 \nQ 47.40625 31.296875 43.53125 35.828125 \nQ 39.65625 40.375 33.015625 40.375 \nz\nM 52.59375 71.296875 \nL 52.59375 62.3125 \nQ 48.875 64.0625 45.09375 64.984375 \nQ 41.3125 65.921875 37.59375 65.921875 \nQ 27.828125 65.921875 22.671875 59.328125 \nQ 17.53125 52.734375 16.796875 39.40625 \nQ 19.671875 43.65625 24.015625 45.921875 \nQ 28.375 48.1875 33.59375 48.1875 \nQ 44.578125 48.1875 50.953125 41.515625 \nQ 57.328125 34.859375 57.328125 23.390625 \nQ 57.328125 12.15625 50.6875 5.359375 \nQ 44.046875 -1.421875 33.015625 -1.421875 \nQ 20.359375 -1.421875 13.671875 8.265625 \nQ 6.984375 17.96875 6.984375 36.375 \nQ 6.984375 53.65625 15.1875 63.9375 \nQ 23.390625 74.21875 37.203125 74.21875 \nQ 40.921875 74.21875 44.703125 73.484375 \nQ 48.484375 72.75 52.59375 71.296875 \nz\n\" id=\"DejaVuSans-54\"/>\n      </defs>\n      <g transform=\"translate(491.82075 101.778965)scale(0.1 -0.1)\">\n       <use xlink:href=\"#DejaVuSans-48\"/>\n       <use x=\"63.623047\" xlink:href=\"#DejaVuSans-46\"/>\n       <use x=\"95.410156\" xlink:href=\"#DejaVuSans-54\"/>\n      </g>\n     </g>\n    </g>\n    <g id=\"ytick_24\">\n     <g id=\"line2d_44\">\n      <g>\n       <use style=\"stroke:#000000;stroke-width:0.8;\" x=\"484.82075\" xlink:href=\"#m98dab23ba4\" y=\"54.489483\"/>\n      </g>\n     </g>\n     <g id=\"text_44\">\n      <!-- 0.8 -->\n      <defs>\n       <path d=\"M 31.78125 34.625 \nQ 24.75 34.625 20.71875 30.859375 \nQ 16.703125 27.09375 16.703125 20.515625 \nQ 16.703125 13.921875 20.71875 10.15625 \nQ 24.75 6.390625 31.78125 6.390625 \nQ 38.8125 6.390625 42.859375 10.171875 \nQ 46.921875 13.96875 46.921875 20.515625 \nQ 46.921875 27.09375 42.890625 30.859375 \nQ 38.875 34.625 31.78125 34.625 \nz\nM 21.921875 38.8125 \nQ 15.578125 40.375 12.03125 44.71875 \nQ 8.5 49.078125 8.5 55.328125 \nQ 8.5 64.0625 14.71875 69.140625 \nQ 20.953125 74.21875 31.78125 74.21875 \nQ 42.671875 74.21875 48.875 69.140625 \nQ 55.078125 64.0625 55.078125 55.328125 \nQ 55.078125 49.078125 51.53125 44.71875 \nQ 48 40.375 41.703125 38.8125 \nQ 48.828125 37.15625 52.796875 32.3125 \nQ 56.78125 27.484375 56.78125 20.515625 \nQ 56.78125 9.90625 50.3125 4.234375 \nQ 43.84375 -1.421875 31.78125 -1.421875 \nQ 19.734375 -1.421875 13.25 4.234375 \nQ 6.78125 9.90625 6.78125 20.515625 \nQ 6.78125 27.484375 10.78125 32.3125 \nQ 14.796875 37.15625 21.921875 38.8125 \nz\nM 18.3125 54.390625 \nQ 18.3125 48.734375 21.84375 45.5625 \nQ 25.390625 42.390625 31.78125 42.390625 \nQ 38.140625 42.390625 41.71875 45.5625 \nQ 45.3125 48.734375 45.3125 54.390625 \nQ 45.3125 60.0625 41.71875 63.234375 \nQ 38.140625 66.40625 31.78125 66.40625 \nQ 25.390625 66.40625 21.84375 63.234375 \nQ 18.3125 60.0625 18.3125 54.390625 \nz\n\" id=\"DejaVuSans-56\"/>\n      </defs>\n      <g transform=\"translate(491.82075 58.288701)scale(0.1 -0.1)\">\n       <use xlink:href=\"#DejaVuSans-48\"/>\n       <use x=\"63.623047\" xlink:href=\"#DejaVuSans-46\"/>\n       <use x=\"95.410156\" xlink:href=\"#DejaVuSans-56\"/>\n      </g>\n     </g>\n    </g>\n    <g id=\"ytick_25\">\n     <g id=\"line2d_45\">\n      <g>\n       <use style=\"stroke:#000000;stroke-width:0.8;\" x=\"484.82075\" xlink:href=\"#m98dab23ba4\" y=\"10.999219\"/>\n      </g>\n     </g>\n     <g id=\"text_45\">\n      <!-- 1.0 -->\n      <g transform=\"translate(491.82075 14.798437)scale(0.1 -0.1)\">\n       <use xlink:href=\"#DejaVuSans-49\"/>\n       <use x=\"63.623047\" xlink:href=\"#DejaVuSans-46\"/>\n       <use x=\"95.410156\" xlink:href=\"#DejaVuSans-48\"/>\n      </g>\n     </g>\n    </g>\n   </g>\n   <g id=\"patch_4\">\n    <path d=\"M 473.94875 228.439219 \nL 473.94875 227.589844 \nL 473.94875 11.848594 \nL 473.94875 10.999219 \nL 484.82075 10.999219 \nL 484.82075 11.848594 \nL 484.82075 227.589844 \nL 484.82075 228.439219 \nz\n\" style=\"fill:none;\"/>\n   </g>\n  </g>\n </g>\n <defs>\n  <clipPath id=\"p43455f5b76\">\n   <rect height=\"217.44\" width=\"267.84\" x=\"189.36875\" y=\"10.999219\"/>\n  </clipPath>\n  <clipPath id=\"p4198c120f5\">\n   <rect height=\"217.44\" width=\"10.872\" x=\"473.94875\" y=\"10.999219\"/>\n  </clipPath>\n </defs>\n</svg>\n"
          },
          "metadata": {
            "tags": [],
            "needs_background": "light"
          }
        }
      ]
    },
    {
      "cell_type": "code",
      "metadata": {
        "id": "QfjzDgWvU2YG",
        "colab": {
          "base_uri": "https://localhost:8080/",
          "height": 387
        },
        "outputId": "82401a1d-075a-4516-ec0a-71c3e608184e"
      },
      "source": [
        "sns.violinplot(x='label', y='linkwordscore', data=df)"
      ],
      "execution_count": null,
      "outputs": [
        {
          "output_type": "execute_result",
          "data": {
            "text/plain": [
              "<matplotlib.axes._subplots.AxesSubplot at 0x7f52396fd080>"
            ]
          },
          "metadata": {
            "tags": []
          },
          "execution_count": 17
        },
        {
          "output_type": "display_data",
          "data": {
            "text/plain": [
              "<Figure size 432x288 with 1 Axes>"
            ],
            "image/svg+xml": "<?xml version=\"1.0\" encoding=\"utf-8\" standalone=\"no\"?>\n<!DOCTYPE svg PUBLIC \"-//W3C//DTD SVG 1.1//EN\"\n  \"http://www.w3.org/Graphics/SVG/1.1/DTD/svg11.dtd\">\n<!-- Created with matplotlib (https://matplotlib.org/) -->\n<svg height=\"262.19625pt\" version=\"1.1\" viewBox=\"0 0 388.965625 262.19625\" width=\"388.965625pt\" xmlns=\"http://www.w3.org/2000/svg\" xmlns:xlink=\"http://www.w3.org/1999/xlink\">\n <defs>\n  <style type=\"text/css\">\n*{stroke-linecap:butt;stroke-linejoin:round;}\n  </style>\n </defs>\n <g id=\"figure_1\">\n  <g id=\"patch_1\">\n   <path d=\"M 0 262.19625 \nL 388.965625 262.19625 \nL 388.965625 0 \nL 0 0 \nz\n\" style=\"fill:none;\"/>\n  </g>\n  <g id=\"axes_1\">\n   <g id=\"patch_2\">\n    <path d=\"M 46.965625 224.64 \nL 381.765625 224.64 \nL 381.765625 7.2 \nL 46.965625 7.2 \nz\n\" style=\"fill:#ffffff;\"/>\n   </g>\n   <g id=\"PolyCollection_1\">\n    <defs>\n     <path d=\"M 131.153481 -47.439886 \nL 130.177769 -47.439886 \nL 129.749516 -49.436581 \nL 129.051984 -51.433275 \nL 127.991972 -53.429969 \nL 126.485188 -55.426663 \nL 124.475886 -57.423357 \nL 121.954129 -59.420052 \nL 118.964901 -61.416746 \nL 115.605694 -63.41344 \nL 112.013105 -65.410134 \nL 108.342435 -67.406829 \nL 104.745748 -69.403523 \nL 101.353199 -71.400217 \nL 98.260581 -73.396911 \nL 95.524172 -75.393605 \nL 93.162679 -77.3903 \nL 91.165189 -79.386994 \nL 89.503276 -81.383688 \nL 88.144584 -83.380382 \nL 87.064566 -85.377076 \nL 86.252956 -87.373771 \nL 85.712533 -89.370465 \nL 85.450014 -91.367159 \nL 85.462504 -93.363853 \nL 85.726106 -95.360548 \nL 86.19387 -97.357242 \nL 86.806377 -99.353936 \nL 87.511061 -101.35063 \nL 88.280057 -103.347324 \nL 89.115722 -105.344019 \nL 90.039721 -107.340713 \nL 91.071664 -109.337407 \nL 92.209853 -111.334101 \nL 93.424697 -113.330795 \nL 94.666478 -115.32749 \nL 95.880138 -117.324184 \nL 97.017172 -119.320878 \nL 98.039472 -121.317572 \nL 98.917323 -123.314267 \nL 99.627634 -125.310961 \nL 100.15667 -127.307655 \nL 100.506548 -129.304349 \nL 100.700946 -131.301043 \nL 100.785429 -133.297738 \nL 100.821 -135.294432 \nL 100.873226 -137.291126 \nL 101.001265 -139.28782 \nL 101.25038 -141.284514 \nL 101.649133 -143.281209 \nL 102.210086 -145.277903 \nL 102.932014 -147.274597 \nL 103.802192 -149.271291 \nL 104.798454 -151.267986 \nL 105.891391 -153.26468 \nL 107.047256 -155.261374 \nL 108.231979 -157.258068 \nL 109.416263 -159.254762 \nL 110.580954 -161.251457 \nL 111.720827 -163.248151 \nL 112.844502 -165.244845 \nL 113.968926 -167.241539 \nL 115.108964 -169.238233 \nL 116.265218 -171.234928 \nL 117.415132 -173.231622 \nL 118.5123 -175.228316 \nL 119.496324 -177.22501 \nL 120.311129 -179.221705 \nL 120.925335 -181.218399 \nL 121.346287 -183.215093 \nL 121.621125 -185.211787 \nL 121.823376 -187.208481 \nL 122.030037 -189.205176 \nL 122.298626 -191.20187 \nL 122.65382 -193.198564 \nL 123.088453 -195.195258 \nL 123.576365 -197.191952 \nL 124.089094 -199.188647 \nL 124.607785 -201.185341 \nL 125.125914 -203.182035 \nL 125.644211 -205.178729 \nL 126.162834 -207.175424 \nL 126.675808 -209.172118 \nL 127.170074 -211.168812 \nL 127.628513 -213.165506 \nL 128.03475 -215.1622 \nL 128.377567 -217.158895 \nL 128.653705 -219.155589 \nL 128.86875 -221.152283 \nL 129.036215 -223.148977 \nL 129.175001 -225.145671 \nL 129.305436 -227.142366 \nL 129.444527 -229.13906 \nL 129.60168 -231.135754 \nL 129.776496 -233.132448 \nL 129.95971 -235.129143 \nL 130.137051 -237.125837 \nL 130.29439 -239.122531 \nL 130.422057 -241.119225 \nL 130.516787 -243.115919 \nL 130.581104 -245.112614 \nL 130.750146 -245.112614 \nL 130.750146 -245.112614 \nL 130.814463 -243.115919 \nL 130.909193 -241.119225 \nL 131.03686 -239.122531 \nL 131.194199 -237.125837 \nL 131.37154 -235.129143 \nL 131.554754 -233.132448 \nL 131.72957 -231.135754 \nL 131.886723 -229.13906 \nL 132.025814 -227.142366 \nL 132.156249 -225.145671 \nL 132.295035 -223.148977 \nL 132.4625 -221.152283 \nL 132.677545 -219.155589 \nL 132.953683 -217.158895 \nL 133.2965 -215.1622 \nL 133.702737 -213.165506 \nL 134.161176 -211.168812 \nL 134.655442 -209.172118 \nL 135.168416 -207.175424 \nL 135.687039 -205.178729 \nL 136.205336 -203.182035 \nL 136.723465 -201.185341 \nL 137.242156 -199.188647 \nL 137.754885 -197.191952 \nL 138.242797 -195.195258 \nL 138.67743 -193.198564 \nL 139.032624 -191.20187 \nL 139.301213 -189.205176 \nL 139.507874 -187.208481 \nL 139.710125 -185.211787 \nL 139.984963 -183.215093 \nL 140.405915 -181.218399 \nL 141.020121 -179.221705 \nL 141.834926 -177.22501 \nL 142.81895 -175.228316 \nL 143.916118 -173.231622 \nL 145.066032 -171.234928 \nL 146.222286 -169.238233 \nL 147.362324 -167.241539 \nL 148.486748 -165.244845 \nL 149.610423 -163.248151 \nL 150.750296 -161.251457 \nL 151.914987 -159.254762 \nL 153.099271 -157.258068 \nL 154.283994 -155.261374 \nL 155.439859 -153.26468 \nL 156.532796 -151.267986 \nL 157.529058 -149.271291 \nL 158.399236 -147.274597 \nL 159.121164 -145.277903 \nL 159.682117 -143.281209 \nL 160.08087 -141.284514 \nL 160.329985 -139.28782 \nL 160.458024 -137.291126 \nL 160.51025 -135.294432 \nL 160.545821 -133.297738 \nL 160.630304 -131.301043 \nL 160.824702 -129.304349 \nL 161.17458 -127.307655 \nL 161.703616 -125.310961 \nL 162.413927 -123.314267 \nL 163.291778 -121.317572 \nL 164.314078 -119.320878 \nL 165.451112 -117.324184 \nL 166.664772 -115.32749 \nL 167.906553 -113.330795 \nL 169.121397 -111.334101 \nL 170.259586 -109.337407 \nL 171.291529 -107.340713 \nL 172.215528 -105.344019 \nL 173.051193 -103.347324 \nL 173.820189 -101.35063 \nL 174.524873 -99.353936 \nL 175.13738 -97.357242 \nL 175.605144 -95.360548 \nL 175.868746 -93.363853 \nL 175.881236 -91.367159 \nL 175.618717 -89.370465 \nL 175.078294 -87.373771 \nL 174.266684 -85.377076 \nL 173.186666 -83.380382 \nL 171.827974 -81.383688 \nL 170.166061 -79.386994 \nL 168.168571 -77.3903 \nL 165.807078 -75.393605 \nL 163.070669 -73.396911 \nL 159.978051 -71.400217 \nL 156.585502 -69.403523 \nL 152.988815 -67.406829 \nL 149.318145 -65.410134 \nL 145.725556 -63.41344 \nL 142.366349 -61.416746 \nL 139.377121 -59.420052 \nL 136.855364 -57.423357 \nL 134.846062 -55.426663 \nL 133.339278 -53.429969 \nL 132.279266 -51.433275 \nL 131.581734 -49.436581 \nL 131.153481 -47.439886 \nz\n\" id=\"m52669a4987\" style=\"stroke:#3f3f3f;stroke-width:1.5;\"/>\n    </defs>\n    <g clip-path=\"url(#pe13cb02b44)\">\n     <use style=\"fill:#3274a1;stroke:#3f3f3f;stroke-width:1.5;\" x=\"0\" xlink:href=\"#m52669a4987\" y=\"262.19625\"/>\n    </g>\n   </g>\n   <g id=\"PolyCollection_2\">\n    <defs>\n     <path d=\"M 298.504617 -49.102788 \nL 297.626633 -49.102788 \nL 297.151784 -51.065888 \nL 296.303551 -53.028989 \nL 294.907131 -54.992089 \nL 292.782074 -56.955189 \nL 289.782943 -58.918289 \nL 285.843528 -60.881389 \nL 281.008705 -62.84449 \nL 275.440303 -64.80759 \nL 269.393095 -66.77069 \nL 263.169466 -68.73379 \nL 257.069038 -70.696891 \nL 251.348557 -72.659991 \nL 246.199863 -74.623091 \nL 241.745772 -76.586191 \nL 238.049535 -78.549292 \nL 235.132963 -80.512392 \nL 232.998586 -82.475492 \nL 231.650378 -84.438592 \nL 231.105625 -86.401693 \nL 231.389788 -88.364793 \nL 232.510503 -90.327893 \nL 234.418063 -92.290993 \nL 236.973013 -94.254094 \nL 239.945616 -96.217194 \nL 243.058645 -98.180294 \nL 246.059168 -100.143394 \nL 248.785046 -102.106495 \nL 251.193781 -104.069595 \nL 253.344145 -106.032695 \nL 255.347128 -107.995795 \nL 257.313933 -109.958896 \nL 259.321506 -111.921996 \nL 261.400395 -113.885096 \nL 263.538092 -115.848196 \nL 265.688594 -117.811296 \nL 267.783171 -119.774397 \nL 269.742802 -121.737497 \nL 271.494671 -123.700597 \nL 272.99199 -125.663697 \nL 274.230961 -127.626798 \nL 275.256219 -129.589898 \nL 276.149724 -131.552998 \nL 277.005836 -133.516098 \nL 277.901873 -135.479199 \nL 278.875352 -137.442299 \nL 279.916307 -139.405399 \nL 280.977132 -141.368499 \nL 281.995027 -143.3316 \nL 282.916563 -145.2947 \nL 283.713736 -147.2578 \nL 284.386937 -149.2209 \nL 284.958033 -151.184001 \nL 285.460325 -153.147101 \nL 285.930107 -155.110201 \nL 286.400679 -157.073301 \nL 286.897848 -159.036402 \nL 287.436548 -160.999502 \nL 288.01889 -162.962602 \nL 288.633827 -164.925702 \nL 289.258244 -166.888803 \nL 289.859667 -168.851903 \nL 290.401268 -170.815003 \nL 290.849429 -172.778103 \nL 291.182402 -174.741204 \nL 291.397097 -176.704304 \nL 291.511294 -178.667404 \nL 291.56088 -180.630504 \nL 291.593766 -182.593604 \nL 291.662013 -184.556705 \nL 291.812278 -186.519805 \nL 292.074651 -188.482905 \nL 292.452537 -190.446005 \nL 292.918818 -192.409106 \nL 293.422638 -194.372206 \nL 293.90612 -196.335306 \nL 294.324429 -198.298406 \nL 294.660011 -200.261507 \nL 294.924525 -202.224607 \nL 295.148424 -204.187707 \nL 295.364522 -206.150807 \nL 295.594311 -208.113908 \nL 295.842917 -210.077008 \nL 296.102635 -212.040108 \nL 296.360257 -214.003208 \nL 296.60293 -215.966309 \nL 296.820453 -217.929409 \nL 297.005516 -219.892509 \nL 297.154303 -221.855609 \nL 297.268221 -223.81871 \nL 297.355168 -225.78181 \nL 297.428218 -227.74491 \nL 297.501233 -229.70801 \nL 297.58337 -231.671111 \nL 297.675626 -233.634211 \nL 297.771415 -235.597311 \nL 297.860628 -237.560411 \nL 297.934558 -239.523511 \nL 297.989058 -241.486612 \nL 298.024871 -243.449712 \nL 298.106379 -243.449712 \nL 298.106379 -243.449712 \nL 298.142192 -241.486612 \nL 298.196692 -239.523511 \nL 298.270622 -237.560411 \nL 298.359835 -235.597311 \nL 298.455624 -233.634211 \nL 298.54788 -231.671111 \nL 298.630017 -229.70801 \nL 298.703032 -227.74491 \nL 298.776082 -225.78181 \nL 298.863029 -223.81871 \nL 298.976947 -221.855609 \nL 299.125734 -219.892509 \nL 299.310797 -217.929409 \nL 299.52832 -215.966309 \nL 299.770993 -214.003208 \nL 300.028615 -212.040108 \nL 300.288333 -210.077008 \nL 300.536939 -208.113908 \nL 300.766728 -206.150807 \nL 300.982826 -204.187707 \nL 301.206725 -202.224607 \nL 301.471239 -200.261507 \nL 301.806821 -198.298406 \nL 302.22513 -196.335306 \nL 302.708612 -194.372206 \nL 303.212432 -192.409106 \nL 303.678713 -190.446005 \nL 304.056599 -188.482905 \nL 304.318972 -186.519805 \nL 304.469237 -184.556705 \nL 304.537484 -182.593604 \nL 304.57037 -180.630504 \nL 304.619956 -178.667404 \nL 304.734153 -176.704304 \nL 304.948848 -174.741204 \nL 305.281821 -172.778103 \nL 305.729982 -170.815003 \nL 306.271583 -168.851903 \nL 306.873006 -166.888803 \nL 307.497423 -164.925702 \nL 308.11236 -162.962602 \nL 308.694702 -160.999502 \nL 309.233402 -159.036402 \nL 309.730571 -157.073301 \nL 310.201143 -155.110201 \nL 310.670925 -153.147101 \nL 311.173217 -151.184001 \nL 311.744313 -149.2209 \nL 312.417514 -147.2578 \nL 313.214687 -145.2947 \nL 314.136223 -143.3316 \nL 315.154118 -141.368499 \nL 316.214943 -139.405399 \nL 317.255898 -137.442299 \nL 318.229377 -135.479199 \nL 319.125414 -133.516098 \nL 319.981526 -131.552998 \nL 320.875031 -129.589898 \nL 321.900289 -127.626798 \nL 323.13926 -125.663697 \nL 324.636579 -123.700597 \nL 326.388448 -121.737497 \nL 328.348079 -119.774397 \nL 330.442656 -117.811296 \nL 332.593158 -115.848196 \nL 334.730855 -113.885096 \nL 336.809744 -111.921996 \nL 338.817317 -109.958896 \nL 340.784122 -107.995795 \nL 342.787105 -106.032695 \nL 344.937469 -104.069595 \nL 347.346204 -102.106495 \nL 350.072082 -100.143394 \nL 353.072605 -98.180294 \nL 356.185634 -96.217194 \nL 359.158237 -94.254094 \nL 361.713187 -92.290993 \nL 363.620747 -90.327893 \nL 364.741462 -88.364793 \nL 365.025625 -86.401693 \nL 364.480872 -84.438592 \nL 363.132664 -82.475492 \nL 360.998287 -80.512392 \nL 358.081715 -78.549292 \nL 354.385478 -76.586191 \nL 349.931387 -74.623091 \nL 344.782693 -72.659991 \nL 339.062212 -70.696891 \nL 332.961784 -68.73379 \nL 326.738155 -66.77069 \nL 320.690947 -64.80759 \nL 315.122545 -62.84449 \nL 310.287722 -60.881389 \nL 306.348307 -58.918289 \nL 303.349176 -56.955189 \nL 301.224119 -54.992089 \nL 299.827699 -53.028989 \nL 298.979466 -51.065888 \nL 298.504617 -49.102788 \nz\n\" id=\"m23581ea1ee\" style=\"stroke:#3f3f3f;stroke-width:1.5;\"/>\n    </defs>\n    <g clip-path=\"url(#pe13cb02b44)\">\n     <use style=\"fill:#e1812c;stroke:#3f3f3f;stroke-width:1.5;\" x=\"0\" xlink:href=\"#m23581ea1ee\" y=\"262.19625\"/>\n    </g>\n   </g>\n   <g id=\"matplotlib.axis_1\">\n    <g id=\"xtick_1\">\n     <g id=\"line2d_1\">\n      <defs>\n       <path d=\"M 0 0 \nL 0 3.5 \n\" id=\"ma06ba50150\" style=\"stroke:#000000;stroke-width:0.8;\"/>\n      </defs>\n      <g>\n       <use style=\"stroke:#000000;stroke-width:0.8;\" x=\"130.665625\" xlink:href=\"#ma06ba50150\" y=\"224.64\"/>\n      </g>\n     </g>\n     <g id=\"text_1\">\n      <!-- 0 -->\n      <defs>\n       <path d=\"M 31.78125 66.40625 \nQ 24.171875 66.40625 20.328125 58.90625 \nQ 16.5 51.421875 16.5 36.375 \nQ 16.5 21.390625 20.328125 13.890625 \nQ 24.171875 6.390625 31.78125 6.390625 \nQ 39.453125 6.390625 43.28125 13.890625 \nQ 47.125 21.390625 47.125 36.375 \nQ 47.125 51.421875 43.28125 58.90625 \nQ 39.453125 66.40625 31.78125 66.40625 \nz\nM 31.78125 74.21875 \nQ 44.046875 74.21875 50.515625 64.515625 \nQ 56.984375 54.828125 56.984375 36.375 \nQ 56.984375 17.96875 50.515625 8.265625 \nQ 44.046875 -1.421875 31.78125 -1.421875 \nQ 19.53125 -1.421875 13.0625 8.265625 \nQ 6.59375 17.96875 6.59375 36.375 \nQ 6.59375 54.828125 13.0625 64.515625 \nQ 19.53125 74.21875 31.78125 74.21875 \nz\n\" id=\"DejaVuSans-48\"/>\n      </defs>\n      <g transform=\"translate(127.484375 239.238437)scale(0.1 -0.1)\">\n       <use xlink:href=\"#DejaVuSans-48\"/>\n      </g>\n     </g>\n    </g>\n    <g id=\"xtick_2\">\n     <g id=\"line2d_2\">\n      <g>\n       <use style=\"stroke:#000000;stroke-width:0.8;\" x=\"298.065625\" xlink:href=\"#ma06ba50150\" y=\"224.64\"/>\n      </g>\n     </g>\n     <g id=\"text_2\">\n      <!-- 1 -->\n      <defs>\n       <path d=\"M 12.40625 8.296875 \nL 28.515625 8.296875 \nL 28.515625 63.921875 \nL 10.984375 60.40625 \nL 10.984375 69.390625 \nL 28.421875 72.90625 \nL 38.28125 72.90625 \nL 38.28125 8.296875 \nL 54.390625 8.296875 \nL 54.390625 0 \nL 12.40625 0 \nz\n\" id=\"DejaVuSans-49\"/>\n      </defs>\n      <g transform=\"translate(294.884375 239.238437)scale(0.1 -0.1)\">\n       <use xlink:href=\"#DejaVuSans-49\"/>\n      </g>\n     </g>\n    </g>\n    <g id=\"text_3\">\n     <!-- label -->\n     <defs>\n      <path d=\"M 9.421875 75.984375 \nL 18.40625 75.984375 \nL 18.40625 0 \nL 9.421875 0 \nz\n\" id=\"DejaVuSans-108\"/>\n      <path d=\"M 34.28125 27.484375 \nQ 23.390625 27.484375 19.1875 25 \nQ 14.984375 22.515625 14.984375 16.5 \nQ 14.984375 11.71875 18.140625 8.90625 \nQ 21.296875 6.109375 26.703125 6.109375 \nQ 34.1875 6.109375 38.703125 11.40625 \nQ 43.21875 16.703125 43.21875 25.484375 \nL 43.21875 27.484375 \nz\nM 52.203125 31.203125 \nL 52.203125 0 \nL 43.21875 0 \nL 43.21875 8.296875 \nQ 40.140625 3.328125 35.546875 0.953125 \nQ 30.953125 -1.421875 24.3125 -1.421875 \nQ 15.921875 -1.421875 10.953125 3.296875 \nQ 6 8.015625 6 15.921875 \nQ 6 25.140625 12.171875 29.828125 \nQ 18.359375 34.515625 30.609375 34.515625 \nL 43.21875 34.515625 \nL 43.21875 35.40625 \nQ 43.21875 41.609375 39.140625 45 \nQ 35.0625 48.390625 27.6875 48.390625 \nQ 23 48.390625 18.546875 47.265625 \nQ 14.109375 46.140625 10.015625 43.890625 \nL 10.015625 52.203125 \nQ 14.9375 54.109375 19.578125 55.046875 \nQ 24.21875 56 28.609375 56 \nQ 40.484375 56 46.34375 49.84375 \nQ 52.203125 43.703125 52.203125 31.203125 \nz\n\" id=\"DejaVuSans-97\"/>\n      <path d=\"M 48.6875 27.296875 \nQ 48.6875 37.203125 44.609375 42.84375 \nQ 40.53125 48.484375 33.40625 48.484375 \nQ 26.265625 48.484375 22.1875 42.84375 \nQ 18.109375 37.203125 18.109375 27.296875 \nQ 18.109375 17.390625 22.1875 11.75 \nQ 26.265625 6.109375 33.40625 6.109375 \nQ 40.53125 6.109375 44.609375 11.75 \nQ 48.6875 17.390625 48.6875 27.296875 \nz\nM 18.109375 46.390625 \nQ 20.953125 51.265625 25.265625 53.625 \nQ 29.59375 56 35.59375 56 \nQ 45.5625 56 51.78125 48.09375 \nQ 58.015625 40.1875 58.015625 27.296875 \nQ 58.015625 14.40625 51.78125 6.484375 \nQ 45.5625 -1.421875 35.59375 -1.421875 \nQ 29.59375 -1.421875 25.265625 0.953125 \nQ 20.953125 3.328125 18.109375 8.203125 \nL 18.109375 0 \nL 9.078125 0 \nL 9.078125 75.984375 \nL 18.109375 75.984375 \nz\n\" id=\"DejaVuSans-98\"/>\n      <path d=\"M 56.203125 29.59375 \nL 56.203125 25.203125 \nL 14.890625 25.203125 \nQ 15.484375 15.921875 20.484375 11.0625 \nQ 25.484375 6.203125 34.421875 6.203125 \nQ 39.59375 6.203125 44.453125 7.46875 \nQ 49.3125 8.734375 54.109375 11.28125 \nL 54.109375 2.78125 \nQ 49.265625 0.734375 44.1875 -0.34375 \nQ 39.109375 -1.421875 33.890625 -1.421875 \nQ 20.796875 -1.421875 13.15625 6.1875 \nQ 5.515625 13.8125 5.515625 26.8125 \nQ 5.515625 40.234375 12.765625 48.109375 \nQ 20.015625 56 32.328125 56 \nQ 43.359375 56 49.78125 48.890625 \nQ 56.203125 41.796875 56.203125 29.59375 \nz\nM 47.21875 32.234375 \nQ 47.125 39.59375 43.09375 43.984375 \nQ 39.0625 48.390625 32.421875 48.390625 \nQ 24.90625 48.390625 20.390625 44.140625 \nQ 15.875 39.890625 15.1875 32.171875 \nz\n\" id=\"DejaVuSans-101\"/>\n     </defs>\n     <g transform=\"translate(202.272656 252.916562)scale(0.1 -0.1)\">\n      <use xlink:href=\"#DejaVuSans-108\"/>\n      <use x=\"27.783203\" xlink:href=\"#DejaVuSans-97\"/>\n      <use x=\"89.0625\" xlink:href=\"#DejaVuSans-98\"/>\n      <use x=\"152.539062\" xlink:href=\"#DejaVuSans-101\"/>\n      <use x=\"214.0625\" xlink:href=\"#DejaVuSans-108\"/>\n     </g>\n    </g>\n   </g>\n   <g id=\"matplotlib.axis_2\">\n    <g id=\"ytick_1\">\n     <g id=\"line2d_3\">\n      <defs>\n       <path d=\"M 0 0 \nL -3.5 0 \n\" id=\"mf8a7d9d0ff\" style=\"stroke:#000000;stroke-width:0.8;\"/>\n      </defs>\n      <g>\n       <use style=\"stroke:#000000;stroke-width:0.8;\" x=\"46.965625\" xlink:href=\"#mf8a7d9d0ff\" y=\"200.743515\"/>\n      </g>\n     </g>\n     <g id=\"text_4\">\n      <!-- 0 -->\n      <g transform=\"translate(33.603125 204.542734)scale(0.1 -0.1)\">\n       <use xlink:href=\"#DejaVuSans-48\"/>\n      </g>\n     </g>\n    </g>\n    <g id=\"ytick_2\">\n     <g id=\"line2d_4\">\n      <g>\n       <use style=\"stroke:#000000;stroke-width:0.8;\" x=\"46.965625\" xlink:href=\"#mf8a7d9d0ff\" y=\"166.814109\"/>\n      </g>\n     </g>\n     <g id=\"text_5\">\n      <!-- 20 -->\n      <defs>\n       <path d=\"M 19.1875 8.296875 \nL 53.609375 8.296875 \nL 53.609375 0 \nL 7.328125 0 \nL 7.328125 8.296875 \nQ 12.9375 14.109375 22.625 23.890625 \nQ 32.328125 33.6875 34.8125 36.53125 \nQ 39.546875 41.84375 41.421875 45.53125 \nQ 43.3125 49.21875 43.3125 52.78125 \nQ 43.3125 58.59375 39.234375 62.25 \nQ 35.15625 65.921875 28.609375 65.921875 \nQ 23.96875 65.921875 18.8125 64.3125 \nQ 13.671875 62.703125 7.8125 59.421875 \nL 7.8125 69.390625 \nQ 13.765625 71.78125 18.9375 73 \nQ 24.125 74.21875 28.421875 74.21875 \nQ 39.75 74.21875 46.484375 68.546875 \nQ 53.21875 62.890625 53.21875 53.421875 \nQ 53.21875 48.921875 51.53125 44.890625 \nQ 49.859375 40.875 45.40625 35.40625 \nQ 44.1875 33.984375 37.640625 27.21875 \nQ 31.109375 20.453125 19.1875 8.296875 \nz\n\" id=\"DejaVuSans-50\"/>\n      </defs>\n      <g transform=\"translate(27.240625 170.613328)scale(0.1 -0.1)\">\n       <use xlink:href=\"#DejaVuSans-50\"/>\n       <use x=\"63.623047\" xlink:href=\"#DejaVuSans-48\"/>\n      </g>\n     </g>\n    </g>\n    <g id=\"ytick_3\">\n     <g id=\"line2d_5\">\n      <g>\n       <use style=\"stroke:#000000;stroke-width:0.8;\" x=\"46.965625\" xlink:href=\"#mf8a7d9d0ff\" y=\"132.884703\"/>\n      </g>\n     </g>\n     <g id=\"text_6\">\n      <!-- 40 -->\n      <defs>\n       <path d=\"M 37.796875 64.3125 \nL 12.890625 25.390625 \nL 37.796875 25.390625 \nz\nM 35.203125 72.90625 \nL 47.609375 72.90625 \nL 47.609375 25.390625 \nL 58.015625 25.390625 \nL 58.015625 17.1875 \nL 47.609375 17.1875 \nL 47.609375 0 \nL 37.796875 0 \nL 37.796875 17.1875 \nL 4.890625 17.1875 \nL 4.890625 26.703125 \nz\n\" id=\"DejaVuSans-52\"/>\n      </defs>\n      <g transform=\"translate(27.240625 136.683922)scale(0.1 -0.1)\">\n       <use xlink:href=\"#DejaVuSans-52\"/>\n       <use x=\"63.623047\" xlink:href=\"#DejaVuSans-48\"/>\n      </g>\n     </g>\n    </g>\n    <g id=\"ytick_4\">\n     <g id=\"line2d_6\">\n      <g>\n       <use style=\"stroke:#000000;stroke-width:0.8;\" x=\"46.965625\" xlink:href=\"#mf8a7d9d0ff\" y=\"98.955297\"/>\n      </g>\n     </g>\n     <g id=\"text_7\">\n      <!-- 60 -->\n      <defs>\n       <path d=\"M 33.015625 40.375 \nQ 26.375 40.375 22.484375 35.828125 \nQ 18.609375 31.296875 18.609375 23.390625 \nQ 18.609375 15.53125 22.484375 10.953125 \nQ 26.375 6.390625 33.015625 6.390625 \nQ 39.65625 6.390625 43.53125 10.953125 \nQ 47.40625 15.53125 47.40625 23.390625 \nQ 47.40625 31.296875 43.53125 35.828125 \nQ 39.65625 40.375 33.015625 40.375 \nz\nM 52.59375 71.296875 \nL 52.59375 62.3125 \nQ 48.875 64.0625 45.09375 64.984375 \nQ 41.3125 65.921875 37.59375 65.921875 \nQ 27.828125 65.921875 22.671875 59.328125 \nQ 17.53125 52.734375 16.796875 39.40625 \nQ 19.671875 43.65625 24.015625 45.921875 \nQ 28.375 48.1875 33.59375 48.1875 \nQ 44.578125 48.1875 50.953125 41.515625 \nQ 57.328125 34.859375 57.328125 23.390625 \nQ 57.328125 12.15625 50.6875 5.359375 \nQ 44.046875 -1.421875 33.015625 -1.421875 \nQ 20.359375 -1.421875 13.671875 8.265625 \nQ 6.984375 17.96875 6.984375 36.375 \nQ 6.984375 53.65625 15.1875 63.9375 \nQ 23.390625 74.21875 37.203125 74.21875 \nQ 40.921875 74.21875 44.703125 73.484375 \nQ 48.484375 72.75 52.59375 71.296875 \nz\n\" id=\"DejaVuSans-54\"/>\n      </defs>\n      <g transform=\"translate(27.240625 102.754516)scale(0.1 -0.1)\">\n       <use xlink:href=\"#DejaVuSans-54\"/>\n       <use x=\"63.623047\" xlink:href=\"#DejaVuSans-48\"/>\n      </g>\n     </g>\n    </g>\n    <g id=\"ytick_5\">\n     <g id=\"line2d_7\">\n      <g>\n       <use style=\"stroke:#000000;stroke-width:0.8;\" x=\"46.965625\" xlink:href=\"#mf8a7d9d0ff\" y=\"65.025891\"/>\n      </g>\n     </g>\n     <g id=\"text_8\">\n      <!-- 80 -->\n      <defs>\n       <path d=\"M 31.78125 34.625 \nQ 24.75 34.625 20.71875 30.859375 \nQ 16.703125 27.09375 16.703125 20.515625 \nQ 16.703125 13.921875 20.71875 10.15625 \nQ 24.75 6.390625 31.78125 6.390625 \nQ 38.8125 6.390625 42.859375 10.171875 \nQ 46.921875 13.96875 46.921875 20.515625 \nQ 46.921875 27.09375 42.890625 30.859375 \nQ 38.875 34.625 31.78125 34.625 \nz\nM 21.921875 38.8125 \nQ 15.578125 40.375 12.03125 44.71875 \nQ 8.5 49.078125 8.5 55.328125 \nQ 8.5 64.0625 14.71875 69.140625 \nQ 20.953125 74.21875 31.78125 74.21875 \nQ 42.671875 74.21875 48.875 69.140625 \nQ 55.078125 64.0625 55.078125 55.328125 \nQ 55.078125 49.078125 51.53125 44.71875 \nQ 48 40.375 41.703125 38.8125 \nQ 48.828125 37.15625 52.796875 32.3125 \nQ 56.78125 27.484375 56.78125 20.515625 \nQ 56.78125 9.90625 50.3125 4.234375 \nQ 43.84375 -1.421875 31.78125 -1.421875 \nQ 19.734375 -1.421875 13.25 4.234375 \nQ 6.78125 9.90625 6.78125 20.515625 \nQ 6.78125 27.484375 10.78125 32.3125 \nQ 14.796875 37.15625 21.921875 38.8125 \nz\nM 18.3125 54.390625 \nQ 18.3125 48.734375 21.84375 45.5625 \nQ 25.390625 42.390625 31.78125 42.390625 \nQ 38.140625 42.390625 41.71875 45.5625 \nQ 45.3125 48.734375 45.3125 54.390625 \nQ 45.3125 60.0625 41.71875 63.234375 \nQ 38.140625 66.40625 31.78125 66.40625 \nQ 25.390625 66.40625 21.84375 63.234375 \nQ 18.3125 60.0625 18.3125 54.390625 \nz\n\" id=\"DejaVuSans-56\"/>\n      </defs>\n      <g transform=\"translate(27.240625 68.82511)scale(0.1 -0.1)\">\n       <use xlink:href=\"#DejaVuSans-56\"/>\n       <use x=\"63.623047\" xlink:href=\"#DejaVuSans-48\"/>\n      </g>\n     </g>\n    </g>\n    <g id=\"ytick_6\">\n     <g id=\"line2d_8\">\n      <g>\n       <use style=\"stroke:#000000;stroke-width:0.8;\" x=\"46.965625\" xlink:href=\"#mf8a7d9d0ff\" y=\"31.096485\"/>\n      </g>\n     </g>\n     <g id=\"text_9\">\n      <!-- 100 -->\n      <g transform=\"translate(20.878125 34.895704)scale(0.1 -0.1)\">\n       <use xlink:href=\"#DejaVuSans-49\"/>\n       <use x=\"63.623047\" xlink:href=\"#DejaVuSans-48\"/>\n       <use x=\"127.246094\" xlink:href=\"#DejaVuSans-48\"/>\n      </g>\n     </g>\n    </g>\n    <g id=\"text_10\">\n     <!-- linkwordscore -->\n     <defs>\n      <path d=\"M 9.421875 54.6875 \nL 18.40625 54.6875 \nL 18.40625 0 \nL 9.421875 0 \nz\nM 9.421875 75.984375 \nL 18.40625 75.984375 \nL 18.40625 64.59375 \nL 9.421875 64.59375 \nz\n\" id=\"DejaVuSans-105\"/>\n      <path d=\"M 54.890625 33.015625 \nL 54.890625 0 \nL 45.90625 0 \nL 45.90625 32.71875 \nQ 45.90625 40.484375 42.875 44.328125 \nQ 39.84375 48.1875 33.796875 48.1875 \nQ 26.515625 48.1875 22.3125 43.546875 \nQ 18.109375 38.921875 18.109375 30.90625 \nL 18.109375 0 \nL 9.078125 0 \nL 9.078125 54.6875 \nL 18.109375 54.6875 \nL 18.109375 46.1875 \nQ 21.34375 51.125 25.703125 53.5625 \nQ 30.078125 56 35.796875 56 \nQ 45.21875 56 50.046875 50.171875 \nQ 54.890625 44.34375 54.890625 33.015625 \nz\n\" id=\"DejaVuSans-110\"/>\n      <path d=\"M 9.078125 75.984375 \nL 18.109375 75.984375 \nL 18.109375 31.109375 \nL 44.921875 54.6875 \nL 56.390625 54.6875 \nL 27.390625 29.109375 \nL 57.625 0 \nL 45.90625 0 \nL 18.109375 26.703125 \nL 18.109375 0 \nL 9.078125 0 \nz\n\" id=\"DejaVuSans-107\"/>\n      <path d=\"M 4.203125 54.6875 \nL 13.1875 54.6875 \nL 24.421875 12.015625 \nL 35.59375 54.6875 \nL 46.1875 54.6875 \nL 57.421875 12.015625 \nL 68.609375 54.6875 \nL 77.59375 54.6875 \nL 63.28125 0 \nL 52.6875 0 \nL 40.921875 44.828125 \nL 29.109375 0 \nL 18.5 0 \nz\n\" id=\"DejaVuSans-119\"/>\n      <path d=\"M 30.609375 48.390625 \nQ 23.390625 48.390625 19.1875 42.75 \nQ 14.984375 37.109375 14.984375 27.296875 \nQ 14.984375 17.484375 19.15625 11.84375 \nQ 23.34375 6.203125 30.609375 6.203125 \nQ 37.796875 6.203125 41.984375 11.859375 \nQ 46.1875 17.53125 46.1875 27.296875 \nQ 46.1875 37.015625 41.984375 42.703125 \nQ 37.796875 48.390625 30.609375 48.390625 \nz\nM 30.609375 56 \nQ 42.328125 56 49.015625 48.375 \nQ 55.71875 40.765625 55.71875 27.296875 \nQ 55.71875 13.875 49.015625 6.21875 \nQ 42.328125 -1.421875 30.609375 -1.421875 \nQ 18.84375 -1.421875 12.171875 6.21875 \nQ 5.515625 13.875 5.515625 27.296875 \nQ 5.515625 40.765625 12.171875 48.375 \nQ 18.84375 56 30.609375 56 \nz\n\" id=\"DejaVuSans-111\"/>\n      <path d=\"M 41.109375 46.296875 \nQ 39.59375 47.171875 37.8125 47.578125 \nQ 36.03125 48 33.890625 48 \nQ 26.265625 48 22.1875 43.046875 \nQ 18.109375 38.09375 18.109375 28.8125 \nL 18.109375 0 \nL 9.078125 0 \nL 9.078125 54.6875 \nL 18.109375 54.6875 \nL 18.109375 46.1875 \nQ 20.953125 51.171875 25.484375 53.578125 \nQ 30.03125 56 36.53125 56 \nQ 37.453125 56 38.578125 55.875 \nQ 39.703125 55.765625 41.0625 55.515625 \nz\n\" id=\"DejaVuSans-114\"/>\n      <path d=\"M 45.40625 46.390625 \nL 45.40625 75.984375 \nL 54.390625 75.984375 \nL 54.390625 0 \nL 45.40625 0 \nL 45.40625 8.203125 \nQ 42.578125 3.328125 38.25 0.953125 \nQ 33.9375 -1.421875 27.875 -1.421875 \nQ 17.96875 -1.421875 11.734375 6.484375 \nQ 5.515625 14.40625 5.515625 27.296875 \nQ 5.515625 40.1875 11.734375 48.09375 \nQ 17.96875 56 27.875 56 \nQ 33.9375 56 38.25 53.625 \nQ 42.578125 51.265625 45.40625 46.390625 \nz\nM 14.796875 27.296875 \nQ 14.796875 17.390625 18.875 11.75 \nQ 22.953125 6.109375 30.078125 6.109375 \nQ 37.203125 6.109375 41.296875 11.75 \nQ 45.40625 17.390625 45.40625 27.296875 \nQ 45.40625 37.203125 41.296875 42.84375 \nQ 37.203125 48.484375 30.078125 48.484375 \nQ 22.953125 48.484375 18.875 42.84375 \nQ 14.796875 37.203125 14.796875 27.296875 \nz\n\" id=\"DejaVuSans-100\"/>\n      <path d=\"M 44.28125 53.078125 \nL 44.28125 44.578125 \nQ 40.484375 46.53125 36.375 47.5 \nQ 32.28125 48.484375 27.875 48.484375 \nQ 21.1875 48.484375 17.84375 46.4375 \nQ 14.5 44.390625 14.5 40.28125 \nQ 14.5 37.15625 16.890625 35.375 \nQ 19.28125 33.59375 26.515625 31.984375 \nL 29.59375 31.296875 \nQ 39.15625 29.25 43.1875 25.515625 \nQ 47.21875 21.78125 47.21875 15.09375 \nQ 47.21875 7.46875 41.1875 3.015625 \nQ 35.15625 -1.421875 24.609375 -1.421875 \nQ 20.21875 -1.421875 15.453125 -0.5625 \nQ 10.6875 0.296875 5.421875 2 \nL 5.421875 11.28125 \nQ 10.40625 8.6875 15.234375 7.390625 \nQ 20.0625 6.109375 24.8125 6.109375 \nQ 31.15625 6.109375 34.5625 8.28125 \nQ 37.984375 10.453125 37.984375 14.40625 \nQ 37.984375 18.0625 35.515625 20.015625 \nQ 33.0625 21.96875 24.703125 23.78125 \nL 21.578125 24.515625 \nQ 13.234375 26.265625 9.515625 29.90625 \nQ 5.8125 33.546875 5.8125 39.890625 \nQ 5.8125 47.609375 11.28125 51.796875 \nQ 16.75 56 26.8125 56 \nQ 31.78125 56 36.171875 55.265625 \nQ 40.578125 54.546875 44.28125 53.078125 \nz\n\" id=\"DejaVuSans-115\"/>\n      <path d=\"M 48.78125 52.59375 \nL 48.78125 44.1875 \nQ 44.96875 46.296875 41.140625 47.34375 \nQ 37.3125 48.390625 33.40625 48.390625 \nQ 24.65625 48.390625 19.8125 42.84375 \nQ 14.984375 37.3125 14.984375 27.296875 \nQ 14.984375 17.28125 19.8125 11.734375 \nQ 24.65625 6.203125 33.40625 6.203125 \nQ 37.3125 6.203125 41.140625 7.25 \nQ 44.96875 8.296875 48.78125 10.40625 \nL 48.78125 2.09375 \nQ 45.015625 0.34375 40.984375 -0.53125 \nQ 36.96875 -1.421875 32.421875 -1.421875 \nQ 20.0625 -1.421875 12.78125 6.34375 \nQ 5.515625 14.109375 5.515625 27.296875 \nQ 5.515625 40.671875 12.859375 48.328125 \nQ 20.21875 56 33.015625 56 \nQ 37.15625 56 41.109375 55.140625 \nQ 45.0625 54.296875 48.78125 52.59375 \nz\n\" id=\"DejaVuSans-99\"/>\n     </defs>\n     <g transform=\"translate(14.798438 150.485625)rotate(-90)scale(0.1 -0.1)\">\n      <use xlink:href=\"#DejaVuSans-108\"/>\n      <use x=\"27.783203\" xlink:href=\"#DejaVuSans-105\"/>\n      <use x=\"55.566406\" xlink:href=\"#DejaVuSans-110\"/>\n      <use x=\"118.945312\" xlink:href=\"#DejaVuSans-107\"/>\n      <use x=\"176.855469\" xlink:href=\"#DejaVuSans-119\"/>\n      <use x=\"258.642578\" xlink:href=\"#DejaVuSans-111\"/>\n      <use x=\"319.824219\" xlink:href=\"#DejaVuSans-114\"/>\n      <use x=\"359.1875\" xlink:href=\"#DejaVuSans-100\"/>\n      <use x=\"422.664062\" xlink:href=\"#DejaVuSans-115\"/>\n      <use x=\"474.763672\" xlink:href=\"#DejaVuSans-99\"/>\n      <use x=\"529.744141\" xlink:href=\"#DejaVuSans-111\"/>\n      <use x=\"590.925781\" xlink:href=\"#DejaVuSans-114\"/>\n      <use x=\"629.789062\" xlink:href=\"#DejaVuSans-101\"/>\n     </g>\n    </g>\n   </g>\n   <g id=\"line2d_9\">\n    <path clip-path=\"url(#pe13cb02b44)\" d=\"M 130.665625 200.743515 \nL 130.665625 41.275307 \n\" style=\"fill:none;stroke:#3f3f3f;stroke-linecap:square;stroke-width:1.5;\"/>\n   </g>\n   <g id=\"line2d_10\">\n    <path clip-path=\"url(#pe13cb02b44)\" d=\"M 130.665625 171.90352 \nL 130.665625 119.312941 \n\" style=\"fill:none;stroke:#3f3f3f;stroke-linecap:square;stroke-width:4.5;\"/>\n   </g>\n   <g id=\"line2d_11\">\n    <path clip-path=\"url(#pe13cb02b44)\" d=\"M 298.065625 200.743515 \nL 298.065625 81.990594 \n\" style=\"fill:none;stroke:#3f3f3f;stroke-linecap:square;stroke-width:1.5;\"/>\n   </g>\n   <g id=\"line2d_12\">\n    <path clip-path=\"url(#pe13cb02b44)\" d=\"M 298.065625 178.689401 \nL 298.065625 139.670584 \n\" style=\"fill:none;stroke:#3f3f3f;stroke-linecap:square;stroke-width:4.5;\"/>\n   </g>\n   <g id=\"patch_3\">\n    <path d=\"M 46.965625 224.64 \nL 46.965625 7.2 \n\" style=\"fill:none;stroke:#000000;stroke-linecap:square;stroke-linejoin:miter;stroke-width:0.8;\"/>\n   </g>\n   <g id=\"patch_4\">\n    <path d=\"M 381.765625 224.64 \nL 381.765625 7.2 \n\" style=\"fill:none;stroke:#000000;stroke-linecap:square;stroke-linejoin:miter;stroke-width:0.8;\"/>\n   </g>\n   <g id=\"patch_5\">\n    <path d=\"M 46.965625 224.64 \nL 381.765625 224.64 \n\" style=\"fill:none;stroke:#000000;stroke-linecap:square;stroke-linejoin:miter;stroke-width:0.8;\"/>\n   </g>\n   <g id=\"patch_6\">\n    <path d=\"M 46.965625 7.2 \nL 381.765625 7.2 \n\" style=\"fill:none;stroke:#000000;stroke-linecap:square;stroke-linejoin:miter;stroke-width:0.8;\"/>\n   </g>\n   <g id=\"PathCollection_1\">\n    <defs>\n     <path d=\"M 0 1.5 \nC 0.397805 1.5 0.77937 1.341951 1.06066 1.06066 \nC 1.341951 0.77937 1.5 0.397805 1.5 0 \nC 1.5 -0.397805 1.341951 -0.77937 1.06066 -1.06066 \nC 0.77937 -1.341951 0.397805 -1.5 0 -1.5 \nC -0.397805 -1.5 -0.77937 -1.341951 -1.06066 -1.06066 \nC -1.341951 -0.77937 -1.5 -0.397805 -1.5 0 \nC -1.5 0.397805 -1.341951 0.77937 -1.06066 1.06066 \nC -0.77937 1.341951 -0.397805 1.5 0 1.5 \nz\n\" id=\"mcc2162034a\" style=\"stroke:#3f3f3f;\"/>\n    </defs>\n    <g clip-path=\"url(#pe13cb02b44)\">\n     <use style=\"fill:#ffffff;stroke:#3f3f3f;\" x=\"130.665625\" xlink:href=\"#mcc2162034a\" y=\"149.849406\"/>\n    </g>\n   </g>\n   <g id=\"PathCollection_2\">\n    <g clip-path=\"url(#pe13cb02b44)\">\n     <use style=\"fill:#ffffff;stroke:#3f3f3f;\" x=\"298.065625\" xlink:href=\"#mcc2162034a\" y=\"165.117639\"/>\n    </g>\n   </g>\n  </g>\n </g>\n <defs>\n  <clipPath id=\"pe13cb02b44\">\n   <rect height=\"217.44\" width=\"334.8\" x=\"46.965625\" y=\"7.2\"/>\n  </clipPath>\n </defs>\n</svg>\n"
          },
          "metadata": {
            "tags": [],
            "needs_background": "light"
          }
        }
      ]
    },
    {
      "cell_type": "code",
      "metadata": {
        "id": "myh9e5wxXAyn",
        "colab": {
          "base_uri": "https://localhost:8080/",
          "height": 224
        },
        "outputId": "ddef2c29-0b58-4f56-851f-a1fca9c5546e"
      },
      "source": [
        "features_df = df.drop('label', axis=1)\n",
        "num_features = features_df.select_dtypes(np.number)\n",
        "num_features.sample(5)"
      ],
      "execution_count": null,
      "outputs": [
        {
          "output_type": "execute_result",
          "data": {
            "text/html": [
              "<div>\n",
              "<style scoped>\n",
              "    .dataframe tbody tr th:only-of-type {\n",
              "        vertical-align: middle;\n",
              "    }\n",
              "\n",
              "    .dataframe tbody tr th {\n",
              "        vertical-align: top;\n",
              "    }\n",
              "\n",
              "    .dataframe thead th {\n",
              "        text-align: right;\n",
              "    }\n",
              "</style>\n",
              "<table border=\"1\" class=\"dataframe\">\n",
              "  <thead>\n",
              "    <tr style=\"text-align: right;\">\n",
              "      <th></th>\n",
              "      <th>avglinksize</th>\n",
              "      <th>commonlinkratio_1</th>\n",
              "      <th>commonlinkratio_2</th>\n",
              "      <th>commonlinkratio_3</th>\n",
              "      <th>commonlinkratio_4</th>\n",
              "      <th>compression_ratio</th>\n",
              "      <th>embed_ratio</th>\n",
              "      <th>frameTagRatio</th>\n",
              "      <th>hasDomainLink</th>\n",
              "      <th>html_ratio</th>\n",
              "      <th>image_ratio</th>\n",
              "      <th>is_news</th>\n",
              "      <th>lengthyLinkDomain</th>\n",
              "      <th>linkwordscore</th>\n",
              "      <th>non_markup_alphanum_characters</th>\n",
              "      <th>numberOfLinks</th>\n",
              "      <th>numwords_in_url</th>\n",
              "      <th>parametrizedLinkRatio</th>\n",
              "      <th>spelling_errors_ratio</th>\n",
              "    </tr>\n",
              "  </thead>\n",
              "  <tbody>\n",
              "    <tr>\n",
              "      <th>1439</th>\n",
              "      <td>2.754386</td>\n",
              "      <td>0.542857</td>\n",
              "      <td>0.342857</td>\n",
              "      <td>0.178571</td>\n",
              "      <td>0.064286</td>\n",
              "      <td>0.372462</td>\n",
              "      <td>0.000000</td>\n",
              "      <td>0.025801</td>\n",
              "      <td>0</td>\n",
              "      <td>0.219906</td>\n",
              "      <td>0.497382</td>\n",
              "      <td>1</td>\n",
              "      <td>1</td>\n",
              "      <td>12</td>\n",
              "      <td>11829</td>\n",
              "      <td>140</td>\n",
              "      <td>5</td>\n",
              "      <td>0.028571</td>\n",
              "      <td>0.073892</td>\n",
              "    </tr>\n",
              "    <tr>\n",
              "      <th>3112</th>\n",
              "      <td>1.380000</td>\n",
              "      <td>0.196721</td>\n",
              "      <td>0.032787</td>\n",
              "      <td>0.000000</td>\n",
              "      <td>0.000000</td>\n",
              "      <td>0.697749</td>\n",
              "      <td>0.019608</td>\n",
              "      <td>0.017310</td>\n",
              "      <td>0</td>\n",
              "      <td>0.162962</td>\n",
              "      <td>2.313725</td>\n",
              "      <td>0</td>\n",
              "      <td>0</td>\n",
              "      <td>13</td>\n",
              "      <td>2230</td>\n",
              "      <td>61</td>\n",
              "      <td>1</td>\n",
              "      <td>0.754098</td>\n",
              "      <td>0.071429</td>\n",
              "    </tr>\n",
              "    <tr>\n",
              "      <th>3078</th>\n",
              "      <td>4.255474</td>\n",
              "      <td>0.833333</td>\n",
              "      <td>0.469136</td>\n",
              "      <td>0.376543</td>\n",
              "      <td>0.277778</td>\n",
              "      <td>0.516129</td>\n",
              "      <td>0.000000</td>\n",
              "      <td>0.020548</td>\n",
              "      <td>0</td>\n",
              "      <td>0.212683</td>\n",
              "      <td>0.093596</td>\n",
              "      <td>1</td>\n",
              "      <td>1</td>\n",
              "      <td>58</td>\n",
              "      <td>2252</td>\n",
              "      <td>162</td>\n",
              "      <td>0</td>\n",
              "      <td>0.000000</td>\n",
              "      <td>0.028986</td>\n",
              "    </tr>\n",
              "    <tr>\n",
              "      <th>5778</th>\n",
              "      <td>1.092593</td>\n",
              "      <td>0.376147</td>\n",
              "      <td>0.330275</td>\n",
              "      <td>0.018349</td>\n",
              "      <td>0.000000</td>\n",
              "      <td>0.494774</td>\n",
              "      <td>0.000000</td>\n",
              "      <td>0.038136</td>\n",
              "      <td>0</td>\n",
              "      <td>0.217851</td>\n",
              "      <td>0.070423</td>\n",
              "      <td>1</td>\n",
              "      <td>0</td>\n",
              "      <td>21</td>\n",
              "      <td>2011</td>\n",
              "      <td>109</td>\n",
              "      <td>4</td>\n",
              "      <td>0.100917</td>\n",
              "      <td>0.107463</td>\n",
              "    </tr>\n",
              "    <tr>\n",
              "      <th>5632</th>\n",
              "      <td>0.507463</td>\n",
              "      <td>0.141026</td>\n",
              "      <td>0.064103</td>\n",
              "      <td>0.064103</td>\n",
              "      <td>0.051282</td>\n",
              "      <td>0.502396</td>\n",
              "      <td>0.000000</td>\n",
              "      <td>0.063433</td>\n",
              "      <td>0</td>\n",
              "      <td>0.208990</td>\n",
              "      <td>0.132653</td>\n",
              "      <td>1</td>\n",
              "      <td>0</td>\n",
              "      <td>8</td>\n",
              "      <td>1707</td>\n",
              "      <td>78</td>\n",
              "      <td>6</td>\n",
              "      <td>0.397436</td>\n",
              "      <td>0.092857</td>\n",
              "    </tr>\n",
              "  </tbody>\n",
              "</table>\n",
              "</div>"
            ],
            "text/plain": [
              "      avglinksize  ...  spelling_errors_ratio\n",
              "1439     2.754386  ...               0.073892\n",
              "3112     1.380000  ...               0.071429\n",
              "3078     4.255474  ...               0.028986\n",
              "5778     1.092593  ...               0.107463\n",
              "5632     0.507463  ...               0.092857\n",
              "\n",
              "[5 rows x 19 columns]"
            ]
          },
          "metadata": {
            "tags": []
          },
          "execution_count": 18
        }
      ]
    },
    {
      "cell_type": "code",
      "metadata": {
        "id": "Us7fpadjXbUt",
        "colab": {
          "base_uri": "https://localhost:8080/",
          "height": 136
        },
        "outputId": "110ed451-a8e1-4004-ebc4-21294a94b549"
      },
      "source": [
        "num_features.columns"
      ],
      "execution_count": null,
      "outputs": [
        {
          "output_type": "execute_result",
          "data": {
            "text/plain": [
              "Index(['avglinksize', 'commonlinkratio_1', 'commonlinkratio_2',\n",
              "       'commonlinkratio_3', 'commonlinkratio_4', 'compression_ratio',\n",
              "       'embed_ratio', 'frameTagRatio', 'hasDomainLink', 'html_ratio',\n",
              "       'image_ratio', 'is_news', 'lengthyLinkDomain', 'linkwordscore',\n",
              "       'non_markup_alphanum_characters', 'numberOfLinks', 'numwords_in_url',\n",
              "       'parametrizedLinkRatio', 'spelling_errors_ratio'],\n",
              "      dtype='object')"
            ]
          },
          "metadata": {
            "tags": []
          },
          "execution_count": 19
        }
      ]
    },
    {
      "cell_type": "code",
      "metadata": {
        "id": "y6ydbDijXf87",
        "colab": {
          "base_uri": "https://localhost:8080/",
          "height": 317
        },
        "outputId": "a33286f8-11fc-4573-ac57-beef72f28fa9"
      },
      "source": [
        "num_features.describe()"
      ],
      "execution_count": null,
      "outputs": [
        {
          "output_type": "execute_result",
          "data": {
            "text/html": [
              "<div>\n",
              "<style scoped>\n",
              "    .dataframe tbody tr th:only-of-type {\n",
              "        vertical-align: middle;\n",
              "    }\n",
              "\n",
              "    .dataframe tbody tr th {\n",
              "        vertical-align: top;\n",
              "    }\n",
              "\n",
              "    .dataframe thead th {\n",
              "        text-align: right;\n",
              "    }\n",
              "</style>\n",
              "<table border=\"1\" class=\"dataframe\">\n",
              "  <thead>\n",
              "    <tr style=\"text-align: right;\">\n",
              "      <th></th>\n",
              "      <th>avglinksize</th>\n",
              "      <th>commonlinkratio_1</th>\n",
              "      <th>commonlinkratio_2</th>\n",
              "      <th>commonlinkratio_3</th>\n",
              "      <th>commonlinkratio_4</th>\n",
              "      <th>compression_ratio</th>\n",
              "      <th>embed_ratio</th>\n",
              "      <th>frameTagRatio</th>\n",
              "      <th>hasDomainLink</th>\n",
              "      <th>html_ratio</th>\n",
              "      <th>image_ratio</th>\n",
              "      <th>is_news</th>\n",
              "      <th>lengthyLinkDomain</th>\n",
              "      <th>linkwordscore</th>\n",
              "      <th>non_markup_alphanum_characters</th>\n",
              "      <th>numberOfLinks</th>\n",
              "      <th>numwords_in_url</th>\n",
              "      <th>parametrizedLinkRatio</th>\n",
              "      <th>spelling_errors_ratio</th>\n",
              "    </tr>\n",
              "  </thead>\n",
              "  <tbody>\n",
              "    <tr>\n",
              "      <th>count</th>\n",
              "      <td>7395.000000</td>\n",
              "      <td>7395.000000</td>\n",
              "      <td>7395.000000</td>\n",
              "      <td>7395.000000</td>\n",
              "      <td>7395.000000</td>\n",
              "      <td>7395.000000</td>\n",
              "      <td>7395.000000</td>\n",
              "      <td>7395.000000</td>\n",
              "      <td>7395.000000</td>\n",
              "      <td>7395.000000</td>\n",
              "      <td>7395.000000</td>\n",
              "      <td>7395.000000</td>\n",
              "      <td>7395.000000</td>\n",
              "      <td>7395.000000</td>\n",
              "      <td>7395.000000</td>\n",
              "      <td>7395.000000</td>\n",
              "      <td>7395.000000</td>\n",
              "      <td>7395.000000</td>\n",
              "      <td>7395.000000</td>\n",
              "    </tr>\n",
              "    <tr>\n",
              "      <th>mean</th>\n",
              "      <td>2.761823</td>\n",
              "      <td>0.468230</td>\n",
              "      <td>0.214080</td>\n",
              "      <td>0.092062</td>\n",
              "      <td>0.049262</td>\n",
              "      <td>2.255103</td>\n",
              "      <td>-0.103750</td>\n",
              "      <td>0.056423</td>\n",
              "      <td>0.021231</td>\n",
              "      <td>0.233778</td>\n",
              "      <td>0.275709</td>\n",
              "      <td>0.615551</td>\n",
              "      <td>0.660311</td>\n",
              "      <td>30.077079</td>\n",
              "      <td>5716.598242</td>\n",
              "      <td>178.754564</td>\n",
              "      <td>4.960649</td>\n",
              "      <td>0.172864</td>\n",
              "      <td>0.101221</td>\n",
              "    </tr>\n",
              "    <tr>\n",
              "      <th>std</th>\n",
              "      <td>8.619793</td>\n",
              "      <td>0.203133</td>\n",
              "      <td>0.146743</td>\n",
              "      <td>0.095978</td>\n",
              "      <td>0.072629</td>\n",
              "      <td>5.704313</td>\n",
              "      <td>0.306545</td>\n",
              "      <td>0.041446</td>\n",
              "      <td>0.144162</td>\n",
              "      <td>0.052487</td>\n",
              "      <td>1.919320</td>\n",
              "      <td>0.486498</td>\n",
              "      <td>0.473636</td>\n",
              "      <td>20.393101</td>\n",
              "      <td>8875.432430</td>\n",
              "      <td>179.466198</td>\n",
              "      <td>3.233111</td>\n",
              "      <td>0.183286</td>\n",
              "      <td>0.079231</td>\n",
              "    </tr>\n",
              "    <tr>\n",
              "      <th>min</th>\n",
              "      <td>0.000000</td>\n",
              "      <td>0.000000</td>\n",
              "      <td>0.000000</td>\n",
              "      <td>0.000000</td>\n",
              "      <td>0.000000</td>\n",
              "      <td>0.000000</td>\n",
              "      <td>-1.000000</td>\n",
              "      <td>0.000000</td>\n",
              "      <td>0.000000</td>\n",
              "      <td>0.045564</td>\n",
              "      <td>-1.000000</td>\n",
              "      <td>0.000000</td>\n",
              "      <td>0.000000</td>\n",
              "      <td>0.000000</td>\n",
              "      <td>0.000000</td>\n",
              "      <td>1.000000</td>\n",
              "      <td>0.000000</td>\n",
              "      <td>0.000000</td>\n",
              "      <td>0.000000</td>\n",
              "    </tr>\n",
              "    <tr>\n",
              "      <th>25%</th>\n",
              "      <td>1.602062</td>\n",
              "      <td>0.340370</td>\n",
              "      <td>0.105263</td>\n",
              "      <td>0.022222</td>\n",
              "      <td>0.000000</td>\n",
              "      <td>0.442616</td>\n",
              "      <td>0.000000</td>\n",
              "      <td>0.028502</td>\n",
              "      <td>0.000000</td>\n",
              "      <td>0.201061</td>\n",
              "      <td>0.025900</td>\n",
              "      <td>0.000000</td>\n",
              "      <td>0.000000</td>\n",
              "      <td>14.000000</td>\n",
              "      <td>1579.000000</td>\n",
              "      <td>82.000000</td>\n",
              "      <td>3.000000</td>\n",
              "      <td>0.040984</td>\n",
              "      <td>0.068739</td>\n",
              "    </tr>\n",
              "    <tr>\n",
              "      <th>50%</th>\n",
              "      <td>2.088235</td>\n",
              "      <td>0.481481</td>\n",
              "      <td>0.202454</td>\n",
              "      <td>0.068627</td>\n",
              "      <td>0.022222</td>\n",
              "      <td>0.483680</td>\n",
              "      <td>0.000000</td>\n",
              "      <td>0.045775</td>\n",
              "      <td>0.000000</td>\n",
              "      <td>0.230564</td>\n",
              "      <td>0.083051</td>\n",
              "      <td>1.000000</td>\n",
              "      <td>1.000000</td>\n",
              "      <td>25.000000</td>\n",
              "      <td>3500.000000</td>\n",
              "      <td>139.000000</td>\n",
              "      <td>5.000000</td>\n",
              "      <td>0.113402</td>\n",
              "      <td>0.089312</td>\n",
              "    </tr>\n",
              "    <tr>\n",
              "      <th>75%</th>\n",
              "      <td>2.627451</td>\n",
              "      <td>0.616604</td>\n",
              "      <td>0.300000</td>\n",
              "      <td>0.133333</td>\n",
              "      <td>0.065065</td>\n",
              "      <td>0.578227</td>\n",
              "      <td>0.000000</td>\n",
              "      <td>0.073459</td>\n",
              "      <td>0.000000</td>\n",
              "      <td>0.260770</td>\n",
              "      <td>0.236700</td>\n",
              "      <td>1.000000</td>\n",
              "      <td>1.000000</td>\n",
              "      <td>43.000000</td>\n",
              "      <td>6377.000000</td>\n",
              "      <td>222.000000</td>\n",
              "      <td>7.000000</td>\n",
              "      <td>0.241299</td>\n",
              "      <td>0.112376</td>\n",
              "    </tr>\n",
              "    <tr>\n",
              "      <th>max</th>\n",
              "      <td>363.000000</td>\n",
              "      <td>1.000000</td>\n",
              "      <td>1.000000</td>\n",
              "      <td>0.980392</td>\n",
              "      <td>0.980392</td>\n",
              "      <td>21.000000</td>\n",
              "      <td>0.250000</td>\n",
              "      <td>0.444444</td>\n",
              "      <td>1.000000</td>\n",
              "      <td>0.716883</td>\n",
              "      <td>113.333333</td>\n",
              "      <td>1.000000</td>\n",
              "      <td>1.000000</td>\n",
              "      <td>100.000000</td>\n",
              "      <td>207952.000000</td>\n",
              "      <td>4997.000000</td>\n",
              "      <td>22.000000</td>\n",
              "      <td>1.000000</td>\n",
              "      <td>1.000000</td>\n",
              "    </tr>\n",
              "  </tbody>\n",
              "</table>\n",
              "</div>"
            ],
            "text/plain": [
              "       avglinksize  ...  spelling_errors_ratio\n",
              "count  7395.000000  ...            7395.000000\n",
              "mean      2.761823  ...               0.101221\n",
              "std       8.619793  ...               0.079231\n",
              "min       0.000000  ...               0.000000\n",
              "25%       1.602062  ...               0.068739\n",
              "50%       2.088235  ...               0.089312\n",
              "75%       2.627451  ...               0.112376\n",
              "max     363.000000  ...               1.000000\n",
              "\n",
              "[8 rows x 19 columns]"
            ]
          },
          "metadata": {
            "tags": []
          },
          "execution_count": 20
        }
      ]
    },
    {
      "cell_type": "code",
      "metadata": {
        "id": "zmSFEcPoZn-a",
        "colab": {
          "base_uri": "https://localhost:8080/",
          "height": 204
        },
        "outputId": "264960ad-a333-4969-9cc9-00b1832b5d07"
      },
      "source": [
        "cat_features = df.select_dtypes(include=[np.object])\n",
        "cat_features = cat_features[['alchemy_category', 'news_front_page']]\n",
        "cat_features.head(5)"
      ],
      "execution_count": null,
      "outputs": [
        {
          "output_type": "execute_result",
          "data": {
            "text/html": [
              "<div>\n",
              "<style scoped>\n",
              "    .dataframe tbody tr th:only-of-type {\n",
              "        vertical-align: middle;\n",
              "    }\n",
              "\n",
              "    .dataframe tbody tr th {\n",
              "        vertical-align: top;\n",
              "    }\n",
              "\n",
              "    .dataframe thead th {\n",
              "        text-align: right;\n",
              "    }\n",
              "</style>\n",
              "<table border=\"1\" class=\"dataframe\">\n",
              "  <thead>\n",
              "    <tr style=\"text-align: right;\">\n",
              "      <th></th>\n",
              "      <th>alchemy_category</th>\n",
              "      <th>news_front_page</th>\n",
              "    </tr>\n",
              "  </thead>\n",
              "  <tbody>\n",
              "    <tr>\n",
              "      <th>0</th>\n",
              "      <td>business</td>\n",
              "      <td>0</td>\n",
              "    </tr>\n",
              "    <tr>\n",
              "      <th>1</th>\n",
              "      <td>recreation</td>\n",
              "      <td>0</td>\n",
              "    </tr>\n",
              "    <tr>\n",
              "      <th>2</th>\n",
              "      <td>health</td>\n",
              "      <td>0</td>\n",
              "    </tr>\n",
              "    <tr>\n",
              "      <th>3</th>\n",
              "      <td>health</td>\n",
              "      <td>0</td>\n",
              "    </tr>\n",
              "    <tr>\n",
              "      <th>4</th>\n",
              "      <td>sports</td>\n",
              "      <td>0</td>\n",
              "    </tr>\n",
              "  </tbody>\n",
              "</table>\n",
              "</div>"
            ],
            "text/plain": [
              "  alchemy_category news_front_page\n",
              "0         business               0\n",
              "1       recreation               0\n",
              "2           health               0\n",
              "3           health               0\n",
              "4           sports               0"
            ]
          },
          "metadata": {
            "tags": []
          },
          "execution_count": 21
        }
      ]
    },
    {
      "cell_type": "code",
      "metadata": {
        "id": "PWYrPzsvcU8t",
        "colab": {
          "base_uri": "https://localhost:8080/",
          "height": 224
        },
        "outputId": "abaa2269-87a1-4228-85d3-8c449439f0e9"
      },
      "source": [
        "pd.get_dummies(cat_features).head(5)"
      ],
      "execution_count": null,
      "outputs": [
        {
          "output_type": "execute_result",
          "data": {
            "text/html": [
              "<div>\n",
              "<style scoped>\n",
              "    .dataframe tbody tr th:only-of-type {\n",
              "        vertical-align: middle;\n",
              "    }\n",
              "\n",
              "    .dataframe tbody tr th {\n",
              "        vertical-align: top;\n",
              "    }\n",
              "\n",
              "    .dataframe thead th {\n",
              "        text-align: right;\n",
              "    }\n",
              "</style>\n",
              "<table border=\"1\" class=\"dataframe\">\n",
              "  <thead>\n",
              "    <tr style=\"text-align: right;\">\n",
              "      <th></th>\n",
              "      <th>alchemy_category_?</th>\n",
              "      <th>alchemy_category_arts_entertainment</th>\n",
              "      <th>alchemy_category_business</th>\n",
              "      <th>alchemy_category_computer_internet</th>\n",
              "      <th>alchemy_category_culture_politics</th>\n",
              "      <th>alchemy_category_gaming</th>\n",
              "      <th>alchemy_category_health</th>\n",
              "      <th>alchemy_category_law_crime</th>\n",
              "      <th>alchemy_category_recreation</th>\n",
              "      <th>alchemy_category_religion</th>\n",
              "      <th>alchemy_category_science_technology</th>\n",
              "      <th>alchemy_category_sports</th>\n",
              "      <th>alchemy_category_unknown</th>\n",
              "      <th>alchemy_category_weather</th>\n",
              "      <th>news_front_page_0</th>\n",
              "      <th>news_front_page_1</th>\n",
              "      <th>news_front_page_?</th>\n",
              "    </tr>\n",
              "  </thead>\n",
              "  <tbody>\n",
              "    <tr>\n",
              "      <th>0</th>\n",
              "      <td>0</td>\n",
              "      <td>0</td>\n",
              "      <td>1</td>\n",
              "      <td>0</td>\n",
              "      <td>0</td>\n",
              "      <td>0</td>\n",
              "      <td>0</td>\n",
              "      <td>0</td>\n",
              "      <td>0</td>\n",
              "      <td>0</td>\n",
              "      <td>0</td>\n",
              "      <td>0</td>\n",
              "      <td>0</td>\n",
              "      <td>0</td>\n",
              "      <td>1</td>\n",
              "      <td>0</td>\n",
              "      <td>0</td>\n",
              "    </tr>\n",
              "    <tr>\n",
              "      <th>1</th>\n",
              "      <td>0</td>\n",
              "      <td>0</td>\n",
              "      <td>0</td>\n",
              "      <td>0</td>\n",
              "      <td>0</td>\n",
              "      <td>0</td>\n",
              "      <td>0</td>\n",
              "      <td>0</td>\n",
              "      <td>1</td>\n",
              "      <td>0</td>\n",
              "      <td>0</td>\n",
              "      <td>0</td>\n",
              "      <td>0</td>\n",
              "      <td>0</td>\n",
              "      <td>1</td>\n",
              "      <td>0</td>\n",
              "      <td>0</td>\n",
              "    </tr>\n",
              "    <tr>\n",
              "      <th>2</th>\n",
              "      <td>0</td>\n",
              "      <td>0</td>\n",
              "      <td>0</td>\n",
              "      <td>0</td>\n",
              "      <td>0</td>\n",
              "      <td>0</td>\n",
              "      <td>1</td>\n",
              "      <td>0</td>\n",
              "      <td>0</td>\n",
              "      <td>0</td>\n",
              "      <td>0</td>\n",
              "      <td>0</td>\n",
              "      <td>0</td>\n",
              "      <td>0</td>\n",
              "      <td>1</td>\n",
              "      <td>0</td>\n",
              "      <td>0</td>\n",
              "    </tr>\n",
              "    <tr>\n",
              "      <th>3</th>\n",
              "      <td>0</td>\n",
              "      <td>0</td>\n",
              "      <td>0</td>\n",
              "      <td>0</td>\n",
              "      <td>0</td>\n",
              "      <td>0</td>\n",
              "      <td>1</td>\n",
              "      <td>0</td>\n",
              "      <td>0</td>\n",
              "      <td>0</td>\n",
              "      <td>0</td>\n",
              "      <td>0</td>\n",
              "      <td>0</td>\n",
              "      <td>0</td>\n",
              "      <td>1</td>\n",
              "      <td>0</td>\n",
              "      <td>0</td>\n",
              "    </tr>\n",
              "    <tr>\n",
              "      <th>4</th>\n",
              "      <td>0</td>\n",
              "      <td>0</td>\n",
              "      <td>0</td>\n",
              "      <td>0</td>\n",
              "      <td>0</td>\n",
              "      <td>0</td>\n",
              "      <td>0</td>\n",
              "      <td>0</td>\n",
              "      <td>0</td>\n",
              "      <td>0</td>\n",
              "      <td>0</td>\n",
              "      <td>1</td>\n",
              "      <td>0</td>\n",
              "      <td>0</td>\n",
              "      <td>1</td>\n",
              "      <td>0</td>\n",
              "      <td>0</td>\n",
              "    </tr>\n",
              "  </tbody>\n",
              "</table>\n",
              "</div>"
            ],
            "text/plain": [
              "   alchemy_category_?  ...  news_front_page_?\n",
              "0                   0  ...                  0\n",
              "1                   0  ...                  0\n",
              "2                   0  ...                  0\n",
              "3                   0  ...                  0\n",
              "4                   0  ...                  0\n",
              "\n",
              "[5 rows x 17 columns]"
            ]
          },
          "metadata": {
            "tags": []
          },
          "execution_count": 23
        }
      ]
    },
    {
      "cell_type": "markdown",
      "metadata": {
        "id": "R6ROkN4Hd4z6"
      },
      "source": [
        "## Modeling."
      ]
    },
    {
      "cell_type": "code",
      "metadata": {
        "id": "U_Gg63k9k5db"
      },
      "source": [
        "# More robust way to do feature pre-processing.\n",
        "from sklearn.pipeline import Pipeline\n",
        "from sklearn.compose import ColumnTransformer\n",
        "from sklearn.preprocessing import OneHotEncoder, StandardScaler\n",
        "from sklearn.impute import SimpleImputer\n",
        "from sklearn.compose import ColumnTransformer\n",
        "\n",
        "features_df = df.drop('label', axis=1)\n",
        "FEATURE_COLUMNS = features_df.columns\n",
        "NUM_FEATURES = features_df.select_dtypes(include=[np.number]).columns\n",
        "CAT_FEATURES = ['alchemy_category', 'news_front_page']\n",
        "\n",
        "numeric_transformer = Pipeline(steps=[\n",
        "    ('imputer', SimpleImputer(missing_values=np.nan, strategy='constant', fill_value=0)),\n",
        "    ('scaler', StandardScaler()),\n",
        "])\n",
        "\n",
        "categorical_transformer = Pipeline(steps=[\n",
        "    ('imputer', SimpleImputer(strategy='constant', fill_value='missing')),\n",
        "    ('one_hot', OneHotEncoder(handle_unknown='ignore')),\n",
        "])\n",
        "\n",
        "preprocessor = ColumnTransformer(\n",
        "  transformers=[\n",
        "      ('num', numeric_transformer, NUM_FEATURES),\n",
        "      ('cat', categorical_transformer, CAT_FEATURES)\n",
        "  ])"
      ],
      "execution_count": null,
      "outputs": []
    },
    {
      "cell_type": "code",
      "metadata": {
        "id": "og7UDK3Cd60l",
        "colab": {
          "base_uri": "https://localhost:8080/",
          "height": 34
        },
        "outputId": "addc1c53-f566-4357-83d7-95b69bdb1c36"
      },
      "source": [
        "features_df = preprocessor.fit_transform(df.drop('label', axis=1))\n",
        "features_df.shape"
      ],
      "execution_count": null,
      "outputs": [
        {
          "output_type": "execute_result",
          "data": {
            "text/plain": [
              "(7395, 36)"
            ]
          },
          "metadata": {
            "tags": []
          },
          "execution_count": 25
        }
      ]
    },
    {
      "cell_type": "code",
      "metadata": {
        "id": "K1BrwS-ggA2Y",
        "colab": {
          "base_uri": "https://localhost:8080/",
          "height": 238
        },
        "outputId": "544fe6e1-ad2f-4d16-e8c7-6f7f90267fc0"
      },
      "source": [
        "features_df"
      ],
      "execution_count": null,
      "outputs": [
        {
          "output_type": "execute_result",
          "data": {
            "text/plain": [
              "array([[-0.08194111,  1.02520913, -0.05586734, ...,  1.        ,\n",
              "         0.        ,  0.        ],\n",
              "       [ 0.10629082,  0.19589891,  0.50902122, ...,  1.        ,\n",
              "         0.        ,  0.        ],\n",
              "       [-0.04396462,  0.46172309,  0.73347932, ...,  1.        ,\n",
              "         0.        ,  0.        ],\n",
              "       ...,\n",
              "       [-0.08838666, -0.75049855, -0.29323563, ...,  1.        ,\n",
              "         0.        ,  0.        ],\n",
              "       [-0.20135342, -1.26873084, -1.10028781, ...,  0.        ,\n",
              "         1.        ,  0.        ],\n",
              "       [-0.18605119,  0.18553935,  1.46466303, ...,  0.        ,\n",
              "         0.        ,  1.        ]])"
            ]
          },
          "metadata": {
            "tags": []
          },
          "execution_count": 26
        }
      ]
    },
    {
      "cell_type": "code",
      "metadata": {
        "id": "GHj8xv_LeK2O",
        "colab": {
          "base_uri": "https://localhost:8080/",
          "height": 34
        },
        "outputId": "276a6f16-b099-4453-f563-a3cce634074b"
      },
      "source": [
        "target = df['label']\n",
        "target.shape"
      ],
      "execution_count": null,
      "outputs": [
        {
          "output_type": "execute_result",
          "data": {
            "text/plain": [
              "(7395,)"
            ]
          },
          "metadata": {
            "tags": []
          },
          "execution_count": 27
        }
      ]
    },
    {
      "cell_type": "code",
      "metadata": {
        "id": "Aaw_mpKPeRVF"
      },
      "source": [
        "from sklearn.model_selection import train_test_split\n",
        "x_train, x_test, y_train, y_test = train_test_split(features_df, target, test_size=0.25)"
      ],
      "execution_count": null,
      "outputs": []
    },
    {
      "cell_type": "code",
      "metadata": {
        "id": "IA3UDkRpfO9p"
      },
      "source": [
        "from sklearn.dummy import DummyClassifier\n",
        "from sklearn.linear_model import LogisticRegressionCV\n",
        "from sklearn.ensemble import RandomForestClassifier\n",
        "\n",
        "baseline = DummyClassifier(strategy='most_frequent')\n",
        "#model = LogisticRegressionCV()\n",
        "model = RandomForestClassifier()"
      ],
      "execution_count": null,
      "outputs": []
    },
    {
      "cell_type": "code",
      "metadata": {
        "id": "gVV5jQwxfvZk",
        "colab": {
          "base_uri": "https://localhost:8080/",
          "height": 153
        },
        "outputId": "884d60db-9025-4987-eae7-198178806af5"
      },
      "source": [
        "baseline.fit(x_train, y_train)\n",
        "model.fit(x_train, y_train)"
      ],
      "execution_count": null,
      "outputs": [
        {
          "output_type": "execute_result",
          "data": {
            "text/plain": [
              "RandomForestClassifier(bootstrap=True, ccp_alpha=0.0, class_weight=None,\n",
              "                       criterion='gini', max_depth=None, max_features='auto',\n",
              "                       max_leaf_nodes=None, max_samples=None,\n",
              "                       min_impurity_decrease=0.0, min_impurity_split=None,\n",
              "                       min_samples_leaf=1, min_samples_split=2,\n",
              "                       min_weight_fraction_leaf=0.0, n_estimators=100,\n",
              "                       n_jobs=None, oob_score=False, random_state=None,\n",
              "                       verbose=0, warm_start=False)"
            ]
          },
          "metadata": {
            "tags": []
          },
          "execution_count": 30
        }
      ]
    },
    {
      "cell_type": "code",
      "metadata": {
        "id": "xzmGAVUzhXog"
      },
      "source": [
        "from sklearn.metrics import classification_report\n",
        "baseline_predictions = baseline.predict(x_test)\n",
        "model_predictions = model.predict(x_test)"
      ],
      "execution_count": null,
      "outputs": []
    },
    {
      "cell_type": "code",
      "metadata": {
        "id": "K3SJUasQiJd7",
        "colab": {
          "base_uri": "https://localhost:8080/",
          "height": 224
        },
        "outputId": "f1421d9b-8245-49ab-d7fd-25a414857703"
      },
      "source": [
        "print(classification_report(y_test, baseline_predictions))"
      ],
      "execution_count": null,
      "outputs": [
        {
          "output_type": "stream",
          "text": [
            "              precision    recall  f1-score   support\n",
            "\n",
            "           0       0.00      0.00      0.00       877\n",
            "           1       0.53      1.00      0.69       972\n",
            "\n",
            "    accuracy                           0.53      1849\n",
            "   macro avg       0.26      0.50      0.34      1849\n",
            "weighted avg       0.28      0.53      0.36      1849\n",
            "\n"
          ],
          "name": "stdout"
        },
        {
          "output_type": "stream",
          "text": [
            "/usr/local/lib/python3.6/dist-packages/sklearn/metrics/_classification.py:1272: UndefinedMetricWarning: Precision and F-score are ill-defined and being set to 0.0 in labels with no predicted samples. Use `zero_division` parameter to control this behavior.\n",
            "  _warn_prf(average, modifier, msg_start, len(result))\n"
          ],
          "name": "stderr"
        }
      ]
    },
    {
      "cell_type": "code",
      "metadata": {
        "id": "wDvCQSPhi1MC",
        "colab": {
          "base_uri": "https://localhost:8080/",
          "height": 170
        },
        "outputId": "b4dd0749-f825-4346-f818-956337c5a390"
      },
      "source": [
        "print(classification_report(y_test, model_predictions))"
      ],
      "execution_count": null,
      "outputs": [
        {
          "output_type": "stream",
          "text": [
            "              precision    recall  f1-score   support\n",
            "\n",
            "           0       0.66      0.69      0.67       877\n",
            "           1       0.71      0.68      0.69       972\n",
            "\n",
            "    accuracy                           0.68      1849\n",
            "   macro avg       0.68      0.68      0.68      1849\n",
            "weighted avg       0.68      0.68      0.68      1849\n",
            "\n"
          ],
          "name": "stdout"
        }
      ]
    },
    {
      "cell_type": "markdown",
      "metadata": {
        "id": "j5hWK38Hklq7"
      },
      "source": [
        "## Submission."
      ]
    },
    {
      "cell_type": "code",
      "metadata": {
        "id": "scyCah21lR0O"
      },
      "source": [
        "test_df = pd.read_csv('test.tsv', sep='\\t')\n",
        "test_df['is_news'] = test_df['is_news'].str.replace('?', '0').astype(int)"
      ],
      "execution_count": null,
      "outputs": []
    },
    {
      "cell_type": "code",
      "metadata": {
        "id": "tA_RCpknkm4o"
      },
      "source": [
        "sub_model = RandomForestClassifier()\n",
        "sub_model.fit(features_df, target)\n",
        "\n",
        "test_features = preprocessor.transform(test_df[df.drop('label', axis=1).columns])\n",
        "predictions = sub_model.predict(test_features)"
      ],
      "execution_count": null,
      "outputs": []
    },
    {
      "cell_type": "code",
      "metadata": {
        "id": "BChfYPw4mHoU",
        "colab": {
          "base_uri": "https://localhost:8080/",
          "height": 204
        },
        "outputId": "757fede2-b91f-4dbe-9480-0235524de275"
      },
      "source": [
        "sub_df = pd.DataFrame({'urlid' : test_df.urlid, 'label': predictions})\n",
        "sub_df.head()"
      ],
      "execution_count": null,
      "outputs": [
        {
          "output_type": "execute_result",
          "data": {
            "text/html": [
              "<div>\n",
              "<style scoped>\n",
              "    .dataframe tbody tr th:only-of-type {\n",
              "        vertical-align: middle;\n",
              "    }\n",
              "\n",
              "    .dataframe tbody tr th {\n",
              "        vertical-align: top;\n",
              "    }\n",
              "\n",
              "    .dataframe thead th {\n",
              "        text-align: right;\n",
              "    }\n",
              "</style>\n",
              "<table border=\"1\" class=\"dataframe\">\n",
              "  <thead>\n",
              "    <tr style=\"text-align: right;\">\n",
              "      <th></th>\n",
              "      <th>urlid</th>\n",
              "      <th>label</th>\n",
              "    </tr>\n",
              "  </thead>\n",
              "  <tbody>\n",
              "    <tr>\n",
              "      <th>0</th>\n",
              "      <td>5865</td>\n",
              "      <td>1</td>\n",
              "    </tr>\n",
              "    <tr>\n",
              "      <th>1</th>\n",
              "      <td>782</td>\n",
              "      <td>0</td>\n",
              "    </tr>\n",
              "    <tr>\n",
              "      <th>2</th>\n",
              "      <td>6962</td>\n",
              "      <td>0</td>\n",
              "    </tr>\n",
              "    <tr>\n",
              "      <th>3</th>\n",
              "      <td>7640</td>\n",
              "      <td>0</td>\n",
              "    </tr>\n",
              "    <tr>\n",
              "      <th>4</th>\n",
              "      <td>3589</td>\n",
              "      <td>0</td>\n",
              "    </tr>\n",
              "  </tbody>\n",
              "</table>\n",
              "</div>"
            ],
            "text/plain": [
              "   urlid  label\n",
              "0   5865      1\n",
              "1    782      0\n",
              "2   6962      0\n",
              "3   7640      0\n",
              "4   3589      0"
            ]
          },
          "metadata": {
            "tags": []
          },
          "execution_count": 36
        }
      ]
    },
    {
      "cell_type": "code",
      "metadata": {
        "id": "kSchUQrlmQvT"
      },
      "source": [
        "sub_df.to_csv('submission.csv', index=False)"
      ],
      "execution_count": null,
      "outputs": []
    }
  ]
}